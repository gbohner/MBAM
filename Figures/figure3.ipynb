{
 "cells": [
  {
   "cell_type": "markdown",
   "metadata": {},
   "source": [
    "Create data for figure 3 and save to respective csv files"
   ]
  },
  {
   "cell_type": "code",
   "execution_count": 28,
   "metadata": {
    "collapsed": false
   },
   "outputs": [],
   "source": [
    "# Load the BK functions, the x_grid(Ca, V) that we evaluate over and the initial condition phi0\n",
    "include(\"../BK_functions/bk_setup_script.jl\"); "
   ]
  },
  {
   "cell_type": "code",
   "execution_count": 29,
   "metadata": {
    "collapsed": false
   },
   "outputs": [],
   "source": [
    "# Run the BK function reduction (reduced models are handcoded within BK_functions)\n",
    "#=\n",
    "outp = MBAM(BK_simulator, phi0, x_grid, model_iters=[10, 11, 12, 13, 14, 15], \n",
    "move_dir=[-1, -1, 1, 1, 1, -1], boundary_time=10, verbose=1, reduce_func=BK_reduce)\n",
    "=#\n",
    "\n",
    "# This takes about ~3 hours on my laptop (last iter especially slow), alternatively load figure3.jld which stores this result\n",
    "using JLD \n",
    "outp = load(\"figure3.jld\", \"outp\");"
   ]
  },
  {
   "cell_type": "markdown",
   "metadata": {},
   "source": [
    "# Figure 3a - Model output at reductions\n",
    "\n",
    "* Panel 1 - Model output for 12 uM of Calcium for different iterations\n",
    "* Panel 2 - Total cost for different iterations"
   ]
  },
  {
   "cell_type": "code",
   "execution_count": 33,
   "metadata": {
    "collapsed": false
   },
   "outputs": [],
   "source": [
    "# Panel 1 - output\n",
    "\n",
    "ca = 12.0*1e-6\n",
    "ca_str = @sprintf(\"%1.1f\", ca*1e6)\n",
    "\n",
    "# Generate grid to evaluate over\n",
    "x_grid_cur = Array(Any, (1*length(V),))\n",
    "iterind = 0;\n",
    "for j1 in product([ca], V)\n",
    "    iterind += 1;\n",
    "    x_grid_cur[iterind] = collect(j1)\n",
    "end\n",
    "\n",
    "\n",
    "# Get the function values for original model\n",
    "tmp = BK_simulator(exp(outp[1][1,1]), hcat(x_grid_cur...), model_id=10)\n",
    "writecsv(\"CSV/figure_3a_panel1_iter0.csv\", hcat(V[:], tmp[:]))\n",
    "\n",
    "for model_red = 1:size(outp[1],1)\n",
    "    # Get the function values for reduced models\n",
    "    tmp = BK_simulator(exp(outp[1][model_red,2]), hcat(x_grid_cur...), model_id=(9+model_red))\n",
    "    writecsv(\"CSV/figure_3a_panel1_iter$(model_red).csv\", hcat(V[:], tmp[:]))\n",
    "end"
   ]
  },
  {
   "cell_type": "code",
   "execution_count": 35,
   "metadata": {
    "collapsed": false
   },
   "outputs": [],
   "source": [
    "# Panel 2 - Cost\n",
    "writecsv(\"CSV/figure_3a_panel2.csv\", hcat(0:size(outp[1],1), vcat(outp[2][1,1], outp[2][:,2])))"
   ]
  },
  {
   "cell_type": "markdown",
   "metadata": {},
   "source": [
    "# Figure 3b - Model reduction\n",
    "\n",
    "* Panel n - nth reduction containing each parameter curve\n"
   ]
  },
  {
   "cell_type": "code",
   "execution_count": 53,
   "metadata": {
    "collapsed": false
   },
   "outputs": [],
   "source": [
    "param_names = Array(Array{AbstractString},size(outp[1],1));\n",
    "param_names[1] = [\"L0\", \"zL\", \"J0\", \"zJ\", \"Kd\", \"C\", \"D\", \"E\"]\n",
    "param_names[2] = [\"L0\", \"J0\", \"zJ\", \"Kd\", \"C\", \"D\", \"E\"]\n",
    "param_names[3] = [\"J0\", \"zJ\", \"Kd\", \"LC\",\"LD\", \"EL\"];\n",
    "param_names[4] = [\"J0\", \"zJ\", \"Kd\", \"CE\",\"LD\"];\n",
    "param_names[5] = [\"LDJ\", \"zJ\", \"Kd\", \"CE\"];\n",
    "if size(outp[1],1)>=6\n",
    "    param_names[6] = [\"LDJ\", \"zJ\", \"CEKd\"];\n",
    "end"
   ]
  },
  {
   "cell_type": "code",
   "execution_count": 52,
   "metadata": {
    "collapsed": false
   },
   "outputs": [],
   "source": [
    "for model_red = 1:size(outp[1],1)\n",
    "    # Get the log param values during the reduction\n",
    "    phi_red_time = outp[5][model_red]\n",
    "    phi_red_vals = hcat(outp[6][model_red]...)\n",
    "    phi_red_vals = phi_red_vals[1:div(size(phi_red_vals,1),2),:]\n",
    "    \n",
    "    # Find the converged time (the one after no parameters change)\n",
    "    cutoff = 0\n",
    "    for i1 = 2:size(phi_red_vals,2)\n",
    "        if all(phi_red_vals[:,i1].==phi_red_vals[:,i1-1])\n",
    "            cutoff = i1\n",
    "            break\n",
    "        end\n",
    "    end\n",
    "    \n",
    "    # Produce the geodesic time - log(value) for each parameter for each reduction step\n",
    "    for param_num in 1:size(phi_red_vals,1)\n",
    "        writecsv(\"CSV/figure_3b_panel$(model_red)_param$(param_names[model_red][param_num]).csv\", \n",
    "            hcat(phi_red_time[1:cutoff], phi_red_vals[param_num,1:cutoff][:]))\n",
    "    end\n",
    "end"
   ]
  }
 ],
 "metadata": {
  "kernelspec": {
   "display_name": "Julia 0.4.5",
   "language": "julia",
   "name": "julia-0.4"
  },
  "language_info": {
   "file_extension": ".jl",
   "mimetype": "application/julia",
   "name": "julia",
   "version": "0.4.5"
  }
 },
 "nbformat": 4,
 "nbformat_minor": 0
}
