{
 "cells": [
  {
   "cell_type": "markdown",
   "metadata": {
    "collapsed": true
   },
   "source": [
    "# Figure 5a - Eigenspectra for p() and log p()\n",
    "\n",
    "Panel 1 - Metric (approx Hess) eigenspectrum for full model of p and log p at initial point <br>\n",
    "Panel 2 - Metric (approx Hess) Eigenvectors for full model of p and log p at initial point\n",
    " * Maybe visualise as vectors with blue-red (neg-pos) rectengles in a column vectors -> Shows that not axis-aligned"
   ]
  },
  {
   "cell_type": "code",
   "execution_count": 1,
   "metadata": {
    "collapsed": true
   },
   "outputs": [],
   "source": [
    "using JLD\n",
    "outp = load(\"figure3.jld\", \"outp\");\n",
    "outp_log10 = load(\"figure4.jld\", \"outp_log10\");"
   ]
  },
  {
   "cell_type": "code",
   "execution_count": 11,
   "metadata": {
    "collapsed": false
   },
   "outputs": [],
   "source": [
    "# Panel 1 - Eigenspectra\n",
    "writecsv(\"CSV/figure_5a_panel1_orig.csv\", hcat(1:size(outp[3][1,1],1), outp[3][1,1]))\n",
    "writecsv(\"CSV/figure_5a_panel1_log10.csv\", hcat(1:size(outp_log10[3][1,1],1), outp_log10[3][1,1]))"
   ]
  },
  {
   "cell_type": "code",
   "execution_count": 18,
   "metadata": {
    "collapsed": false
   },
   "outputs": [],
   "source": [
    "# Panel2 - Eigenvectors (column vectors next to eachother, smallest to largest eigenvalue)\n",
    "writecsv(\"CSV/figure_5a_panel2_orig.csv\", outp[4][1,1])\n",
    "writecsv(\"CSV/figure_5a_panel2_log10.csv\", outp_log10[4][1,1])"
   ]
  },
  {
   "cell_type": "markdown",
   "metadata": {},
   "source": [
    "# Figure 5b - Identifiability of reduced model\n",
    "\n",
    "Panel 1 - Conditioning of the Hessian (every iteration step) <br>\n",
    "Panel 2 - Global parameter landscape (do a param sweep in 3D)"
   ]
  },
  {
   "cell_type": "code",
   "execution_count": 62,
   "metadata": {
    "collapsed": false
   },
   "outputs": [],
   "source": [
    "# Panel 1 - Condition numbers for p and log p (initially and after every reduction iteration)\n",
    "\n",
    "cond_orig = zeros(size(outp[1],1)+1)\n",
    "cond_log10 = zeros(size(outp_log10[1],1)+1)\n",
    "\n",
    "cond_orig[1] = outp[3][1,1][end]./outp[3][1,1][1]\n",
    "for i1 = 2:length(cond_orig)\n",
    "    cond_orig[i1] = outp[3][i1-1,2][end]./outp[3][i1-1,2][2]\n",
    "end\n",
    "\n",
    "cond_log10[1] = outp_log10[3][1,1][end]./outp_log10[3][1,1][1]\n",
    "for i1 = 2:length(cond_log10)\n",
    "    cond_log10[i1] = outp_log10[3][i1-1,2][end]./outp_log10[3][i1-1,2][2]\n",
    "end\n",
    "\n",
    "\n",
    "# First column - reduction step\n",
    "# Second column - condition number of metric (J'*J)\n",
    "\n",
    "writecsv(\"CSV/figure_5b_panel1_orig.csv\",  hcat(0:size(outp[1],1), cond_orig))\n",
    "writecsv(\"CSV/figure_5b_panel1_log10.csv\", hcat(0:size(outp_log10[1],1), cond_log10))"
   ]
  },
  {
   "cell_type": "code",
   "execution_count": 65,
   "metadata": {
    "collapsed": true
   },
   "outputs": [],
   "source": [
    "# Panel 2 - Global parameter landscape\n",
    "\n",
    "# Hard to do and we cannot really compare to original one - not sure if worth doing?"
   ]
  },
  {
   "cell_type": "code",
   "execution_count": null,
   "metadata": {
    "collapsed": true
   },
   "outputs": [],
   "source": []
  }
 ],
 "metadata": {
  "kernelspec": {
   "display_name": "Julia 0.4.5",
   "language": "julia",
   "name": "julia-0.4"
  },
  "language_info": {
   "file_extension": ".jl",
   "mimetype": "application/julia",
   "name": "julia",
   "version": "0.4.5"
  }
 },
 "nbformat": 4,
 "nbformat_minor": 0
}
