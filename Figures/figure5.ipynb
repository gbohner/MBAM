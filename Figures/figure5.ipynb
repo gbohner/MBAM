{
 "cells": [
  {
   "cell_type": "markdown",
   "metadata": {
    "collapsed": true
   },
   "source": [
    "# Figure 5a - Eigenspectra for p() and log p()\n",
    "\n",
    "Panel 1 - Metric (approx Hess) eigenspectrum for full model of p and log p at initial point <br>\n",
    "Panel 2 - Metric (approx Hess) Eigenvectors for full model of p and log p at initial point\n",
    " * Maybe visualise as vectors with blue-red (neg-pos) rectengles in a column vectors -> Shows that not axis-aligned"
   ]
  },
  {
   "cell_type": "code",
   "execution_count": null,
   "metadata": {
    "collapsed": true
   },
   "outputs": [],
   "source": [
    "using JLD\n",
    "outp = load(\"figure3.jld\", \"outp\");\n",
    "outp_log10 = load(\"figure4.jld\", \"outp_log10\");"
   ]
  },
  {
   "cell_type": "code",
   "execution_count": null,
   "metadata": {
    "collapsed": false
   },
   "outputs": [],
   "source": [
    "# Panel 1 - Eigenspectra\n",
    "writecsv(\"CSV/figure_5a_panel1_orig.csv\", hcat(1:size(outp[3][1,1],1), outp[3][1,1]))\n",
    "writecsv(\"CSV/figure_5a_panel1_log10.csv\", hcat(1:size(outp_log10[3][1,1],1), outp_log10[3][1,1]))"
   ]
  },
  {
   "cell_type": "code",
   "execution_count": null,
   "metadata": {
    "collapsed": false
   },
   "outputs": [],
   "source": [
    "# Panel2 - Eigenvectors (column vectors next to eachother, smallest to largest eigenvalue)\n",
    "writecsv(\"CSV/figure_5a_panel2_orig.csv\", outp[4][1,1])\n",
    "writecsv(\"CSV/figure_5a_panel2_log10.csv\", outp_log10[4][1,1])"
   ]
  },
  {
   "cell_type": "markdown",
   "metadata": {},
   "source": [
    "## Generate error bars for eigenvectors and eigenvalues\n",
    "\n",
    "1. Compute the Hessian in log param space around best fit\n",
    "2. Shrink the hyperellipsoid defined by the Hessian such that the cost function change is < epsilon (5e-4)\n",
    "3. Compute the Hessian in log param space around evenly distributed points on the hyperellipsoid of point 2\n",
    "4. Store the explored parameter vectors, the costs (squared error between best fit and current parameters), and the eigendecomposition of the Hessian\n",
    "5. Compute the mean and the variance of those eigendecompositions to show that \n",
    "\n",
    "\n",
    "\n"
   ]
  },
  {
   "cell_type": "code",
   "execution_count": 1,
   "metadata": {
    "collapsed": true
   },
   "outputs": [],
   "source": [
    "# Load the BK functions, the x_grid(Ca, V) that we evaluate over and the initial condition phi0\n",
    "include(\"../BK_functions/bk_setup_script.jl\"); "
   ]
  },
  {
   "cell_type": "code",
   "execution_count": 2,
   "metadata": {
    "collapsed": true
   },
   "outputs": [],
   "source": [
    "# Copy some necessary code over from MBAM\n",
    "x_loc = hcat(x_grid...);\n",
    "model_cur(phi::AbstractArray, x::AbstractArray) = BK_simulator(phi, x, model_id=10)\n",
    "data_vec = model_cur(phi0, x_loc)[:];\n",
    "f_cost = phi1 -> sum((model_cur(phi1, x_loc)[:].-data_vec).^2); # Current cost function (quadratic)\n",
    "g_cost = phi1 -> log_deriv_wrapper(f_cost, phi1); # Define which parameters we're taking in log space ([default: all])\n",
    "f_res = phi1 -> (model_cur(phi1, x_loc)[:].-data_vec) # Return residuals\n",
    "g_res = phi1 -> log_deriv_wrapper(f_res, phi1, log_specific=log_specific);"
   ]
  },
  {
   "cell_type": "code",
   "execution_count": 3,
   "metadata": {
    "collapsed": false
   },
   "outputs": [
    {
     "data": {
      "text/plain": [
       "([4.897121349714593e-5,0.0005651914699625763,0.0026368036677131236,0.09819393451560834,0.1682826953069511,0.6689945418932426,10.964452519206608,56.17485874674698],\n",
       "8x8 Array{Float64,2}:\n",
       "  0.891384    0.195203    0.322317   …  -0.165208   0.023164  -0.164101\n",
       "  0.190804   -0.442983   -0.462876      -0.14188    0.300396  -0.123699\n",
       "  0.115024   -0.396258   -0.388598      -0.161905  -0.115004  -0.405225\n",
       "  0.0130497   0.0398636   0.0606904      0.470006   0.709311  -0.343254\n",
       "  0.0405922   0.084609   -0.171099      -0.607664   0.12044    0.197849\n",
       " -0.0266633  -0.418244    0.352159   …   0.137564  -0.481374  -0.415317\n",
       " -0.382238    0.284259    0.238312      -0.509904   0.163247  -0.599683\n",
       "  0.0846322   0.586654   -0.563101       0.239324  -0.346413  -0.323244)"
      ]
     },
     "execution_count": 3,
     "metadata": {},
     "output_type": "execute_result"
    }
   ],
   "source": [
    "# Determine the hyperellipsoid around our best fit:\n",
    "hess1 = ForwardDiff.hessian(f_cost, phi0);\n",
    "hess2 = ForwardDiff.hessian(g_cost, log(phi0));\n",
    "Dorig, Vorig = eig(hess1)\n",
    "Dorig, Vorig = eig(hess2)"
   ]
  },
  {
   "cell_type": "code",
   "execution_count": 122,
   "metadata": {
    "collapsed": false
   },
   "outputs": [],
   "source": [
    "# Evaluate the jac*jac' (~Hessian) on all \"corner\" points of a 0.1 radius L1 ball in log parameter space\n",
    "D = Array(Any, 2^14) # Store eigenvalues\n",
    "V = Array(Any, 2^14) # Store smallest eigenvector (or all)\n",
    "Phis = Array(Any, 2^14)\n",
    "Costs = Array(Any, 2^14)\n",
    "\n",
    "log_phi0 = log(phi0)\n",
    "\n",
    "# Copy stuff from MBAM main function\n",
    "\n",
    "counter = 0;\n",
    "using Iterators\n",
    "for i in subsets(collect(1:8)) # Choose which parameters to do the step in\n",
    "    for j in subsets(collect(1:length(i))) # Choose which direction to do the step in\n",
    "        displace=zeros(8)\n",
    "        direction = ones(length(i))\n",
    "        direction[j] = -1./length(j); # such that it has correct norm\n",
    "        displace[i]=1e-4*direction\n",
    "        #@show displace\n",
    "        \n",
    "        # Compute the Hessian around the displace initial point\n",
    "        #jac = map(Real, ForwardDiff.jacobian(f_res, phi0.*displace));\n",
    "        phi_cur = log(phi0) + diagm(1./sqrt(Dorig))*Vorig*displace;\n",
    "        #@show displace\n",
    "        #@show exp(phi_cur)./phi0\n",
    "        hess = map(Real, ForwardDiff.hessian(g_cost, phi_cur)) # Pass the log param vector to g_cost\n",
    "        counter +=1\n",
    "        #D[counter], V[counter] = eig(jac'*jac)\n",
    "        D[counter], V[counter] = eig(hess)\n",
    "        #V[counter] = V[counter][:,sortperm(D[counter])]\n",
    "        #D[counter] = sort(D[counter])\n",
    "        \n",
    "        Phis[counter] = exp(phi_cur)\n",
    "        Costs[counter] = f_cost(exp(phi_cur))\n",
    "    end\n",
    "end\n",
    "\n",
    "D = D[1:counter]\n",
    "V = V[1:counter]\n",
    "Costs = Costs[1:counter];\n",
    "Phis = Phis[1:counter];\n",
    "\n",
    "using JLD\n",
    "save(\"figure5_hessianstability.jld\", \"D\", D, \"V\", V, \"Costs\", Costs, \"Phis\", Phis)"
   ]
  },
  {
   "cell_type": "code",
   "execution_count": 123,
   "metadata": {
    "collapsed": false
   },
   "outputs": [],
   "source": [
    "Dsorted = deepcopy(D);\n",
    "Vsorted = deepcopy(V);\n",
    "which_eigenvec = 1;\n",
    "for i = 1:counter\n",
    "    Dsorted[i] = D[i][sortperm(abs(D[i]))]\n",
    "    Vsorted[i] = V[i][:,sortperm(abs(D[i]))[which_eigenvec]]\n",
    "end"
   ]
  },
  {
   "cell_type": "code",
   "execution_count": 124,
   "metadata": {
    "collapsed": false
   },
   "outputs": [
    {
     "data": {
      "text/plain": [
       "8x3 Array{Float64,2}:\n",
       "  0.891384    0.927633   2.00426  \n",
       "  0.190804    0.0110843  0.434318 \n",
       "  0.115024   -0.0375723  0.366864 \n",
       "  0.0130497   0.0304408  0.0770306\n",
       "  0.0405922   0.0546634  0.21692  \n",
       " -0.0266633  -0.129343   0.527388 \n",
       " -0.382238   -0.260471   0.687929 \n",
       "  0.0846322   0.222425   0.837453 "
      ]
     },
     "execution_count": 124,
     "metadata": {},
     "output_type": "execute_result"
    }
   ],
   "source": [
    "[Vorig[:,which_eigenvec] mean(hcat(Vsorted...),2)./norm(mean(hcat(Vsorted...),2)) std(hcat(Vsorted...),2)./norm(mean(hcat(Vsorted...),2))]"
   ]
  },
  {
   "cell_type": "code",
   "execution_count": 125,
   "metadata": {
    "collapsed": false
   },
   "outputs": [
    {
     "data": {
      "text/plain": [
       "8x3 Array{Float64,2}:\n",
       "  4.89712e-5   -0.000142602  0.000307656\n",
       "  0.000565191   0.00116638   0.00151691 \n",
       "  0.0026368     0.00205249   0.003001   \n",
       "  0.0981939     0.0976741    0.00190979 \n",
       "  0.168283      0.168642     0.00122622 \n",
       "  0.668995      0.67         0.00232896 \n",
       " 10.9645       10.9743       0.0211777  \n",
       " 56.1749       56.1674       0.10041    "
      ]
     },
     "execution_count": 125,
     "metadata": {},
     "output_type": "execute_result"
    }
   ],
   "source": [
    "[Dorig mean(hcat(Dsorted...),2) std(hcat(Dsorted...),2)]\n"
   ]
  },
  {
   "cell_type": "code",
   "execution_count": 126,
   "metadata": {
    "collapsed": false
   },
   "outputs": [
    {
     "data": {
      "text/plain": [
       "8x6561 Array{Float64,2}:\n",
       "  2.2e-6   2.2282e-6    2.17215e-6   2.20615e-6  …   2.22684e-6   2.19532e-6\n",
       "  0.42     0.420337     0.419663     0.419218        0.420686     0.420263  \n",
       "  0.1026   0.102623     0.102577     0.102521        0.102642     0.102614  \n",
       "  0.58     0.580002     0.579998     0.580007        0.579983     0.579983  \n",
       "  3.9e-5   3.90004e-5   3.89996e-5   3.90008e-5      3.90018e-5   3.90012e-5\n",
       "  6.16     6.15998      6.16002      6.15969     …   6.16015      6.16015   \n",
       " 30.4     30.3996      30.4004      30.4003         30.3997      30.4001    \n",
       "  2.0      2.0          2.0          2.00002         2.00001      2.0       "
      ]
     },
     "execution_count": 126,
     "metadata": {},
     "output_type": "execute_result"
    }
   ],
   "source": [
    "hcat(Phis...)"
   ]
  },
  {
   "cell_type": "code",
   "execution_count": 127,
   "metadata": {
    "collapsed": false
   },
   "outputs": [
    {
     "data": {
      "text/plain": [
       "1x3 Array{Float64,2}:\n",
       " 0.00047364  7.19405e-5  8.33935e-5"
      ]
     },
     "execution_count": 127,
     "metadata": {},
     "output_type": "execute_result"
    }
   ],
   "source": [
    "[maximum(hcat(Costs...)) mean(hcat(Costs...)) std(hcat(Costs...))]\n"
   ]
  },
  {
   "cell_type": "code",
   "execution_count": 113,
   "metadata": {
    "collapsed": false
   },
   "outputs": [
    {
     "data": {
      "text/plain": [
       "8x6561 Array{Float64,2}:\n",
       "  4.89712e-5   39.0577     60.9321     …  59.8139     37.831      56.3699    \n",
       "  0.000565191  10.0643      5.65997       11.1112      9.40531    10.3507    \n",
       "  0.0026368     1.62703     2.99443        0.780037    1.64028     0.644322  \n",
       "  0.0981939     1.06788    -1.99713       -0.266534    1.17618     0.224367  \n",
       "  0.168283     -1.07358    -1.12851       -0.0223254  -1.09873     0.10661   \n",
       "  0.668995      0.183278   -0.0562551  …   0.010238    0.171628    0.00819779\n",
       " 10.9645       -0.0206237   0.113887       0.0513518  -0.0217148  -0.016123  \n",
       " 56.1749       -0.512496    0.84554        0.327036   -0.504891   -0.0752944 "
      ]
     },
     "execution_count": 113,
     "metadata": {},
     "output_type": "execute_result"
    }
   ],
   "source": [
    "hcat(D...)"
   ]
  },
  {
   "cell_type": "code",
   "execution_count": null,
   "metadata": {
    "collapsed": false
   },
   "outputs": [],
   "source": [
    "diagm(1./sqrt(Dorig))*Vorig"
   ]
  },
  {
   "cell_type": "code",
   "execution_count": null,
   "metadata": {
    "collapsed": false
   },
   "outputs": [],
   "source": [
    "#jac = ForwardDiff.jacobian(f_res, phi0);\n",
    "#Dorig, Vorig = eig(jac'*jac)\n",
    "\n",
    "[hcat(Costs...); hcat(D...)]\n",
    "hcat(D...)\n",
    "#Vorig"
   ]
  },
  {
   "cell_type": "markdown",
   "metadata": {},
   "source": [
    "# Figure 5b - Identifiability of reduced model\n",
    "\n",
    "Panel 1 - Conditioning of the Hessian (every iteration step) <br>\n",
    "Panel 2 - Global parameter landscape (do a param sweep in 3D)"
   ]
  },
  {
   "cell_type": "code",
   "execution_count": null,
   "metadata": {
    "collapsed": false
   },
   "outputs": [],
   "source": [
    "# Panel 1 - Condition numbers for p and log p (initially and after every reduction iteration)\n",
    "\n",
    "cond_orig = zeros(size(outp[1],1)+1)\n",
    "cond_log10 = zeros(size(outp_log10[1],1)+1)\n",
    "\n",
    "cond_orig[1] = outp[3][1,1][end]./outp[3][1,1][1]\n",
    "for i1 = 2:length(cond_orig)\n",
    "    cond_orig[i1] = outp[3][i1-1,2][end]./outp[3][i1-1,2][2]\n",
    "end\n",
    "\n",
    "cond_log10[1] = outp_log10[3][1,1][end]./outp_log10[3][1,1][1]\n",
    "for i1 = 2:length(cond_log10)\n",
    "    cond_log10[i1] = outp_log10[3][i1-1,2][end]./outp_log10[3][i1-1,2][2]\n",
    "end\n",
    "\n",
    "\n",
    "# First column - reduction step\n",
    "# Second column - condition number of metric (J'*J)\n",
    "\n",
    "writecsv(\"CSV/figure_5b_panel1_orig.csv\",  hcat(0:size(outp[1],1), cond_orig))\n",
    "writecsv(\"CSV/figure_5b_panel1_log10.csv\", hcat(0:size(outp_log10[1],1), cond_log10))"
   ]
  },
  {
   "cell_type": "code",
   "execution_count": null,
   "metadata": {
    "collapsed": true
   },
   "outputs": [],
   "source": [
    "# Panel 2 - Global parameter landscape\n",
    "\n",
    "# Hard to do and we cannot really compare to original one - not sure if worth doing?"
   ]
  },
  {
   "cell_type": "code",
   "execution_count": null,
   "metadata": {
    "collapsed": true
   },
   "outputs": [],
   "source": []
  }
 ],
 "metadata": {
  "kernelspec": {
   "display_name": "Julia 0.4.5",
   "language": "julia",
   "name": "julia-0.4"
  },
  "language_info": {
   "file_extension": ".jl",
   "mimetype": "application/julia",
   "name": "julia",
   "version": "0.4.5"
  }
 },
 "nbformat": 4,
 "nbformat_minor": 0
}
