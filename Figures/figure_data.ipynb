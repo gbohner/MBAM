{
 "cells": [
  {
   "cell_type": "markdown",
   "metadata": {},
   "source": [
    "# Generate data for all figures and export as CSV files for plotting in TikZ"
   ]
  },
  {
   "cell_type": "markdown",
   "metadata": {},
   "source": [
    "### Subfunction to generate the grids to evaluate the models over"
   ]
  },
  {
   "cell_type": "code",
   "execution_count": 1,
   "metadata": {
    "collapsed": false
   },
   "outputs": [
    {
     "data": {
      "text/plain": [
       "create_grids (generic function with 1 method)"
      ]
     },
     "execution_count": 1,
     "metadata": {},
     "output_type": "execute_result"
    }
   ],
   "source": [
    "function create_grids(ca, V)\n",
    "    ca_str = @sprintf(\"%1.1f\", ca*1e6)\n",
    "    \n",
    "    # Generate grids to evaluate over\n",
    "    x_grid_cur = Array(Any, (1*length(V),))\n",
    "    x_grid_cur_dense = Array(Any, (1*length(Vdense),))\n",
    "    iterind = 0;\n",
    "    for j1 in product([ca], V)\n",
    "        iterind += 1;\n",
    "        x_grid_cur[iterind] = collect(j1)\n",
    "    end\n",
    "    iterind = 0;\n",
    "    for j1 in product([ca], Vdense)\n",
    "        iterind += 1;\n",
    "        x_grid_cur_dense[iterind] = collect(j1)\n",
    "    end\n",
    "        \n",
    "    return x_grid_cur, x_grid_cur_dense\n",
    "end"
   ]
  },
  {
   "cell_type": "markdown",
   "metadata": {},
   "source": [
    "# Figure 1"
   ]
  },
  {
   "cell_type": "code",
   "execution_count": 2,
   "metadata": {
    "collapsed": true
   },
   "outputs": [],
   "source": [
    "# Figure 1 A - Drawn in TikZ"
   ]
  },
  {
   "cell_type": "code",
   "execution_count": 3,
   "metadata": {
    "collapsed": false
   },
   "outputs": [],
   "source": [
    "# Figure 1 B and C\n",
    "\n",
    "# Load the BK functions, the x_grid(Ca, V) that we evaluate over and the initial condition phi0\n",
    "include(\"../BK_functions/bk_setup_script.jl\"); \n",
    "\n",
    "Vdense = minimum(V):3e-3:maximum(V) # voltage sampled every 3 millivolts for smooth lines\n",
    "\n",
    "for ca in Ca\n",
    "    ca_str = @sprintf(\"%1.1f\", ca*1e6)\n",
    "    \n",
    "    # Generate grids to evaluate over\n",
    "    x_grid_cur, x_grid_cur_dense = create_grids(ca, V);\n",
    "    \n",
    "    # Get the function values for original model\n",
    "    tmp = BK_simulator(phi0, hcat(x_grid_cur...), model_id=10)\n",
    "    writecsv(\"CSV/figure_1b_panel1_ca$(ca_str)um.csv\", hcat(V[:]*1000, tmp[:]))\n",
    "    \n",
    "    # Save also the log10 values\n",
    "    writecsv(\"CSV/figure_1c_panel1_ca$(ca_str)um.csv\", hcat(V[:]*1000, log10(tmp[:])))\n",
    "    \n",
    "    # Densely sampled\n",
    "    tmp = BK_simulator(phi0, hcat(x_grid_cur_dense...), model_id=10)\n",
    "    writecsv(\"CSV/figure_1b_panel2_ca$(ca_str)um.csv\", hcat(Vdense[:]*1000, tmp[:]))\n",
    "    writecsv(\"CSV/figure_1c_panel2_ca$(ca_str)um.csv\", hcat(Vdense[:]*1000, log10(tmp[:])))\n",
    "end"
   ]
  },
  {
   "cell_type": "markdown",
   "metadata": {},
   "source": [
    "# Figure 2"
   ]
  },
  {
   "cell_type": "code",
   "execution_count": 4,
   "metadata": {
    "collapsed": false
   },
   "outputs": [],
   "source": [
    "# Figure 2 A\n",
    "tmp = load(\"results/noisy_fits_8.jld\")[\"noisy_fits\"][10] # Example noisy fit with diverging parameters\n",
    "phi1 = tmp[\"phi1_orig\"] # Get the fitted parameter vector\n",
    "\n",
    "# Output the simulated data point markers in a CSV format with: \n",
    "# first column - voltage (mV), second column - Popen, third column error top, fourth column\n",
    "\n",
    "# Also output the example fit with just first col - voltage (mV), second col - Popen\n",
    "# but with voltage sampled more densely to make it a continous line\n",
    "\n",
    "for ca in Ca  \n",
    "    ca_str = @sprintf(\"%1.1f\", ca*1e6)\n",
    "    \n",
    "    # Generate grids to evaluate over\n",
    "    x_grid_cur, x_grid_cur_dense = create_grids(ca, V);\n",
    "    \n",
    "    # Get the function values for original model\n",
    "    tmp = BK_simulator(phi0, hcat(x_grid_cur...), model_id=0)\n",
    "    errbar = tmp.*0.1 # Generate the error bar for every data point.\n",
    "    writecsv(\"CSV/figure_2a_panel1_ca$(ca_str)um.csv\", hcat(V[:].*1000, tmp[:], errbar[:], errbar[:]))\n",
    "    \n",
    "    # Get the function values for the fit to noisy data (densely sampled)\n",
    "    tmp = BK_simulator(phi1, hcat(x_grid_cur_dense...), model_id=0)\n",
    "    writecsv(\"CSV/figure_2a_panel2_ca$(ca_str)um.csv\", hcat(Vdense[:].*1000, tmp[:]))\n",
    "end"
   ]
  },
  {
   "cell_type": "code",
   "execution_count": 5,
   "metadata": {
    "collapsed": false
   },
   "outputs": [],
   "source": [
    "# Figure 2 B\n",
    "# Output the original and the fitted parameter values (first and second column of CSV respectively)\n",
    "writecsv(\"CSV/figure_2b_panel1.csv\", [phi0 phi1])"
   ]
  },
  {
   "cell_type": "markdown",
   "metadata": {},
   "source": [
    "# Figure 3"
   ]
  },
  {
   "cell_type": "code",
   "execution_count": 6,
   "metadata": {
    "collapsed": false
   },
   "outputs": [],
   "source": [
    "# Figure 3 A\n",
    "# Table with theoretical lower bound on parameter uncertainties\n",
    "\n",
    "# Calculation based on\n",
    "# Gutenkunst et al, 2007, PLoS Comp Bio, Universally Sloppy Parameter Sensitivities in Systems Biology Models\n",
    "\n",
    "# Load the MBAM outputs\n",
    "using JLD\n",
    "outp = load(\"results/MBAM_outp_orig.jld\", \"outp\");\n",
    "outp_log10 = load(\"results/MBAM_outp_log10.jld\", \"outp_log10\");\n",
    "\n",
    "# Recreate the (approximate) Hessians based on the eigenvalue decomposition\n",
    "invHess_orig = outp[4][1,1] * diagm(1./outp[3][1,1]) * inv(outp[4][1,1])\n",
    "invHess_log10 = outp_log10[4][1,1] * diagm(1./outp_log10[3][1,1]) * inv(outp_log10[4][1,1])\n",
    "\n",
    "noise_level = 0.1; # 10% noise assumed\n",
    "\n",
    "# Individual parameter uncertanties:\n",
    "uncert_orig = exp(4*sqrt((noise_level./size(hcat(x_grid...))[2]).*diag(invHess_orig))) - 1;\n",
    "uncert_log10 = exp(4*sqrt((noise_level./size(hcat(x_grid...))[2]).*diag(invHess_log10))) - 1;"
   ]
  },
  {
   "cell_type": "code",
   "execution_count": 7,
   "metadata": {
    "collapsed": false
   },
   "outputs": [
    {
     "data": {
      "text/plain": [
       "8x2 Array{Float64,2}:\n",
       "     5.44031e11  7917.07   \n",
       " 40713.2          612.175  \n",
       "  7463.71         262.106  \n",
       "    71.8033         9.50224\n",
       "   304.318         13.1469 \n",
       "  2869.05          32.8843 \n",
       "     1.88338e6   1200.63   \n",
       " 17874.6           22.1876 "
      ]
     },
     "execution_count": 7,
     "metadata": {},
     "output_type": "execute_result"
    }
   ],
   "source": [
    "# Save the numbers to CSV, multiply by 100 to get percentage values used in the table\n",
    "writecsv(\"CSV/figure_3a_panel1.csv\", [uncert_orig*100 uncert_log10*100])\n",
    "[uncert_orig*100 uncert_log10*100]"
   ]
  },
  {
   "cell_type": "code",
   "execution_count": 8,
   "metadata": {
    "collapsed": true
   },
   "outputs": [],
   "source": [
    "# Figure 3 B - Drawn in TikZ"
   ]
  },
  {
   "cell_type": "code",
   "execution_count": 9,
   "metadata": {
    "collapsed": true
   },
   "outputs": [],
   "source": [
    "# Figure 3 C\n",
    "using JLD\n",
    "outp = load(\"results/MBAM_outp_orig.jld\", \"outp\");\n",
    "outp_log10 = load(\"results/MBAM_outp_log10.jld\", \"outp_log10\");\n",
    "\n",
    "writecsv(\"CSV/figure_3c_panel1_orig.csv\", hcat(1:size(outp[3][1,1],1), log(outp[3][1,1])))\n",
    "writecsv(\"CSV/figure_3c_panel1_log10.csv\", hcat(1:size(outp_log10[3][1,1],1), log(outp_log10[3][1,1])))"
   ]
  },
  {
   "cell_type": "markdown",
   "metadata": {},
   "source": [
    "# Figure 4"
   ]
  },
  {
   "cell_type": "code",
   "execution_count": 10,
   "metadata": {
    "collapsed": true
   },
   "outputs": [],
   "source": [
    "# Figure 4 A\n",
    "# Cost for original space model\n",
    "# writecsv(\"CSV/figure_4a_panel1.csv\", hcat(0:size(outp[1],1), vcat(outp[2][1,1], outp[2][:,2])))\n",
    "writecsv(\"CSV/figure_4a_panel1.csv\", hcat(0:5, vcat(outp[2][1,1], outp[2][1:5,2])))"
   ]
  },
  {
   "cell_type": "code",
   "execution_count": 11,
   "metadata": {
    "collapsed": false
   },
   "outputs": [],
   "source": [
    "# Figure 4 B\n",
    "# Left - drawn in TikZ\n",
    "# Right - Data: Reuse same data points as in Figure 1 B\n",
    "# Right - Fit:\n",
    "for ca in Ca\n",
    "    ca_str = @sprintf(\"%1.1f\", ca*1e6)\n",
    "    \n",
    "    # Generate grids to evaluate over\n",
    "    x_grid_cur, x_grid_cur_dense = create_grids(ca, V);\n",
    "    \n",
    "    # Get the function values for the fit to noisy data (densely sampled)\n",
    "    tmp = BK_simulator(exp(outp[1][4,1]), hcat(x_grid_cur_dense...), model_id=13)\n",
    "    writecsv(\"CSV/figure_4b_panel2_ca$(ca_str)um.csv\", hcat(Vdense[:].*1000, tmp[:]))\n",
    "end"
   ]
  },
  {
   "cell_type": "code",
   "execution_count": 12,
   "metadata": {
    "collapsed": false
   },
   "outputs": [],
   "source": [
    "# Figure 4 C\n",
    "# Left - drawn in TikZ\n",
    "# Right - Data: Reuse same data points as in Figure 1 B\n",
    "# Right - Fit:\n",
    "for ca in Ca\n",
    "    ca_str = @sprintf(\"%1.1f\", ca*1e6)\n",
    "    \n",
    "    # Generate grids to evaluate over\n",
    "    x_grid_cur, x_grid_cur_dense = create_grids(ca, V);\n",
    "    \n",
    "    # Get the function values for the fit to noisy data (densely sampled)\n",
    "    tmp = BK_simulator(exp(outp[1][5,1]), hcat(x_grid_cur_dense...), model_id=14)\n",
    "    writecsv(\"CSV/figure_4c_panel2_ca$(ca_str)um.csv\", hcat(Vdense[:].*1000, tmp[:]))\n",
    "end"
   ]
  },
  {
   "cell_type": "markdown",
   "metadata": {},
   "source": [
    "# Figure 5 / Figure A1\n",
    "\n",
    "Show the MBAM reduction steps (in Figure 5 schematically, in Figure A1 with more details)\n",
    "\n",
    "* Panel n - nth reduction containing each parameter curve"
   ]
  },
  {
   "cell_type": "code",
   "execution_count": 13,
   "metadata": {
    "collapsed": true
   },
   "outputs": [],
   "source": [
    "# Naming the original and reduced parameter vectors for each model reduction step\n",
    "\n",
    "param_names = Array(Array{AbstractString},size(outp[1],1));\n",
    "param_names[1] = [\"L0\", \"zL\", \"J0\", \"zJ\", \"Kd\", \"C\", \"D\", \"E\"]\n",
    "param_names[2] = [\"L0\", \"J0\", \"zJ\", \"Kd\", \"C\", \"D\", \"E\"]\n",
    "param_names[3] = [\"J0\", \"zJ\", \"Kd\", \"LC\",\"LD\", \"EL\"];\n",
    "param_names[4] = [\"J0\", \"zJ\", \"Kd\", \"CE\",\"LD\"];\n",
    "param_names[5] = [\"LDJ\", \"zJ\", \"Kd\", \"CE\"];\n",
    "param_names[6] = [\"LDJ\", \"zJ\", \"CEKd\"];"
   ]
  },
  {
   "cell_type": "code",
   "execution_count": 14,
   "metadata": {
    "collapsed": false
   },
   "outputs": [],
   "source": [
    "for model_red = 1:size(outp[1],1)\n",
    "    # Get the log param values during the reduction\n",
    "    phi_red_time = outp[5][model_red]\n",
    "    phi_red_vals = hcat(outp[6][model_red]...)\n",
    "    phi_red_vals = phi_red_vals[1:div(size(phi_red_vals,1),2),:]\n",
    "    \n",
    "    # Find the converged time (the one after no parameters change)\n",
    "    cutoff = 0\n",
    "    for i1 = 2:size(phi_red_vals,2)\n",
    "        if all(phi_red_vals[:,i1].==phi_red_vals[:,i1-1])\n",
    "            cutoff = i1\n",
    "            break\n",
    "        end\n",
    "    end\n",
    "    \n",
    "    # Produce the geodesic time - log(value) for each parameter for each reduction step\n",
    "    for param_num in 1:size(phi_red_vals,1)\n",
    "        writecsv(\"CSV/figure_5\"*string(\"abcdef\"[model_red])*\"_panel1_param_$(param_names[model_red][param_num]).csv\", \n",
    "            hcat(phi_red_time[1:cutoff], phi_red_vals[param_num,1:cutoff][:]))\n",
    "    end\n",
    "end"
   ]
  },
  {
   "cell_type": "markdown",
   "metadata": {},
   "source": [
    "# Figure 6"
   ]
  },
  {
   "cell_type": "code",
   "execution_count": 15,
   "metadata": {
    "collapsed": true
   },
   "outputs": [],
   "source": [
    "# Figure 6 A\n",
    "# Cost for log space model\n",
    "writecsv(\"CSV/figure_6a_panel1.csv\", hcat(0:4, vcat(outp_log10[2][1,1], outp_log10[2][1:4,2])))"
   ]
  },
  {
   "cell_type": "code",
   "execution_count": 16,
   "metadata": {
    "collapsed": false
   },
   "outputs": [],
   "source": [
    "# Figure 6 B\n",
    "# Left - drawn in TikZ\n",
    "# Right - Data: Reuse same data points as in Figure 1 C\n",
    "# Right - Fit:\n",
    "for ca in Ca\n",
    "    ca_str = @sprintf(\"%1.1f\", ca*1e6)\n",
    "    \n",
    "    # Generate grids to evaluate over\n",
    "    x_grid_cur, x_grid_cur_dense = create_grids(ca, V);\n",
    "    \n",
    "    # Get the function values for the fit to noisy data (densely sampled)\n",
    "    tmp = BK_simulator(exp(outp_log10[1][2,1]), hcat(x_grid_cur_dense...), model_id=52)\n",
    "    writecsv(\"CSV/figure_6b_panel2_ca$(ca_str)um.csv\", hcat(Vdense[:].*1000, tmp[:]))\n",
    "end"
   ]
  },
  {
   "cell_type": "code",
   "execution_count": 17,
   "metadata": {
    "collapsed": true
   },
   "outputs": [],
   "source": [
    "# Figure 6 C\n",
    "# Left - drawn in TikZ\n",
    "# Right - Data: Reuse same data points as in Figure 1 C\n",
    "# Right - Fit:\n",
    "for ca in Ca\n",
    "    ca_str = @sprintf(\"%1.1f\", ca*1e6)\n",
    "    \n",
    "    # Generate grids to evaluate over\n",
    "    x_grid_cur, x_grid_cur_dense = create_grids(ca, V);\n",
    "    \n",
    "    # Get the function values for the fit to noisy data (densely sampled)\n",
    "    tmp = BK_simulator(exp(outp_log10[1][3,1]), hcat(x_grid_cur_dense...), model_id=53)\n",
    "    writecsv(\"CSV/figure_6c_panel2_ca$(ca_str)um.csv\", hcat(Vdense[:].*1000, tmp[:]))\n",
    "end"
   ]
  },
  {
   "cell_type": "markdown",
   "metadata": {},
   "source": [
    "# Figure 7"
   ]
  },
  {
   "cell_type": "code",
   "execution_count": 18,
   "metadata": {
    "collapsed": false
   },
   "outputs": [
    {
     "name": "stdout",
     "output_type": "stream",
     "text": [
      "uncert_orig * 100 = [1.5382982109523043e22,92.66987079018416,59.829892653808955,128.43557770860318,1.8265613845420252e6,1.853866132159499e7,7.576758461584554e6]\n",
      "uncert_log10 * 100 = [67.82074750170706,43.10685223245243,5.612237333129677,10.719317913788817,16.044257870361722,51.93684615145933,23.076112765139566]\n",
      "uncert_orig * 100 = [82.34652297993739,36.14735704206695,51.03389726490182,1.2270147337677004e9,96.85890596718811,1.311784163578657e9]\n",
      "uncert_log10 * 100 = [125.45509395815215,27.473744934547682,3.3805004349855228,10.076296865890487,25.34163109541341,31.791175645710656]\n",
      "uncert_orig * 100 = [84.52578674529008,17.997631777822765,47.88764260462051,44.786010397309894,68.67389010234042]\n",
      "uncert_log10 * 100 = [2.0482537376088183,1.6644229932111676,9.664723604268666,56.93274335438731,62.5472917649224]\n"
     ]
    }
   ],
   "source": [
    "# Figure 3 A\n",
    "# Table with theoretical lower bound on parameter uncertainties\n",
    "\n",
    "# Calculation based on\n",
    "# Gutenkunst et al, 2007, PLoS Comp Bio, Universally Sloppy Parameter Sensitivities in Systems Biology Models\n",
    "\n",
    "# Load the MBAM outputs\n",
    "using JLD\n",
    "outp = load(\"saves/figure3_smallVnorm.jld\", \"outp\");\n",
    "outp_log10 = load(\"saves/figure4.jld\", \"outp_log10\");\n",
    "\n",
    "\n",
    "noise_level = 0.1; # 10% noise assumed\n",
    "\n",
    "for red_num = 1:3\n",
    "\n",
    "    # Recreate the (approximate) Hessians of the reduction step based on the eigenvalue decomposition\n",
    "    invHess_orig = outp[4][red_num+1,1] * diagm(1./outp[3][red_num+1,1]) * inv(outp[4][red_num+1,1])\n",
    "    invHess_log10 = outp_log10[4][red_num+1,1] * diagm(1./outp_log10[3][red_num+1,1]) * inv(outp_log10[4][red_num+1,1])\n",
    "    \n",
    "    # Individual parameter uncertanties:\n",
    "    uncert_orig = exp(4*sqrt((noise_level./size(hcat(x_grid...))[2]).*diag(invHess_orig))) - 1;\n",
    "    uncert_log10 = exp(4*sqrt((noise_level./size(hcat(x_grid...))[2]).*diag(invHess_log10))) - 1;\n",
    "    \n",
    "    \n",
    "    # Save the numbers to CSV, multiply by 100 to get percentage values used in the table\n",
    "    writecsv(\"CSV/figure_7\"*string(\"abcdef\"[red_num])*\"_panel1.csv\", uncert_orig[:]*100)\n",
    "    writecsv(\"CSV/figure_7\"*string(\"abcdef\"[red_num])*\"_panel2.csv\", uncert_log10[:]*100)\n",
    "    @show uncert_orig*100\n",
    "    @show uncert_log10*100\n",
    "end"
   ]
  },
  {
   "cell_type": "markdown",
   "metadata": {},
   "source": [
    "# Figure 8"
   ]
  },
  {
   "cell_type": "code",
   "execution_count": 44,
   "metadata": {
    "collapsed": false
   },
   "outputs": [],
   "source": [
    "include(\"../BK_functions/bk_setup_script.jl\")\n",
    "\n",
    "# Original and Simulation parameters (fit the orig assay, see Figure 2)\n",
    "phi1_orig = load(\"results/noisy_fits_divergent_model_1.jld\", \"metadata\")[\"phi1_orig\"]\n",
    "[phi0 phi1_orig]\n",
    "\n",
    "# Load log fits to noisy data simulated with parameters above (both original and diverging)\n",
    "using JLD\n",
    "all_vars = Dict();\n",
    "orig_vars = Dict();\n",
    "keys = 83\n",
    "var = \"phi1_log\"\n",
    "orig_var = \"phi1_log\"\n",
    "n=0\n",
    "for i in 1:100\n",
    "    n+=1;\n",
    "    tmp_div = load(\"results/noisy_fits_divergent_model_\"*string(i)*\".jld\", \"noisy_fits\")\n",
    "    tmp_orig = load(\"results/noisy_fits_\"*string(n)*\".jld\", \"noisy_fits\")\n",
    "    for key in keys\n",
    "        if !haskey(all_vars, key)\n",
    "            all_vars[key] = Array(Any, 100);\n",
    "        end\n",
    "        if !haskey(orig_vars, key)\n",
    "            orig_vars[key] = Array(Any, 100);\n",
    "        end\n",
    "        all_vars[key][n] = tmp_div[key][var]\n",
    "        orig_vars[key][n] = tmp_orig[key-31][var]\n",
    "    end\n",
    "end"
   ]
  },
  {
   "cell_type": "markdown",
   "metadata": {},
   "source": [
    "### Output the individual parameter fit results for the base set (from model 52=82) and the diverging set (from model 83)"
   ]
  },
  {
   "cell_type": "code",
   "execution_count": 45,
   "metadata": {
    "collapsed": false
   },
   "outputs": [
    {
     "data": {
      "text/plain": [
       "6x2 Array{Float64,2}:\n",
       " -0.988853   -1.17861 \n",
       " -0.236572   -0.231481\n",
       " -4.40894    -4.56175 \n",
       " -0.624814   -0.79247 \n",
       "  0.0684793   0.351451\n",
       "  1.71542     1.68592 "
      ]
     },
     "execution_count": 45,
     "metadata": {},
     "output_type": "execute_result"
    }
   ],
   "source": [
    "# Matrix of all fits for J0, zJ, Kd, L0*C, L0*D, E/L0  (base parameters, 1x reduced log fit)\n",
    "base_fits = vcat(log10(hcat(orig_vars[keys][1:n]...)[[2,3,4],:]),\n",
    "                log10(hcat(orig_vars[keys][1:n]...)[[5,6],:]) .+ repmat(log10(hcat(orig_vars[keys][1:n]...)[1,:])./4,2,1),\n",
    "                log10(hcat(orig_vars[keys][1:n]...)[7,:]) .- log10(hcat(orig_vars[keys][1:n]...)[1,:])./4)\n",
    "\n",
    "# Matrix of all fits for J0, zJ, Kd, L0*C, L0*D, E/L0  (diverging parameters, 2x reduced log fit)\n",
    "diverg_fits = log10(hcat(all_vars[keys][1:n]...))\n",
    "\n",
    "# True base params and diverging params for J0, zJ, Kd, L0*C, L0*D, E/L0 \n",
    "true_params = vcat(log10(hcat(phi0, phi1_orig)[[3,4,5],:]),\n",
    "log10(hcat(phi0,phi1_orig)[[6,7],:]) .+ repmat(log10(hcat(phi0,phi1_orig)[1,:])./4,2,1),\n",
    "log10(hcat(phi0,phi1_orig)[8,:]) .- log10(hcat(phi0,phi1_orig)[1,:])./4)"
   ]
  },
  {
   "cell_type": "code",
   "execution_count": 46,
   "metadata": {
    "collapsed": false
   },
   "outputs": [],
   "source": [
    "cloud_membership = ones(n,1).>0; #(diverg_fits[1,:].>mean(diverg_fits[1,:]));"
   ]
  },
  {
   "cell_type": "code",
   "execution_count": 47,
   "metadata": {
    "collapsed": true
   },
   "outputs": [],
   "source": [
    "# Export the appropriate CSVs\n",
    "\n",
    "avg_func(x) = mean(x)\n",
    "\n",
    "\n",
    "for param_num = 1:6\n",
    "\n",
    "# True base param vs true diverging param\n",
    "writecsv(\"CSV/figure_8\"*string(\"abcdef\"[param_num])*\"_panel1.csv\", hcat([0; 1], true_params[param_num,:][:]))\n",
    "# Average fits\n",
    "writecsv(\"CSV/figure_8\"*string(\"abcdef\"[param_num])*\"_panel2.csv\", hcat([0; 1], vcat(avg_func(base_fits[param_num,:]), avg_func(diverg_fits[param_num,:]))))\n",
    "# All fits - split by relationship of fit C to mean of C\n",
    "# Fits of base\n",
    "writecsv(\"CSV/figure_8\"*string(\"abcdef\"[param_num])*\"_panel3.csv\", hcat(randn(n,1)*0.1, base_fits[param_num,:]'))\n",
    "writecsv(\"CSV/figure_8\"*string(\"abcdef\"[param_num])*\"_panel4.csv\", hcat(randn(sum(cloud_membership),1)*0.1+1, diverg_fits[param_num, cloud_membership]'))\n",
    "writecsv(\"CSV/figure_8\"*string(\"abcdef\"[param_num])*\"_panel5.csv\", hcat(randn(sum(!cloud_membership),1)*0.1+1, diverg_fits[param_num, !cloud_membership]'))\n",
    "\n",
    "end"
   ]
  },
  {
   "cell_type": "markdown",
   "metadata": {},
   "source": [
    "### Compensation between C and E"
   ]
  },
  {
   "cell_type": "code",
   "execution_count": 11,
   "metadata": {
    "collapsed": true
   },
   "outputs": [],
   "source": [
    "# Matrix of all fits for C and E (base parameters, reduced log fit)\n",
    "#base_fits = log10(hcat(orig_vars[keys][1:n]...)[[5,7],:])\n",
    "\n",
    "# Matrix of all fits for C and E (diverging parameters, reduced log fit)\n",
    "#diverg_fits = log10(hcat(all_vars[keys][1:n]...)[[5,7],:])\n",
    "\n",
    "# True base params and diverging params for C and E\n",
    "#true_params = log10(hcat(phi0[[6,8]], phi1_orig[[6,8]]))\n",
    "\n"
   ]
  },
  {
   "cell_type": "code",
   "execution_count": 12,
   "metadata": {
    "collapsed": false
   },
   "outputs": [
    {
     "data": {
      "text/plain": [
       "2x2 Array{Float64,2}:\n",
       " 0.789581   8.236  \n",
       " 0.30103   -7.34254"
      ]
     },
     "execution_count": 12,
     "metadata": {},
     "output_type": "execute_result"
    }
   ],
   "source": [
    "# Matrix of all fits for C and E (base parameters, reduced log fit)\n",
    "base_fits = log10(hcat(orig_vars[keys][1:n]...)[[5,7],:])\n",
    "\n",
    "# Matrix of all fits for C and E (diverging parameters, reduced log fit)\n",
    "diverg_fits = log10(hcat(all_vars[keys][1:n]...)[[4,6],:])\n",
    "\n",
    "# True base params and diverging params for C and E\n",
    "true_params = log10(hcat(phi0[[6,8]], phi1_orig[[6,8]]))\n",
    "\n"
   ]
  },
  {
   "cell_type": "code",
   "execution_count": 13,
   "metadata": {
    "collapsed": true
   },
   "outputs": [],
   "source": [
    "# Defining a coloring split for \"diverging all fits\" based on whether the fitted \n",
    "# C is above or below the true diverging parameter\n",
    "\n",
    "cloud_membership = (diverg_fits[1,:].>mean(diverg_fits[1,:]));"
   ]
  },
  {
   "cell_type": "code",
   "execution_count": 14,
   "metadata": {
    "collapsed": false
   },
   "outputs": [],
   "source": [
    "# Export the appropriate CSVs\n",
    "\n",
    "avg_func(x) = mean(x)\n",
    "\n",
    "# Figure A, changes in log10(C)\n",
    "# True base param vs true diverging param\n",
    "writecsv(\"CSV/figure_8a_panel1.csv\", hcat([0; 1], true_params[1,:][:]))\n",
    "# Average fits\n",
    "writecsv(\"CSV/figure_8a_panel2.csv\", hcat([0; 1], vcat(avg_func(base_fits[1,:]), avg_func(diverg_fits[1,:]))))\n",
    "# All fits - split by relationship of fit C to mean of C\n",
    "# Fits of base\n",
    "writecsv(\"CSV/figure_8a_panel3.csv\", hcat(randn(n,1)*0.1, base_fits[1,:]'))\n",
    "writecsv(\"CSV/figure_8a_panel4.csv\", hcat(randn(sum(cloud_membership),1)*0.1+1, diverg_fits[1, cloud_membership]'))\n",
    "writecsv(\"CSV/figure_8a_panel5.csv\", hcat(randn(sum(!cloud_membership),1)*0.1+1, diverg_fits[1, !cloud_membership]'))\n",
    "\n",
    "\n",
    "# Figure B, changes in log10(E)\n",
    "# True base param vs true diverging param\n",
    "writecsv(\"CSV/figure_8b_panel1.csv\", hcat([0; 1], true_params[2,:][:]))\n",
    "# Average fits\n",
    "writecsv(\"CSV/figure_8b_panel2.csv\", hcat([0; 1], vcat(avg_func(base_fits[2,:]), avg_func(diverg_fits[2,:]))))\n",
    "# All fits - split by relationship of fit C to mean of C\n",
    "# Fits of base\n",
    "writecsv(\"CSV/figure_8b_panel3.csv\", hcat(randn(n,1)*0.1, base_fits[2,:]'))\n",
    "writecsv(\"CSV/figure_8b_panel4.csv\", hcat(randn(sum(cloud_membership),1)*0.1+1, diverg_fits[2, cloud_membership]'))\n",
    "writecsv(\"CSV/figure_8b_panel5.csv\", hcat(randn(sum(!cloud_membership),1)*0.1+1, diverg_fits[2, !cloud_membership]'))\n",
    "\n",
    "\n",
    "# Figure C, changes in log10(C*E)\n",
    "# True base param vs true diverging param\n",
    "writecsv(\"CSV/figure_8c_panel1.csv\", hcat([0; 1], sum(true_params,1)[:]))\n",
    "# Average fits\n",
    "writecsv(\"CSV/figure_8c_panel2.csv\", hcat([0; 1], vcat(avg_func(sum(base_fits,1)), avg_func(sum(diverg_fits,1)))))\n",
    "# All fits - split by relationship of fit C to mean of C\n",
    "# Fits of base\n",
    "writecsv(\"CSV/figure_8c_panel3.csv\", hcat(randn(n,1)*0.1, sum(base_fits,1)'))\n",
    "writecsv(\"CSV/figure_8c_panel4.csv\", hcat(randn(sum(cloud_membership),1)*0.1+1, sum(diverg_fits[:, cloud_membership],1)'))\n",
    "writecsv(\"CSV/figure_8c_panel5.csv\", hcat(randn(sum(!cloud_membership),1)*0.1+1, sum(diverg_fits[:, !cloud_membership],1)'))"
   ]
  },
  {
   "cell_type": "markdown",
   "metadata": {},
   "source": [
    "### Compensation between L0 and D"
   ]
  },
  {
   "cell_type": "code",
   "execution_count": 15,
   "metadata": {
    "collapsed": true
   },
   "outputs": [],
   "source": [
    "# Matrix of all fits for L0 and D (base parameters, reduced log fit)\n",
    "# base_fits = log10(hcat(orig_vars[keys][1:n]...)[[1,6],:])\n",
    "\n",
    "# Matrix of all fits for L0 and D (diverging parameters, reduced log fit)\n",
    "# diverg_fits = log10(hcat(all_vars[keys][1:n]...)[[1,6],:])\n",
    "\n",
    "# True base params and diverging params for L0 and D\n",
    "# true_params = log10(hcat(phi0[[1,7]], phi1_orig[[1,7]]))"
   ]
  },
  {
   "cell_type": "code",
   "execution_count": 16,
   "metadata": {
    "collapsed": false
   },
   "outputs": [
    {
     "data": {
      "text/plain": [
       "2x2 Array{Float64,2}:\n",
       " -5.65758  -36.1139 \n",
       "  1.48287    9.37992"
      ]
     },
     "execution_count": 16,
     "metadata": {},
     "output_type": "execute_result"
    }
   ],
   "source": [
    "# Matrix of all fits for L0 and D (base parameters, reduced log fit)\n",
    "base_fits = log10(hcat(orig_vars[keys][1:n]...)[[1,6],:])\n",
    "\n",
    "# Matrix of all fits for L0 and D (diverging parameters, reduced log fit)\n",
    "diverg_fits = log10(hcat(all_vars[keys][1:n]...)[[5,5],:])\n",
    "\n",
    "# True base params and diverging params for L0 and D\n",
    "true_params = log10(hcat(phi0[[1,7]], phi1_orig[[1,7]]))"
   ]
  },
  {
   "cell_type": "code",
   "execution_count": 17,
   "metadata": {
    "collapsed": false
   },
   "outputs": [],
   "source": [
    "# Export the appropriate CSVs\n",
    "\n",
    "# Figure D, changes in log10(L0)\n",
    "# True base param vs true diverging param\n",
    "writecsv(\"CSV/figure_8d_panel1.csv\", hcat([0; 1], true_params[1,:][:]))\n",
    "# Average fits\n",
    "writecsv(\"CSV/figure_8d_panel2.csv\", hcat([0; 1], vcat(avg_func(base_fits[1,:]), avg_func(diverg_fits[1,:]))))\n",
    "# All fits - split by relationship of fit C to mean of C\n",
    "# Fits of base\n",
    "writecsv(\"CSV/figure_8d_panel3.csv\", hcat(randn(n,1)*0.1, base_fits[1,:]'))\n",
    "writecsv(\"CSV/figure_8d_panel4.csv\", hcat(randn(sum(cloud_membership),1)*0.1+1, diverg_fits[1, cloud_membership]'))\n",
    "writecsv(\"CSV/figure_8d_panel5.csv\", hcat(randn(sum(!cloud_membership),1)*0.1+1, diverg_fits[1, !cloud_membership]'))\n",
    "\n",
    "\n",
    "\n",
    "# Figure E, changes in log10(D)\n",
    "# True base param vs true diverging param\n",
    "writecsv(\"CSV/figure_8e_panel1.csv\", hcat([0; 1], true_params[2,:][:]))\n",
    "# Average fits\n",
    "writecsv(\"CSV/figure_8e_panel2.csv\", hcat([0; 1], vcat(avg_func(base_fits[2,:]), avg_func(diverg_fits[2,:]))))\n",
    "# All fits - split by relationship of fit C to mean of C\n",
    "# Fits of base\n",
    "writecsv(\"CSV/figure_8e_panel3.csv\", hcat(randn(n,1)*0.1, base_fits[2,:]'))\n",
    "writecsv(\"CSV/figure_8e_panel4.csv\", hcat(randn(sum(cloud_membership),1)*0.1+1, diverg_fits[2, cloud_membership]'))\n",
    "writecsv(\"CSV/figure_8e_panel5.csv\", hcat(randn(sum(!cloud_membership),1)*0.1+1, diverg_fits[2, !cloud_membership]'))\n",
    "\n",
    "\n",
    "# Figure F, changes in log10(L0^-0.25 * D)\n",
    "# True base param vs true diverging param\n",
    "writecsv(\"CSV/figure_8f_panel1.csv\", hcat([0; 1], sum(true_params.*[0.25,1],1)[:]))\n",
    "# Average fits\n",
    "writecsv(\"CSV/figure_8f_panel2.csv\", hcat([0; 1], vcat(avg_func(sum(base_fits.*[0.25,1],1)), avg_func(sum(diverg_fits.*[0.25,1],1)))))\n",
    "# All fits - split by relationship of fit C to mean of C\n",
    "# Fits of base\n",
    "writecsv(\"CSV/figure_8f_panel3.csv\", hcat(randn(n,1)*0.1, sum(base_fits.*[0.25,1],1)'))\n",
    "writecsv(\"CSV/figure_8f_panel4.csv\", hcat(randn(sum(cloud_membership),1)*0.1+1, sum(diverg_fits[:, cloud_membership].*[0.25,1],1)'))\n",
    "writecsv(\"CSV/figure_8f_panel5.csv\", hcat(randn(sum(!cloud_membership),1)*0.1+1, sum(diverg_fits[:, !cloud_membership].*[0.25,1],1)'))\n"
   ]
  },
  {
   "cell_type": "markdown",
   "metadata": {},
   "source": [
    "### Non-compensating parameters - J0, zJ, Kd"
   ]
  },
  {
   "cell_type": "code",
   "execution_count": 18,
   "metadata": {
    "collapsed": false
   },
   "outputs": [],
   "source": [
    "# Matrix of all fits for J0, zJ, Kd (base parameters, reduced log fit)\n",
    "#base_fits = log10(hcat(orig_vars[keys][1:n]...)[[2,3,4],:])\n",
    "\n",
    "# Matrix of all fits for J0, zJ, Kd (diverging parameters, reduced log fit)\n",
    "#diverg_fits = log10(hcat(all_vars[keys][1:n]...)[[2,3,4],:])\n",
    "\n",
    "# True base params and diverging params for J0, zJ, Kd\n",
    "#true_params = log10(hcat(phi0[[3,4,5]], phi1_orig[[3,4,5]]))"
   ]
  },
  {
   "cell_type": "code",
   "execution_count": 19,
   "metadata": {
    "collapsed": false
   },
   "outputs": [
    {
     "data": {
      "text/plain": [
       "3x2 Array{Float64,2}:\n",
       " -0.988853  -1.17861 \n",
       " -0.236572  -0.231481\n",
       " -4.40894   -4.56175 "
      ]
     },
     "execution_count": 19,
     "metadata": {},
     "output_type": "execute_result"
    }
   ],
   "source": [
    "# Matrix of all fits for J0, zJ, Kd (base parameters, reduced log fit)\n",
    "base_fits = log10(hcat(orig_vars[keys][1:n]...)[[1,2,3],:])\n",
    "\n",
    "# Matrix of all fits for J0, zJ, Kd (diverging parameters, reduced log fit)\n",
    "diverg_fits = log10(hcat(all_vars[keys][1:n]...)[[2,3,4],:])\n",
    "\n",
    "# True base params and diverging params for J0, zJ, Kd\n",
    "true_params = log10(hcat(phi0[[3,4,5]], phi1_orig[[3,4,5]]))"
   ]
  },
  {
   "cell_type": "code",
   "execution_count": 20,
   "metadata": {
    "collapsed": false
   },
   "outputs": [],
   "source": [
    "# Export the appropriate CSVs\n",
    "\n",
    "# Figure G, changes in log10(J0)\n",
    "# True base param vs true diverging param\n",
    "writecsv(\"CSV/figure_8g_panel1.csv\", hcat([0; 1], true_params[1,:][:]))\n",
    "# Average fits\n",
    "writecsv(\"CSV/figure_8g_panel2.csv\", hcat([0; 1], vcat(avg_func(base_fits[1,:]), avg_func(diverg_fits[1,:]))))\n",
    "# All fits - split by relationship of fit C to mean of C\n",
    "# Fits of base\n",
    "writecsv(\"CSV/figure_8g_panel3.csv\", hcat(randn(n,1)*0.1, base_fits[1,:]'))\n",
    "writecsv(\"CSV/figure_8g_panel4.csv\", hcat(randn(sum(cloud_membership),1)*0.1+1, diverg_fits[1, cloud_membership]'))\n",
    "writecsv(\"CSV/figure_8g_panel5.csv\", hcat(randn(sum(!cloud_membership),1)*0.1+1, diverg_fits[1, !cloud_membership]'))\n",
    "\n",
    "\n",
    "\n",
    "# Figure H, changes in log10(zJ)\n",
    "# True base param vs true diverging param\n",
    "writecsv(\"CSV/figure_8h_panel1.csv\", hcat([0; 1], true_params[2,:][:]))\n",
    "# Average fits\n",
    "writecsv(\"CSV/figure_8h_panel2.csv\", hcat([0; 1], vcat(avg_func(base_fits[2,:]), avg_func(diverg_fits[2,:]))))\n",
    "# All fits - split by relationship of fit C to mean of C\n",
    "# Fits of base\n",
    "writecsv(\"CSV/figure_8h_panel3.csv\", hcat(randn(n,1)*0.1, base_fits[2,:]'))\n",
    "writecsv(\"CSV/figure_8h_panel4.csv\", hcat(randn(sum(cloud_membership),1)*0.1+1, diverg_fits[2, cloud_membership]'))\n",
    "writecsv(\"CSV/figure_8h_panel5.csv\", hcat(randn(sum(!cloud_membership),1)*0.1+1, diverg_fits[2, !cloud_membership]'))\n",
    "\n",
    "# Figure I, changes in log10(Kd)\n",
    "# True base param vs true diverging param\n",
    "writecsv(\"CSV/figure_8i_panel1.csv\", hcat([0; 1], true_params[3,:][:]))\n",
    "# Average fits\n",
    "writecsv(\"CSV/figure_8i_panel2.csv\", hcat([0; 1], vcat(avg_func(base_fits[3,:]), avg_func(diverg_fits[3,:]))))\n",
    "# All fits - split by relationship of fit C to mean of C\n",
    "# Fits of base\n",
    "writecsv(\"CSV/figure_8i_panel3.csv\", hcat(randn(n,1)*0.1, base_fits[3,:]'))\n",
    "writecsv(\"CSV/figure_8i_panel4.csv\", hcat(randn(sum(cloud_membership),1)*0.1+1, diverg_fits[3, cloud_membership]'))\n",
    "writecsv(\"CSV/figure_8i_panel5.csv\", hcat(randn(sum(!cloud_membership),1)*0.1+1, diverg_fits[3, !cloud_membership]'))\n"
   ]
  },
  {
   "cell_type": "code",
   "execution_count": null,
   "metadata": {
    "collapsed": true
   },
   "outputs": [],
   "source": []
  }
 ],
 "metadata": {
  "kernelspec": {
   "display_name": "Julia 0.4.5",
   "language": "julia",
   "name": "julia-0.4"
  },
  "language_info": {
   "file_extension": ".jl",
   "mimetype": "application/julia",
   "name": "julia",
   "version": "0.4.5"
  }
 },
 "nbformat": 4,
 "nbformat_minor": 0
}
