{
 "cells": [
  {
   "cell_type": "markdown",
   "metadata": {},
   "source": [
    "# Generate data for all figures and export as CSV files for plotting in TikZ"
   ]
  },
  {
   "cell_type": "markdown",
   "metadata": {},
   "source": [
    "### Subfunction to generate the grids to evaluate the models over"
   ]
  },
  {
   "cell_type": "code",
   "execution_count": 55,
   "metadata": {
    "collapsed": false
   },
   "outputs": [
    {
     "data": {
      "text/plain": [
       "create_grids (generic function with 1 method)"
      ]
     },
     "execution_count": 55,
     "metadata": {},
     "output_type": "execute_result"
    }
   ],
   "source": [
    "function create_grids(ca, V)\n",
    "    ca_str = @sprintf(\"%1.1f\", ca*1e6)\n",
    "    \n",
    "    # Generate grids to evaluate over\n",
    "    x_grid_cur = Array(Any, (1*length(V),))\n",
    "    x_grid_cur_dense = Array(Any, (1*length(Vdense),))\n",
    "    iterind = 0;\n",
    "    for j1 in product([ca], V)\n",
    "        iterind += 1;\n",
    "        x_grid_cur[iterind] = collect(j1)\n",
    "    end\n",
    "    iterind = 0;\n",
    "    for j1 in product([ca], Vdense)\n",
    "        iterind += 1;\n",
    "        x_grid_cur_dense[iterind] = collect(j1)\n",
    "    end\n",
    "        \n",
    "    return x_grid_cur, x_grid_cur_dense\n",
    "end"
   ]
  },
  {
   "cell_type": "markdown",
   "metadata": {},
   "source": [
    "# Figure 1"
   ]
  },
  {
   "cell_type": "code",
   "execution_count": 56,
   "metadata": {
    "collapsed": true
   },
   "outputs": [],
   "source": [
    "# Figure 1 A - Drawn in TikZ"
   ]
  },
  {
   "cell_type": "code",
   "execution_count": 57,
   "metadata": {
    "collapsed": false
   },
   "outputs": [],
   "source": [
    "# Figure 1 B and C\n",
    "\n",
    "# Load the BK functions, the x_grid(Ca, V) that we evaluate over and the initial condition phi0\n",
    "include(\"../BK_functions/bk_setup_script.jl\"); \n",
    "\n",
    "Vdense = minimum(V):3e-3:maximum(V) # voltage sampled every 3 millivolts for smooth lines\n",
    "\n",
    "for ca in Ca\n",
    "    ca_str = @sprintf(\"%1.1f\", ca*1e6)\n",
    "    \n",
    "    # Generate grids to evaluate over\n",
    "    x_grid_cur, x_grid_cur_dense = create_grids(ca, V);\n",
    "    \n",
    "    # Get the function values for original model\n",
    "    tmp = BK_simulator(phi0, hcat(x_grid_cur...), model_id=10)\n",
    "    writecsv(\"CSV/figure_1b_panel1_ca$(ca_str)um.csv\", hcat(V[:]*1000, tmp[:]))\n",
    "    \n",
    "    # Save also the log10 values\n",
    "    writecsv(\"CSV/figure_1c_panel1_ca$(ca_str)um.csv\", hcat(V[:]*1000, log10(tmp[:])))\n",
    "    \n",
    "    # Densely sampled\n",
    "    tmp = BK_simulator(phi0, hcat(x_grid_cur_dense...), model_id=10)\n",
    "    writecsv(\"CSV/figure_1b_panel2_ca$(ca_str)um.csv\", hcat(Vdense[:]*1000, tmp[:]))\n",
    "    writecsv(\"CSV/figure_1c_panel2_ca$(ca_str)um.csv\", hcat(Vdense[:]*1000, log10(tmp[:])))\n",
    "end"
   ]
  },
  {
   "cell_type": "markdown",
   "metadata": {},
   "source": [
    "# Figure 2"
   ]
  },
  {
   "cell_type": "code",
   "execution_count": 58,
   "metadata": {
    "collapsed": false
   },
   "outputs": [],
   "source": [
    "# Figure 2 A\n",
    "tmp = load(\"saves/figure_A1_hess_\"*\"8\"*\".jld\") # Example noisy fit with diverging parameters\n",
    "phi1 = tmp[\"phi1_orig\"] # Get the fitted parameter vector\n",
    "\n",
    "# Output the simulated data point markers in a CSV format with: \n",
    "# first column - voltage (mV), second column - Popen, third column error top, fourth column\n",
    "\n",
    "# Also output the example fit with just first col - voltage (mV), second col - Popen\n",
    "# but with voltage sampled more densely to make it a continous line\n",
    "\n",
    "for ca in Ca  \n",
    "    ca_str = @sprintf(\"%1.1f\", ca*1e6)\n",
    "    \n",
    "    # Generate grids to evaluate over\n",
    "    x_grid_cur, x_grid_cur_dense = create_grids(ca, V);\n",
    "    \n",
    "    # Get the function values for original model\n",
    "    tmp = BK_simulator(phi0, hcat(x_grid_cur...), model_id=0)\n",
    "    errbar = tmp.*0.1 # Generate the error bar for every data point.\n",
    "    writecsv(\"CSV/figure_2a_panel1_ca$(ca_str)um.csv\", hcat(V[:].*1000, tmp[:], errbar[:], errbar[:]))\n",
    "    \n",
    "    # Get the function values for the fit to noisy data (densely sampled)\n",
    "    tmp = BK_simulator(phi1, hcat(x_grid_cur_dense...), model_id=0)\n",
    "    writecsv(\"CSV/figure_2a_panel2_ca$(ca_str)um.csv\", hcat(Vdense[:].*1000, tmp[:]))\n",
    "end"
   ]
  },
  {
   "cell_type": "code",
   "execution_count": 59,
   "metadata": {
    "collapsed": false
   },
   "outputs": [],
   "source": [
    "# Figure 2 B\n",
    "# Output the original and the fitted parameter values (first and second column of CSV respectively)\n",
    "writecsv(\"CSV/figure_2b_panel1.csv\", [phi0 phi1])"
   ]
  },
  {
   "cell_type": "markdown",
   "metadata": {},
   "source": [
    "# Figure 3"
   ]
  },
  {
   "cell_type": "code",
   "execution_count": 60,
   "metadata": {
    "collapsed": true
   },
   "outputs": [],
   "source": [
    "# Figure 3 A\n",
    "# Table with theoretical lower bound on parameter uncertainties\n",
    "\n",
    "# REF NEEDED\n",
    "# CALCULATION NEEDED\n",
    "# DERIVATION NEEDED"
   ]
  },
  {
   "cell_type": "code",
   "execution_count": 61,
   "metadata": {
    "collapsed": true
   },
   "outputs": [],
   "source": [
    "# Figure 3 B - Drawn in TikZ"
   ]
  },
  {
   "cell_type": "code",
   "execution_count": 62,
   "metadata": {
    "collapsed": true
   },
   "outputs": [],
   "source": [
    "# Figure 3 C\n",
    "using JLD\n",
    "outp = load(\"saves/figure3_smallVnorm.jld\", \"outp\");\n",
    "outp_log10 = load(\"saves/figure4.jld\", \"outp_log10\");\n",
    "\n",
    "writecsv(\"CSV/figure_3c_panel1_orig.csv\", hcat(1:size(outp[3][1,1],1), log(outp[3][1,1])))\n",
    "writecsv(\"CSV/figure_3c_panel1_log10.csv\", hcat(1:size(outp_log10[3][1,1],1), log(outp_log10[3][1,1])))"
   ]
  },
  {
   "cell_type": "markdown",
   "metadata": {},
   "source": [
    "# Figure 4"
   ]
  },
  {
   "cell_type": "code",
   "execution_count": 63,
   "metadata": {
    "collapsed": true
   },
   "outputs": [],
   "source": [
    "# Figure 4 A\n",
    "# Cost for original space model\n",
    "# writecsv(\"CSV/figure_4a_panel1.csv\", hcat(0:size(outp[1],1), vcat(outp[2][1,1], outp[2][:,2])))\n",
    "writecsv(\"CSV/figure_4a_panel1.csv\", hcat(0:5, vcat(outp[2][1,1], outp[2][1:5,2])))"
   ]
  },
  {
   "cell_type": "code",
   "execution_count": 64,
   "metadata": {
    "collapsed": false
   },
   "outputs": [],
   "source": [
    "# Figure 4 B\n",
    "# Left - drawn in TikZ\n",
    "# Right - Data: Reuse same data points as in Figure 1 B\n",
    "# Right - Fit:\n",
    "for ca in Ca\n",
    "    ca_str = @sprintf(\"%1.1f\", ca*1e6)\n",
    "    \n",
    "    # Generate grids to evaluate over\n",
    "    x_grid_cur, x_grid_cur_dense = create_grids(ca, V);\n",
    "    \n",
    "    # Get the function values for the fit to noisy data (densely sampled)\n",
    "    tmp = BK_simulator(exp(outp[1][4,1]), hcat(x_grid_cur_dense...), model_id=13)\n",
    "    writecsv(\"CSV/figure_4b_panel2_ca$(ca_str)um.csv\", hcat(Vdense[:].*1000, tmp[:]))\n",
    "end"
   ]
  },
  {
   "cell_type": "code",
   "execution_count": 65,
   "metadata": {
    "collapsed": false
   },
   "outputs": [],
   "source": [
    "# Figure 4 C\n",
    "# Left - drawn in TikZ\n",
    "# Right - Data: Reuse same data points as in Figure 1 B\n",
    "# Right - Fit:\n",
    "for ca in Ca\n",
    "    ca_str = @sprintf(\"%1.1f\", ca*1e6)\n",
    "    \n",
    "    # Generate grids to evaluate over\n",
    "    x_grid_cur, x_grid_cur_dense = create_grids(ca, V);\n",
    "    \n",
    "    # Get the function values for the fit to noisy data (densely sampled)\n",
    "    tmp = BK_simulator(exp(outp[1][5,1]), hcat(x_grid_cur_dense...), model_id=14)\n",
    "    writecsv(\"CSV/figure_4c_panel2_ca$(ca_str)um.csv\", hcat(Vdense[:].*1000, tmp[:]))\n",
    "end"
   ]
  },
  {
   "cell_type": "markdown",
   "metadata": {},
   "source": [
    "# Figure 5 / Figure A1\n",
    "\n",
    "Show the MBAM reduction steps (in Figure 5 schematically, in Figure A1 with more details)\n",
    "\n",
    "* Panel n - nth reduction containing each parameter curve"
   ]
  },
  {
   "cell_type": "code",
   "execution_count": 74,
   "metadata": {
    "collapsed": true
   },
   "outputs": [],
   "source": [
    "# Naming the original and reduced parameter vectors for each model reduction step\n",
    "\n",
    "param_names = Array(Array{AbstractString},size(outp[1],1));\n",
    "param_names[1] = [\"L0\", \"zL\", \"J0\", \"zJ\", \"Kd\", \"C\", \"D\", \"E\"]\n",
    "param_names[2] = [\"L0\", \"J0\", \"zJ\", \"Kd\", \"C\", \"D\", \"E\"]\n",
    "param_names[3] = [\"J0\", \"zJ\", \"Kd\", \"LC\",\"LD\", \"EL\"];\n",
    "param_names[4] = [\"J0\", \"zJ\", \"Kd\", \"CE\",\"LD\"];\n",
    "param_names[5] = [\"LDJ\", \"zJ\", \"Kd\", \"CE\"];\n",
    "param_names[6] = [\"LDJ\", \"zJ\", \"CEKd\"];"
   ]
  },
  {
   "cell_type": "code",
   "execution_count": 76,
   "metadata": {
    "collapsed": false
   },
   "outputs": [],
   "source": [
    "for model_red = 1:size(outp[1],1)\n",
    "    # Get the log param values during the reduction\n",
    "    phi_red_time = outp[5][model_red]\n",
    "    phi_red_vals = hcat(outp[6][model_red]...)\n",
    "    phi_red_vals = phi_red_vals[1:div(size(phi_red_vals,1),2),:]\n",
    "    \n",
    "    # Find the converged time (the one after no parameters change)\n",
    "    cutoff = 0\n",
    "    for i1 = 2:size(phi_red_vals,2)\n",
    "        if all(phi_red_vals[:,i1].==phi_red_vals[:,i1-1])\n",
    "            cutoff = i1\n",
    "            break\n",
    "        end\n",
    "    end\n",
    "    \n",
    "    # Produce the geodesic time - log(value) for each parameter for each reduction step\n",
    "    for param_num in 1:size(phi_red_vals,1)\n",
    "        writecsv(\"CSV/figure_5\"*string(\"abcdef\"[model_red])*\"_panel1_param_$(param_names[model_red][param_num]).csv\", \n",
    "            hcat(phi_red_time[1:cutoff], phi_red_vals[param_num,1:cutoff][:]))\n",
    "    end\n",
    "end"
   ]
  },
  {
   "cell_type": "markdown",
   "metadata": {},
   "source": [
    "# Figure 6"
   ]
  },
  {
   "cell_type": "code",
   "execution_count": 69,
   "metadata": {
    "collapsed": true
   },
   "outputs": [],
   "source": [
    "# Figure 6 A\n",
    "# Cost for log space model\n",
    "writecsv(\"CSV/figure_6a_panel1.csv\", hcat(0:4, vcat(outp_log10[2][1,1], outp_log10[2][1:4,2])))"
   ]
  },
  {
   "cell_type": "code",
   "execution_count": 70,
   "metadata": {
    "collapsed": false
   },
   "outputs": [],
   "source": [
    "# Figure 6 B\n",
    "# Left - drawn in TikZ\n",
    "# Right - Data: Reuse same data points as in Figure 1 C\n",
    "# Right - Fit:\n",
    "for ca in Ca\n",
    "    ca_str = @sprintf(\"%1.1f\", ca*1e6)\n",
    "    \n",
    "    # Generate grids to evaluate over\n",
    "    x_grid_cur, x_grid_cur_dense = create_grids(ca, V);\n",
    "    \n",
    "    # Get the function values for the fit to noisy data (densely sampled)\n",
    "    tmp = BK_simulator(exp(outp_log10[1][2,1]), hcat(x_grid_cur_dense...), model_id=52)\n",
    "    writecsv(\"CSV/figure_6b_panel2_ca$(ca_str)um.csv\", hcat(Vdense[:].*1000, tmp[:]))\n",
    "end"
   ]
  },
  {
   "cell_type": "code",
   "execution_count": 71,
   "metadata": {
    "collapsed": true
   },
   "outputs": [],
   "source": [
    "# Figure 6 C\n",
    "# Left - drawn in TikZ\n",
    "# Right - Data: Reuse same data points as in Figure 1 C\n",
    "# Right - Fit:\n",
    "for ca in Ca\n",
    "    ca_str = @sprintf(\"%1.1f\", ca*1e6)\n",
    "    \n",
    "    # Generate grids to evaluate over\n",
    "    x_grid_cur, x_grid_cur_dense = create_grids(ca, V);\n",
    "    \n",
    "    # Get the function values for the fit to noisy data (densely sampled)\n",
    "    tmp = BK_simulator(exp(outp_log10[1][3,1]), hcat(x_grid_cur_dense...), model_id=53)\n",
    "    writecsv(\"CSV/figure_6c_panel2_ca$(ca_str)um.csv\", hcat(Vdense[:].*1000, tmp[:]))\n",
    "end"
   ]
  },
  {
   "cell_type": "markdown",
   "metadata": {},
   "source": [
    "# Figure 7"
   ]
  },
  {
   "cell_type": "code",
   "execution_count": null,
   "metadata": {
    "collapsed": true
   },
   "outputs": [],
   "source": [
    "# RELATIVE ERRORS TO BE RECALCULATED AND DERIVED"
   ]
  }
 ],
 "metadata": {
  "kernelspec": {
   "display_name": "Julia 0.4.5",
   "language": "julia",
   "name": "julia-0.4"
  },
  "language_info": {
   "file_extension": ".jl",
   "mimetype": "application/julia",
   "name": "julia",
   "version": "0.4.5"
  }
 },
 "nbformat": 4,
 "nbformat_minor": 0
}
