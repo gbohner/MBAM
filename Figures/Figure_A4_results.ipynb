{
 "cells": [
  {
   "cell_type": "code",
   "execution_count": 8,
   "metadata": {
    "collapsed": false
   },
   "outputs": [
    {
     "data": {
      "text/plain": [
       "8x2 Array{Float64,2}:\n",
       "  2.2e-6  7.69353e-37\n",
       "  0.42    8.75658e-33\n",
       "  0.1026  0.0662813  \n",
       "  0.58    0.586839   \n",
       "  3.9e-5  2.74314e-5 \n",
       "  6.16    1.72186e8  \n",
       " 30.4     2.39839e9  \n",
       "  2.0     4.54419e-8 "
      ]
     },
     "execution_count": 8,
     "metadata": {},
     "output_type": "execute_result"
    }
   ],
   "source": [
    "include(\"../BK_functions/bk_setup_script.jl\")\n",
    "# Original and Simulation parameters (fit the orig assay alright)\n",
    "phi1_orig = load(\"results/noisy_fits_to_diverging_1.jld\", \"metadata\")[\"phi1_orig\"]\n",
    "[phi0 phi1_orig]"
   ]
  },
  {
   "cell_type": "code",
   "execution_count": 23,
   "metadata": {
    "collapsed": false
   },
   "outputs": [
    {
     "ename": "LoadError",
     "evalue": "LoadError: KeyError: 10 not found\nwhile loading In[23], in expression starting on line 9",
     "output_type": "error",
     "traceback": [
      "LoadError: KeyError: 10 not found\nwhile loading In[23], in expression starting on line 9",
      "",
      " in getindex at dict.jl:724",
      " [inlined code] from In[23]:20",
      " in anonymous at no file:0"
     ]
    }
   ],
   "source": [
    "# Code used to load log fits to noisy data simulated with parameters above (both original and diverging)\n",
    "using JLD\n",
    "all_vars = Dict();\n",
    "orig_vars = Dict();\n",
    "keys = 52\n",
    "var = \"phi1_log\"\n",
    "orig_var = \"phi1_log\"\n",
    "n=0\n",
    "for i in [1:51; 151:199]\n",
    "    n+=1;\n",
    "    tmp_div = load(\"results/noisy_fits_to_diverging_\"*string(i)*\".jld\", \"noisy_fits\")\n",
    "    tmp_orig = load(\"results/noisy_fits_\"*string(n)*\".jld\", \"noisy_fits\")\n",
    "    for key in keys\n",
    "        if !haskey(all_vars, key)\n",
    "            all_vars[key] = Array(Any, 100);\n",
    "        end\n",
    "        if !haskey(orig_vars, key)\n",
    "            orig_vars[key] = Array(Any, 100);\n",
    "        end\n",
    "        all_vars[key][n] = tmp_div[key][var]\n",
    "        orig_vars[key][n] = tmp_orig[key][var]\n",
    "    end\n",
    "end\n",
    "\n",
    "n"
   ]
  },
  {
   "cell_type": "code",
   "execution_count": 16,
   "metadata": {
    "collapsed": false
   },
   "outputs": [
    {
     "data": {
      "text/plain": [
       "2x101 Array{Float64,2}:\n",
       "  8.236     11.6915   9.762    10.8525   …   1.84056    9.27486  10.0694 \n",
       " -7.34254  -10.8194  -8.90483  -9.95571     -0.961222  -8.41552  -9.16981"
      ]
     },
     "execution_count": 16,
     "metadata": {},
     "output_type": "execute_result"
    }
   ],
   "source": [
    "# Matrix of all fits for C and E (orig log)\n",
    "log10(hcat(phi1_orig[[6,8]], hcat(all_vars[52][1:n]...)[[5,7],:]))"
   ]
  },
  {
   "cell_type": "code",
   "execution_count": 18,
   "metadata": {
    "collapsed": false
   },
   "outputs": [
    {
     "data": {
      "text/plain": [
       "2x101 Array{Float64,2}:\n",
       " 0.789581  0.968361    0.988235   0.715212  …  0.741185  0.75189   0.901924 \n",
       " 0.30103   0.0414984  -0.0485671  0.293447     0.340542  0.303792  0.0768686"
      ]
     },
     "execution_count": 18,
     "metadata": {},
     "output_type": "execute_result"
    }
   ],
   "source": [
    "# Matrix of all fits for model 52 (1 reduced log)\n",
    "log10(hcat(phi0[[6,8]], hcat(orig_vars[52][1:n]...)[[5,7],:]))"
   ]
  },
  {
   "cell_type": "code",
   "execution_count": 20,
   "metadata": {
    "collapsed": false
   },
   "outputs": [
    {
     "data": {
      "text/plain": [
       "1x101 Array{Float64,2}:\n",
       " 1.09061  1.00986  0.939668  1.00866  …  1.09978  1.08173  1.05568  0.978793"
      ]
     },
     "execution_count": 20,
     "metadata": {},
     "output_type": "execute_result"
    }
   ],
   "source": [
    "sum(log10(hcat(phi0[[6,8]], hcat(orig_vars[52][1:n]...)[[5,7],:])),1)"
   ]
  },
  {
   "cell_type": "code",
   "execution_count": 21,
   "metadata": {
    "collapsed": false
   },
   "outputs": [
    {
     "data": {
      "text/plain": [
       "1x101 Array{Float64,2}:\n",
       " 0.893455  0.87213  0.857173  0.896791  …  0.879339  0.859347  0.899551"
      ]
     },
     "execution_count": 21,
     "metadata": {},
     "output_type": "execute_result"
    }
   ],
   "source": [
    "sum(log10(hcat(phi1_orig[[6,8]], hcat(all_vars[52][1:n]...)[[5,7],:])),1)"
   ]
  },
  {
   "cell_type": "markdown",
   "metadata": {},
   "source": [
    "# Export CSV files with data to be plotted"
   ]
  },
  {
   "cell_type": "code",
   "execution_count": 22,
   "metadata": {
    "collapsed": true
   },
   "outputs": [],
   "source": [
    "# Figure 8 A"
   ]
  },
  {
   "cell_type": "code",
   "execution_count": null,
   "metadata": {
    "collapsed": true
   },
   "outputs": [],
   "source": []
  }
 ],
 "metadata": {
  "kernelspec": {
   "display_name": "Julia 0.4.5",
   "language": "julia",
   "name": "julia-0.4"
  },
  "language_info": {
   "file_extension": ".jl",
   "mimetype": "application/julia",
   "name": "julia",
   "version": "0.4.5"
  }
 },
 "nbformat": 4,
 "nbformat_minor": 0
}
