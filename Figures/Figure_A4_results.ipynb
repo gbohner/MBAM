{
 "cells": [
  {
   "cell_type": "code",
   "execution_count": 21,
   "metadata": {
    "collapsed": false
   },
   "outputs": [
    {
     "data": {
      "text/plain": [
       "8x2 Array{Float64,2}:\n",
       "  2.2e-6  7.69353e-37\n",
       "  0.42    8.75658e-33\n",
       "  0.1026  0.0662813  \n",
       "  0.58    0.586839   \n",
       "  3.9e-5  2.74314e-5 \n",
       "  6.16    1.72186e8  \n",
       " 30.4     2.39839e9  \n",
       "  2.0     4.54419e-8 "
      ]
     },
     "execution_count": 21,
     "metadata": {},
     "output_type": "execute_result"
    }
   ],
   "source": [
    "include(\"../BK_functions/bk_setup_script.jl\")\n",
    "# Original and Simulation parameters (fit the orig assay alright)\n",
    "[phi0 load(\"results/noisy_fits_to_diverging_1.jld\", \"metadata\")[\"phi1_orig\"]]"
   ]
  },
  {
   "cell_type": "code",
   "execution_count": 15,
   "metadata": {
    "collapsed": false
   },
   "outputs": [
    {
     "name": "stderr",
     "output_type": "stream",
     "text": [
      "WARNING: [a,b] concatenation is deprecated; use [a;b] instead\n",
      " in depwarn at deprecated.jl:73\n",
      " in oldstyle_vcat_warning at /opt/homebrew-cask/Caskroom/julia/0.4.5/Julia-0.4.5.app/Contents/Resources/julia/lib/julia/sys.dylib\n",
      " in anonymous at no file\n",
      " in include_string at loading.jl:282\n",
      " in execute_request at /Users/gergobohner/.julia/v0.4/IJulia/src/execute_request.jl:169\n",
      " in eventloop at /Users/gergobohner/.julia/v0.4/IJulia/src/eventloop.jl:8\n",
      " in anonymous at task.jl:447\n",
      "while loading In[15], in expression starting on line 8\n"
     ]
    }
   ],
   "source": [
    "# Code used to load log fits to noisy data simulated with parameters above\n",
    "using JLD\n",
    "all_vars = Dict();\n",
    "orig_vars = Dict();\n",
    "keys = [51:53]\n",
    "var = \"phi1_log\"\n",
    "orig_var = \"phi0_log\"\n",
    "n=0\n",
    "for i in [1:47, 151:195]\n",
    "    n+=1;\n",
    "    tmp = load(\"results/noisy_fits_to_diverging_\"*string(i)*\".jld\", \"noisy_fits\")\n",
    "    for key in keys\n",
    "        if !haskey(all_vars, key)\n",
    "            all_vars[key] = Array(Any, 100);\n",
    "        end\n",
    "        if !haskey(orig_vars, key)\n",
    "            orig_vars[key] = tmp[key][orig_var];\n",
    "        end\n",
    "        all_vars[key][n] = tmp[key][var]\n",
    "    end\n",
    "end"
   ]
  },
  {
   "cell_type": "code",
   "execution_count": 17,
   "metadata": {
    "collapsed": false
   },
   "outputs": [
    {
     "data": {
      "text/plain": [
       "8x92 Array{Float64,2}:\n",
       " 1.46482e-41   3.33762e-8  1.03051e-40  …  4.9358e-53    2.22542e-6\n",
       " 0.79001       0.92881     0.596015        3.1754e-31    0.912435  \n",
       " 0.418724      0.361435    0.220112        0.0788513     0.338633  \n",
       " 0.501731      0.578527    0.514891        0.592226      0.707588  \n",
       " 2.27637e-5    1.81493e-5  2.48143e-5      2.88202e-5    2.54746e-5\n",
       " 6.25775e9    39.4628      3.51438e9    …  1.97687e12   15.4986    \n",
       " 8.59906e9    34.6394      7.66775e9       2.35798e13   10.7366    \n",
       " 7.31862e-10   0.107043    1.63198e-9      3.78822e-12   0.427615  "
      ]
     },
     "execution_count": 17,
     "metadata": {},
     "output_type": "execute_result"
    }
   ],
   "source": [
    "# Matrix of all fits for model 51 (orig log)\n",
    "hcat(all_vars[51][1:n]...)"
   ]
  },
  {
   "cell_type": "code",
   "execution_count": 18,
   "metadata": {
    "collapsed": false
   },
   "outputs": [
    {
     "data": {
      "text/plain": [
       "7x92 Array{Float64,2}:\n",
       " 8.76171e-51  8.77138e-43  4.22956e-47  …  4.33602e-53    6.84447e-9\n",
       " 0.100814     0.0704241    0.0805132       0.0788513      0.0739722 \n",
       " 0.611596     0.626503     0.615945        0.592226       0.65731   \n",
       " 2.71435e-5   2.07711e-5   2.72955e-5      2.88202e-5     2.74006e-5\n",
       " 4.91512e11   5.78096e9    7.12036e10      2.04195e12    21.0217    \n",
       " 5.37315e12   6.51555e10   7.13666e11   …  2.43561e13   197.004     \n",
       " 1.51564e-11  1.24501e-9   1.10736e-10     3.66749e-12    0.422046  "
      ]
     },
     "execution_count": 18,
     "metadata": {},
     "output_type": "execute_result"
    }
   ],
   "source": [
    "# Matrix of all fits for model 52 (1 reduced log)\n",
    "hcat(all_vars[52][1:n]...)"
   ]
  },
  {
   "cell_type": "code",
   "execution_count": 19,
   "metadata": {
    "collapsed": false
   },
   "outputs": [
    {
     "data": {
      "text/plain": [
       "6x92 Array{Float64,2}:\n",
       " 2.6244e-54   5.22375e-55  1.23577e-56  …  1.38003e-54   6.90727e-10\n",
       " 3.43654e12   4.58931e12   1.19715e13      3.94827e12   23.8966     \n",
       " 0.541841     0.575003     0.55627         0.538168      0.562859   \n",
       " 2.7759e-5    2.12764e-5   2.80219e-5      2.94089e-5    2.69939e-5 \n",
       " 2.73054e12   5.72851e12   1.41921e13      3.93614e12   28.8058     \n",
       " 3.22961e-12  1.42441e-12  6.4211e-13   …  2.17492e-12   0.316398   "
      ]
     },
     "execution_count": 19,
     "metadata": {},
     "output_type": "execute_result"
    }
   ],
   "source": [
    "# Matrix of all fits for model 53 (2 reduced log)\n",
    "hcat(all_vars[53][1:n]...)"
   ]
  }
 ],
 "metadata": {
  "kernelspec": {
   "display_name": "Julia 0.4.5",
   "language": "julia",
   "name": "julia-0.4"
  },
  "language_info": {
   "file_extension": ".jl",
   "mimetype": "application/julia",
   "name": "julia",
   "version": "0.4.5"
  }
 },
 "nbformat": 4,
 "nbformat_minor": 0
}
