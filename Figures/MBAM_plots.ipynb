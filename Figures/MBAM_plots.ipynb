{
 "cells": [
  {
   "cell_type": "markdown",
   "metadata": {},
   "source": [
    "# MBAM_plots\n",
    "\n",
    "This module defines a few convenient plot types using the PlotlyJS Json architecture that we can use for visualization"
   ]
  },
  {
   "cell_type": "code",
   "execution_count": 1,
   "metadata": {
    "collapsed": false
   },
   "outputs": [
    {
     "name": "stderr",
     "output_type": "stream",
     "text": [
      "INFO: Recompiling stale cache file /Users/gergobohner/.julia/lib/v0.4/HttpCommon.ji for module HttpCommon.\n",
      "INFO: Recompiling stale cache file /Users/gergobohner/.julia/lib/v0.4/URIParser.ji for module URIParser.\n",
      "WARNING: Module Compat uuid did not match cache file\n",
      "  This is likely because module Compat does not support  precompilation but is imported by a module that does.\n",
      "WARNING: deserialization checks failed while attempting to load cache from /Users/gergobohner/.julia/lib/v0.4/URIParser.ji\n",
      "INFO: Precompiling module URIParser...\n",
      "INFO: Recompiling stale cache file /Users/gergobohner/.julia/lib/v0.4/URIParser.ji for module URIParser.\n",
      "WARNING: Module Compat uuid did not match cache file\n",
      "  This is likely because module Compat does not support  precompilation but is imported by a module that does.\n"
     ]
    },
    {
     "ename": "LoadError",
     "evalue": "LoadError: __precompile__(true) but require failed to create a precompiled cache file\nwhile loading In[1], in expression starting on line 4",
     "output_type": "error",
     "traceback": [
      "LoadError: __precompile__(true) but require failed to create a precompiled cache file\nwhile loading In[1], in expression starting on line 4",
      "",
      " in require at /opt/homebrew-cask/Caskroom/julia/0.4.5/Julia-0.4.5.app/Contents/Resources/julia/lib/julia/sys.dylib",
      " in _require_from_serialized at loading.jl:84",
      " in _require_from_serialized at /opt/homebrew-cask/Caskroom/julia/0.4.5/Julia-0.4.5.app/Contents/Resources/julia/lib/julia/sys.dylib",
      " in require at /opt/homebrew-cask/Caskroom/julia/0.4.5/Julia-0.4.5.app/Contents/Resources/julia/lib/julia/sys.dylib",
      " in stale_cachefile at loading.jl:457",
      " in recompile_stale at loading.jl:474",
      " in _require_from_serialized at loading.jl:83",
      " in _require_from_serialized at /opt/homebrew-cask/Caskroom/julia/0.4.5/Julia-0.4.5.app/Contents/Resources/julia/lib/julia/sys.dylib",
      " in require at /opt/homebrew-cask/Caskroom/julia/0.4.5/Julia-0.4.5.app/Contents/Resources/julia/lib/julia/sys.dylib"
     ]
    }
   ],
   "source": [
    "# Visualize a 2D array as traces\n",
    "module MBAM_plots\n",
    "\n",
    "import PlotlyJS\n",
    "\n",
    "export plot, layouts\n",
    "\n",
    "\n",
    "\"\"\"\n",
    "**`plot()` generates Json code for a set of scatter traces of y columns**\n",
    "### Syntaxes\n",
    "* `plot(y, kwargs)`\n",
    "* `plot(x, y, kwargs)`\n",
    "\n",
    "### Notes\n",
    "Array-valued kwargs are split along first dimension (this may introduce bugs with certain arguments)\n",
    "\"\"\"\n",
    "function plot(args...; kwargs...)\n",
    "    y = args[end]; # Last input is what we plot\n",
    "    \n",
    "    if length(args)==1\n",
    "        x = collect(1:size(y)[1])\n",
    "    else\n",
    "        x = args[1]; # First input is what we use as basis for plotting\n",
    "        @assert(size(x,1)==size(y,1) && (size(x,2)==1 || size(x,2)==size(y,2)))\n",
    "    end\n",
    "    \n",
    "    # Make x the same size as y, possible by broadcasting it\n",
    "    x = repmat(x, 1, div(size(y,2),size(x,2)) )\n",
    "    \n",
    "    p_traces = Array(PlotlyJS.GenericTrace{Dict{Symbol,Any}}, size(y)[2])\n",
    "    \n",
    "    \n",
    "    for y1 in 1:size(y,2)\n",
    "        # Split the kwargs if they are an array\n",
    "        kwargs_cur = [contains(\"$(typeof(kwa[2]))\", \"Array\")?\n",
    "            (kwa[1],kwa[2][mod(y1,length(kwa[2]))==0?length(kwa[2]):(mod(y1,length(kwa[2])))]):\n",
    "            kwa for kwa in kwargs]\n",
    "        p_traces[y1] = PlotlyJS.scatter(; x=x[:,y1], y=y[:,y1], kwargs_cur...)\n",
    "    end\n",
    "    \n",
    "    return p_traces\n",
    "end\n",
    "\n",
    "\n",
    "\"\"\"\n",
    "**`layouts()` provides useful plot layouts to be used by PlotlyJS.plot()**\n",
    "\n",
    "### Layouts\n",
    "* \"Model_output\"\n",
    "\"\"\"\n",
    "function layouts(layout_type::AbstractString=\"Model_output\", kwargs...)\n",
    "    layout = PlotlyJS.Layout();\n",
    "    \n",
    "    if layout_type == \"Model_output\"       \n",
    "        layout[\"title\"] = \"Model output\"\n",
    "        layout[\"xaxis\"] = PlotlyJS.attr(title=\"Input variable\")\n",
    "        layout[\"yaxis\"] = PlotlyJS.attr(title=\"Output variable\")        \n",
    "    end\n",
    "    \n",
    "    \n",
    "    if layout_type == \"BK_MBAM_search\"       \n",
    "        layout[\"title\"] = \"BK_MBAM_search\"\n",
    "        layout[\"xaxis\"] = PlotlyJS.attr(title=\"Time along geodesic\")\n",
    "        layout[\"yaxis\"] = PlotlyJS.attr(title=\"log(&Phi;)\")        \n",
    "    end\n",
    "        \n",
    "    layout[\"height\"] = 2000\n",
    "    \n",
    "    # Pass on the optional kwargs\n",
    "    for k1 in kwargs\n",
    "        layout[k1[1]] = k1[2]\n",
    "    end\n",
    "    \n",
    "    return layout\n",
    "end\n",
    "\n",
    "\n",
    "end;"
   ]
  },
  {
   "cell_type": "code",
   "execution_count": null,
   "metadata": {
    "collapsed": true
   },
   "outputs": [],
   "source": []
  }
 ],
 "metadata": {
  "kernelspec": {
   "display_name": "Julia 0.4.5",
   "language": "julia",
   "name": "julia-0.4"
  },
  "language_info": {
   "file_extension": ".jl",
   "mimetype": "application/julia",
   "name": "julia",
   "version": "0.4.5"
  }
 },
 "nbformat": 4,
 "nbformat_minor": 0
}
