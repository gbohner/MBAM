{
 "cells": [
  {
   "cell_type": "markdown",
   "metadata": {},
   "source": [
    "# Run MBAM model reductions for both assays"
   ]
  },
  {
   "cell_type": "code",
   "execution_count": 3,
   "metadata": {
    "collapsed": false
   },
   "outputs": [],
   "source": [
    "# Load the BK functions, the x_grid(Ca, V) that we evaluate over and the initial condition phi0\n",
    "include(\"../BK_functions/bk_setup_script.jl\"); \n",
    "\n",
    "using JLD"
   ]
  },
  {
   "cell_type": "code",
   "execution_count": 4,
   "metadata": {
    "collapsed": false
   },
   "outputs": [],
   "source": [
    "# Run the BK function reduction with respect to the P_o assay(reduced models are handcoded within BK_functions)\n",
    "outp = MBAM(BK_simulator, phi0, x_grid, model_iters=[10, 11, 12, 13, 14, 15],\n",
    "            move_dir=[-1, -1, 1, 1, 1, -1], boundary_time=10, verbose=1, \n",
    "            reduce_func=BK_reduce, maxEV = 1e-10, maxVnorm = [5e-2, 1e-5]); \n",
    "save(\"results/MBAM_outp_orig.jld\", \"outp\", outp)\n",
    "\n",
    "# This takes about ~3 hours on my laptop (last iter especially slow), alternatively load figure3.jld which stores this result"
   ]
  },
  {
   "cell_type": "code",
   "execution_count": null,
   "metadata": {
    "collapsed": true
   },
   "outputs": [],
   "source": [
    "# Run the BK function reduction with respect to the log(P_o) assay (reduced models are handcoded within BK_functions)\n",
    "outp_log10 = MBAM(BK_simulator, phi0, x_grid, model_iters=[51, 52, 53, 54, 55], \n",
    "                  move_dir=[-1, -1, 1, 1, -1], boundary_time=10, verbose=1, reduce_func=BK_reduce)\n",
    "\n",
    "save(\"results/MBAM_outp_log10.jld\", \"outp_log10\", outp_log10)"
   ]
  }
 ],
 "metadata": {
  "kernelspec": {
   "display_name": "Julia 0.4.5",
   "language": "julia",
   "name": "julia-0.4"
  },
  "language_info": {
   "file_extension": ".jl",
   "mimetype": "application/julia",
   "name": "julia",
   "version": "0.4.5"
  }
 },
 "nbformat": 4,
 "nbformat_minor": 0
}
