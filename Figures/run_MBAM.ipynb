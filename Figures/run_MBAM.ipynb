{
 "cells": [
  {
   "cell_type": "markdown",
   "metadata": {},
   "source": [
    "# Run MBAM model reductions for both assays"
   ]
  },
  {
   "cell_type": "code",
   "execution_count": 3,
   "metadata": {
    "collapsed": false
   },
   "outputs": [],
   "source": [
    "# Load the BK functions, the x_grid(Ca, V) that we evaluate over and the initial condition phi0\n",
    "include(\"../BK_functions/bk_setup_script.jl\"); \n",
    "\n",
    "using JLD"
   ]
  },
  {
   "cell_type": "code",
   "execution_count": 4,
   "metadata": {
    "collapsed": false
   },
   "outputs": [],
   "source": [
    "# Run the BK function reduction with respect to the P_o assay(reduced models are handcoded within BK_functions)\n",
    "outp = MBAM(BK_simulator, phi0, x_grid, model_iters=[10, 11, 12, 13, 14, 15],\n",
    "            move_dir=[-1, -1, 1, 1, 1, -1], boundary_time=10, verbose=1, \n",
    "            reduce_func=BK_reduce, maxEV = 1e-10, maxVnorm = [5e-2, 1e-5]); \n",
    "save(\"results/MBAM_outp_orig.jld\", \"outp\", outp)\n",
    "\n",
    "# This takes about ~3 hours on my laptop (last iter especially slow), alternatively load figure3.jld which stores this result"
   ]
  },
  {
   "cell_type": "code",
   "execution_count": null,
   "metadata": {
    "collapsed": true
   },
   "outputs": [],
   "source": [
    "# Run the BK function reduction with respect to the log(P_o) assay (reduced models are handcoded within BK_functions)\n",
    "outp_log10 = MBAM(BK_simulator, phi0, x_grid, model_iters=[51, 52, 53, 54, 55], \n",
    "                  move_dir=[-1, -1, 1, 1, -1], boundary_time=10, verbose=1, reduce_func=BK_reduce)\n",
    "\n",
    "save(\"results/MBAM_outp_log10.jld\", \"outp_log10\", outp_log10)"
   ]
  },
  {
   "cell_type": "code",
   "execution_count": null,
   "metadata": {
    "collapsed": true
   },
   "outputs": [],
   "source": [
    "# Run the log assay reduction starting from the diverging parameters of figure 2\n",
    "using JLD \n",
    "phi_base = load(\"results/noisy_fits_8.jld\", \"noisy_fits\")[10][\"phi1_orig\"]\n",
    "\n",
    "outp_log10_div = MBAM(BK_simulator, phi_base, x_grid, model_iters=[81, 82, 83],\n",
    "                         move_dir=[-1, -1, -1], boundary_time=10, verbose=1, reduce_func=BK_reduce)\n",
    "\n",
    "save(\"results/MBAM_outp_log10_div.jld\", \"outp_log10_div\", outp_log10_div)"
   ]
  }
 ],
 "metadata": {
  "kernelspec": {
   "display_name": "Julia 0.4.5",
   "language": "julia",
   "name": "julia-0.4"
  },
  "language_info": {
   "file_extension": ".jl",
   "mimetype": "application/julia",
   "name": "julia",
   "version": "0.4.5"
  }
 },
 "nbformat": 4,
 "nbformat_minor": 0
}
