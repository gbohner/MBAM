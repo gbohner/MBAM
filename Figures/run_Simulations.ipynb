{
 "cells": [
  {
   "cell_type": "markdown",
   "metadata": {
    "collapsed": true
   },
   "source": [
    "# Run simulations\n",
    "\n",
    "Runs a simulation given base params, adds noise then fits multiple models to the same simulation.\n",
    "Saves the results as a dictionary including keys:\n",
    "* ```metadata``` - a dictionary with information about the simulation\n",
    "* ```noisy_fits``` - a dictionary whose keys are integers indicating the model number. <br> Each model number contains the fit results of that model including ```ydata_tofit``` the data to be fit,  ```phi_init_base``` as the initial condition to the fit and ```phi1``` as the resulting best fit parameter vector.\n",
    "\n",
    "Assumes a global variable to exist:\n",
    "* ```CURDATAPOINT``` is an integer that is going to index simulation number\n",
    "* ```save_str``` is as string to add to the file name in order to avoid overriding, by default it can be an empty string"
   ]
  },
  {
   "cell_type": "code",
   "execution_count": 30,
   "metadata": {
    "collapsed": true
   },
   "outputs": [],
   "source": [
    "# Uncomment the lines below to save via local variables\n",
    "# CURDATAPOINT = 1;\n",
    "# save_str = \"\""
   ]
  },
  {
   "cell_type": "code",
   "execution_count": null,
   "metadata": {
    "collapsed": true
   },
   "outputs": [],
   "source": [
    "# Running multiple simulations with the same settings below (do this from console, DO NOT UNCOMMENT THESE):\n",
    "# CURDATAPOINT = 0\n",
    "# save_str = \"test_fits_\"\n",
    "# for j11 = 1:100\n",
    "#       CURDATAPOINT = j11\n",
    "#       nbinclude(\"run_Simulations.ipynb\")\n",
    "#       println(CURDATAPOINT) # Shows progress\n",
    "# end"
   ]
  },
  {
   "cell_type": "code",
   "execution_count": 31,
   "metadata": {
    "collapsed": true
   },
   "outputs": [],
   "source": [
    "include(\"../BK_functions/bk_setup_script.jl\"); "
   ]
  },
  {
   "cell_type": "code",
   "execution_count": 12,
   "metadata": {
    "collapsed": false
   },
   "outputs": [
    {
     "data": {
      "text/plain": [
       "8-element Array{Float64,1}:\n",
       " 0.00018292\n",
       " 0.781112  \n",
       " 0.128178  \n",
       " 0.763019  \n",
       " 6.01064e-5\n",
       " 6.19077   \n",
       " 4.5954    \n",
       " 3.50126   "
      ]
     },
     "execution_count": 12,
     "metadata": {},
     "output_type": "execute_result"
    }
   ],
   "source": [
    "# Load the parameters from Fig 2 example:\n",
    "using JLD\n",
    "\n",
    "phi_base = phi0; # Use the base parameters as true parameters to be estimated via fits through noise\n",
    "\n",
    "# Alternatively, use diverging parameters as base ones to be estimated\n",
    "# phi_base = load(\"results/noisy_fits_8.jld\", \"noisy_fits\")[10][\"phi1_orig\"]\n",
    "# phi_base = load(\"results/noisy_fits_5.jld\", \"noisy_fits\")[10][\"phi1_orig\"]\n",
    "\n",
    "phi_base = load(\"results/noisy_fits_7.jld\", \"noisy_fits\")[10][\"phi1_orig\"]"
   ]
  },
  {
   "cell_type": "code",
   "execution_count": 35,
   "metadata": {
    "collapsed": false
   },
   "outputs": [
    {
     "data": {
      "text/plain": [
       "Dict{ASCIIString,Any} with 5 entries:\n",
       "  \"phi_base\"         => [2.2e-6,0.42,0.1026,0.58,3.9e-5,6.16,30.4,2.0]\n",
       "  \"data_noise\"       => \"10%\"\n",
       "  \"phi1_orig\"        => [2.2e-6,0.42,0.1026,0.58,3.9e-5,6.16,30.4,2.0]\n",
       "  \"init_param_noise\" => \"90%\"\n",
       "  \"num_inits\"        => 24"
      ]
     },
     "execution_count": 35,
     "metadata": {},
     "output_type": "execute_result"
    }
   ],
   "source": [
    "metadata = Dict(\"data_noise\"=>\"10%\", \"num_inits\"=>24, \"init_param_noise\"=>\"90%\", \"phi_base\"=>phi_base, \"phi1_orig\"=>phi_base) # phi1_orig key added for historical compatibility "
   ]
  },
  {
   "cell_type": "code",
   "execution_count": 36,
   "metadata": {
    "collapsed": false
   },
   "outputs": [],
   "source": [
    "# Simulate appropriate noisy data from the phi_base parameters via the full model\n",
    "\n",
    "ydata_noiseless = BK_simulator(phi_base, hcat(x_grid...), model_id=0);\n",
    "ydata_orig = ydata_noiseless.*(1+(2*rand(size(ydata_noiseless))-1)*0.1) # Add up to 10% noise (uniform, multiplicative)\n",
    "ydata_log = log10(ydata_noiseless).*(1+(2*rand(size(ydata_noiseless))-1)*0.1) # Add up to 10% noise (uniform, multiplicative, but in log space assay)\n",
    ";"
   ]
  },
  {
   "cell_type": "markdown",
   "metadata": {},
   "source": [
    "# Fit models and initial conditions to the simulated data"
   ]
  },
  {
   "cell_type": "code",
   "execution_count": 37,
   "metadata": {
    "collapsed": false
   },
   "outputs": [],
   "source": [
    "# Choose models, initial conditions and data to fit\n",
    "\n",
    "model_nums = [52];\n",
    "init_conds = Array(Any,length(model_nums))\n",
    "data_sets = Array(Any,length(model_nums))\n",
    "\n",
    "# For appropriate initial conditions for reduced models, load MBAM results\n",
    "using JLD\n",
    "outp = load(\"results/MBAM_outp_orig.jld\", \"outp\");\n",
    "outp_log10 = load(\"results/MBAM_outp_log10.jld\", \"outp_log10\");\n",
    "\n",
    "n = 0;\n",
    "for model in model_nums\n",
    "    n += 1\n",
    "    if model <=16\n",
    "        init_conds[n] = exp(outp[1][model-9,1]); # Appropriate parameter vector for the model\n",
    "        data_sets[n] = ydata_orig;\n",
    "    elseif model > 50\n",
    "        init_conds[n] = exp(outp_log10[1][model-50,1]); # Appropriate parameter vector for the model\n",
    "        data_sets[n] = ydata_log;\n",
    "    end\n",
    "end"
   ]
  },
  {
   "cell_type": "code",
   "execution_count": 38,
   "metadata": {
    "collapsed": true
   },
   "outputs": [],
   "source": [
    "# Generate the \"noisy_fits\" dictionary where we save the fit results to\n",
    "noisy_fits = Dict();"
   ]
  },
  {
   "cell_type": "code",
   "execution_count": null,
   "metadata": {
    "collapsed": true
   },
   "outputs": [],
   "source": [
    "# Iterate over all models to be fit and do the fit\n",
    "using LsqFit\n",
    "n = 0;\n",
    "for model in model_nums\n",
    "    n+=1;\n",
    "    ydata_tofit = data_sets[n];\n",
    "    phi_init_base = init_conds[n];\n",
    "\n",
    "    # Store multiple fits (different initial point for LM, takes around 5 sec / fit)\n",
    "    all_fits = Array(Any, 24)\n",
    "    all_costs = Array(Any, length(all_fits))\n",
    "\n",
    "    for i1 = 1:length(all_fits)\n",
    "        if i1==1\n",
    "            phi_init = phi_init_base; # Start the first fit from initial params\n",
    "        else\n",
    "            phi_init = phi_init_base.*(1+(2*rand(size(phi_init_base))-1)*0.9) # Add up to 90% noise to initial params\n",
    "        end\n",
    "        all_fits[i1] = curve_fit((x,p) -> BK_simulator(exp(p), x, model_id=model), hcat(x_grid...), ydata_tofit, log(phi_init));\n",
    "        all_costs[i1] = sum(all_fits[i1].resid.^2);\n",
    "    end\n",
    "\n",
    "    # Find the best fit\n",
    "    phi1 = exp(all_fits[findmin(all_costs)[2]].param);\n",
    "\n",
    "    # Saving fit results:\n",
    "    res = Dict()\n",
    "    res[\"ydata_tofit\"] = ydata_tofit\n",
    "    res[\"phi_init_base\"] = phi_init_base\n",
    "    res[\"phi1\"] = phi1\n",
    "    # Added for historical compatibility\n",
    "    res[\"ydata_orig\"] = ydata_tofit\n",
    "    res[\"phi0_orig\"] = phi_init_base\n",
    "    res[\"phi1_orig\"] = phi1\n",
    "    res[\"ydata_log\"] = ydata_tofit\n",
    "    res[\"phi0_log\"] = phi_init_base\n",
    "    res[\"phi1_log\"] = phi1\n",
    "    \n",
    "    \n",
    "    noisy_fits[model] = res\n",
    "end"
   ]
  },
  {
   "cell_type": "code",
   "execution_count": null,
   "metadata": {
    "collapsed": true
   },
   "outputs": [],
   "source": [
    "save(\"results/noisy_fits_\"*save_str*string(CURDATAPOINT)*\".jld\", \"noisy_fits\", noisy_fits, \"metadata\", metadata);"
   ]
  }
 ],
 "metadata": {
  "kernelspec": {
   "display_name": "Julia 0.4.5",
   "language": "julia",
   "name": "julia-0.4"
  },
  "language_info": {
   "file_extension": ".jl",
   "mimetype": "application/julia",
   "name": "julia",
   "version": "0.4.5"
  }
 },
 "nbformat": 4,
 "nbformat_minor": 0
}
