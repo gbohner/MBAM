{
 "cells": [
  {
   "cell_type": "markdown",
   "metadata": {},
   "source": [
    "# Load fit results from A1 and A2"
   ]
  },
  {
   "cell_type": "code",
   "execution_count": 75,
   "metadata": {
    "collapsed": false
   },
   "outputs": [],
   "source": [
    "all_vars = Dict();\n",
    "orig_vars = Dict();\n",
    "# keys = [10:13, 51:54];\n",
    "keys = [10:13]\n",
    "var = \"phi1_orig\"\n",
    "orig_var = \"phi0_orig\"\n",
    "#keys = [51:54]\n",
    "#var = \"phi1_log\"\n",
    "#orig_var = \"phi0_log\"\n",
    "n = 100\n",
    "for i = 1:n\n",
    "    tmp = load(\"results/noisy_fits_\"*string(i)*\".jld\", \"noisy_fits\")\n",
    "    for key in keys\n",
    "        if !haskey(all_vars, key)\n",
    "            all_vars[key] = Array(Any, n);\n",
    "        end\n",
    "        if !haskey(orig_vars, key)\n",
    "            orig_vars[key] = tmp[key][orig_var];\n",
    "        end\n",
    "        all_vars[key][i] = tmp[key][var]\n",
    "    end\n",
    "end\n",
    "   "
   ]
  },
  {
   "cell_type": "code",
   "execution_count": 76,
   "metadata": {
    "collapsed": false
   },
   "outputs": [
    {
     "name": "stdout",
     "output_type": "stream",
     "text": [
      "[74 25 4 0 2 20 39 26]\n",
      "[96 0 0 0 44 71 55]\n",
      "[0 0 0 27 0 27]\n",
      "[0 0 0 0 0]\n"
     ]
    }
   ],
   "source": [
    "for key in keys\n",
    "    println((sum(abs((log10(hcat(all_vars[key]...)) .- log10(orig_vars[key]))).>1,2))')\n",
    "end"
   ]
  },
  {
   "cell_type": "code",
   "execution_count": 79,
   "metadata": {
    "collapsed": false
   },
   "outputs": [],
   "source": [
    "all_vars = Dict();\n",
    "orig_vars = Dict();\n",
    "# keys = [10:13, 51:54];\n",
    "keys = [10:13]\n",
    "var = \"phi1_orig\"\n",
    "orig_var = \"phi0_orig\"\n",
    "keys = [52:54]\n",
    "var = \"phi1_log\"\n",
    "orig_var = \"phi0_log\"\n",
    "n = 100\n",
    "for i = 1:n\n",
    "    tmp = load(\"results/noisy_fits_\"*string(i)*\".jld\", \"noisy_fits\")\n",
    "    for key in keys\n",
    "        if !haskey(all_vars, key)\n",
    "            all_vars[key] = Array(Any, n);\n",
    "        end\n",
    "        if !haskey(orig_vars, key)\n",
    "            orig_vars[key] = tmp[key-1][orig_var];\n",
    "        end\n",
    "        all_vars[key][i] = tmp[key][var]\n",
    "    end\n",
    "end"
   ]
  },
  {
   "cell_type": "code",
   "execution_count": 88,
   "metadata": {
    "collapsed": false
   },
   "outputs": [
    {
     "name": "stdout",
     "output_type": "stream",
     "text": [
      "[47 2 0 0 0 9 0]\n",
      "[17 63 100 100 98 0]\n",
      "[100 0 0 100 100]\n"
     ]
    }
   ],
   "source": [
    "for key in keys\n",
    "    println((sum(abs((log10(hcat(all_vars[key]...)) .- log10(orig_vars[key][[1,3:end]]))).>1,2))')\n",
    "end"
   ]
  },
  {
   "cell_type": "code",
   "execution_count": 87,
   "metadata": {
    "collapsed": false
   },
   "outputs": [
    {
     "data": {
      "text/plain": [
       "7-element Array{Float64,1}:\n",
       "  2.2e-6\n",
       "  0.1026\n",
       "  0.58  \n",
       "  3.9e-5\n",
       "  6.16  \n",
       " 30.4   \n",
       "  2.0   "
      ]
     },
     "execution_count": 87,
     "metadata": {},
     "output_type": "execute_result"
    }
   ],
   "source": [
    "orig_vars[52][[1,3:end]]"
   ]
  },
  {
   "cell_type": "markdown",
   "metadata": {},
   "source": [
    "# Generate CSV files for plotting elsewhere"
   ]
  },
  {
   "cell_type": "code",
   "execution_count": null,
   "metadata": {
    "collapsed": false
   },
   "outputs": [],
   "source": [
    "# Output the simulated data point markers in a CSV format with: \n",
    "# first column - voltage, second column - Popen, third column error top, fourth column\n",
    "\n",
    "for ca in Ca\n",
    "    ca_str = @sprintf(\"%1.1f\", ca*1e6)\n",
    "    println(ca_str)\n",
    "    \n",
    "    # Generate grid to evaluate over\n",
    "    x_grid_cur = Array(Any, (1*length(V),))\n",
    "    iterind = 0;\n",
    "    for j1 in product([ca], V)\n",
    "        iterind += 1;\n",
    "        x_grid_cur[iterind] = collect(j1)\n",
    "    end\n",
    "    \n",
    "    \n",
    "    # Get the function values for original model\n",
    "    tmp_vals = BK_simulator(phi0, hcat(x_grid_cur...), model_id=0)\n",
    "    errbar = tmp_vals.*0.1 # Generate the error bar for every data point.\n",
    "    writecsv(\"CSV/figure_2a_panel1_ca$(ca_str)um.csv\", hcat(V[:].*1000, tmp_vals[:], errbar[:], errbar[:]))\n",
    "end\n",
    "\n",
    "# Also output the example fit with just first col - voltage, second col - Popen\n",
    "# but with voltage sampled more densely to make it a continous line\n",
    "\n",
    "Vdense = minimum(V):0.001:maximum(V) # voltage sampled every 1 millivolt\n",
    "\n",
    "for ca in Ca\n",
    "    ca_str = @sprintf(\"%1.1f\", ca*1e6)\n",
    "    println(ca_str)\n",
    "    \n",
    "    # Generate grid to evaluate over\n",
    "    x_grid_cur = Array(Any, (1*length(Vdense),))\n",
    "    iterind = 0;\n",
    "    for j1 in product([ca], Vdense)\n",
    "        iterind += 1;\n",
    "        x_grid_cur[iterind] = collect(j1)\n",
    "    end\n",
    "    \n",
    "    \n",
    "    # Get the function values for the fit to noisy data\n",
    "    tmp_vals = BK_simulator(tmp[\"phi1_orig\"], hcat(x_grid_cur...), model_id=0)\n",
    "    writecsv(\"CSV/figure_2a_panel2_ca$(ca_str)um.csv\", hcat(Vdense[:].*1000, tmp_vals[:]))\n",
    "end"
   ]
  },
  {
   "cell_type": "code",
   "execution_count": null,
   "metadata": {
    "collapsed": false
   },
   "outputs": [],
   "source": [
    "# Output the original and the fitted parameter values (first and second column of CSV respectively)\n",
    "writecsv(\"CSV/figure_2b_panel1.csv\", [phi0 tmp[\"phi1_orig\"]])"
   ]
  },
  {
   "cell_type": "code",
   "execution_count": null,
   "metadata": {
    "collapsed": true
   },
   "outputs": [],
   "source": []
  },
  {
   "cell_type": "code",
   "execution_count": 4,
   "metadata": {
    "collapsed": false
   },
   "outputs": [],
   "source": [
    "# Output the statistics from all our data:\n",
    "# For each model and assay\n",
    "# and for each parameter \n",
    "# we will look at the standard deviation of the order of magnitude of fitted values: std(log10(fit_vals))\n",
    "\n",
    "# First column: Original model Original Assay\n",
    "# Second column: Reduced model Original Assay\n",
    "# Third column: Original model Log Assay\n",
    "# Fourth column: Reduced model Log Assay\n",
    "\n",
    "writecsv(\"CSV/figure_A2_panel1_orig_orig.csv\", std(log10(all_phi1_full_orig) ,2))\n",
    "writecsv(\"CSV/figure_A2_panel1_red_orig.csv\", std(log10(all_phi1_red_orig) ,2))\n",
    "writecsv(\"CSV/figure_A2_panel1_orig_log.csv\", std(log10(all_phi1_full_log) ,2))\n",
    "writecsv(\"CSV/figure_A2_panel1_red_log.csv\", std(log10(all_phi1_red_log) ,2))"
   ]
  },
  {
   "cell_type": "code",
   "execution_count": null,
   "metadata": {
    "collapsed": true
   },
   "outputs": [],
   "source": []
  },
  {
   "cell_type": "markdown",
   "metadata": {},
   "source": [
    "# Collect all results into reasonable filenames"
   ]
  },
  {
   "cell_type": "code",
   "execution_count": 25,
   "metadata": {
    "collapsed": false
   },
   "outputs": [],
   "source": [
    "using JLD\n",
    "phi0_full = [2.2e-6, 0.42, 0.1026, 0.58, 39*1e-6, 6.16,30.4,2.0];\n",
    "\n",
    "n = 100\n",
    "for i = 1:n\n",
    "    # 10% error\n",
    "    # Model 10 and 51\n",
    "    res_10 = load(\"saves/figure_A1_hess_\"*string(i)*\".jld\")\n",
    "    res_51 = deepcopy(res_10)\n",
    "    delete!(res_10, \"ydata_log\")\n",
    "    delete!(res_10, \"phi1_log\")\n",
    "    delete!(res_10, \"hess_log\")\n",
    "    delete!(res_10, \"D_log\")\n",
    "    res_10[\"phi0_orig\"] = phi0_full;\n",
    "    delete!(res_51, \"ydata_orig\")\n",
    "    delete!(res_51, \"phi1_orig\")\n",
    "    delete!(res_51, \"hess_orig\")\n",
    "    delete!(res_51, \"D_orig\")\n",
    "    res_51[\"phi0_log\"] = phi0_full;\n",
    "    \n",
    "    # Model 11 and 54   \n",
    "    res_11 = load(\"saves/figure_A2_hess_11_origmodel_54_logmodel_\"*string(i)*\".jld\")\n",
    "    res_54 = deepcopy(res_11)\n",
    "    delete!(res_11, \"ydata_log\")\n",
    "    delete!(res_11, \"phi1_log\")\n",
    "    delete!(res_11, \"hess_log\")\n",
    "    delete!(res_11, \"D_log\")\n",
    "    delete!(res_11, \"phi0_log\")\n",
    "    delete!(res_54, \"ydata_orig\")\n",
    "    delete!(res_54, \"phi1_orig\")\n",
    "    delete!(res_54, \"hess_orig\")\n",
    "    delete!(res_54, \"D_orig\")\n",
    "    delete!(res_54, \"phi0_orig\")\n",
    "    \n",
    "    # Model 12 and 52   \n",
    "    res_12 = load(\"saves/figure_A2_hess_12_origmodel_52logmodel_\"*string(i)*\".jld\")\n",
    "    res_52 = deepcopy(res_12)\n",
    "    delete!(res_12, \"ydata_log\")\n",
    "    delete!(res_12, \"phi1_log\")\n",
    "    delete!(res_12, \"hess_log\")\n",
    "    delete!(res_12, \"D_log\")\n",
    "    delete!(res_12, \"phi0_log\")\n",
    "    delete!(res_52, \"ydata_orig\")\n",
    "    delete!(res_52, \"phi1_orig\")\n",
    "    delete!(res_52, \"hess_orig\")\n",
    "    delete!(res_52, \"D_orig\")\n",
    "    delete!(res_52, \"phi0_orig\")\n",
    "    \n",
    "    # Model 12 and 52   \n",
    "    res_13 = load(\"saves/figure_A2_hess_\"*string(i)*\".jld\")\n",
    "    res_53 = deepcopy(res_13)\n",
    "    delete!(res_13, \"ydata_log\")\n",
    "    delete!(res_13, \"phi1_log\")\n",
    "    delete!(res_13, \"hess_log\")\n",
    "    delete!(res_13, \"D_log\")\n",
    "    delete!(res_13, \"phi0_log\")\n",
    "    delete!(res_53, \"ydata_orig\")\n",
    "    delete!(res_53, \"phi1_orig\")\n",
    "    delete!(res_53, \"hess_orig\")\n",
    "    delete!(res_53, \"D_orig\")\n",
    "    delete!(res_53, \"phi0_orig\")\n",
    "    \n",
    "    # figure_A2_hess_11_origmodel_54_logmodel_1.jld # model_id 11 and 54\n",
    "    # figure_A2_hess_12_origmodel_52logmodel_1.jld  # model_id 12 and 52\n",
    "    # figure_A2_hess_5.jld # model_id 13 and 53\n",
    "    # figure_A1_hess_1.jld # model_id 10 and 51\n",
    "    \n",
    "    metadata = Dict(\"data_noise\"=>\"10%\", \"num_inits\"=>24, \"init_param_noise\"=>\"90%\")\n",
    "    \n",
    "    noisy_fits = Dict(10=>res_10, 11=>res_11, 12=>res_12, 13=>res_13, \n",
    "        51=>res_51, 52=>res_52, 53=>res_53, 54=>res_54)\n",
    "    \n",
    "    save(\"results/noisy_fits_\"*string(i)*\".jld\", \"noisy_fits\", noisy_fits, \"metadata\", metadata)\n",
    "end"
   ]
  },
  {
   "cell_type": "code",
   "execution_count": 26,
   "metadata": {
    "collapsed": false
   },
   "outputs": [
    {
     "data": {
      "text/plain": [
       "Dict{ByteString,Any} with 2 entries:\n",
       "  \"metadata\"   => Dict{ASCIIString,Any}(\"data_noise\"=>\"10%\",\"init_param_noise\"=…\n",
       "  \"noisy_fits\" => Dict(54=>Dict{ByteString,Any}(\"ydata_log\"=>[-6.38417,-5.86568…"
      ]
     },
     "execution_count": 26,
     "metadata": {},
     "output_type": "execute_result"
    }
   ],
   "source": [
    "tmp = load(\"results/noisy_fits_1.jld\")"
   ]
  },
  {
   "cell_type": "code",
   "execution_count": 33,
   "metadata": {
    "collapsed": false
   },
   "outputs": [
    {
     "data": {
      "text/plain": [
       "8-element Array{Float64,1}:\n",
       " 1.12812e-42\n",
       " 0.884739   \n",
       " 0.275438   \n",
       " 0.702407   \n",
       " 2.95038e-5 \n",
       " 1.98258e10 \n",
       " 1.46832e10 \n",
       " 3.29004e-10"
      ]
     },
     "execution_count": 33,
     "metadata": {},
     "output_type": "execute_result"
    }
   ],
   "source": [
    "load(\"results/noisy_fits_10.jld\", \"noisy_fits\")[10][\"phi1_orig\"]"
   ]
  },
  {
   "cell_type": "code",
   "execution_count": 29,
   "metadata": {
    "collapsed": false
   },
   "outputs": [
    {
     "data": {
      "text/plain": [
       "7-element Array{Float64,1}:\n",
       "   1.68118e-8\n",
       "   0.0452016 \n",
       "   0.646632  \n",
       "   4.72532e-5\n",
       "   2.33425   \n",
       " 218.947     \n",
       "   7.61379   "
      ]
     },
     "execution_count": 29,
     "metadata": {},
     "output_type": "execute_result"
    }
   ],
   "source": [
    "tmp[\"noisy_fits\"][11][\"phi1_orig\"]"
   ]
  },
  {
   "cell_type": "code",
   "execution_count": 30,
   "metadata": {
    "collapsed": false
   },
   "outputs": [
    {
     "data": {
      "text/plain": [
       "6-element Array{Float64,1}:\n",
       "  0.0531189 \n",
       "  0.570361  \n",
       "  3.41569e-5\n",
       "  0.0974806 \n",
       "  2.77078   \n",
       " 95.9255    "
      ]
     },
     "execution_count": 30,
     "metadata": {},
     "output_type": "execute_result"
    }
   ],
   "source": [
    "tmp[\"noisy_fits\"][12][\"phi1_orig\"]"
   ]
  },
  {
   "cell_type": "code",
   "execution_count": 31,
   "metadata": {
    "collapsed": false
   },
   "outputs": [
    {
     "data": {
      "text/plain": [
       "5-element Array{Float64,1}:\n",
       " 0.0524925 \n",
       " 0.543645  \n",
       " 3.50317e-5\n",
       " 9.42972   \n",
       " 2.99854   "
      ]
     },
     "execution_count": 31,
     "metadata": {},
     "output_type": "execute_result"
    }
   ],
   "source": [
    "tmp[\"noisy_fits\"][13][\"phi1_orig\"]"
   ]
  },
  {
   "cell_type": "code",
   "execution_count": null,
   "metadata": {
    "collapsed": true
   },
   "outputs": [],
   "source": []
  }
 ],
 "metadata": {
  "kernelspec": {
   "display_name": "Julia 0.4.5",
   "language": "julia",
   "name": "julia-0.4"
  },
  "language_info": {
   "file_extension": ".jl",
   "mimetype": "application/julia",
   "name": "julia",
   "version": "0.4.5"
  }
 },
 "nbformat": 4,
 "nbformat_minor": 0
}
