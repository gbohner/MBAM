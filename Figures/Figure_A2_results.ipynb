{
 "cells": [
  {
   "cell_type": "markdown",
   "metadata": {},
   "source": [
    "# Load fit results from A1 and A2"
   ]
  },
  {
   "cell_type": "code",
   "execution_count": 1,
   "metadata": {
    "collapsed": false
   },
   "outputs": [],
   "source": [
    "using JLD\n",
    "files = readdir(\"saves\")\n",
    "\n",
    "all_phi1_full_orig = Array(Any, 100)\n",
    "all_phi1_full_log = Array(Any, 100)\n",
    "all_phi1_red_orig = Array(Any, 100)\n",
    "all_phi1_red_log = Array(Any, 100)\n",
    "\n",
    "phi0_red_orig = []\n",
    "phi0_red_log = []\n",
    "phi0_full = [2.2e-6, 0.42, 0.1026, 0.58, 39*1e-6, 6.16,30.4,2.0];\n",
    "\n",
    "n = 100\n",
    "for i = 1:n\n",
    "    phi1_red_orig, phi1_red_log, fname = load(\"saves/figure_A2_hess_\"*string(i)*\".jld\", \"phi1_orig\", \"phi1_log\", \"A1_filename\")\n",
    "    phi1_full_orig, phi1_full_log = load(\"saves/\"*fname, \"phi1_orig\", \"phi1_log\")\n",
    "    \n",
    "    if i == 1\n",
    "        phi0_red_orig, phi0_red_log = load(\"saves/figure_A2_hess_\"*string(i)*\".jld\", \"phi0_orig\", \"phi0_log\")\n",
    "    end\n",
    "        \n",
    "    all_phi1_full_orig[i] = phi1_full_orig\n",
    "    all_phi1_full_log[i] = phi1_full_log\n",
    "    all_phi1_red_orig[i] = phi1_red_orig\n",
    "    all_phi1_red_log[i] = phi1_red_log\n",
    "end"
   ]
  },
  {
   "cell_type": "code",
   "execution_count": 2,
   "metadata": {
    "collapsed": false
   },
   "outputs": [
    {
     "data": {
      "text/plain": [
       "6x100 Array{Float64,2}:\n",
       " 3.20898e-8   1.35829e-8   2.46993e-8  …  1.55956e-7  1.84893e-7   5.50225e-9\n",
       " 8.94143     12.5268      11.2877         5.94941     5.55527     16.0566    \n",
       " 0.566465     0.517835     0.50775        0.553083    0.569307     0.498821  \n",
       " 3.21388e-5   3.22868e-5   3.98173e-5     3.5816e-5   3.15686e-5   3.47983e-5\n",
       " 8.95066      9.76507      4.22656        4.80449     5.05053      7.87794   \n",
       " 1.12244      0.894068     2.33578     …  2.38582     2.15446      1.20695   "
      ]
     },
     "execution_count": 2,
     "metadata": {},
     "output_type": "execute_result"
    }
   ],
   "source": [
    "all_phi1_full_orig = hcat(all_phi1_full_orig[1:n]...)\n",
    "all_phi1_full_log = hcat(all_phi1_full_log[1:n]...)\n",
    "all_phi1_red_orig = hcat(all_phi1_red_orig[1:n]...)\n",
    "all_phi1_red_log = hcat(all_phi1_red_log[1:n]...)\n"
   ]
  },
  {
   "cell_type": "code",
   "execution_count": 32,
   "metadata": {
    "collapsed": false
   },
   "outputs": [
    {
     "data": {
      "text/plain": [
       "Dict{ByteString,Any} with 8 entries:\n",
       "  \"ydata_log\"  => [-12.3551,-13.9017,-10.9747,-9.70873,-8.05426,-7.0345,-7.3342…\n",
       "  \"hess_log\"   => 8x8 Array{Float64,2}:…\n",
       "  \"phi1_orig\"  => [7.693526035414763e-37,8.756576900815245e-33,0.06628129465823…\n",
       "  \"phi1_log\"   => [3.6394852897319113e-7,3.120567823320987e-21,0.04126621255687…\n",
       "  \"D_log\"      => [2755.9712101455953,779.9524874526993,144.10796909210856,17.8…\n",
       "  \"ydata_orig\" => [1.32368e-6,2.1981e-6,1.02432e-5,6.3849e-5,0.000172283,0.0007…\n",
       "  \"hess_orig\"  => 8x8 Array{Float64,2}:…\n",
       "  \"D_orig\"     => [70.53801014987826,15.408704979783252,0.8272221937886602,0.14…"
      ]
     },
     "execution_count": 32,
     "metadata": {},
     "output_type": "execute_result"
    }
   ],
   "source": [
    "tmp = load(\"saves/figure_A1_hess_\"*\"8\"*\".jld\") # Example with diverging parameters on fit\n",
    "#tmp = load(\"saves/figure_A1_hess_\"*\"96\"*\".jld\") # Example with diverging parameters on fit\n"
   ]
  },
  {
   "cell_type": "markdown",
   "metadata": {},
   "source": [
    "# Plot things here"
   ]
  },
  {
   "cell_type": "markdown",
   "metadata": {},
   "source": [
    "using NBInclude\n",
    "nbinclude(\"MBAM_plots.ipynb\")\n",
    "import MBAM_plots\n",
    "\n",
    "include(\"../BK_functions/bk_setup_script.jl\")\n"
   ]
  },
  {
   "cell_type": "markdown",
   "metadata": {},
   "source": [
    "PlotlyJS.plot(MBAM_plots.plot(reshape(BK_simulator(phi0, hcat(x_grid...))[:], 8, 13)'))"
   ]
  },
  {
   "cell_type": "markdown",
   "metadata": {},
   "source": [
    "PlotlyJS.plot(MBAM_plots.plot(reshape(tmp[\"ydata_orig\"], 8, 13)'))"
   ]
  },
  {
   "cell_type": "markdown",
   "metadata": {},
   "source": [
    "PlotlyJS.plot(MBAM_plots.plot(reshape(BK_simulator(tmp[\"phi1_orig\"], hcat(x_grid...))[:], 8, 13)'))"
   ]
  },
  {
   "cell_type": "markdown",
   "metadata": {},
   "source": [
    "[phi0 tmp[\"phi1_orig\"]]"
   ]
  },
  {
   "cell_type": "markdown",
   "metadata": {},
   "source": [
    "PlotlyJS.plot([MBAM_plots.plot(reshape(BK_simulator(phi0, hcat(x_grid...))[:], 8, 13)', mode=\"markers\", color=0) \n",
    "                MBAM_plots.plot(reshape(BK_simulator(tmp[\"phi1_orig\"], hcat(x_grid...))[:], 8, 13)', mode=\"lines\")\n",
    "    ])"
   ]
  },
  {
   "cell_type": "markdown",
   "metadata": {},
   "source": [
    "# Generate CSV files for plotting elsewhere"
   ]
  },
  {
   "cell_type": "code",
   "execution_count": 99,
   "metadata": {
    "collapsed": false
   },
   "outputs": [
    {
     "name": "stdout",
     "output_type": "stream",
     "text": [
      "0.0\n",
      "0.7\n",
      "4.0\n",
      "12.0\n",
      "22.0\n",
      "55.0\n",
      "70.0\n",
      "95.0\n",
      "0.0\n",
      "0.7\n",
      "4.0\n",
      "12.0\n",
      "22.0\n",
      "55.0\n",
      "70.0\n",
      "95.0\n"
     ]
    }
   ],
   "source": [
    "# Output the simulated data point markers in a CSV format with: \n",
    "# first column - voltage, second column - Popen, third column error top, fourth column\n",
    "\n",
    "for ca in Ca\n",
    "    ca_str = @sprintf(\"%1.1f\", ca*1e6)\n",
    "    println(ca_str)\n",
    "    \n",
    "    # Generate grid to evaluate over\n",
    "    x_grid_cur = Array(Any, (1*length(V),))\n",
    "    iterind = 0;\n",
    "    for j1 in product([ca], V)\n",
    "        iterind += 1;\n",
    "        x_grid_cur[iterind] = collect(j1)\n",
    "    end\n",
    "    \n",
    "    \n",
    "    # Get the function values for original model\n",
    "    tmp_vals = BK_simulator(phi0, hcat(x_grid_cur...), model_id=0)\n",
    "    errbar = tmp_vals.*0.1 # Generate the error bar for every data point.\n",
    "    writecsv(\"CSV/figure_2a_panel1_ca$(ca_str)um.csv\", hcat(V[:].*1000, tmp_vals[:], errbar[:], errbar[:]))\n",
    "end\n",
    "\n",
    "# Also output the example fit with just first col - voltage, second col - Popen\n",
    "# but with voltage sampled more densely to make it a continous line\n",
    "\n",
    "Vdense = minimum(V):0.001:maximum(V) # voltage sampled every 1 millivolt\n",
    "\n",
    "for ca in Ca\n",
    "    ca_str = @sprintf(\"%1.1f\", ca*1e6)\n",
    "    println(ca_str)\n",
    "    \n",
    "    # Generate grid to evaluate over\n",
    "    x_grid_cur = Array(Any, (1*length(Vdense),))\n",
    "    iterind = 0;\n",
    "    for j1 in product([ca], Vdense)\n",
    "        iterind += 1;\n",
    "        x_grid_cur[iterind] = collect(j1)\n",
    "    end\n",
    "    \n",
    "    \n",
    "    # Get the function values for the fit to noisy data\n",
    "    tmp_vals = BK_simulator(tmp[\"phi1_orig\"], hcat(x_grid_cur...), model_id=0)\n",
    "    writecsv(\"CSV/figure_2a_panel2_ca$(ca_str)um.csv\", hcat(Vdense[:].*1000, tmp_vals[:]))\n",
    "end"
   ]
  },
  {
   "cell_type": "code",
   "execution_count": 42,
   "metadata": {
    "collapsed": false
   },
   "outputs": [],
   "source": [
    "# Output the original and the fitted parameter values (first and second column of CSV respectively)\n",
    "writecsv(\"CSV/figure_2b_panel1.csv\", [phi0 tmp[\"phi1_orig\"]])"
   ]
  },
  {
   "cell_type": "code",
   "execution_count": null,
   "metadata": {
    "collapsed": true
   },
   "outputs": [],
   "source": []
  },
  {
   "cell_type": "code",
   "execution_count": 100,
   "metadata": {
    "collapsed": false
   },
   "outputs": [],
   "source": [
    "# Output the statistics from all our data:\n",
    "# For each model and assay\n",
    "# and for each parameter \n",
    "# we will look at the standard deviation of the order of magnitude of fitted values: std(log10(fit_vals))\n",
    "\n",
    "# First column: Original model Original Assay\n",
    "# Second column: Reduced model Original Assay\n",
    "# Third column: Original model Log Assay\n",
    "# Fourth column: Reduced model Log Assay\n",
    "\n",
    "writecsv(\"CSV/figure_A2_panel1_orig_orig.csv\", std(log10(all_phi1_full_orig) ,2))\n",
    "writecsv(\"CSV/figure_A2_panel1_red_orig.csv\", std(log10(all_phi1_red_orig) ,2))\n",
    "writecsv(\"CSV/figure_A2_panel1_orig_log.csv\", std(log10(all_phi1_full_log) ,2))\n",
    "writecsv(\"CSV/figure_A2_panel1_red_log.csv\", std(log10(all_phi1_red_log) ,2))"
   ]
  },
  {
   "cell_type": "code",
   "execution_count": null,
   "metadata": {
    "collapsed": true
   },
   "outputs": [],
   "source": []
  }
 ],
 "metadata": {
  "kernelspec": {
   "display_name": "Julia 0.4.5",
   "language": "julia",
   "name": "julia-0.4"
  },
  "language_info": {
   "file_extension": ".jl",
   "mimetype": "application/julia",
   "name": "julia",
   "version": "0.4.5"
  }
 },
 "nbformat": 4,
 "nbformat_minor": 0
}
