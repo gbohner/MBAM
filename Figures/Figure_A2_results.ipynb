{
 "cells": [
  {
   "cell_type": "markdown",
   "metadata": {},
   "source": [
    "# Load fit results from A1 and A2"
   ]
  },
  {
   "cell_type": "code",
   "execution_count": 1,
   "metadata": {
    "collapsed": false
   },
   "outputs": [],
   "source": [
    "using JLD\n",
    "files = readdir(\"saves\")\n",
    "\n",
    "all_phi1_full_orig = Array(Any, 100)\n",
    "all_phi1_full_log = Array(Any, 100)\n",
    "all_phi1_red_orig = Array(Any, 100)\n",
    "all_phi1_red_log = Array(Any, 100)\n",
    "\n",
    "phi0_red_orig = []\n",
    "phi0_red_log = []\n",
    "phi0_full = [2.2e-6, 0.42, 0.1026, 0.58, 39*1e-6, 6.16,30.4,2.0];\n",
    "\n",
    "n = 100\n",
    "for i = 1:n\n",
    "    # 10% errors\n",
    "    phi1_red_orig, phi1_red_log, fname = load(\"saves/figure_A2_hess_\"*string(i)*\".jld\", \"phi1_orig\", \"phi1_log\", \"A1_filename\")\n",
    "    \n",
    "    phi1_full_orig, phi1_full_log = load(\"saves/\"*fname, \"phi1_orig\", \"phi1_log\")\n",
    "    \n",
    "    \n",
    "    if i == 1\n",
    "        phi0_red_orig, phi0_red_log = load(\"saves/figure_A2_hess_\"*string(i)*\".jld\", \"phi0_orig\", \"phi0_log\")\n",
    "    end\n",
    "        \n",
    "    all_phi1_full_orig[i] = phi1_full_orig\n",
    "    all_phi1_full_log[i] = phi1_full_log\n",
    "    all_phi1_red_orig[i] = phi1_red_orig\n",
    "    all_phi1_red_log[i] = phi1_red_log\n",
    "end"
   ]
  },
  {
   "cell_type": "code",
   "execution_count": 2,
   "metadata": {
    "collapsed": false
   },
   "outputs": [
    {
     "data": {
      "text/plain": [
       "6x100 Array{Float64,2}:\n",
       " 1.08516e-7  1.14341e-7  8.35819e-8  …  1.34475e-7  1.07503e-7  1.26801e-7\n",
       " 6.85043     6.74525     7.4412         6.38284     6.89248     6.53743   \n",
       " 0.541606    0.539264    0.534699       0.546425    0.542109    0.543052  \n",
       " 3.64174e-5  3.58142e-5  3.67141e-5     3.5696e-5   3.76775e-5  3.68202e-5\n",
       " 4.59533     4.34331     4.56318        4.54282     4.61157     4.46872   \n",
       " 2.33752     2.46561     2.32594     …  2.3794      2.35647     2.44121   "
      ]
     },
     "execution_count": 2,
     "metadata": {},
     "output_type": "execute_result"
    }
   ],
   "source": [
    "all_phi1_full_orig = hcat(all_phi1_full_orig[1:n]...)\n",
    "all_phi1_full_log = hcat(all_phi1_full_log[1:n]...)\n",
    "all_phi1_red_orig = hcat(all_phi1_red_orig[1:n]...)\n",
    "all_phi1_red_log = hcat(all_phi1_red_log[1:n]...)\n"
   ]
  },
  {
   "cell_type": "code",
   "execution_count": null,
   "metadata": {
    "collapsed": false
   },
   "outputs": [],
   "source": [
    "tmp = load(\"saves/figure_A1_hess_\"*\"8\"*\".jld\") # Example with diverging parameters on fit\n",
    "#tmp = load(\"saves/figure_A1_hess_\"*\"96\"*\".jld\") # Example with diverging parameters on fit\n"
   ]
  },
  {
   "cell_type": "markdown",
   "metadata": {},
   "source": [
    "# Plot things here"
   ]
  },
  {
   "cell_type": "markdown",
   "metadata": {},
   "source": [
    "using NBInclude\n",
    "nbinclude(\"MBAM_plots.ipynb\")\n",
    "import MBAM_plots\n",
    "\n",
    "include(\"../BK_functions/bk_setup_script.jl\")\n"
   ]
  },
  {
   "cell_type": "markdown",
   "metadata": {},
   "source": [
    "PlotlyJS.plot(MBAM_plots.plot(reshape(BK_simulator(phi0, hcat(x_grid...))[:], 8, 13)'))"
   ]
  },
  {
   "cell_type": "markdown",
   "metadata": {},
   "source": [
    "PlotlyJS.plot(MBAM_plots.plot(reshape(tmp[\"ydata_orig\"], 8, 13)'))"
   ]
  },
  {
   "cell_type": "markdown",
   "metadata": {},
   "source": [
    "PlotlyJS.plot(MBAM_plots.plot(reshape(BK_simulator(tmp[\"phi1_orig\"], hcat(x_grid...))[:], 8, 13)'))"
   ]
  },
  {
   "cell_type": "markdown",
   "metadata": {},
   "source": [
    "[phi0 tmp[\"phi1_orig\"]]"
   ]
  },
  {
   "cell_type": "markdown",
   "metadata": {},
   "source": [
    "PlotlyJS.plot([MBAM_plots.plot(reshape(BK_simulator(phi0, hcat(x_grid...))[:], 8, 13)', mode=\"markers\", color=0) \n",
    "                MBAM_plots.plot(reshape(BK_simulator(tmp[\"phi1_orig\"], hcat(x_grid...))[:], 8, 13)', mode=\"lines\")\n",
    "    ])"
   ]
  },
  {
   "cell_type": "markdown",
   "metadata": {},
   "source": [
    "# Generate CSV files for plotting elsewhere"
   ]
  },
  {
   "cell_type": "code",
   "execution_count": null,
   "metadata": {
    "collapsed": false
   },
   "outputs": [],
   "source": [
    "# Output the simulated data point markers in a CSV format with: \n",
    "# first column - voltage, second column - Popen, third column error top, fourth column\n",
    "\n",
    "for ca in Ca\n",
    "    ca_str = @sprintf(\"%1.1f\", ca*1e6)\n",
    "    println(ca_str)\n",
    "    \n",
    "    # Generate grid to evaluate over\n",
    "    x_grid_cur = Array(Any, (1*length(V),))\n",
    "    iterind = 0;\n",
    "    for j1 in product([ca], V)\n",
    "        iterind += 1;\n",
    "        x_grid_cur[iterind] = collect(j1)\n",
    "    end\n",
    "    \n",
    "    \n",
    "    # Get the function values for original model\n",
    "    tmp_vals = BK_simulator(phi0, hcat(x_grid_cur...), model_id=0)\n",
    "    errbar = tmp_vals.*0.1 # Generate the error bar for every data point.\n",
    "    writecsv(\"CSV/figure_2a_panel1_ca$(ca_str)um.csv\", hcat(V[:].*1000, tmp_vals[:], errbar[:], errbar[:]))\n",
    "end\n",
    "\n",
    "# Also output the example fit with just first col - voltage, second col - Popen\n",
    "# but with voltage sampled more densely to make it a continous line\n",
    "\n",
    "Vdense = minimum(V):0.001:maximum(V) # voltage sampled every 1 millivolt\n",
    "\n",
    "for ca in Ca\n",
    "    ca_str = @sprintf(\"%1.1f\", ca*1e6)\n",
    "    println(ca_str)\n",
    "    \n",
    "    # Generate grid to evaluate over\n",
    "    x_grid_cur = Array(Any, (1*length(Vdense),))\n",
    "    iterind = 0;\n",
    "    for j1 in product([ca], Vdense)\n",
    "        iterind += 1;\n",
    "        x_grid_cur[iterind] = collect(j1)\n",
    "    end\n",
    "    \n",
    "    \n",
    "    # Get the function values for the fit to noisy data\n",
    "    tmp_vals = BK_simulator(tmp[\"phi1_orig\"], hcat(x_grid_cur...), model_id=0)\n",
    "    writecsv(\"CSV/figure_2a_panel2_ca$(ca_str)um.csv\", hcat(Vdense[:].*1000, tmp_vals[:]))\n",
    "end"
   ]
  },
  {
   "cell_type": "code",
   "execution_count": null,
   "metadata": {
    "collapsed": false
   },
   "outputs": [],
   "source": [
    "# Output the original and the fitted parameter values (first and second column of CSV respectively)\n",
    "writecsv(\"CSV/figure_2b_panel1.csv\", [phi0 tmp[\"phi1_orig\"]])"
   ]
  },
  {
   "cell_type": "code",
   "execution_count": null,
   "metadata": {
    "collapsed": true
   },
   "outputs": [],
   "source": []
  },
  {
   "cell_type": "code",
   "execution_count": null,
   "metadata": {
    "collapsed": false
   },
   "outputs": [],
   "source": [
    "# Output the statistics from all our data:\n",
    "# For each model and assay\n",
    "# and for each parameter \n",
    "# we will look at the standard deviation of the order of magnitude of fitted values: std(log10(fit_vals))\n",
    "\n",
    "# First column: Original model Original Assay\n",
    "# Second column: Reduced model Original Assay\n",
    "# Third column: Original model Log Assay\n",
    "# Fourth column: Reduced model Log Assay\n",
    "\n",
    "writecsv(\"CSV/figure_A2_panel1_orig_orig.csv\", std(log10(all_phi1_full_orig) ,2))\n",
    "writecsv(\"CSV/figure_A2_panel1_red_orig.csv\", std(log10(all_phi1_red_orig) ,2))\n",
    "writecsv(\"CSV/figure_A2_panel1_orig_log.csv\", std(log10(all_phi1_full_log) ,2))\n",
    "writecsv(\"CSV/figure_A2_panel1_red_log.csv\", std(log10(all_phi1_red_log) ,2))"
   ]
  },
  {
   "cell_type": "code",
   "execution_count": null,
   "metadata": {
    "collapsed": true
   },
   "outputs": [],
   "source": []
  }
 ],
 "metadata": {
  "kernelspec": {
   "display_name": "Julia 0.4.5",
   "language": "julia",
   "name": "julia-0.4"
  },
  "language_info": {
   "file_extension": ".jl",
   "mimetype": "application/julia",
   "name": "julia",
   "version": "0.4.5"
  }
 },
 "nbformat": 4,
 "nbformat_minor": 0
}
