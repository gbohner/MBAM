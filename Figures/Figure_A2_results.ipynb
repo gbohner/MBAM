{
 "cells": [
  {
   "cell_type": "code",
   "execution_count": 1,
   "metadata": {
    "collapsed": true
   },
   "outputs": [],
   "source": [
    "using JLD\n",
    "files = readdir(\"saves\")\n",
    "\n",
    "all_phi1_full_orig = Array(Any, 100)\n",
    "all_phi1_full_log = Array(Any, 100)\n",
    "all_phi1_red_orig = Array(Any, 100)\n",
    "all_phi1_red_log = Array(Any, 100)\n",
    "\n",
    "phi0_red_orig = []\n",
    "phi0_red_log = []\n",
    "phi0_full = [2.2e-6, 0.42, 0.1026, 0.58, 39*1e-6, 6.16,30.4,2.0];\n",
    "\n",
    "n = 100\n",
    "for i = 1:n\n",
    "    phi1_red_orig, phi1_red_log, fname = load(\"saves/figure_A2_hess_\"*string(i)*\".jld\", \"phi1_orig\", \"phi1_log\", \"A1_filename\")\n",
    "    phi1_full_orig, phi1_full_log = load(\"saves/\"*fname, \"phi1_orig\", \"phi1_log\")\n",
    "    \n",
    "    if i == 1\n",
    "        phi0_red_orig, phi0_red_log = load(\"saves/figure_A2_hess_\"*string(i)*\".jld\", \"phi0_orig\", \"phi0_log\")\n",
    "    end\n",
    "        \n",
    "    all_phi1_full_orig[i] = phi1_full_orig\n",
    "    all_phi1_full_log[i] = phi1_full_log\n",
    "    all_phi1_red_orig[i] = phi1_red_orig\n",
    "    all_phi1_red_log[i] = phi1_red_log\n",
    "end"
   ]
  },
  {
   "cell_type": "code",
   "execution_count": 2,
   "metadata": {
    "collapsed": false
   },
   "outputs": [
    {
     "data": {
      "text/plain": [
       "6x100 Array{Float64,2}:\n",
       " 3.20898e-8   1.35829e-8   2.46993e-8  …  1.55956e-7  1.84893e-7   5.50225e-9\n",
       " 8.94143     12.5268      11.2877         5.94941     5.55527     16.0566    \n",
       " 0.566465     0.517835     0.50775        0.553083    0.569307     0.498821  \n",
       " 3.21388e-5   3.22868e-5   3.98173e-5     3.5816e-5   3.15686e-5   3.47983e-5\n",
       " 8.95066      9.76507      4.22656        4.80449     5.05053      7.87794   \n",
       " 1.12244      0.894068     2.33578     …  2.38582     2.15446      1.20695   "
      ]
     },
     "execution_count": 2,
     "metadata": {},
     "output_type": "execute_result"
    }
   ],
   "source": [
    "all_phi1_full_orig = hcat(all_phi1_full_orig[1:n]...)\n",
    "all_phi1_full_log = hcat(all_phi1_full_log[1:n]...)\n",
    "all_phi1_red_orig = hcat(all_phi1_red_orig[1:n]...)\n",
    "all_phi1_red_log = hcat(all_phi1_red_log[1:n]...)"
   ]
  },
  {
   "cell_type": "code",
   "execution_count": 3,
   "metadata": {
    "collapsed": false
   },
   "outputs": [
    {
     "data": {
      "text/plain": [
       "8x1 Array{Float64,2}:\n",
       " 52710.2       \n",
       "     1.23427   \n",
       "     4.25743   \n",
       "     0.269498  \n",
       "     2.44372e23\n",
       "     1.59875e9 \n",
       "     1.02409e10\n",
       "     2.30359e23"
      ]
     },
     "execution_count": 3,
     "metadata": {},
     "output_type": "execute_result"
    }
   ],
   "source": [
    "std(all_phi1_full_orig,2)./phi0_full"
   ]
  },
  {
   "cell_type": "code",
   "execution_count": 4,
   "metadata": {
    "collapsed": false
   },
   "outputs": [
    {
     "data": {
      "text/plain": [
       "8x1 Array{Float64,2}:\n",
       " 52.6923  \n",
       "  1.3687  \n",
       "  0.884629\n",
       "  0.510915\n",
       "  0.164124\n",
       "  0.285845\n",
       "  1.48736 \n",
       "  0.358432"
      ]
     },
     "execution_count": 4,
     "metadata": {},
     "output_type": "execute_result"
    }
   ],
   "source": [
    "std(all_phi1_full_log,2)./phi0_full"
   ]
  },
  {
   "cell_type": "code",
   "execution_count": 5,
   "metadata": {
    "collapsed": false
   },
   "outputs": [
    {
     "data": {
      "text/plain": [
       "5x1 Array{Float64,2}:\n",
       " 0.210585 \n",
       " 0.0459081\n",
       " 0.0953939\n",
       " 0.106912 \n",
       " 0.234979 "
      ]
     },
     "execution_count": 5,
     "metadata": {},
     "output_type": "execute_result"
    }
   ],
   "source": [
    "std(all_phi1_red_orig,2)./phi0_red_orig"
   ]
  },
  {
   "cell_type": "code",
   "execution_count": 18,
   "metadata": {
    "collapsed": false
   },
   "outputs": [
    {
     "data": {
      "text/plain": [
       "5x1 Array{Float64,2}:\n",
       " 0.212376 \n",
       " 0.0456782\n",
       " 0.0952892\n",
       " 0.107906 \n",
       " 0.245332 "
      ]
     },
     "execution_count": 18,
     "metadata": {},
     "output_type": "execute_result"
    }
   ],
   "source": [
    "sqrt(mean(broadcast(./, broadcast(-, all_phi1_red_orig, phi0_red_orig), phi0_red_orig).^2, 2))"
   ]
  },
  {
   "cell_type": "code",
   "execution_count": 21,
   "metadata": {
    "collapsed": false
   },
   "outputs": [
    {
     "data": {
      "text/plain": [
       "5x1 Array{Float64,2}:\n",
       " 0.210585 \n",
       " 0.0459081\n",
       " 0.0953939\n",
       " 0.106912 \n",
       " 0.234979 "
      ]
     },
     "execution_count": 21,
     "metadata": {},
     "output_type": "execute_result"
    }
   ],
   "source": [
    "std(broadcast(./, broadcast(-, all_phi1_red_orig, phi0_red_orig), phi0_red_orig),2)"
   ]
  },
  {
   "cell_type": "code",
   "execution_count": 16,
   "metadata": {
    "collapsed": false
   },
   "outputs": [
    {
     "data": {
      "text/plain": [
       "8x100 Array{Float64,2}:\n",
       " -0.985401    1.10128    16.6542    …  11.3875     6.76939   -0.362724\n",
       " -0.612061   -0.0289361   1.31088      -0.72256   -0.211466   1.0025  \n",
       " -0.407614    0.0276091   0.669403     -0.554278  -0.375534   0.828934\n",
       "  0.0973187   0.125674    0.300148      0.199032   0.128733   0.337758\n",
       "  0.355865   -0.0817109   0.136259      0.111821   0.292374  -0.168711\n",
       " -0.5889      0.401309    0.625671  …  -0.501361  -0.440348   2.33092 \n",
       "  3.45901    -0.277929   -0.819214     -0.128914  -0.283813  -0.531539\n",
       "  2.99946    -0.365774   -0.305584      1.85203    1.91727   -0.776723"
      ]
     },
     "execution_count": 16,
     "metadata": {},
     "output_type": "execute_result"
    }
   ],
   "source": [
    "broadcast(./, broadcast(-, all_phi1_full_orig, phi0_full), phi0_full)"
   ]
  },
  {
   "cell_type": "code",
   "execution_count": 8,
   "metadata": {
    "collapsed": false
   },
   "outputs": [
    {
     "name": "stdout",
     "output_type": "stream",
     "text": [
      "search: broadcast! broadcast!_function broadcast_setindex! broadcast\n",
      "\n"
     ]
    },
    {
     "data": {
      "text/markdown": [
       "```\n",
       "broadcast!(f, dest, As...)\n",
       "```\n",
       "\n",
       "Like `broadcast`, but store the result of `broadcast(f, As...)` in the `dest` array. Note that `dest` is only used to store the result, and does not supply arguments to `f` unless it is also listed in the `As`, as in `broadcast!(f, A, A, B)` to perform `A[:] = broadcast(f, A, B)`.\n"
      ],
      "text/plain": [
       "```\n",
       "broadcast!(f, dest, As...)\n",
       "```\n",
       "\n",
       "Like `broadcast`, but store the result of `broadcast(f, As...)` in the `dest` array. Note that `dest` is only used to store the result, and does not supply arguments to `f` unless it is also listed in the `As`, as in `broadcast!(f, A, A, B)` to perform `A[:] = broadcast(f, A, B)`.\n"
      ]
     },
     "execution_count": 8,
     "metadata": {},
     "output_type": "execute_result"
    }
   ],
   "source": [
    "?broadcast!"
   ]
  },
  {
   "cell_type": "code",
   "execution_count": 6,
   "metadata": {
    "collapsed": false
   },
   "outputs": [
    {
     "data": {
      "text/plain": [
       "6x1 Array{Float64,2}:\n",
       " 5.12874  \n",
       " 0.546935 \n",
       " 0.0481257\n",
       " 0.132807 \n",
       " 0.480718 \n",
       " 0.486401 "
      ]
     },
     "execution_count": 6,
     "metadata": {},
     "output_type": "execute_result"
    }
   ],
   "source": [
    "std(all_phi1_red_log,2)./phi0_red_log"
   ]
  },
  {
   "cell_type": "code",
   "execution_count": null,
   "metadata": {
    "collapsed": true
   },
   "outputs": [],
   "source": []
  },
  {
   "cell_type": "code",
   "execution_count": null,
   "metadata": {
    "collapsed": true
   },
   "outputs": [],
   "source": []
  }
 ],
 "metadata": {
  "kernelspec": {
   "display_name": "Julia 0.4.5",
   "language": "julia",
   "name": "julia-0.4"
  },
  "language_info": {
   "file_extension": ".jl",
   "mimetype": "application/julia",
   "name": "julia",
   "version": "0.4.5"
  }
 },
 "nbformat": 4,
 "nbformat_minor": 0
}
