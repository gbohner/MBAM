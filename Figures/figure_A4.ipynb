{
 "cells": [
  {
   "cell_type": "markdown",
   "metadata": {
    "collapsed": true
   },
   "source": [
    "# Testing how compensations happen"
   ]
  },
  {
   "cell_type": "code",
   "execution_count": 2,
   "metadata": {
    "collapsed": true
   },
   "outputs": [],
   "source": [
    "include(\"../BK_functions/bk_setup_script.jl\"); "
   ]
  },
  {
   "cell_type": "code",
   "execution_count": 6,
   "metadata": {
    "collapsed": false
   },
   "outputs": [
    {
     "data": {
      "text/plain": [
       "8-element Array{Float64,1}:\n",
       " 7.69353e-37\n",
       " 8.75658e-33\n",
       " 0.0662813  \n",
       " 0.586839   \n",
       " 2.74314e-5 \n",
       " 1.72186e8  \n",
       " 2.39839e9  \n",
       " 4.54419e-8 "
      ]
     },
     "execution_count": 6,
     "metadata": {},
     "output_type": "execute_result"
    }
   ],
   "source": [
    "# Load the parameters from Fig 2 example:\n",
    "using JLD\n",
    "phi1_orig = load(\"results/noisy_fits_8.jld\", \"noisy_fits\")[10][\"phi1_orig\"]\n",
    "#phi1_orig = load(\"results/noisy_fits_5.jld\", \"noisy_fits\")[10][\"phi1_orig\"]"
   ]
  },
  {
   "cell_type": "code",
   "execution_count": 7,
   "metadata": {
    "collapsed": false
   },
   "outputs": [
    {
     "ename": "LoadError",
     "evalue": "LoadError: UndefVarError: BK_simulator not defined\nwhile loading In[7], in expression starting on line 2",
     "output_type": "error",
     "traceback": [
      "LoadError: UndefVarError: BK_simulator not defined\nwhile loading In[7], in expression starting on line 2",
      ""
     ]
    }
   ],
   "source": [
    "# Simulate log data from this fit\n",
    "#ydata_noiseless = BK_simulator(phi1_orig, hcat(x_grid...), model_id=0);\n",
    "ydata_noiseless = BK_simulator(phi0, hcat(x_grid...), model_id=0); # try phi0 again?\n",
    "ydata_log = log10(ydata_noiseless).*(1+(2*rand(size(ydata_noiseless))-1)*0.1) # Add up to 10% noise (uniform, multiplicative, but in log space assay)"
   ]
  },
  {
   "cell_type": "code",
   "execution_count": 48,
   "metadata": {
    "collapsed": false
   },
   "outputs": [],
   "source": [
    "outp_log10 = load(\"results/MBAM_outp_log10.jld\", \"outp_log10\");"
   ]
  },
  {
   "cell_type": "markdown",
   "metadata": {
    "collapsed": false
   },
   "source": [
    "# Choose models and corresponding phi fit\n",
    "model_log_id = 51; \n",
    "\n",
    "phi0_log = exp(outp_log10[1][1,1])\n",
    "\n",
    "using LsqFit\n",
    "# Store multiple fits (different initial point for LM, takes around 5 sec / fit)\n",
    "all_fits = Array(Any, 24)\n",
    "all_costs = Array(Any, length(all_fits))\n",
    "\n",
    "for i1 = 1:length(all_fits)\n",
    "    if i1==1\n",
    "        phi_init = phi0_log;\n",
    "    else\n",
    "        phi_init = phi0_log.*(1+(2*rand(size(phi0_log))-1)*0.9) # Add up to 90% noise to initial params\n",
    "    end\n",
    "    all_fits[i1] = curve_fit((x,p) -> BK_simulator(exp(p), x, model_id=model_log_id), hcat(x_grid...), ydata_log, log(phi_init)); # abs needed due to weird julia error, BK_simulator has an output range between 0 and 1\n",
    "    all_costs[i1] = sum(all_fits[i1].resid.^2);\n",
    "end\n",
    "\n",
    "# Find the best fit\n",
    "phi1_log = exp(all_fits[findmin(all_costs)[2]].param);\n",
    "\n",
    "# Saving fit results:\n",
    "res_51 = Dict()\n",
    "res_51[\"ydata_log\"] = ydata_log\n",
    "res_51[\"phi0_log\"] = phi0_log\n",
    "res_51[\"phi1_log\"] = phi1_log"
   ]
  },
  {
   "cell_type": "code",
   "execution_count": null,
   "metadata": {
    "collapsed": false
   },
   "outputs": [],
   "source": [
    "# Choose models and corresponding phi fit\n",
    "model_log_id = 52; \n",
    "\n",
    "#phi0_log = phi1_orig[[1;3:8]]# exp(outp_log10[1][2,1])\n",
    "\n",
    "phi0_log_high = load(\"results/noisy_fits_to_diverging_fit8_trueinit_\"*string(5)*\".jld\", \"noisy_fits\")[52][\"phi1_log\"]\n",
    "phi0_log_low = load(\"results/noisy_fits_to_diverging_fit8_trueinit_\"*string(1)*\".jld\", \"noisy_fits\")[52][\"phi1_log\"]\n",
    "\n",
    "\n",
    "using LsqFit\n",
    "# Store multiple fits (different initial point for LM, takes around 5 sec / fit)\n",
    "all_fits = Array(Any, 24)\n",
    "all_costs = Array(Any, length(all_fits))\n",
    "\n",
    "for i1 = 1:length(all_fits)\n",
    "    println(i1)\n",
    "    if i1<=12\n",
    "        phi_init = phi0_log_low.*(1+(2*rand(size(phi0_log_low))-1)*0.9) # Add up to 90% noise to initial params\n",
    "    else\n",
    "        phi_init = phi0_log_high.*(1+(2*rand(size(phi0_log_high))-1)*0.9) # Add up to 90% noise to initial params\n",
    "    end\n",
    "    all_fits[i1] = curve_fit((x,p) -> BK_simulator(exp(p), x, model_id=model_log_id), hcat(x_grid...), ydata_log, log(phi_init)); # abs needed due to weird julia error, BK_simulator has an output range between 0 and 1\n",
    "    all_costs[i1] = sum(all_fits[i1].resid.^2);\n",
    "end\n",
    "\n",
    "# Find the best fit\n",
    "phi1_log = exp(all_fits[findmin(all_costs)[2]].param);\n",
    "\n",
    "# Saving fit results:\n",
    "res_52 = Dict()\n",
    "res_52[\"ydata_log\"] = ydata_log\n",
    "res_52[\"phi0_log\"] = phi0_log\n",
    "res_52[\"phi1_log\"] = phi1_log"
   ]
  },
  {
   "cell_type": "markdown",
   "metadata": {
    "collapsed": true
   },
   "source": [
    "# Choose models and corresponding phi fit\n",
    "model_log_id = 53; \n",
    "\n",
    "phi0_log = exp(outp_log10[1][3,1])\n",
    "\n",
    "using LsqFit\n",
    "# Store multiple fits (different initial point for LM, takes around 5 sec / fit)\n",
    "all_fits = Array(Any, 24)\n",
    "all_costs = Array(Any, length(all_fits))\n",
    "\n",
    "for i1 = 1:length(all_fits)\n",
    "    println(i1)\n",
    "    if i1==1\n",
    "        phi_init = phi0_log;\n",
    "    else\n",
    "        phi_init = phi0_log.*(1+(2*rand(size(phi0_log))-1)*0.9) # Add up to 90% noise to initial params\n",
    "    end\n",
    "    all_fits[i1] = curve_fit((x,p) -> BK_simulator(exp(p), x, model_id=model_log_id), hcat(x_grid...), ydata_log, log(phi_init)); # abs needed due to weird julia error, BK_simulator has an output range between 0 and 1\n",
    "    all_costs[i1] = sum(all_fits[i1].resid.^2);\n",
    "end\n",
    "\n",
    "# Find the best fit\n",
    "phi1_log = exp(all_fits[findmin(all_costs)[2]].param);\n",
    "\n",
    "# Saving fit results:\n",
    "res_53 = Dict()\n",
    "res_53[\"ydata_log\"] = ydata_log\n",
    "res_53[\"phi0_log\"] = phi0_log\n",
    "res_53[\"phi1_log\"] = phi1_log"
   ]
  },
  {
   "cell_type": "markdown",
   "metadata": {
    "collapsed": false
   },
   "source": [
    "metadata = Dict(\"data_noise\"=>\"10%\", \"num_inits\"=>24, \"init_param_noise\"=>\"90%\", \"phi1_orig\"=>phi1_orig)\n",
    "\n",
    "noisy_fits = Dict(51=>res_51, 52=>res_52, 53=>res_53)"
   ]
  },
  {
   "cell_type": "code",
   "execution_count": null,
   "metadata": {
    "collapsed": true
   },
   "outputs": [],
   "source": [
    "metadata = Dict(\"data_noise\"=>\"10%\", \"num_inits\"=>24, \"init_param_noise\"=>\"90%\", \"phi1_orig\"=>phi1_orig)\n",
    "\n",
    "noisy_fits = Dict(52=>res_52)"
   ]
  },
  {
   "cell_type": "code",
   "execution_count": null,
   "metadata": {
    "collapsed": true
   },
   "outputs": [],
   "source": [
    "#save results - 10% version (original)\n",
    "save(\"results/noisy_fits_globalinit_\"*string(CURDATAPOINT)*\".jld\", \"noisy_fits\", noisy_fits, \"metadata\", metadata);"
   ]
  }
 ],
 "metadata": {
  "kernelspec": {
   "display_name": "Julia 0.4.5",
   "language": "julia",
   "name": "julia-0.4"
  },
  "language_info": {
   "file_extension": ".jl",
   "mimetype": "application/julia",
   "name": "julia",
   "version": "0.4.5"
  }
 },
 "nbformat": 4,
 "nbformat_minor": 0
}
