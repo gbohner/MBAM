{
 "cells": [
  {
   "cell_type": "markdown",
   "metadata": {},
   "source": [
    "# ACh Markov model\n",
    "\n",
    "Model and parameters taken from Lape, Colquhoun et al 2008 Nature\n",
    "Markov model: Figure 5a\n",
    "Parameters: Supplementary Table 2, ACh -100 mV fit\n",
    "\n"
   ]
  },
  {
   "cell_type": "code",
   "execution_count": 1,
   "metadata": {
    "collapsed": false
   },
   "outputs": [
    {
     "name": "stderr",
     "output_type": "stream",
     "text": [
      "INFO: Recompiling stale cache file /Users/gergobohner/.julia/lib/v0.4/DataStructures.ji for module DataStructures.\n"
     ]
    }
   ],
   "source": [
    "using Graphs"
   ]
  },
  {
   "cell_type": "code",
   "execution_count": 90,
   "metadata": {
    "collapsed": false
   },
   "outputs": [],
   "source": [
    "# Initialize the graph\n",
    "V = Array(ExVertex,0)\n",
    "E = Array(ExEdge, 0)\n",
    "g = Graphs.graph(V,[],is_directed=true)\n",
    "\n",
    "# Fill up the vertices and edges\n",
    "a = []\n",
    "vertex_names = [\"R\",\"AR\",\"A2R\", \"AF\", \"A2F\", \"ARs\", \"A2Rs\"] \n",
    "for i1 = 1:length(vertex_names)\n",
    "    a = make_vertex(g, vertex_names[i1])\n",
    "    add_vertex!(g, a)\n",
    "end\n",
    "\n",
    "edge_names = [\"kp1\",\"km1\",\"kp2\",\"km2\",\"δ1\", \"γ1\", \"δ2\", \"γ2\", \"β1\", \"α1\", \"β2\", \"α2\", \"kFp2\", \"kF-2\"]\n",
    "edge_vertices = [(1,2), (2,1), (2,3), (3,2), (2,4), (4,2), (3,5), (5,3), (4,6), (6,4), (5,7), (7,5), (4,5), (5,4)]\n",
    "edge_values = [5.42*1e8, 9480, 2.71*1e8, 18960, 295000, 128000, 22900, 8400, 40, 17700, 87700, 2560, 2.03*1e8, 6480]\n",
    "edge_values = convert(Array{Float64,1}, edge_values)\n",
    "scales_with_ligand = convert(Array{Float64,1}, ([1 0 1 0 0 0 0 0 0 0 0 0 1 0])[:])\n",
    "for i1 = 1:length(edge_names)\n",
    "    a = make_edge(g, g.vertices[edge_vertices[i1][1]], g.vertices[edge_vertices[i1][2]])\n",
    "    a.attributes[\"name\"] = edge_names[i1]\n",
    "    a.attributes[\"value\"] = edge_values[i1]\n",
    "    a.attributes[\"scales_with_ligand\"] = scales_with_ligand[i1]\n",
    "    add_edge!(g, a)\n",
    "end"
   ]
  },
  {
   "cell_type": "code",
   "execution_count": 147,
   "metadata": {
    "collapsed": false
   },
   "outputs": [],
   "source": [
    "# Make the transition matrix\n",
    "T = zeros(length(g.vertices), length(g.vertices))\n",
    "# Make the ligand scaling matrix\n",
    "dT = zeros(size(T))\n",
    "\n",
    "for e in g.edges\n",
    "    T[e.target.index, e.source.index] = e.attributes[\"value\"]\n",
    "    dT[e.target.index, e.source.index] = e.attributes[\"scales_with_ligand\"]\n",
    "end\n",
    "\n"
   ]
  },
  {
   "cell_type": "code",
   "execution_count": 156,
   "metadata": {
    "collapsed": false
   },
   "outputs": [
    {
     "data": {
      "text/plain": [
       "Popen (generic function with 1 method)"
      ]
     },
     "execution_count": 156,
     "metadata": {},
     "output_type": "execute_result"
    }
   ],
   "source": [
    "# Define Popen for a ligand concentration (in Mol) and a transition matrix\n",
    "function Popen(c::Float64, T::AbstractArray, dT::AbstractArray, openstates::Vector)\n",
    "    Tlig = T.*(1-dT) + c.*T.*dT;\n",
    "    # Make Tlig a valid transition matrix by making sure columns sum to 1\n",
    "    for t1 = 1:size(Tlig,1) Tlig[t1,t1] = -sum(Tlig[:,t1]) end\n",
    "    D, V = eig(Tlig) # non-ligand scaling + ligandscaling parts of the transition matrix\n",
    "    assert(minimum(abs(D[:]))<1e-6) # There is a near 0 eigenvalue\n",
    "    \n",
    "    Vstat = V[:, sortperm(abs(D))[1]]\n",
    "    \n",
    "    return Vstat'*openstates*(1-2*(Vstat[1]<0)), D, Vstat\n",
    "end\n",
    "    \n"
   ]
  },
  {
   "cell_type": "code",
   "execution_count": 161,
   "metadata": {
    "collapsed": false
   },
   "outputs": [],
   "source": [
    "for c in logspace(-3, -1, 8)*1e-3\n",
    "    op, D, Vstat = Popen(c, T, dT, [0, 0, 0, 0, 0, 1.0, 1.0])\n",
    "end"
   ]
  },
  {
   "cell_type": "code",
   "execution_count": 162,
   "metadata": {
    "collapsed": false
   },
   "outputs": [
    {
     "data": {
      "text/plain": [
       "7-element Array{Float64,1}:\n",
       " 0.000868651\n",
       " 0.00496634 \n",
       " 0.00906962 \n",
       " 0.0111539  \n",
       " 0.0291746  \n",
       " 2.52065e-5 \n",
       " 0.999458   "
      ]
     },
     "execution_count": 162,
     "metadata": {},
     "output_type": "execute_result"
    }
   ],
   "source": [
    "Vstat"
   ]
  },
  {
   "cell_type": "code",
   "execution_count": 86,
   "metadata": {
    "collapsed": false
   },
   "outputs": [
    {
     "data": {
      "text/plain": [
       "7x7 Array{Float64,2}:\n",
       "    0.0       0.0     0.0       0.0      0.0   0.0      0.0\n",
       " 9480.0       0.0     0.0  295000.0      0.0   0.0      0.0\n",
       "    0.0   18960.0     0.0       0.0  22900.0   0.0      0.0\n",
       "    0.0  128000.0     0.0       0.0      0.0  40.0      0.0\n",
       "    0.0       0.0  8400.0    6480.0      0.0   0.0  87700.0\n",
       "    0.0       0.0     0.0   17700.0      0.0   0.0      0.0\n",
       "    0.0       0.0     0.0       0.0   2560.0   0.0      0.0"
      ]
     },
     "execution_count": 86,
     "metadata": {},
     "output_type": "execute_result"
    }
   ],
   "source": [
    "T.*(1-dT)"
   ]
  },
  {
   "cell_type": "markdown",
   "metadata": {},
   "source": [
    "# Get MWC parameters (K and c) without knowing n"
   ]
  },
  {
   "cell_type": "code",
   "execution_count": 139,
   "metadata": {
    "collapsed": false
   },
   "outputs": [
    {
     "data": {
      "text/plain": [
       "1-element Array{Float64,1}:\n",
       " 2.35754e-14"
      ]
     },
     "execution_count": 139,
     "metadata": {},
     "output_type": "execute_result"
    }
   ],
   "source": [
    "Popen(1e-19, T, dT, [0, 0, 0, 0, 0, 1.0, 1.0])"
   ]
  },
  {
   "cell_type": "code",
   "execution_count": 175,
   "metadata": {
    "collapsed": false
   },
   "outputs": [
    {
     "data": {
      "text/plain": [
       "([2.9777601930061688e-21],[-5.820766091346741e-11,-429668.0212776196,-2818.859327714458,-17733.1193946658,-107640.82152541728,-261.88241804732166,-39097.296056535364],[-1.0,-5.717299332272742e-19,0.0,-1.3176589077299934e-18,0.0,-2.9777601930061688e-21,0.0])"
      ]
     },
     "execution_count": 175,
     "metadata": {},
     "output_type": "execute_result"
    }
   ],
   "source": [
    "op, D, Vstat = Popen(1e-23, T, dT, [0, 0, 0, 0, 0, 1.0, 1.0])"
   ]
  },
  {
   "cell_type": "code",
   "execution_count": 174,
   "metadata": {
    "collapsed": false
   },
   "outputs": [
    {
     "data": {
      "text/plain": [
       "1-element Array{Float64,1}:\n",
       " 10.5261"
      ]
     },
     "execution_count": 174,
     "metadata": {},
     "output_type": "execute_result"
    }
   ],
   "source": [
    "# 1/(1+K) = op\n",
    "log10K = log10(1-op) - log10(op)"
   ]
  },
  {
   "cell_type": "code",
   "execution_count": 177,
   "metadata": {
    "collapsed": false
   },
   "outputs": [
    {
     "data": {
      "text/plain": [
       "-2.5195251032727497"
      ]
     },
     "execution_count": 177,
     "metadata": {},
     "output_type": "execute_result"
    }
   ],
   "source": [
    "# c is ratio of sensor affinity in open versus non-open state (here -> interpret as flipped vs non-flipped)\n",
    "log10(0.13/43)"
   ]
  }
 ],
 "metadata": {
  "kernelspec": {
   "display_name": "Julia 0.4.5",
   "language": "julia",
   "name": "julia-0.4"
  },
  "language_info": {
   "file_extension": ".jl",
   "mimetype": "application/julia",
   "name": "julia",
   "version": "0.4.5"
  }
 },
 "nbformat": 4,
 "nbformat_minor": 0
}
