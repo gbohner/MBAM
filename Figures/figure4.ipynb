{
 "cells": [
  {
   "cell_type": "markdown",
   "metadata": {},
   "source": [
    "Creates data for figure 4 and saves it to figure4.jld and respective csv files"
   ]
  },
  {
   "cell_type": "markdown",
   "metadata": {},
   "source": [
    "# Figure 4a - Original model reduction results\n",
    "\n",
    "* Panel 1 - Orig model in orig space\n",
    "* Panel 2 - Red model in orig space (reproduces panel 1)\n",
    "* Panel 3 - Orig model in log space\n",
    "* Panel 4 - Red model in log space (DOES NOT reproduce panel 3)"
   ]
  },
  {
   "cell_type": "code",
   "execution_count": 59,
   "metadata": {
    "collapsed": false
   },
   "outputs": [],
   "source": [
    "# Initialise model and load results from figure 3\n",
    "include(\"../BK_functions/bk_setup_script.jl\"); \n",
    "\n",
    "using JLD\n",
    "outp = load(\"figure3.jld\", \"outp\");"
   ]
  },
  {
   "cell_type": "code",
   "execution_count": 65,
   "metadata": {
    "collapsed": false
   },
   "outputs": [
    {
     "name": "stderr",
     "output_type": "stream",
     "text": [
      "WARNING: replacing module MBAM_plots\n"
     ]
    },
    {
     "data": {
      "text/html": [
       "<div id=\"7986c12f-2477-4cf2-a8a3-2b8ef1e46bd9\" class=\"plotly-graph-div\"></div>\n",
       "\n",
       "<script>\n",
       "    window.PLOTLYENV=window.PLOTLYENV || {};\n",
       "    window.PLOTLYENV.BASE_URL=\"https://plot.ly\";\n",
       "    require(['plotly'], function(Plotly) {\n",
       "        Plotly.newPlot('7986c12f-2477-4cf2-a8a3-2b8ef1e46bd9', [{\"yaxis\":\"y1\",\"y\":[1.3683954058069408e-6,3.93773903751754e-6,1.4694789537831685e-5,7.131569510374883e-5,0.00042830063417354685,0.002893958633587296,0.019346930495042634,0.10691044838507069,0.3708282311624206,0.690832305194861,0.867070312858125,0.9385291273610514,0.9680848697552893],\"type\":\"scatter\",\"xaxis\":\"x1\",\"x\":[-0.1,-0.075,-0.05,-0.025,0.0,0.025,0.05,0.075,0.1,0.125,0.15,0.17500000000000002,0.2]},{\"yaxis\":\"y1\",\"y\":[2.1406901656000097e-6,6.443627798530809e-6,2.5297172387465422e-5,0.00012892963716036734,0.0008058728176400528,0.005586919698108308,0.037353157559415526,0.19150542564877898,0.5381730981195822,0.8147675450702658,0.927389599733412,0.9674871035719974,0.9833100340904795],\"type\":\"scatter\",\"xaxis\":\"x1\",\"x\":[-0.1,-0.075,-0.05,-0.025,0.0,0.025,0.05,0.075,0.1,0.125,0.15,0.17500000000000002,0.2]},{\"yaxis\":\"y1\",\"y\":[9.51745153675973e-6,3.213910375752418e-5,0.00014274943740771333,0.0008139091781395787,0.005523832686955745,0.039219074280590245,0.2237319579682979,0.6368105642909082,0.8941988359146118,0.9687742000923859,0.9887223727180837,0.9950210126160796,0.9974397427664121],\"type\":\"scatter\",\"xaxis\":\"x1\",\"x\":[-0.1,-0.075,-0.05,-0.025,0.0,0.025,0.05,0.075,0.1,0.125,0.15,0.17500000000000002,0.2]},{\"yaxis\":\"y1\",\"y\":[6.0232611664775635e-5,0.00022228280051119815,0.0010778607653598841,0.006576691829911676,0.04512661461131869,0.2606133366820724,0.7102267988147557,0.9347472625520761,0.9849242511576475,0.9955987291704005,0.9983561528498192,0.9992495474656843,0.9996044675521376],\"type\":\"scatter\",\"xaxis\":\"x1\",\"x\":[-0.1,-0.075,-0.05,-0.025,0.0,0.025,0.05,0.075,0.1,0.125,0.15,0.17500000000000002,0.2]},{\"yaxis\":\"y1\",\"y\":[0.00018542816749351367,0.0007080387171239207,0.003536293882489433,0.021768254098927076,0.1379157116556443,0.541541953112656,0.8888034251948987,0.978175388215803,0.9948883964328176,0.9984456626051276,0.9993968295993652,0.9997165443825005,0.9998476336864438],\"type\":\"scatter\",\"xaxis\":\"x1\",\"x\":[-0.1,-0.075,-0.05,-0.025,0.0,0.025,0.05,0.075,0.1,0.125,0.15,0.17500000000000002,0.2]},{\"yaxis\":\"y1\",\"y\":[0.0007904438014273628,0.0031001647354542573,0.015686883127271983,0.0916642786493879,0.4182144826227773,0.8371732615342331,0.9705331422305694,0.9942093786962866,0.9985486232798637,0.9995255595574061,0.9998045573556086,0.9999040976843006,0.9999469508231097],\"type\":\"scatter\",\"xaxis\":\"x1\",\"x\":[-0.1,-0.075,-0.05,-0.025,0.0,0.025,0.05,0.075,0.1,0.125,0.15,0.17500000000000002,0.2]},{\"yaxis\":\"y1\",\"y\":[0.0010637198456850958,0.004185335347534459,0.021138446671773916,0.12026767930752859,0.492294859053053,0.8729682854400584,0.9774810020437855,0.9955216321330288,0.9988573589907417,0.9996201524874149,0.9998414227373064,0.999921448713626,0.9999562791498036],\"type\":\"scatter\",\"xaxis\":\"x1\",\"x\":[-0.1,-0.075,-0.05,-0.025,0.0,0.025,0.05,0.075,0.1,0.125,0.15,0.17500000000000002,0.2]},{\"yaxis\":\"y1\",\"y\":[0.0014660194727543138,0.005782695602862783,0.02907615310779215,0.1592246545597154,0.5718729766151858,0.9035082229529886,0.9831039760485705,0.9965870895306281,0.9991112706000722,0.999698957326758,0.9998724543119878,0.9999361615176022,0.9999642271669921],\"type\":\"scatter\",\"xaxis\":\"x1\",\"x\":[-0.1,-0.075,-0.05,-0.025,0.0,0.025,0.05,0.075,0.1,0.125,0.15,0.17500000000000002,0.2]},{\"yaxis\":\"y2\",\"y\":[2.3066014678845065e-146,3.0961710092553015e-134,4.1560170025145e-122,5.578657404115449e-110,7.488279863547918e-98,1.0051582531927923e-85,1.3492325772702742e-73,1.811086504821463e-61,2.4310370081505952e-49,3.2632019062945406e-37,4.380224013679363e-25,5.879612405531255e-13,0.4410989357362493],\"type\":\"scatter\",\"xaxis\":\"x2\",\"x\":[-0.1,-0.075,-0.05,-0.025,0.0,0.025,0.05,0.075,0.1,0.125,0.15,0.17500000000000002,0.2]},{\"yaxis\":\"y2\",\"y\":[1.0437404642073043e-67,1.4010218112924287e-55,1.880603639533941e-43,2.524350456589807e-31,3.3884573515259086e-19,4.5483534074597704e-7,0.9999983620806511,1.0,1.0,1.0,1.0,1.0,1.0],\"type\":\"scatter\",\"xaxis\":\"x2\",\"x\":[-0.1,-0.075,-0.05,-0.025,0.0,0.025,0.05,0.075,0.1,0.125,0.15,0.17500000000000002,0.2]},{\"yaxis\":\"y2\",\"y\":[1.1128594703751349e-64,1.4938008483584408e-52,2.0051417397779626e-40,2.691519020770473e-28,3.612849154479935e-16,0.00048472078434291685,0.9999999984638083,1.0,1.0,1.0,1.0,1.0,1.0],\"type\":\"scatter\",\"xaxis\":\"x2\",\"x\":[-0.1,-0.075,-0.05,-0.025,0.0,0.025,0.05,0.075,0.1,0.125,0.15,0.17500000000000002,0.2]},{\"yaxis\":\"y2\",\"y\":[9.014161710038598e-63,1.2099786871703378e-50,1.6241648092201502e-38,2.1801304068240832e-26,2.9264078151286644e-14,0.037796715254669905,0.9999999999810346,1.0,1.0,1.0,1.0,1.0,1.0],\"type\":\"scatter\",\"xaxis\":\"x2\",\"x\":[-0.1,-0.075,-0.05,-0.025,0.0,0.025,0.05,0.075,0.1,0.125,0.15,0.17500000000000002,0.2]},{\"yaxis\":\"y2\",\"y\":[1.018335969110146e-61,1.3669211388009951e-49,1.8348300132555715e-37,2.462908123943779e-25,3.3059827794202026e-13,0.3073664626776998,0.9999999999983212,1.0,1.0,1.0,1.0,1.0,1.0],\"type\":\"scatter\",\"xaxis\":\"x2\",\"x\":[-0.1,-0.075,-0.05,-0.025,0.0,0.025,0.05,0.075,0.1,0.125,0.15,0.17500000000000002,0.2]},{\"yaxis\":\"y2\",\"y\":[3.9778748793365086e-60,5.339535698441389e-48,7.167304739279576e-36,9.62073485915539e-24,1.2913995231947668e-11,0.9454582155743597,0.999999999999957,1.0,1.0,1.0,1.0,1.0,1.0],\"type\":\"scatter\",\"xaxis\":\"x2\",\"x\":[-0.1,-0.075,-0.05,-0.025,0.0,0.025,0.05,0.075,0.1,0.125,0.15,0.17500000000000002,0.2]},{\"yaxis\":\"y2\",\"y\":[1.043740464207304e-59,1.4010218112924284e-47,1.880603639533941e-35,2.524350456589806e-23,3.388457351411093e-11,0.9784870153516145,0.9999999999999836,1.0,1.0,1.0,1.0,1.0,1.0],\"type\":\"scatter\",\"xaxis\":\"x2\",\"x\":[-0.1,-0.075,-0.05,-0.025,0.0,0.025,0.05,0.075,0.1,0.125,0.15,0.17500000000000002,0.2]},{\"yaxis\":\"y2\",\"y\":[3.540746070282175e-59,4.752773934543952e-47,6.379689371816499e-35,8.563511970357144e-23,1.1494875844894001e-10,0.9935607134759302,0.9999999999999952,1.0,1.0,1.0,1.0,1.0,1.0],\"type\":\"scatter\",\"xaxis\":\"x2\",\"x\":[-0.1,-0.075,-0.05,-0.025,0.0,0.025,0.05,0.075,0.1,0.125,0.15,0.17500000000000002,0.2]}],  {\"yaxis2\":{\"domain\":[5.551115123125783e-17,0.42500000000000004],\"anchor\":\"x2\"},\"yaxis1\":{\"domain\":[0.575,1.0],\"anchor\":\"x1\"},\"xaxis1\":{\"domain\":[0.0,1.0],\"anchor\":\"y1\"},\"margin\":{\"r\":50,\"l\":50,\"b\":50,\"t\":60},\"xaxis2\":{\"domain\":[0.0,1.0],\"anchor\":\"y2\"}}, {showLink: false});\n",
       "\n",
       "    });\n",
       " </script>\n"
      ]
     },
     "execution_count": 65,
     "metadata": {},
     "output_type": "execute_result"
    }
   ],
   "source": [
    "#=\n",
    "# Look at 3->2 param reduced model\n",
    "phi_redto3 = exp( [    -55.91,       1.99,      59.45])\n",
    "res_red = BK_simulator(phi_redto3, hcat(x_grid...), model_id=15)\n",
    "res = BK_simulator(phi0, hcat(x_grid...), model_id=10)\n",
    "res = reshape(res, (8,13))\n",
    "res_red = reshape(res_red, (8,13))\n",
    "using NBInclude\n",
    "nbinclude(\"MBAM_plots.ipynb\")\n",
    "import MBAM_plots\n",
    "import PlotlyJS\n",
    "PlotlyJS.plot([PlotlyJS.Plot(MBAM_plots.plot(V, res')), PlotlyJS.Plot(MBAM_plots.plot(V, res_red'))])\n",
    "=#  \n"
   ]
  },
  {
   "cell_type": "code",
   "execution_count": 60,
   "metadata": {
    "collapsed": false
   },
   "outputs": [
    {
     "name": "stdout",
     "output_type": "stream",
     "text": [
      "0.0\n",
      "0.7\n",
      "4.0\n",
      "12.0\n",
      "22.0\n",
      "55.0\n",
      "70.0\n",
      "95.0\n"
     ]
    }
   ],
   "source": [
    "for ca in Ca\n",
    "    ca_str = @sprintf(\"%1.1f\", ca*1e6)\n",
    "    println(ca_str)\n",
    "    \n",
    "    # Generate grid to evaluate over\n",
    "    x_grid_cur = Array(Any, (1*length(V),))\n",
    "    iterind = 0;\n",
    "    for j1 in product([ca], V)\n",
    "        iterind += 1;\n",
    "        x_grid_cur[iterind] = collect(j1)\n",
    "    end\n",
    "    \n",
    "    # Get the function values for original model\n",
    "    tmp = BK_simulator(exp(outp[1][1,1]), hcat(x_grid_cur...), model_id=10)\n",
    "    writecsv(\"CSV/figure_4a_panel1_ca$(ca_str)um.csv\", hcat(V[:], tmp[:]))\n",
    "    \n",
    "    # Get the function values for the reduced model\n",
    "    tmp_red = BK_simulator(exp(outp[1][5,1]), hcat(x_grid_cur...), model_id=14)\n",
    "    writecsv(\"CSV/figure_4a_panel2_ca$(ca_str)um.csv\", hcat(V[:], tmp_red[:]))\n",
    "    \n",
    "    # Save also the log10 values\n",
    "    writecsv(\"CSV/figure_4a_panel3_ca$(ca_str)um.csv\", hcat(V[:], log10(tmp[:])))\n",
    "    writecsv(\"CSV/figure_4a_panel4_ca$(ca_str)um.csv\", hcat(V[:], log10(tmp_red[:])))\n",
    "end\n",
    "    "
   ]
  },
  {
   "cell_type": "markdown",
   "metadata": {},
   "source": [
    "# Figure 4b - Log model reduction results\n",
    "\n",
    "* Panel 1 - Orig model in log space (same as fig 4a panel 3)\n",
    "* Panel 2 - 1st red in log space\n",
    "* Panel 3 - 2nd red in log space\n",
    "* Panel 4 - 3rd red in log space\n",
    "\n",
    "Either panel 3 or 4 will already not reproduce panel 1, similarly to fig4 panel 4"
   ]
  },
  {
   "cell_type": "code",
   "execution_count": 61,
   "metadata": {
    "collapsed": true
   },
   "outputs": [],
   "source": [
    "# Similarly to figure 3, initalise the model, and do the model reduction, \n",
    "# but now with observing the outputs on a log10 scale\n",
    "include(\"../BK_functions/bk_setup_script.jl\"); "
   ]
  },
  {
   "cell_type": "code",
   "execution_count": 62,
   "metadata": {
    "collapsed": false
   },
   "outputs": [],
   "source": [
    "#=\n",
    "outp_log10 = MBAM(BK_simulator, phi0, x_grid, model_iters=[51, 52, 53, 54, 55], \n",
    "move_dir=[-1, -1, 1, 1, -1], boundary_time=10, verbose=1, reduce_func=BK_reduce)\n",
    "\n",
    "using JLD\n",
    "save(\"figure4.jld\", \"outp_log10\", outp_log10)\n",
    "=#\n",
    "\n",
    "# Alternatively, load figure4.jld which stores this outp\n",
    "using JLD\n",
    "outp_log10 = load(\"figure4.jld\", \"outp_log10\");"
   ]
  },
  {
   "cell_type": "code",
   "execution_count": 63,
   "metadata": {
    "collapsed": false
   },
   "outputs": [
    {
     "name": "stdout",
     "output_type": "stream",
     "text": [
      "0.0\n",
      "0.7\n",
      "4.0\n",
      "12.0\n",
      "22.0\n",
      "55.0\n",
      "70.0\n",
      "95.0\n"
     ]
    }
   ],
   "source": [
    "for ca in Ca\n",
    "    ca_str = @sprintf(\"%1.1f\", ca*1e6)\n",
    "    println(ca_str)\n",
    "    \n",
    "    # Generate grid to evaluate over\n",
    "    x_grid_cur = Array(Any, (1*length(V),))\n",
    "    iterind = 0;\n",
    "    for j1 in product([ca], V)\n",
    "        iterind += 1;\n",
    "        x_grid_cur[iterind] = collect(j1)\n",
    "    end\n",
    "    \n",
    "    \n",
    "    # Get the log function values for original model\n",
    "    tmp = BK_simulator(exp(outp_log10[1][1,1]), hcat(x_grid_cur...), model_id=51)\n",
    "    writecsv(\"CSV/figure_4b_panel1_ca$(ca_str)um.csv\", hcat(V[:], tmp[:]))\n",
    "    \n",
    "    for model_red = 1:3\n",
    "        # Get the log function values for reduced models\n",
    "        tmp = BK_simulator(exp(outp_log10[1][1+model_red,1]), hcat(x_grid_cur...), model_id=(51+model_red))\n",
    "        writecsv(\"CSV/figure_4b_panel$(model_red+1)_ca$(ca_str)um.csv\", hcat(V[:], tmp[:]))\n",
    "    end\n",
    "end"
   ]
  }
 ],
 "metadata": {
  "kernelspec": {
   "display_name": "Julia 0.4.5",
   "language": "julia",
   "name": "julia-0.4"
  },
  "language_info": {
   "file_extension": ".jl",
   "mimetype": "application/julia",
   "name": "julia",
   "version": "0.4.5"
  }
 },
 "nbformat": 4,
 "nbformat_minor": 0
}
