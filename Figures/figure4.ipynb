{
 "cells": [
  {
   "cell_type": "markdown",
   "metadata": {},
   "source": [
    "Creates data for figure 4 and saves it to figure4.jld and respective csv files"
   ]
  },
  {
   "cell_type": "markdown",
   "metadata": {},
   "source": [
    "# Figure 4a - Original model reduction results\n",
    "\n",
    "* Panel 1 - Orig model in orig space\n",
    "* Panel 2 - Red model in orig space (reproduces panel 1)\n",
    "* Panel 3 - Orig model in log space\n",
    "* Panel 4 - Red model in log space (DOES NOT reproduce panel 3)"
   ]
  },
  {
   "cell_type": "code",
   "execution_count": 59,
   "metadata": {
    "collapsed": false
   },
   "outputs": [],
   "source": [
    "# Initialise model and load results from figure 3\n",
    "include(\"../BK_functions/bk_setup_script.jl\"); \n",
    "\n",
    "using JLD\n",
    "outp = load(\"figure3.jld\", \"outp\");"
   ]
  },
  {
   "cell_type": "code",
   "execution_count": 68,
   "metadata": {
    "collapsed": false
   },
   "outputs": [],
   "source": [
    "#=\n",
    "# Look at 3->2 param reduced model\n",
    "phi_redto3 = exp( [    -55.91,       1.99,      59.45]) # With -1 direction (stops voltage sensitivy)\n",
    "phi_redto3 = exp([      0.14,      -6.53,      -0.95]) # With +1 direction\n",
    "res_red = BK_simulator(phi_redto3, hcat(x_grid...), model_id=15)\n",
    "res = BK_simulator(phi0, hcat(x_grid...), model_id=10)\n",
    "res = reshape(res, (8,13))\n",
    "res_red = reshape(res_red, (8,13))\n",
    "using NBInclude\n",
    "nbinclude(\"MBAM_plots.ipynb\")\n",
    "import MBAM_plots\n",
    "import PlotlyJS\n",
    "PlotlyJS.plot([PlotlyJS.Plot(MBAM_plots.plot(V, res')), PlotlyJS.Plot(MBAM_plots.plot(V, res_red'))])\n",
    "=#\n"
   ]
  },
  {
   "cell_type": "code",
   "execution_count": 60,
   "metadata": {
    "collapsed": false
   },
   "outputs": [
    {
     "name": "stdout",
     "output_type": "stream",
     "text": [
      "0.0\n",
      "0.7\n",
      "4.0\n",
      "12.0\n",
      "22.0\n",
      "55.0\n",
      "70.0\n",
      "95.0\n"
     ]
    }
   ],
   "source": [
    "for ca in Ca\n",
    "    ca_str = @sprintf(\"%1.1f\", ca*1e6)\n",
    "    println(ca_str)\n",
    "    \n",
    "    # Generate grid to evaluate over\n",
    "    x_grid_cur = Array(Any, (1*length(V),))\n",
    "    iterind = 0;\n",
    "    for j1 in product([ca], V)\n",
    "        iterind += 1;\n",
    "        x_grid_cur[iterind] = collect(j1)\n",
    "    end\n",
    "    \n",
    "    # Get the function values for original model\n",
    "    tmp = BK_simulator(exp(outp[1][1,1]), hcat(x_grid_cur...), model_id=10)\n",
    "    writecsv(\"CSV/figure_4a_panel1_ca$(ca_str)um.csv\", hcat(V[:], tmp[:]))\n",
    "    \n",
    "    # Get the function values for the reduced model\n",
    "    tmp_red = BK_simulator(exp(outp[1][5,1]), hcat(x_grid_cur...), model_id=14)\n",
    "    writecsv(\"CSV/figure_4a_panel2_ca$(ca_str)um.csv\", hcat(V[:], tmp_red[:]))\n",
    "    \n",
    "    # Save also the log10 values\n",
    "    writecsv(\"CSV/figure_4a_panel3_ca$(ca_str)um.csv\", hcat(V[:], log10(tmp[:])))\n",
    "    writecsv(\"CSV/figure_4a_panel4_ca$(ca_str)um.csv\", hcat(V[:], log10(tmp_red[:])))\n",
    "end\n",
    "    "
   ]
  },
  {
   "cell_type": "markdown",
   "metadata": {},
   "source": [
    "# Figure 4b - Log model reduction results\n",
    "\n",
    "* Panel 1 - Orig model in log space (same as fig 4a panel 3)\n",
    "* Panel 2 - 1st red in log space\n",
    "* Panel 3 - 2nd red in log space\n",
    "* Panel 4 - 3rd red in log space\n",
    "\n",
    "Either panel 3 or 4 will already not reproduce panel 1, similarly to fig4 panel 4"
   ]
  },
  {
   "cell_type": "code",
   "execution_count": 61,
   "metadata": {
    "collapsed": true
   },
   "outputs": [],
   "source": [
    "# Similarly to figure 3, initalise the model, and do the model reduction, \n",
    "# but now with observing the outputs on a log10 scale\n",
    "include(\"../BK_functions/bk_setup_script.jl\"); "
   ]
  },
  {
   "cell_type": "code",
   "execution_count": 62,
   "metadata": {
    "collapsed": false
   },
   "outputs": [],
   "source": [
    "#=\n",
    "outp_log10 = MBAM(BK_simulator, phi0, x_grid, model_iters=[51, 52, 53, 54, 55], \n",
    "move_dir=[-1, -1, 1, 1, -1], boundary_time=10, verbose=1, reduce_func=BK_reduce)\n",
    "\n",
    "using JLD\n",
    "save(\"figure4.jld\", \"outp_log10\", outp_log10)\n",
    "=#\n",
    "\n",
    "# Alternatively, load figure4.jld which stores this outp\n",
    "using JLD\n",
    "outp_log10 = load(\"figure4.jld\", \"outp_log10\");"
   ]
  },
  {
   "cell_type": "code",
   "execution_count": 63,
   "metadata": {
    "collapsed": false
   },
   "outputs": [
    {
     "name": "stdout",
     "output_type": "stream",
     "text": [
      "0.0\n",
      "0.7\n",
      "4.0\n",
      "12.0\n",
      "22.0\n",
      "55.0\n",
      "70.0\n",
      "95.0\n"
     ]
    }
   ],
   "source": [
    "for ca in Ca\n",
    "    ca_str = @sprintf(\"%1.1f\", ca*1e6)\n",
    "    println(ca_str)\n",
    "    \n",
    "    # Generate grid to evaluate over\n",
    "    x_grid_cur = Array(Any, (1*length(V),))\n",
    "    iterind = 0;\n",
    "    for j1 in product([ca], V)\n",
    "        iterind += 1;\n",
    "        x_grid_cur[iterind] = collect(j1)\n",
    "    end\n",
    "    \n",
    "    \n",
    "    # Get the log function values for original model\n",
    "    tmp = BK_simulator(exp(outp_log10[1][1,1]), hcat(x_grid_cur...), model_id=51)\n",
    "    writecsv(\"CSV/figure_4b_panel1_ca$(ca_str)um.csv\", hcat(V[:], tmp[:]))\n",
    "    \n",
    "    for model_red = 1:3\n",
    "        # Get the log function values for reduced models\n",
    "        tmp = BK_simulator(exp(outp_log10[1][1+model_red,1]), hcat(x_grid_cur...), model_id=(51+model_red))\n",
    "        writecsv(\"CSV/figure_4b_panel$(model_red+1)_ca$(ca_str)um.csv\", hcat(V[:], tmp[:]))\n",
    "    end\n",
    "end"
   ]
  }
 ],
 "metadata": {
  "kernelspec": {
   "display_name": "Julia 0.4.5",
   "language": "julia",
   "name": "julia-0.4"
  },
  "language_info": {
   "file_extension": ".jl",
   "mimetype": "application/julia",
   "name": "julia",
   "version": "0.4.5"
  }
 },
 "nbformat": 4,
 "nbformat_minor": 0
}
