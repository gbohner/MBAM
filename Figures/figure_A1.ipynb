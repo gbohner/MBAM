{
 "cells": [
  {
   "cell_type": "markdown",
   "metadata": {},
   "source": [
    "1. Simulate noisy (uniform, multiplicative) measurements from model with \"true\" parameters\n",
    "2. Run Levenberg-Marquardt least squares optimisation to find \"best fit\" parameters (note the mismatch between noise and cost function types)\n",
    "3. Compute log Hessian around best fit to \n",
    "\n",
    "Rinse and repeat"
   ]
  },
  {
   "cell_type": "code",
   "execution_count": 1,
   "metadata": {
    "collapsed": false
   },
   "outputs": [
    {
     "data": {
      "text/plain": [
       "timestamp (generic function with 1 method)"
      ]
     },
     "execution_count": 1,
     "metadata": {},
     "output_type": "execute_result"
    }
   ],
   "source": [
    "# Helper functions\n",
    "\n",
    "# Get a timestamp in useful format\n",
    "timestamp()=Dates.format(now(),\"_yyyymmddTHHMMSSss\")"
   ]
  },
  {
   "cell_type": "markdown",
   "metadata": {},
   "source": [
    "### Simulate data, look at both assays and add noise in each separately (such that relative error is 10% or 1%)"
   ]
  },
  {
   "cell_type": "code",
   "execution_count": 2,
   "metadata": {
    "collapsed": true
   },
   "outputs": [],
   "source": [
    "# Simulate data points with noise\n",
    "include(\"../BK_functions/bk_setup_script.jl\")\n",
    "ydata_noiseless = BK_simulator(phi0, hcat(x_grid...), model_id=0) # Create dataset\n",
    "#ydata_orig = ydata_noiseless.*(1+(2*rand(size(ydata_noiseless))-1)*0.1) # Add up to 10% noise (uniform, multiplicative)\n",
    "#ydata_log = log(ydata_noiseless).*(1+(2*rand(size(ydata_noiseless))-1)*0.1) # Add up to 10% noise (uniform, multiplicative, but in log space assay)\n",
    "\n",
    "ydata_orig = ydata_noiseless.*(1+(2*rand(size(ydata_noiseless))-1)*0.01) # Add up to 1% noise (uniform, multiplicative)\n",
    "ydata_log = log(ydata_noiseless).*(1+(2*rand(size(ydata_noiseless))-1)*0.01) # Add up to 1% noise (uniform, multiplicat\n",
    "\n",
    "cur_time = timestamp();"
   ]
  },
  {
   "cell_type": "markdown",
   "metadata": {},
   "source": [
    "## Fit noisy original assay and compute Hessian around best fit"
   ]
  },
  {
   "cell_type": "code",
   "execution_count": 4,
   "metadata": {
    "collapsed": false
   },
   "outputs": [
    {
     "data": {
      "text/plain": [
       "([244.88240390831464,14.30888443756489,0.03964609913259878,2.474570214106106e-9,-3.734258987805233e-10,-2.966456754902944e-12,-3.2864393976147196e-25,2.628009341697385e-16],\n",
       "8x8 Array{Float64,2}:\n",
       " -0.228481     -0.0738031    -0.00284093   …  -1.67328e-7    0.000314163\n",
       "  1.06611e-16   6.5773e-17   -5.58496e-15     -0.000502394   1.0        \n",
       " -0.106677     -0.229322      0.11656         -3.06596e-10  -2.1108e-6  \n",
       "  8.39208e-27  -1.30567e-22   4.16085e-16      1.0           6.05244e-8 \n",
       " -0.0186744     0.0323736    -0.701606        -7.14751e-9   -5.9696e-7  \n",
       " -0.326841      0.925769      0.0715799    …  -2.71974e-10   6.88489e-8 \n",
       " -0.910461     -0.288162     -0.0108855        4.21353e-8   -7.86084e-5 \n",
       "  0.0174016    -0.0288457     0.699222        -7.11681e-9   -2.01516e-7 )"
      ]
     },
     "execution_count": 4,
     "metadata": {},
     "output_type": "execute_result"
    }
   ],
   "source": [
    "# Optimise phi to fit the noisy data well\n",
    "using LsqFit\n",
    "\n",
    "# Store multiple fits (different initial point for LM, takes around 5 sec / fit)\n",
    "all_fits = Array(Any, 24)\n",
    "all_costs = Array(Any, length(all_fits))\n",
    "\n",
    "for i1 = 1:length(all_fits)\n",
    "    if i1==1\n",
    "        phi_init = phi0;\n",
    "    else\n",
    "        phi_init = phi0.*(1+(2*rand(size(phi0))-1)*0.9) # Add up to 90% noise to initial params\n",
    "    end\n",
    "    all_fits[i1] = curve_fit((x,p) -> BK_simulator(exp(p), x), hcat(x_grid...), ydata_orig, log(phi_init));\n",
    "    all_costs[i1] = sum(all_fits[i1].resid.^2);\n",
    "end\n",
    "\n",
    "# Find the best fit\n",
    "phi1_orig = exp(all_fits[findmin(all_costs)[2]].param);\n",
    "\n",
    "\n",
    "# Compute the Hessian around best fit\n",
    "x_loc = hcat(x_grid...);\n",
    "model_cur(phi::AbstractArray, x::AbstractArray) = BK_simulator(phi, x, model_id=0)[:]\n",
    "data_vec = ydata_orig;\n",
    "f_cost = phi_var -> sum((model_cur(phi_var, x_loc)[:].-data_vec).^2); # Current cost function (quadratic)\n",
    "g_cost = phi_var -> log_deriv_wrapper(f_cost, phi_var); # Define which parameters we're taking in log space ([default: all])\n",
    "f_res = phi_var -> (model_cur(phi_var, x_loc)[:].-data_vec) # Return residuals\n",
    "g_res = phi_var -> log_deriv_wrapper(f_res, phi_var, log_specific=log_specific);\n",
    "\n",
    "# Determine the hyperellipsoid around our best fit:\n",
    "hess_orig = ForwardDiff.hessian(g_cost, log(phi1_orig)); #log hessian\n",
    "D_orig, V_orig = eig(hess_orig)"
   ]
  },
  {
   "cell_type": "markdown",
   "metadata": {},
   "source": [
    "## Fit noisy log assay and compute Hessian around best fit"
   ]
  },
  {
   "cell_type": "code",
   "execution_count": null,
   "metadata": {
    "collapsed": false
   },
   "outputs": [],
   "source": [
    "# Store multiple fits (different initial point for LM, takes around 5 sec / fit)\n",
    "all_fits = Array(Any, 24)\n",
    "all_costs = Array(Any, length(all_fits))\n",
    "\n",
    "for i1 = 1:length(all_fits)\n",
    "    if i1==1\n",
    "        phi_init = phi0;\n",
    "    else\n",
    "        phi_init = phi0.*(1+(2*rand(size(phi0))-1)*0.9) # Add up to 90% noise to initial params\n",
    "    end\n",
    "    all_fits[i1] = curve_fit((x,p) -> log(abs(BK_simulator(exp(p), x))), hcat(x_grid...), ydata_log, log(phi_init)); # abs needed due to weird julia error, BK_simulator has an output range between 0 and 1\n",
    "    all_costs[i1] = sum(all_fits[i1].resid.^2);\n",
    "end\n",
    "\n",
    "# Find the best fit\n",
    "phi1_log = exp(all_fits[findmin(all_costs)[2]].param);\n",
    "\n",
    "# Compute the Hessian around best fit\n",
    "x_loc = hcat(x_grid...);\n",
    "model_cur(phi::AbstractArray, x::AbstractArray) = log(BK_simulator(phi, x, model_id=0)[:])\n",
    "data_vec = ydata_log;\n",
    "f_cost = phi_var -> sum((model_cur(phi_var, x_loc)[:].-data_vec).^2); # Current cost function (quadratic)\n",
    "g_cost = phi_var -> log_deriv_wrapper(f_cost, phi_var); # Define which parameters we're taking in log space ([default: all])\n",
    "f_res = phi_var -> (model_cur(phi_var, x_loc)[:].-data_vec) # Return residuals\n",
    "g_res = phi_var -> log_deriv_wrapper(f_res, phi_var, log_specific=log_specific);\n",
    "\n",
    "# Determine the hyperellipsoid around our best fit:\n",
    "hess_log = ForwardDiff.hessian(g_cost, log(phi1_log)); #log hessian of log assay\n",
    "D_log, V_log = eig(hess_log)"
   ]
  },
  {
   "cell_type": "code",
   "execution_count": null,
   "metadata": {
    "collapsed": false
   },
   "outputs": [],
   "source": [
    "#save results\n",
    "save(\"saves/figure_A1_hess\"*cur_time*\".jld\", \"hess_orig\", hess_orig, \"D_orig\", D_orig,\n",
    "\"hess_log\", hess_log, \"D_log\", D_log, \"phi1_orig\", phi1_orig, \"phi1_log\", phi1_log, \"ydata_orig\", ydata_orig, \"ydata_log\", ydata_log)"
   ]
  },
  {
   "cell_type": "code",
   "execution_count": null,
   "metadata": {
    "collapsed": false
   },
   "outputs": [],
   "source": [
    "[log(sort(abs(D_orig))) log(sort(abs(D_log)))]"
   ]
  },
  {
   "cell_type": "markdown",
   "metadata": {},
   "source": [
    "### Do the full reduction"
   ]
  },
  {
   "cell_type": "markdown",
   "metadata": {
    "collapsed": false
   },
   "source": [
    "include(\"../BK_functions/bk_setup_script.jl\")\n"
   ]
  },
  {
   "cell_type": "markdown",
   "metadata": {
    "collapsed": false
   },
   "source": [
    "# Run MBAM from those parameters\n",
    "cur_time = timestamp();\n",
    "\n",
    "#outp = load(\"saves/figure_A1_20161108T15185000.jld\", \"outp\") #Step 1\n",
    "outp = load(\"saves/figure_A1_20161108T17280800.jld\", \"outp\") #Step1-2\n",
    "\n",
    "\n",
    "# First iteration:\n",
    "outp = MBAM(BK_simulator, phi1, x_grid, model_iters=[70, 71, 72], \n",
    "move_dir=[-1, -1, -1], boundary_time=10, verbose=1, reduce_func=BK_reduce, data_vec=ydata, prevRunResults=outp)\n",
    "\n",
    "using JLD\n",
    "save(\"saves/figure_A1\"*cur_time*\".jld\", \"outp\", outp, \"phi1\", phi1, \"ydata\", ydata)"
   ]
  },
  {
   "cell_type": "markdown",
   "metadata": {
    "collapsed": false
   },
   "source": [
    "# Run MBAM from those parameters\n",
    "\n",
    "# First iteration:\n",
    "outp_log10 = MBAM(BK_simulator, phi1, x_grid, model_iters=[51], \n",
    "move_dir=[-1], boundary_time=10, verbose=1, reduce_func=BK_reduce, data_vec=log10(ydata))\n",
    "\n",
    "using JLD\n",
    "save(\"saves/figure_A1_log\"*cur_time*\".jld\", \"outp_log10\", outp_log10, \"phi1\", phi1, \"ydata\", ydata)"
   ]
  },
  {
   "cell_type": "code",
   "execution_count": null,
   "metadata": {
    "collapsed": true
   },
   "outputs": [],
   "source": []
  },
  {
   "cell_type": "code",
   "execution_count": null,
   "metadata": {
    "collapsed": true
   },
   "outputs": [],
   "source": []
  }
 ],
 "metadata": {
  "kernelspec": {
   "display_name": "Julia 0.4.5",
   "language": "julia",
   "name": "julia-0.4"
  },
  "language_info": {
   "file_extension": ".jl",
   "mimetype": "application/julia",
   "name": "julia",
   "version": "0.4.5"
  }
 },
 "nbformat": 4,
 "nbformat_minor": 0
}
