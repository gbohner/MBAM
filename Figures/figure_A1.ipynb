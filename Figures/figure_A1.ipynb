{
 "cells": [
  {
   "cell_type": "markdown",
   "metadata": {},
   "source": [
    "1. Simulate noisy (uniform, multiplicative) measurements from model with \"true\" parameters\n",
    "2. Run Levenberg-Marquardt least squares optimisation to find \"best fit\" parameters (note the mismatch between noise and cost function types)\n",
    "3. Run MBAM to find out if reduction is similar (both original and log-space assays)\n",
    "\n",
    "Rinse and repeat"
   ]
  },
  {
   "cell_type": "code",
   "execution_count": 1,
   "metadata": {
    "collapsed": false
   },
   "outputs": [
    {
     "data": {
      "text/plain": [
       "timestamp (generic function with 1 method)"
      ]
     },
     "execution_count": 1,
     "metadata": {},
     "output_type": "execute_result"
    }
   ],
   "source": [
    "# Helper functions\n",
    "\n",
    "# Get a timestamp in useful format\n",
    "timestamp()=Dates.format(now(),\"_yyyymmddTHHMMSSss\")"
   ]
  },
  {
   "cell_type": "code",
   "execution_count": 2,
   "metadata": {
    "collapsed": false
   },
   "outputs": [],
   "source": [
    "# Simulate data points with noise\n",
    "include(\"../BK_functions/bk_setup_script.jl\")\n",
    "ydata_orig = BK_simulator(phi0, hcat(x_grid...), model_id=0) # Create dataset\n",
    "ydata = ydata_orig.*(1+(2*rand(size(ydata_orig))-1)*0.1) # Add up to 10% noise (uniform, multiplicative)\n",
    ";"
   ]
  },
  {
   "cell_type": "code",
   "execution_count": 3,
   "metadata": {
    "collapsed": false
   },
   "outputs": [
    {
     "data": {
      "text/plain": [
       "8-element Array{Float64,1}:\n",
       "  3.34549e-6\n",
       "  0.661848  \n",
       "  0.134113  \n",
       "  0.55403   \n",
       "  4.96432e-5\n",
       "  3.58497   \n",
       " 19.6926    \n",
       "  5.41314   "
      ]
     },
     "execution_count": 3,
     "metadata": {},
     "output_type": "execute_result"
    }
   ],
   "source": [
    "# Optimise phi to fit the noisy data well\n",
    "using LsqFit\n",
    "\n",
    "# Store multiple fits (takes around 5 sec / fit)\n",
    "all_fits = Array(Any, 24)\n",
    "all_costs = Array(Any, length(all_fits))\n",
    "\n",
    "for i1 = 1:length(all_fits)\n",
    "    phi_init = phi0.*(1+(2*rand(size(phi0))-1)*0.9) # Add up to 90% noise to initial params\n",
    "    all_fits[i1] = curve_fit((x,p) -> BK_simulator(p, x), hcat(x_grid...), ydata, phi_init);\n",
    "    all_costs[i1] = sum(all_fits[i1].resid.^2);\n",
    "end\n",
    "\n",
    "phi1 = all_fits[findmin(all_costs)[2]].param"
   ]
  },
  {
   "cell_type": "code",
   "execution_count": 4,
   "metadata": {
    "collapsed": false
   },
   "outputs": [
    {
     "data": {
      "text/plain": [
       "\"haho_20161108T15035400\""
      ]
     },
     "execution_count": 4,
     "metadata": {},
     "output_type": "execute_result"
    }
   ],
   "source": [
    "cur_time = timestamp();\n",
    "\n",
    "a = \"haho\"*cur_time"
   ]
  },
  {
   "cell_type": "code",
   "execution_count": 5,
   "metadata": {
    "collapsed": false
   },
   "outputs": [
    {
     "name": "stdout",
     "output_type": "stream",
     "text": [
      "  0.006975 seconds (31.22 k allocations: 1.461 MB)\n",
      "Model iteration 10, Single g_cost call takes: \n",
      "  0.036500 seconds (51.34 k allocations: 2.398 MB)\n",
      "Model iteration 10, initial values:\n",
      "      D = [  1.84e-05,   2.15e-04,   1.55e-03,   5.52e-02,   1.14e-01,   2.83e-01,   4.84e+00,   2.70e+01]\n",
      "   cost = 4.8236526520437875e-30\n",
      "phi_cur = [    -12.61,      -0.41,      -2.01,      -0.59,      -9.91,       1.28,       2.98,       1.69]\n",
      "      v = [  9.62e-01,   1.90e-02,  -1.69e-02,   1.32e-02,   1.07e-02,   2.24e-02,  -2.70e-01,   8.83e-05]\n",
      "\n",
      "\n",
      "Model iteration 10, final values:\n",
      "      D = [  1.00e-08,   1.66e-04,   1.88e-03,   5.68e-02,   1.25e-01,   2.97e-01,   5.00e+00,   2.94e+01]\n",
      "   cost = 0.00023628721026720863\n",
      "phi_cur = [    -26.63,      -0.48,      -1.93,      -0.64,      -9.95,       1.20,       6.58,       1.68]\n",
      "      v = [ -9.70e-01,  -3.93e-04,   5.98e-04,  -3.50e-04,  -3.15e-04,  -4.67e-04,   2.43e-01,  -1.79e-04]\n",
      "\n",
      "\n"
     ]
    }
   ],
   "source": [
    "# Run MBAM from those parameters\n",
    "cur_time = timestamp();\n",
    "\n",
    "# First iteration:\n",
    "outp = MBAM(BK_simulator, phi1, x_grid, model_iters=[10], \n",
    "move_dir=[-1], boundary_time=10, verbose=1, reduce_func=BK_reduce)\n",
    "\n",
    "using JLD\n",
    "save(\"saves/figure_A1\"*cur_time*\".jld\", \"outp\", outp, \"phi1\", phi1, \"ydata\", ydata)"
   ]
  },
  {
   "cell_type": "code",
   "execution_count": null,
   "metadata": {
    "collapsed": true
   },
   "outputs": [],
   "source": []
  }
 ],
 "metadata": {
  "kernelspec": {
   "display_name": "Julia 0.4.5",
   "language": "julia",
   "name": "julia-0.4"
  },
  "language_info": {
   "file_extension": ".jl",
   "mimetype": "application/julia",
   "name": "julia",
   "version": "0.4.5"
  }
 },
 "nbformat": 4,
 "nbformat_minor": 0
}
