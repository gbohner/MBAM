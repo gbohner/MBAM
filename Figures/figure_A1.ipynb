{
 "cells": [
  {
   "cell_type": "markdown",
   "metadata": {},
   "source": [
    "1. Simulate noisy (uniform, multiplicative) measurements from model with \"true\" parameters\n",
    "2. Run Levenberg-Marquardt least squares optimisation to find \"best fit\" parameters (note the mismatch between noise and cost function types)\n",
    "3. Run MBAM to find out if reduction is similar (both original and log-space assays)\n",
    "\n",
    "Rinse and repeat"
   ]
  },
  {
   "cell_type": "code",
   "execution_count": 1,
   "metadata": {
    "collapsed": false
   },
   "outputs": [
    {
     "data": {
      "text/plain": [
       "timestamp (generic function with 1 method)"
      ]
     },
     "execution_count": 1,
     "metadata": {},
     "output_type": "execute_result"
    }
   ],
   "source": [
    "# Helper functions\n",
    "\n",
    "# Get a timestamp in useful format\n",
    "timestamp()=Dates.format(now(),\"_yyyymmddTHHMMSSss\")"
   ]
  },
  {
   "cell_type": "markdown",
   "metadata": {},
   "source": [
    "### Simulate data, look at both assays and add noise in each separately (such that relative error is 10%)"
   ]
  },
  {
   "cell_type": "code",
   "execution_count": 2,
   "metadata": {
    "collapsed": true
   },
   "outputs": [],
   "source": [
    "# Simulate data points with noise\n",
    "include(\"../BK_functions/bk_setup_script.jl\")\n",
    "ydata_noiseless = BK_simulator(phi0, hcat(x_grid...), model_id=0) # Create dataset\n",
    "ydata_orig = ydata_noiseless.*(1+(2*rand(size(ydata_noiseless))-1)*0.1) # Add up to 10% noise (uniform, multiplicative)\n",
    "ydata_log = log(ydata_noiseless).*(1+(2*rand(size(ydata_noiseless))-1)*0.1) # Add up to 10% noise (uniform, multiplicative, but in log space assay)\n",
    "\n",
    "cur_time = timestamp();"
   ]
  },
  {
   "cell_type": "markdown",
   "metadata": {},
   "source": [
    "## Fit noisy original assay and compute Hessian around best fit"
   ]
  },
  {
   "cell_type": "code",
   "execution_count": 3,
   "metadata": {
    "collapsed": false
   },
   "outputs": [
    {
     "data": {
      "text/plain": [
       "([64.35037264881387,13.830148966622373,0.6559551497371164,0.18417172630039122,0.08307059310262276,0.004508785833056124,3.793040737186234e-6,0.0004923648254559906],\n",
       "8x8 Array{Float64,2}:\n",
       " -0.153574   -0.00928801   0.139115   -0.0472614  …  -0.969698     0.0620004 \n",
       " -0.0459658  -0.0990201    0.0540569  -0.208893       0.00231223  -0.908613  \n",
       " -0.407168    0.108185     0.24282     0.730567       0.0113598   -0.283012  \n",
       " -0.399084   -0.79809     -0.371863   -0.0625434     -0.00400545   0.0188488 \n",
       "  0.186752   -0.131102     0.589223   -0.355179      -0.003727    -0.0996216 \n",
       " -0.394937    0.448513    -0.322761   -0.485836   …  -0.00256519  -0.0971814 \n",
       " -0.605651   -0.0438131    0.536328   -0.230815       0.243898     0.265966  \n",
       " -0.302629    0.348118    -0.203655    0.032033      -0.00532997  -0.00446693)"
      ]
     },
     "execution_count": 3,
     "metadata": {},
     "output_type": "execute_result"
    }
   ],
   "source": [
    "# Optimise phi to fit the noisy data well\n",
    "using LsqFit\n",
    "\n",
    "# Store multiple fits (different initial point for LM, takes around 5 sec / fit)\n",
    "all_fits = Array(Any, 24)\n",
    "all_costs = Array(Any, length(all_fits))\n",
    "\n",
    "for i1 = 1:length(all_fits)\n",
    "    if i1==1\n",
    "        phi_init = phi0;\n",
    "    else\n",
    "        phi_init = phi0.*(1+(2*rand(size(phi0))-1)*0.9) # Add up to 90% noise to initial params\n",
    "    end\n",
    "    all_fits[i1] = curve_fit((x,p) -> BK_simulator(exp(p), x), hcat(x_grid...), ydata_orig, log(phi_init));\n",
    "    all_costs[i1] = sum(all_fits[i1].resid.^2);\n",
    "end\n",
    "\n",
    "# Find the best fit\n",
    "phi1_orig = exp(all_fits[findmin(all_costs)[2]].param);\n",
    "\n",
    "\n",
    "# Compute the Hessian around best fit\n",
    "x_loc = hcat(x_grid...);\n",
    "model_cur(phi::AbstractArray, x::AbstractArray) = BK_simulator(phi, x, model_id=0)[:]\n",
    "data_vec = ydata_orig;\n",
    "f_cost = phi_var -> sum((model_cur(phi_var, x_loc)[:].-data_vec).^2); # Current cost function (quadratic)\n",
    "g_cost = phi_var -> log_deriv_wrapper(f_cost, phi_var); # Define which parameters we're taking in log space ([default: all])\n",
    "f_res = phi_var -> (model_cur(phi_var, x_loc)[:].-data_vec) # Return residuals\n",
    "g_res = phi_var -> log_deriv_wrapper(f_res, phi_var, log_specific=log_specific);\n",
    "\n",
    "# Determine the hyperellipsoid around our best fit:\n",
    "hess_orig = ForwardDiff.hessian(g_cost, log(phi1_orig)); #log hessian\n",
    "D_orig, V_orig = eig(hess_orig)"
   ]
  },
  {
   "cell_type": "code",
   "execution_count": 4,
   "metadata": {
    "collapsed": false
   },
   "outputs": [
    {
     "data": {
      "text/plain": [
       "8-element Array{Float64,1}:\n",
       "   3.2117e-8 \n",
       "   0.162934  \n",
       "   0.0607788 \n",
       "   0.636445  \n",
       "   5.28787e-5\n",
       "   2.53238   \n",
       " 135.554     \n",
       "   7.99891   "
      ]
     },
     "execution_count": 4,
     "metadata": {},
     "output_type": "execute_result"
    }
   ],
   "source": [
    "phi1_orig"
   ]
  },
  {
   "cell_type": "markdown",
   "metadata": {},
   "source": [
    "## Fit noisy log assay and compute Hessian around best fit"
   ]
  },
  {
   "cell_type": "code",
   "execution_count": 8,
   "metadata": {
    "collapsed": false
   },
   "outputs": [
    {
     "name": "stderr",
     "output_type": "stream",
     "text": [
      "WARNING: Problem solving for delta_x: predicted residual increase.\n",
      "5.198712624863577 (predicted_residual) >\n",
      "5.198712624863575 (residual) + 8.881784197001252e-16 (eps)\n",
      "WARNING: Problem solving for delta_x: predicted residual increase.\n",
      "5.19871262486358 (predicted_residual) >\n",
      "5.198712624863577 (residual) + 8.881784197001252e-16 (eps)\n"
     ]
    },
    {
     "data": {
      "text/plain": [
       "([2158.479471687392,593.8734618560258,142.87479090644592,17.701088928327998,14.463313928239026,0.0031558952478074275,1.631646399566662,3.174442385790068],\n",
       "8x8 Array{Float64,2}:\n",
       "  0.195796   -0.0555258  -0.160136   …   0.728488     0.511638    0.080888 \n",
       " -0.0777834  -0.180006    0.0919183      0.505161    -0.551803    0.548353 \n",
       "  0.439421   -0.276803   -0.327186       0.215543    -0.303473   -0.635142 \n",
       " -0.321543   -0.80811     0.414321      -0.00389179   0.0915457  -0.198386 \n",
       " -0.248346   -0.022202   -0.201808       0.0014504    0.100292   -0.0410389\n",
       "  0.515843    0.160524    0.612106   …   0.00649231  -0.262223   -0.0648761\n",
       "  0.491457   -0.456366   -0.342305      -0.409372     0.0605761   0.486103 \n",
       "  0.299722   -0.0179272   0.39322       -0.00369459   0.500774    0.0883991)"
      ]
     },
     "execution_count": 8,
     "metadata": {},
     "output_type": "execute_result"
    }
   ],
   "source": [
    "# Store multiple fits (different initial point for LM, takes around 5 sec / fit)\n",
    "all_fits = Array(Any, 24)\n",
    "all_costs = Array(Any, length(all_fits))\n",
    "\n",
    "for i1 = 1:length(all_fits)\n",
    "    if i1==1\n",
    "        phi_init = phi0;\n",
    "    else\n",
    "        phi_init = phi0.*(1+(2*rand(size(phi0))-1)*0.9) # Add up to 90% noise to initial params\n",
    "    end\n",
    "    all_fits[i1] = curve_fit((x,p) -> log(abs(BK_simulator(exp(p), x))), hcat(x_grid...), ydata_log, log(phi_init)); # abs needed due to weird julia error, BK_simulator has an output range between 0 and 1\n",
    "    all_costs[i1] = sum(all_fits[i1].resid.^2);\n",
    "end\n",
    "\n",
    "# Find the best fit\n",
    "phi1_log = exp(all_fits[findmin(all_costs)[2]].param);\n",
    "\n",
    "# Compute the Hessian around best fit\n",
    "x_loc = hcat(x_grid...);\n",
    "model_cur(phi::AbstractArray, x::AbstractArray) = log(BK_simulator(phi, x, model_id=0)[:])\n",
    "data_vec = ydata_log;\n",
    "f_cost = phi_var -> sum((model_cur(phi_var, x_loc)[:].-data_vec).^2); # Current cost function (quadratic)\n",
    "g_cost = phi_var -> log_deriv_wrapper(f_cost, phi_var); # Define which parameters we're taking in log space ([default: all])\n",
    "f_res = phi_var -> (model_cur(phi_var, x_loc)[:].-data_vec) # Return residuals\n",
    "g_res = phi_var -> log_deriv_wrapper(f_res, phi_var, log_specific=log_specific);\n",
    "\n",
    "# Determine the hyperellipsoid around our best fit:\n",
    "hess_log = ForwardDiff.hessian(g_cost, log(phi1_log)); #log hessian of log assay\n",
    "D_log, V_log = eig(hess_log)"
   ]
  },
  {
   "cell_type": "code",
   "execution_count": 9,
   "metadata": {
    "collapsed": false
   },
   "outputs": [],
   "source": [
    "#save results\n",
    "save(\"saves/figure_A1_hess\"*cur_time*\".jld\", \"hess_orig\", hess_orig, \"D_orig\", D_orig,\n",
    "\"hess_log\", hess_log, \"D_log\", D_log, \"phi1_orig\", phi1_orig, \"phi1_log\", phi1_log, \"ydata_orig\", ydata_orig, \"ydata_log\", ydata_log)"
   ]
  },
  {
   "cell_type": "code",
   "execution_count": 10,
   "metadata": {
    "collapsed": false
   },
   "outputs": [
    {
     "data": {
      "text/plain": [
       "8x2 Array{Float64,2}:\n",
       " -12.4823    -5.75848\n",
       "  -7.61629    0.48959\n",
       "  -5.40173    1.15513\n",
       "  -2.48806    2.67162\n",
       "  -1.69189    2.87363\n",
       "  -0.421663   4.96197\n",
       "   2.62685    6.38667\n",
       "   4.16434    7.67716"
      ]
     },
     "execution_count": 10,
     "metadata": {},
     "output_type": "execute_result"
    }
   ],
   "source": [
    "[log(sort(abs(D_orig))) log(sort(abs(D_log)))]"
   ]
  },
  {
   "cell_type": "markdown",
   "metadata": {},
   "source": [
    "### Do the full reduction"
   ]
  },
  {
   "cell_type": "markdown",
   "metadata": {
    "collapsed": false
   },
   "source": [
    "include(\"../BK_functions/bk_setup_script.jl\")\n"
   ]
  },
  {
   "cell_type": "markdown",
   "metadata": {
    "collapsed": false
   },
   "source": [
    "# Run MBAM from those parameters\n",
    "cur_time = timestamp();\n",
    "\n",
    "#outp = load(\"saves/figure_A1_20161108T15185000.jld\", \"outp\") #Step 1\n",
    "outp = load(\"saves/figure_A1_20161108T17280800.jld\", \"outp\") #Step1-2\n",
    "\n",
    "\n",
    "# First iteration:\n",
    "outp = MBAM(BK_simulator, phi1, x_grid, model_iters=[70, 71, 72], \n",
    "move_dir=[-1, -1, -1], boundary_time=10, verbose=1, reduce_func=BK_reduce, data_vec=ydata, prevRunResults=outp)\n",
    "\n",
    "using JLD\n",
    "save(\"saves/figure_A1\"*cur_time*\".jld\", \"outp\", outp, \"phi1\", phi1, \"ydata\", ydata)"
   ]
  },
  {
   "cell_type": "markdown",
   "metadata": {
    "collapsed": false
   },
   "source": [
    "# Run MBAM from those parameters\n",
    "\n",
    "# First iteration:\n",
    "outp_log10 = MBAM(BK_simulator, phi1, x_grid, model_iters=[51], \n",
    "move_dir=[-1], boundary_time=10, verbose=1, reduce_func=BK_reduce, data_vec=log10(ydata))\n",
    "\n",
    "using JLD\n",
    "save(\"saves/figure_A1_log\"*cur_time*\".jld\", \"outp_log10\", outp_log10, \"phi1\", phi1, \"ydata\", ydata)"
   ]
  },
  {
   "cell_type": "code",
   "execution_count": null,
   "metadata": {
    "collapsed": true
   },
   "outputs": [],
   "source": []
  },
  {
   "cell_type": "code",
   "execution_count": null,
   "metadata": {
    "collapsed": true
   },
   "outputs": [],
   "source": []
  }
 ],
 "metadata": {
  "kernelspec": {
   "display_name": "Julia 0.4.5",
   "language": "julia",
   "name": "julia-0.4"
  },
  "language_info": {
   "file_extension": ".jl",
   "mimetype": "application/julia",
   "name": "julia",
   "version": "0.4.5"
  }
 },
 "nbformat": 4,
 "nbformat_minor": 0
}
