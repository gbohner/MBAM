{
 "cells": [
  {
   "cell_type": "markdown",
   "metadata": {},
   "source": [
    "1. Simulate noisy (uniform, multiplicative) measurements from full model with \"true\" parameters\n",
    "2. Choose a reduced model to fit\n",
    "3. Run Levenberg-Marquardt least squares optimisation to find \"best fit\" parameters (note the mismatch between noise and cost function types)\n",
    "4. Compute log Hessian around best fit to \n",
    "5. Compute error in parameters\n",
    "\n",
    "Rinse and repeat\n",
    "\n",
    "During nbinclude make sure CURDATAPOINT exists in the workspace outside, and it changes"
   ]
  },
  {
   "cell_type": "code",
   "execution_count": 1,
   "metadata": {
    "collapsed": false
   },
   "outputs": [
    {
     "data": {
      "text/plain": [
       "8-element Array{Float64,1}:\n",
       "  2.2e-6\n",
       "  0.42  \n",
       "  0.1026\n",
       "  0.58  \n",
       "  3.9e-5\n",
       "  6.16  \n",
       " 30.4   \n",
       "  2.0   "
      ]
     },
     "execution_count": 1,
     "metadata": {},
     "output_type": "execute_result"
    }
   ],
   "source": [
    "# Helper functions\n",
    "\n",
    "# Get a timestamp in useful format\n",
    "timestamp()=Dates.format(now(),\"_yyyymmddTHHMMSSss\")\n",
    "\n",
    "include(\"../BK_functions/bk_setup_script.jl\")\n"
   ]
  },
  {
   "cell_type": "code",
   "execution_count": null,
   "metadata": {
    "collapsed": true
   },
   "outputs": [],
   "source": [
    "# Load simulated data from fig_A1\n",
    "using JLD\n",
    "files = readdir(\"saves\")\n",
    "\n",
    "all_ydata_orig = Array(Any, 110)\n",
    "all_ydata_log = Array(Any, 110)\n",
    "all_filenames = Array(Any, 110)\n",
    "\n",
    "counter = 0\n",
    "for i in files\n",
    "    if contains(i, \"1110T\") && counter < 100 # for 10% error version\n",
    "        ydata_orig, ydata_log = load(\"saves/\"*i, \"ydata_orig\", \"ydata_log\")\n",
    "        counter += 1\n",
    "        all_ydata_orig[counter] = ydata_orig\n",
    "        all_ydata_log[counter] = ydata_log\n",
    "        all_filenames[counter] = i\n",
    "    end\n",
    "end"
   ]
  },
  {
   "cell_type": "code",
   "execution_count": null,
   "metadata": {
    "collapsed": false
   },
   "outputs": [],
   "source": [
    "# Load original fits for reduced models from fig_3 and fig_4\n",
    "outp = load(\"saves/figure3_smallVnorm.jld\", \"outp\");\n",
    "outp_log10 = load(\"saves/figure4.jld\", \"outp_log10\");\n",
    "\n",
    "# Choose models and corresponding phi fit\n",
    "model_orig_id = 11; # The one in Fig 3B and Fig 6C (3 reduction steps)\n",
    "model_log_id = 54; # The one in Fig 4C (2 reduction steps)\n",
    "\n",
    "phi0_orig = exp(outp[1][2,1])\n",
    "phi0_log = exp(outp_log10[1][4,1])\n",
    "\n",
    "# CURDATAPOINT: global variable from outside - which data file to use as input or give in here:\n",
    "# CURDATAPOINT = 5"
   ]
  },
  {
   "cell_type": "markdown",
   "metadata": {},
   "source": [
    "## Fit noisy original assay and compute Hessian around best fit"
   ]
  },
  {
   "cell_type": "code",
   "execution_count": null,
   "metadata": {
    "collapsed": false
   },
   "outputs": [],
   "source": [
    "# Optimise phi to fit the noisy data well\n",
    "using LsqFit\n",
    "\n",
    "ydata_orig = all_ydata_orig[CURDATAPOINT] \n",
    "cur_time = timestamp();\n",
    "\n",
    "# Store multiple fits (different initial point for LM, takes around 5 sec / fit)\n",
    "all_fits = Array(Any, 24)\n",
    "all_costs = Array(Any, length(all_fits))\n",
    "\n",
    "for i1 = 1:length(all_fits)\n",
    "    if i1==1\n",
    "        phi_init = phi0_orig;\n",
    "    else\n",
    "        phi_init = phi0_orig.*(1+(2*rand(size(phi0_orig))-1)*0.9) # Add up to 90% noise to initial params\n",
    "    end\n",
    "    all_fits[i1] = curve_fit((x,p) -> BK_simulator(exp(p), x, model_id=model_orig_id), hcat(x_grid...), ydata_orig, log(phi_init));\n",
    "    all_costs[i1] = sum(all_fits[i1].resid.^2);\n",
    "end\n",
    "\n",
    "# Find the best fit\n",
    "phi1_orig = exp(all_fits[findmin(all_costs)[2]].param);\n",
    "\n",
    "\n",
    "# Compute the Hessian around best fit\n",
    "x_loc = hcat(x_grid...);\n",
    "model_cur(phi::AbstractArray, x::AbstractArray) = BK_simulator(phi, x, model_id=model_orig_id)[:]\n",
    "data_vec = ydata_orig;\n",
    "f_cost = phi_var -> sum((model_cur(phi_var, x_loc)[:].-data_vec).^2); # Current cost function (quadratic)\n",
    "g_cost = phi_var -> log_deriv_wrapper(f_cost, phi_var); # Define which parameters we're taking in log space ([default: all])\n",
    "f_res = phi_var -> (model_cur(phi_var, x_loc)[:].-data_vec) # Return residuals\n",
    "g_res = phi_var -> log_deriv_wrapper(f_res, phi_var, log_specific=log_specific);\n",
    "\n",
    "# Determine the hyperellipsoid around our best fit:\n",
    "hess_orig = ForwardDiff.hessian(g_cost, log(phi1_orig)); #log hessian\n",
    "D_orig, V_orig = eig(hess_orig)"
   ]
  },
  {
   "cell_type": "code",
   "execution_count": null,
   "metadata": {
    "collapsed": false
   },
   "outputs": [],
   "source": [
    "[phi0_orig phi1_orig]"
   ]
  },
  {
   "cell_type": "markdown",
   "metadata": {},
   "source": [
    "## Fit noisy log assay and compute Hessian around best fit"
   ]
  },
  {
   "cell_type": "code",
   "execution_count": null,
   "metadata": {
    "collapsed": false
   },
   "outputs": [],
   "source": [
    "# Store multiple fits (different initial point for LM, takes around 5 sec / fit)\n",
    "all_fits = Array(Any, 24)\n",
    "all_costs = Array(Any, length(all_fits))\n",
    "\n",
    "ydata_log = log10(exp(all_ydata_log[CURDATAPOINT])) # note: In fig A1 we used normal log instead of log10 for both data and model to be fitted\n",
    "\n",
    "for i1 = 1:length(all_fits)\n",
    "    if i1==1\n",
    "        phi_init = phi0_log;\n",
    "    else\n",
    "        phi_init = phi0_log.*(1+(2*rand(size(phi0_log))-1)*0.9) # Add up to 90% noise to initial params\n",
    "    end\n",
    "    all_fits[i1] = curve_fit((x,p) -> BK_simulator(exp(p), x, model_id=model_log_id), hcat(x_grid...), ydata_log, log(phi_init)); # abs needed due to weird julia error, BK_simulator has an output range between 0 and 1\n",
    "    all_costs[i1] = sum(all_fits[i1].resid.^2);\n",
    "end\n",
    "\n",
    "# Find the best fit\n",
    "phi1_log = exp(all_fits[findmin(all_costs)[2]].param);\n",
    "\n",
    "# Compute the Hessian around best fit\n",
    "x_loc = hcat(x_grid...);\n",
    "model_cur(phi::AbstractArray, x::AbstractArray) = BK_simulator(phi, x, model_id=model_log_id)[:]\n",
    "data_vec = ydata_log;\n",
    "f_cost = phi_var -> sum((model_cur(phi_var, x_loc)[:].-data_vec).^2); # Current cost function (quadratic)\n",
    "g_cost = phi_var -> log_deriv_wrapper(f_cost, phi_var); # Define which parameters we're taking in log space ([default: all])\n",
    "f_res = phi_var -> (model_cur(phi_var, x_loc)[:].-data_vec) # Return residuals\n",
    "g_res = phi_var -> log_deriv_wrapper(f_res, phi_var, log_specific=log_specific);\n",
    "\n",
    "# Determine the hyperellipsoid around our best fit:\n",
    "hess_log = ForwardDiff.hessian(g_cost, log(phi1_log)); #log hessian of log assay\n",
    "D_log, V_log = eig(hess_log)"
   ]
  },
  {
   "cell_type": "code",
   "execution_count": null,
   "metadata": {
    "collapsed": false
   },
   "outputs": [],
   "source": [
    "[phi0_log phi1_log]"
   ]
  },
  {
   "cell_type": "markdown",
   "metadata": {
    "collapsed": true
   },
   "source": [
    "#save results - 10% version (original)\n",
    "save(\"saves/figure_A2_hess_\"*string(CURDATAPOINT)*\".jld\", \"hess_orig\", hess_orig, \"D_orig\", D_orig,\n",
    "\"hess_log\", hess_log, \"D_log\", D_log, \n",
    "\"phi1_orig\", phi1_orig, \"phi1_log\", phi1_log, \"phi0_orig\", phi0_orig, \"phi0_log\", phi0_log,\n",
    "\"ydata_orig\", ydata_orig, \"ydata_log\", ydata_log, \"A1_filename\", all_filenames[CURDATAPOINT])"
   ]
  },
  {
   "cell_type": "code",
   "execution_count": null,
   "metadata": {
    "collapsed": true
   },
   "outputs": [],
   "source": [
    "#save results - 10% version (original)\n",
    "save(\"saves/figure_A2_hess_11_origmodel_54_logmodel_\"*string(CURDATAPOINT)*\".jld\", \"hess_orig\", hess_orig, \"D_orig\", D_orig,\n",
    "\"hess_log\", hess_log, \"D_log\", D_log, \n",
    "\"phi1_orig\", phi1_orig, \"phi1_log\", phi1_log, \"phi0_orig\", phi0_orig, \"phi0_log\", phi0_log,\n",
    "\"ydata_orig\", ydata_orig, \"ydata_log\", ydata_log, \"A1_filename\", all_filenames[CURDATAPOINT])"
   ]
  }
 ],
 "metadata": {
  "kernelspec": {
   "display_name": "Julia 0.4.5",
   "language": "julia",
   "name": "julia-0.4"
  },
  "language_info": {
   "file_extension": ".jl",
   "mimetype": "application/julia",
   "name": "julia",
   "version": "0.4.5"
  }
 },
 "nbformat": 4,
 "nbformat_minor": 0
}
