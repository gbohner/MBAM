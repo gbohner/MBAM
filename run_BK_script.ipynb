{
 "cells": [
  {
   "cell_type": "markdown",
   "metadata": {},
   "source": [
    "# MBAM model reduction for the MWC model of BK\n",
    "Model taken from Aldrich 2002 (Equation 1) <br>\n",
    "Initial parameters taken from Miranda 2013 PNAS, Suppl fig 5 <br>\n",
    "Algorithm as in Transtrum 2015 (Equation 49-51) - except for signs\n",
    "\n",
    "The code below iteratively finds limits (boundaries) and stiff nonlinear combinations of sloppy parameters for the MWC model of BK, while preserving the model output function $P_{open}(V, [Ca] \\ | \\ \\theta)$.\n",
    "\n",
    "The iterative model reduction proceeds as follows:\n",
    "+ $\\theta = \\{L_0, z_L, J_0, z_J, K_d, C, D, E \\}$\n",
    "    * $z_L -> 0$\n",
    "    \n",
    "    \n",
    "+ $\\phi^1 = \\{L_0, J_0, z_J, K_d, C, D, E \\}$\n",
    "    * $L_0^{1/4} \\rightarrow 0, \\quad C \\rightarrow \\infty, \\quad D \\rightarrow \\infty, \\quad E \\rightarrow 0 $\n",
    "    \n",
    "\n",
    "+ $\\phi^2 = \\{J_0, z_J, K_d, L_0^{1/4}C, L_0^{1/4}D, L_0^{-1/4}E \\}$ \n",
    "    * $L_0^{1/4}C \\rightarrow 0, \\quad L_0^{-1/4}E \\rightarrow \\infty $\n",
    "    \n",
    "    \n",
    "+ $\\phi^3 = \\{J_0, z_J, K_d, CE, L_0^{1/4}D \\}$ \n",
    "    * $J_0 \\rightarrow 0, \\quad L_0^{1/4}D \\rightarrow \\infty $\n",
    " \n",
    " \n",
    "+ $\\phi^4 = \\{J_0L_0^{1/4}D, z_J, K_d, CE  \\}$ \n",
    "    * $K_d \\rightarrow \\infty, \\quad CE \\rightarrow \\infty $\n",
    " \n",
    " \n",
    "+ $\\phi^5 = \\{J_0L_0^{1/4}D, z_J, CEK_d^{-1}  \\}$ \n",
    "\n",
    "The $P_{open}(V, [Ca] \\ | \\ \\phi^5)$ function is an excellent approximation of the original (way below experimental error), despite having only 3 parameters. Each of the parameters are meaningful, the first one describing the slope of the voltage sensitivity, the second the middle point of the voltage sensitivity and the third the calcium sensitivity.\n",
    "Note that the 4 parameter-model ($\\phi^4$) describes both the voltage and the calcium sensitivity curves as two-parameter sigmoids. The allosteric MWC model introduces nonlinear interaction between these two sensitivity curves."
   ]
  },
  {
   "cell_type": "code",
   "execution_count": null,
   "metadata": {
    "collapsed": false
   },
   "outputs": [],
   "source": [
    "using NBInclude #Includes for ipynb-s\n",
    "using JLD # Julia data I/O\n",
    "nbinclude(\"MBAM.ipynb\")\n",
    "nbinclude(\"BK_functions/BK_functions.ipynb\")\n"
   ]
  },
  {
   "cell_type": "code",
   "execution_count": null,
   "metadata": {
    "collapsed": false
   },
   "outputs": [],
   "source": [
    "# Create grid to evaluate over\n",
    "using Iterators\n",
    "Ca=([0, 0.7, 4, 12, 22, 55, 70, 95]*1e-6)\n",
    "V=collect(-100:25:200)*1e-3\n",
    "\n",
    "x_grid = Array(Any, (length(Ca)*length(V),))\n",
    "iterind = 0;\n",
    "for j1 in product(Ca, V)\n",
    "    iterind += 1;\n",
    "    x_grid[iterind] = collect(j1)\n",
    "end\n",
    "size(x_grid[1])"
   ]
  },
  {
   "cell_type": "code",
   "execution_count": null,
   "metadata": {
    "collapsed": false
   },
   "outputs": [],
   "source": [
    "# Single MBAM call that runs through all iterations of BK model reduction with automated model reduction\n",
    "phi0 = [2.2e-6, 0.42, 0.1026, 0.58, 39*1e-6, 6.16,30.4,2.0];\n",
    "outp = MBAM(BK_simulator, phi0, x_grid, model_iters=[10], move_dir=[-1], boundary_time=10, verbose=1);\n"
   ]
  },
  {
   "cell_type": "code",
   "execution_count": null,
   "metadata": {
    "collapsed": false
   },
   "outputs": [],
   "source": [
    "log(outp[5])"
   ]
  },
  {
   "cell_type": "code",
   "execution_count": null,
   "metadata": {
    "collapsed": false
   },
   "outputs": [],
   "source": [
    "res = outp[8][1][2]; # First reduced model\n",
    "1"
   ]
  },
  {
   "cell_type": "code",
   "execution_count": null,
   "metadata": {
    "collapsed": false
   },
   "outputs": [],
   "source": [
    "nbinclude(\"MBAM.ipynb\")\n",
    "phi_boundary = exp(BK_reduce([-19.74, -10.16,      -2.96,      -0.55,     -10.29,       2.19,       5.95,       0.11], model_id=11))\n",
    "outp = MBAM(BK_cost, phi_boundary, BK_simulator, model_iters=11, move_dir=-1, boundary_time=10, verbose=1);"
   ]
  },
  {
   "cell_type": "code",
   "execution_count": null,
   "metadata": {
    "collapsed": false
   },
   "outputs": [],
   "source": [
    "save(\"BK_results/geodesic_$(timestamp()).jld\", \"outp\", )"
   ]
  },
  {
   "cell_type": "code",
   "execution_count": null,
   "metadata": {
    "collapsed": false
   },
   "outputs": [],
   "source": [
    "outp[8][1][1]"
   ]
  },
  {
   "cell_type": "code",
   "execution_count": null,
   "metadata": {
    "collapsed": false
   },
   "outputs": [],
   "source": [
    "vn = v/norm(v)\n",
    "norm(vn[abs(vn).<5e-2])<1e-3"
   ]
  },
  {
   "cell_type": "code",
   "execution_count": null,
   "metadata": {
    "collapsed": true
   },
   "outputs": [],
   "source": []
  },
  {
   "cell_type": "code",
   "execution_count": null,
   "metadata": {
    "collapsed": true
   },
   "outputs": [],
   "source": []
  },
  {
   "cell_type": "code",
   "execution_count": null,
   "metadata": {
    "collapsed": true
   },
   "outputs": [],
   "source": []
  },
  {
   "cell_type": "code",
   "execution_count": null,
   "metadata": {
    "collapsed": true
   },
   "outputs": [],
   "source": []
  },
  {
   "cell_type": "code",
   "execution_count": null,
   "metadata": {
    "collapsed": true
   },
   "outputs": [],
   "source": []
  },
  {
   "cell_type": "code",
   "execution_count": null,
   "metadata": {
    "collapsed": true
   },
   "outputs": [],
   "source": [
    "# Single MBAM call that runs through all iterations of BK model reduction\n",
    "x_0 = [2.2e-6, 0.42, 0.1026, 0.58, 39*1e-6, 6.16,30.4,2.0]\n",
    "@time (x, cost, v, D, x_red1) = MBAM(BK_cost, x_0, BK_reduce, model_iters=collect(10:14), move_dir=[-1,-1,1,1,1], boundary_time=10, verbose=1);\n"
   ]
  },
  {
   "cell_type": "markdown",
   "metadata": {},
   "source": [
    "### Iterative MBAM calls\n",
    "(Old)"
   ]
  },
  {
   "cell_type": "code",
   "execution_count": null,
   "metadata": {
    "collapsed": false
   },
   "outputs": [],
   "source": [
    "#Run MBAM on BK model (inital iteration)\n",
    "x_0 = [2.2e-6, 0.42, 0.1026, 0.58, 39*1e-6, 6.16,30.4,2.0]\n",
    "@time (x, cost, v, D, x_red1) = MBAM(BK_cost, x_0, BK_reduce, model_iters=10, boundary_time=10, verbose=0);\n",
    "@save \"BK_results/geodesic_iter_1$(timestamp()).jld\""
   ]
  },
  {
   "cell_type": "code",
   "execution_count": null,
   "metadata": {
    "collapsed": true
   },
   "outputs": [],
   "source": []
  },
  {
   "cell_type": "code",
   "execution_count": null,
   "metadata": {
    "collapsed": false
   },
   "outputs": [],
   "source": [
    "#Run MBAM on BK model (second iteration)\n",
    "x_red1 = BK_reduce(x, model_id=11)\n",
    "(x, cost, v, D, x_red2) = MBAM(BK_cost, exp(x_red1), BK_reduce, model_iters=11, boundary_time=10, verbose=0);\n",
    "@save \"BK_results/geodesic_iter_2$(timestamp()).jld\""
   ]
  },
  {
   "cell_type": "code",
   "execution_count": null,
   "metadata": {
    "collapsed": false
   },
   "outputs": [],
   "source": [
    "#Run MBAM on BK model (third iteration)\n",
    "x_red2 = BK_reduce(x, model_id=12)\n",
    "@time (x, cost, v, D, x_red3) = MBAM(BK_cost, exp(x_red2), BK_reduce, model_iters=12, boundary_time=10, verbose=1); \n",
    "@save \"BK_results/geodesic_iter_3$(timestamp()).jld\""
   ]
  },
  {
   "cell_type": "code",
   "execution_count": null,
   "metadata": {
    "collapsed": false
   },
   "outputs": [],
   "source": [
    "#Run MBAM on BK model (fourth iteration)\n",
    "@time (x, cost, v, D, x_red4) = MBAM(BK_cost, exp(x_red3), BK_reduce, model_iters=13, boundary_time=10, verbose=0); \n",
    "@save \"BK_results/geodesic_iter_4$(timestamp()).jld\"\n",
    "# Doesn't really seem to converge anymore"
   ]
  },
  {
   "cell_type": "code",
   "execution_count": null,
   "metadata": {
    "collapsed": true
   },
   "outputs": [],
   "source": [
    "#Run MBAM on BK model (fifth iteration)\n",
    "@time (x, cost, v, D, x_red5) = MBAM(BK_cost, exp(x_red4), BK_reduce, model_iters=14, boundary_time=10, verbose=0); \n",
    "@save \"BK_results/geodesic_iter_5$(timestamp()).jld\""
   ]
  },
  {
   "cell_type": "code",
   "execution_count": null,
   "metadata": {
    "collapsed": false
   },
   "outputs": [],
   "source": [
    "using Plots\n",
    "x_0 = [2.2e-6, 0.42, 0.1026, 0.58, 39*1e-6, 6.16,30.4,2.0]\n",
    "\n",
    "#Original model at x_0\n",
    "Plots.plot(BK_simulator(x_0,model_id=0)')"
   ]
  },
  {
   "cell_type": "code",
   "execution_count": null,
   "metadata": {
    "collapsed": false
   },
   "outputs": [],
   "source": [
    "# Reduced model at the boundary\n",
    "Plots.plot(BK_simulator(exp(x),model_id=14)')"
   ]
  }
 ],
 "metadata": {
  "kernelspec": {
   "display_name": "Julia 0.4.5",
   "language": "julia",
   "name": "julia-0.4"
  },
  "language_info": {
   "file_extension": ".jl",
   "mimetype": "application/julia",
   "name": "julia",
   "version": "0.4.5"
  }
 },
 "nbformat": 4,
 "nbformat_minor": 0
}
