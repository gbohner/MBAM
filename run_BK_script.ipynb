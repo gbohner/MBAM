{
 "cells": [
  {
   "cell_type": "markdown",
   "metadata": {},
   "source": [
    "# MBAM model reduction for the MWC model of BK\n",
    "Model taken from Aldrich 2002 (Equation 1) <br>\n",
    "Initial parameters taken from Miranda 2013 PNAS, Suppl fig 5 <br>\n",
    "Algorithm as in Transtrum 2015 (Equation 49-51) - except for signs\n",
    "\n",
    "The code below iteratively finds limits (boundaries) and stiff nonlinear combinations of sloppy parameters for the MWC model of BK, while preserving the model output function $P_{open}(V, [Ca] \\ | \\ \\theta)$.\n",
    "\n",
    "The iterative model reduction proceeds as follows:\n",
    "+ $\\theta = \\{L_0, z_L, J_0, z_J, K_d, C, D, E \\}$\n",
    "    * $z_L -> 0$\n",
    "    \n",
    "    \n",
    "+ $\\phi^1 = \\{L_0, J_0, z_J, K_d, C, D, E \\}$\n",
    "    * $L_0^{1/4} \\rightarrow 0, \\quad C \\rightarrow \\infty, \\quad D \\rightarrow \\infty, \\quad E \\rightarrow 0 $\n",
    "    \n",
    "\n",
    "+ $\\phi^2 = \\{J_0, z_J, K_d, L_0^{1/4}C, L_0^{1/4}D, L_0^{-1/4}E \\}$ \n",
    "    * $L_0^{1/4}C \\rightarrow 0, \\quad L_0^{-1/4}E \\rightarrow \\infty $\n",
    "    \n",
    "    \n",
    "+ $\\phi^3 = \\{J_0, z_J, K_d, CE, L_0^{1/4}D \\}$ \n",
    "    * $J_0 \\rightarrow 0, \\quad L_0^{1/4}D \\rightarrow \\infty $\n",
    " \n",
    " \n",
    "+ $\\phi^4 = \\{J_0L_0^{1/4}D, z_J, K_d, CE  \\}$ \n",
    "    * $K_d \\rightarrow \\infty, \\quad CE \\rightarrow \\infty $\n",
    " \n",
    " \n",
    "+ $\\phi^5 = \\{J_0L_0^{1/4}D, z_J, CEK_d^{-1}  \\}$ \n",
    "\n",
    "The $P_{open}(V, [Ca] \\ | \\ \\phi^5)$ function is an excellent approximation of the original (way below experimental error), despite having only 3 parameters. Each of the parameters are meaningful, the first one describing the slope of the voltage sensitivity, the second the middle point of the voltage sensitivity and the third the calcium sensitivity.\n",
    "Note that the 4 parameter-model ($\\phi^4$) describes both the voltage and the calcium sensitivity curves as two-parameter sigmoids. The allosteric MWC model introduces nonlinear interaction between these two sensitivity curves."
   ]
  },
  {
   "cell_type": "code",
   "execution_count": null,
   "metadata": {
    "collapsed": false
   },
   "outputs": [],
   "source": [
    "using NBInclude #Includes for ipynb-s\n",
    "#using JLD # Julia data I/O\n",
    "nbinclude(\"MBAM.ipynb\")\n",
    "nbinclude(\"BK_functions/BK_functions.ipynb\")\n"
   ]
  },
  {
   "cell_type": "code",
   "execution_count": null,
   "metadata": {
    "collapsed": false
   },
   "outputs": [],
   "source": [
    "# Create grid to evaluate over\n",
    "#=\n",
    "using Iterators\n",
    "Ca=([0.0, 0.7, 4.0, 12.0, 22.0, 55.0, 70.0, 95.0]*1e-6)\n",
    "V=collect(-100:25:200)*1e-3\n",
    "Ca = float(Ca)\n",
    "V = float(V)\n",
    "\n",
    "x_grid = Array(Any, (length(Ca)*length(V),))\n",
    "iterind = 0;\n",
    "for j1 in product(Ca, V)\n",
    "    iterind += 1;\n",
    "    x_grid[iterind] = collect(j1)\n",
    "end\n",
    "size(x_grid[1])\n",
    "=#"
   ]
  },
  {
   "cell_type": "code",
   "execution_count": null,
   "metadata": {
    "collapsed": false
   },
   "outputs": [],
   "source": [
    "#=\n",
    "# Single MBAM call that runs through all iterations of BK model reduction with NON-AUTOMATED model reduction\n",
    "phi0 = [2.2e-6, 0.42, 0.1026, 0.58, 39*1e-6, 6.16,30.4,2.0];\n",
    "outp = MBAM(BK_simulator, phi0, x_grid, model_iters=[10, 11, 12, 13, 14], \n",
    "move_dir=[-1, -1, 1, 1, -1], boundary_time=10, verbose=1, reduce_func=BK_reduce);\n",
    "=#\n"
   ]
  },
  {
   "cell_type": "markdown",
   "metadata": {},
   "source": [
    "# Fit the reduced models to data\n",
    "Using data from Aldrich 2010 Fig 4c,d fit simplified models"
   ]
  },
  {
   "cell_type": "code",
   "execution_count": null,
   "metadata": {
    "collapsed": false
   },
   "outputs": [],
   "source": [
    "# Read the data\n",
    "data_4c_control = readcsv(\"Figures/aldrich_fig4c_control.csv\")[1:end-1,:]\n",
    "data_4c_lrrc26 = readcsv(\"Figures/aldrich_fig4c_lrrc26.csv\")\n",
    "data_4d_control = readcsv(\"Figures/aldrich_fig4d_control.csv\")\n",
    "data_4d_lrrc26 = readcsv(\"Figures/aldrich_fig4d_lrrc26.csv\");\n"
   ]
  },
  {
   "cell_type": "markdown",
   "metadata": {},
   "source": [
    "# Models for simultaneously fitting all 4 curves"
   ]
  },
  {
   "cell_type": "code",
   "execution_count": null,
   "metadata": {
    "collapsed": false
   },
   "outputs": [],
   "source": [
    "# join the data\n",
    "data_x = [data_4c_control[:,1]; data_4c_lrrc26[:,1]; data_4d_control[:,1]; data_4d_lrrc26[:,1]]*1e-3;\n",
    "data_y = [data_4c_control[:,2]; data_4c_lrrc26[:,2]; log10(data_4d_control[:,2]); log10(data_4d_lrrc26[:,2])];\n",
    "data_in_log = [zeros(length(data_4c_control[:,1]),1); zeros(length(data_4c_lrrc26[:,1]),1); \n",
    "    ones(length(data_4d_control[:,1]),1); ones(length(data_4d_lrrc26[:,1]),1)].==1;\n",
    "dataset_ranges = Any[1:length(data_4c_control[:,1]),\n",
    "    (length(data_4c_control[:,1])+1):(length(data_4c_control[:,1])+length(data_4c_lrrc26[:,1])),\n",
    "    (length(data_4c_control[:,1])+length(data_4c_lrrc26[:,1])+1):(length(data_4c_control[:,1])+length(data_4c_lrrc26[:,1])+length(data_4d_control[:,1])),\n",
    "    (length(data_4c_control[:,1])+length(data_4c_lrrc26[:,1])+length(data_4d_control[:,1])+1):length(data_x)]\n",
    "\n",
    "# Tradeoff between log-space fit and original space fit by norm of data there\n",
    "w_log = norm([data_4c_control[:,2]; data_4c_lrrc26[:,2]])./norm([data_4d_control[:,2]; data_4d_lrrc26[:,2]])"
   ]
  },
  {
   "cell_type": "code",
   "execution_count": null,
   "metadata": {
    "collapsed": false
   },
   "outputs": [],
   "source": [
    "# Return results in log\n",
    "function to_log(x::AbstractArray, in_log::AbstractArray)\n",
    "    x = copy(x);\n",
    "    x[x.<1e-12]=1e-12\n",
    "    x[find(a->a==true, in_log)] = log10(x[find(a->a==true, in_log)])\n",
    "    return x\n",
    "end\n",
    "\n",
    "function scale_data(x::AbstractArray, to_scale::AbstractArray, w)\n",
    "    x = copy(x);\n",
    "    x[find(a->a==true, to_scale)] *= w;\n",
    "    return x\n",
    "end"
   ]
  },
  {
   "cell_type": "markdown",
   "metadata": {},
   "source": [
    "## Models"
   ]
  },
  {
   "cell_type": "code",
   "execution_count": null,
   "metadata": {
    "collapsed": false
   },
   "outputs": [],
   "source": [
    "using LsqFit\n",
    "using Physical\n",
    "\n",
    "elec_resp = (Volt*(-1)*e_electron/(k_boltzmann*304*Kelvin));\n",
    "\n",
    "\n",
    "function model_orig(x::AbstractArray, ϕ::AbstractArray)\n",
    "    D = ϕ[1]; L0 = ϕ[2]; J0 = ϕ[3]; zJ = ϕ[4]; zL = ϕ[5];\n",
    "    Popen = (1+\n",
    "    (1.+J0.*exp(-zJ .* x .* elec_resp )).^4\n",
    "    ./\n",
    "    ( L0.*exp(-zL .* x .* elec_resp ).*(1+D.*J0.*exp(-zJ .* x .* elec_resp )).^4)\n",
    "    ).^-1\n",
    "    \n",
    "    logPopen = copy(Popen);\n",
    "    for p1 = 1:length(logPopen)\n",
    "        logPopen[p1] = Popen[p1]>0?log(Popen[p1]):-6\n",
    "    end\n",
    "    return Popen\n",
    "end\n",
    "\n",
    "function model_red(x::AbstractArray, ϕ::AbstractArray)\n",
    "    DL0 = ϕ[1]; J0 = ϕ[2]; zJ = ϕ[3]; zL = ϕ[4];\n",
    "    Popen = (1+\n",
    "    (1.+J0.*exp(-zJ .* x .* elec_resp )).^4\n",
    "    ./\n",
    "    (exp(-zL .* x .* elec_resp ).*(DL0.*J0.*exp(-zJ .* x .* elec_resp )).^4)\n",
    "    ).^-1\n",
    "    return Popen\n",
    "end\n",
    "\n",
    "function model_Dmoves(x::AbstractArray, ϕ::AbstractArray; in_log=(zeros(size(x)).==1), data_ranges=Any[collect(1:length(x))], w_log=1)\n",
    "    y_out = zeros(size(x))\n",
    "    y_out[data_ranges[1]] = model_orig(x[data_ranges[1]], [ϕ[1]; ϕ[2:5]])\n",
    "    y_out[data_ranges[2]] = model_orig(x[data_ranges[2]], [ϕ[6]; ϕ[2:5]])\n",
    "    y_out[data_ranges[3]] = model_orig(x[data_ranges[3]], [ϕ[1]; ϕ[2:5]])\n",
    "    y_out[data_ranges[4]] = model_orig(x[data_ranges[4]], [ϕ[6]; ϕ[2:5]])\n",
    "    return scale_data(to_log(y_out, in_log), in_log, w_log);\n",
    "end\n",
    "\n",
    "\n",
    "function model_LDmoves(x::AbstractArray, ϕ::AbstractArray; in_log=(zeros(size(x)).==1), data_ranges=Any[collect(1:length(x))], w_log=1)\n",
    "    y_out = zeros(size(x))\n",
    "    y_out[data_ranges[1]] = model_red(x[data_ranges[1]], [ϕ[1]; ϕ[2:4]])\n",
    "    y_out[data_ranges[2]] = model_red(x[data_ranges[2]], [ϕ[5]; ϕ[2:4]])\n",
    "    y_out[data_ranges[3]] = model_red(x[data_ranges[3]], [ϕ[1]; ϕ[2:4]])\n",
    "    y_out[data_ranges[4]] = model_red(x[data_ranges[4]], [ϕ[5]; ϕ[2:4]])\n",
    "    return scale_data(to_log(y_out, in_log), in_log, w_log);\n",
    "end\n",
    "\n",
    "\n",
    "function model_red_allmoves(x::AbstractArray, ϕ::AbstractArray; in_log=(zeros(size(x)).==1), data_ranges=Any[collect(1:length(x))], w_log=1)\n",
    "    y_out = zeros(size(x))\n",
    "    y_out[data_ranges[1]] = model_red(x[data_ranges[1]], [ϕ[1]; ϕ[2:4]])\n",
    "    y_out[data_ranges[2]] = model_red(x[data_ranges[2]], [ϕ[5]; ϕ[6:8]])\n",
    "    y_out[data_ranges[3]] = model_red(x[data_ranges[3]], [ϕ[1]; ϕ[2:4]])\n",
    "    y_out[data_ranges[4]] = model_red(x[data_ranges[4]], [ϕ[5]; ϕ[6:8]])\n",
    "    return scale_data(to_log(y_out, in_log), in_log, w_log);\n",
    "end"
   ]
  },
  {
   "cell_type": "code",
   "execution_count": null,
   "metadata": {
    "collapsed": false
   },
   "outputs": [],
   "source": [
    "weight_of_log_fits = 0.53;\n",
    "\n",
    "phi0 = [21.0, 3.6e-6, 0.048, 0.59, 0.29]\n",
    "\n",
    "fit_orig = LsqFit.curve_fit((a,b)->model_Dmoves(a,b, in_log=data_in_log, data_ranges=dataset_ranges, w_log=weight_of_log_fits), \n",
    "                                data_x, scale_data(data_y, data_in_log, weight_of_log_fits), [phi0; 412]);\n",
    "\n",
    "orig_cost=sum(scale_data(fit_orig.resid, data_in_log, weight_of_log_fits).^2)\n",
    "\n",
    "par_results = zeros(5,100)\n",
    "par_costs = zeros(1,100)\n",
    "for i1 = 1:100\n",
    "    fit_red = LsqFit.curve_fit((a,b)->model_LDmoves(a,b, in_log=data_in_log, data_ranges=dataset_ranges, w_log=weight_of_log_fits), \n",
    "    data_x, scale_data(data_y, data_in_log, weight_of_log_fits), [0.91; phi0[3:5]; 3]+randn(5,));\n",
    "    \n",
    "    par_results[:,i1] = fit_red.param\n",
    "    par_costs[i1] = sum(scale_data(fit_red.resid, data_in_log, weight_of_log_fits).^2)\n",
    "end"
   ]
  },
  {
   "cell_type": "code",
   "execution_count": null,
   "metadata": {
    "collapsed": false
   },
   "outputs": [],
   "source": [
    "@show par_costs\n",
    "@show minimum(par_costs)\n",
    "@show orig_cost"
   ]
  },
  {
   "cell_type": "code",
   "execution_count": null,
   "metadata": {
    "collapsed": false
   },
   "outputs": [],
   "source": [
    "y_pred_orig = model_Dmoves(data_x, [phi0, 412], data_ranges=dataset_ranges, in_log=data_in_log);\n",
    "y_pred_origfit = model_Dmoves(data_x, fit_orig.param, data_ranges=dataset_ranges, in_log=data_in_log);\n",
    "y_pred_redfit = model_LDmoves(data_x, par_results[:,sortperm(par_costs[:])[1]], data_ranges=dataset_ranges, in_log=data_in_log);"
   ]
  },
  {
   "cell_type": "code",
   "execution_count": null,
   "metadata": {
    "collapsed": false,
    "scrolled": true
   },
   "outputs": [],
   "source": [
    "using PlotlyJS\n",
    "\n",
    "\n",
    "p1 = Plot([scatter(;x=data_x[dataset_ranges[3]], y=data_y[dataset_ranges[3]]),\n",
    "    scatter(;x=data_x[dataset_ranges[4]], y=data_y[dataset_ranges[4]]),\n",
    "    scatter(;x=data_x[dataset_ranges[3]], y=y_pred_origfit[dataset_ranges[3]]),\n",
    "    scatter(;x=data_x[dataset_ranges[4]], y=y_pred_origfit[dataset_ranges[4]]),\n",
    "    scatter(;x=data_x[dataset_ranges[3]], y=y_pred_redfit[dataset_ranges[3]]),\n",
    "    scatter(;x=data_x[dataset_ranges[4]], y=y_pred_redfit[dataset_ranges[4]])\n",
    "    ]\n",
    "        )\n",
    "\n",
    "p2 = Plot([scatter(;x=data_x[dataset_ranges[1]], y=data_y[dataset_ranges[1]]),\n",
    "    scatter(;x=data_x[dataset_ranges[2]], y=data_y[dataset_ranges[2]]),\n",
    "    scatter(;x=data_x[dataset_ranges[1]], y=y_pred_origfit[dataset_ranges[1]]),\n",
    "    scatter(;x=data_x[dataset_ranges[2]], y=y_pred_origfit[dataset_ranges[2]]),\n",
    "    scatter(;x=data_x[dataset_ranges[1]], y=y_pred_redfit[dataset_ranges[1]]),\n",
    "    scatter(;x=data_x[dataset_ranges[2]], y=y_pred_redfit[dataset_ranges[2]])\n",
    "    ]\n",
    "        )\n",
    "\n",
    "plt = plot([p1\n",
    "    p2])\n"
   ]
  },
  {
   "cell_type": "code",
   "execution_count": null,
   "metadata": {
    "collapsed": false
   },
   "outputs": [],
   "source": [
    "PlotlyJS.relayout!(plt, height=1000)"
   ]
  },
  {
   "cell_type": "code",
   "execution_count": null,
   "metadata": {
    "collapsed": false
   },
   "outputs": [],
   "source": [
    "#@show fit_orig.param\n",
    "#@show fit_red.param"
   ]
  },
  {
   "cell_type": "markdown",
   "metadata": {},
   "source": [
    "# Model reduction while fitting log and classic data simultaneously"
   ]
  },
  {
   "cell_type": "code",
   "execution_count": null,
   "metadata": {
    "collapsed": false
   },
   "outputs": [],
   "source": [
    "# Enable all parameters to move between Control and LRRC26, see what gets reduced\n",
    "\n",
    "function model_allmoves(x::AbstractArray, ϕ::AbstractArray; in_log=(zeros(size(x)).==1), data_ranges=Any[collect(1:length(x))], w_log=1)\n",
    "    y_out1 = model_orig(x[data_ranges[1]], [ϕ[1]; ϕ[2:5]])\n",
    "    y_out2 = model_orig(x[data_ranges[2]], [ϕ[6]; ϕ[7:10]])\n",
    "    y_out3 = model_orig(x[data_ranges[3]], [ϕ[1]; ϕ[2:5]])\n",
    "    y_out4 = model_orig(x[data_ranges[4]], [ϕ[6]; ϕ[7:10]])\n",
    "    y_out = [y_out1; y_out2; y_out3; y_out4]\n",
    "    return scale_data(to_log(y_out, in_log), in_log, w_log);\n",
    "end"
   ]
  },
  {
   "cell_type": "code",
   "execution_count": null,
   "metadata": {
    "collapsed": false
   },
   "outputs": [],
   "source": [
    "# Find best fit point\n",
    "weight_of_log_fits = w_log;\n",
    "\n",
    "par_results = zeros(10,100)\n",
    "par_costs = zeros(1,100)\n",
    "for i1 = 1:100\n",
    "    fit_orig = LsqFit.curve_fit((a,b)->model_allmoves(a,b, in_log=data_in_log, data_ranges=dataset_ranges, w_log=weight_of_log_fits), \n",
    "                                data_x, scale_data(data_y, data_in_log, weight_of_log_fits), \n",
    "                                [phi0, 412, phi0[2:5]].*2.*rand(10,));\n",
    "\n",
    "    par_results[:,i1] = fit_orig.param\n",
    "    par_costs[i1] = sum(scale_data(fit_orig.resid, data_in_log, weight_of_log_fits).^2)\n",
    "end\n",
    "\n",
    "y_pred_origfit = model_allmoves(data_x, par_results[:,sortperm(par_costs[:])[1]], data_ranges=dataset_ranges, in_log=data_in_log);\n",
    "\n"
   ]
  },
  {
   "cell_type": "code",
   "execution_count": null,
   "metadata": {
    "collapsed": false
   },
   "outputs": [],
   "source": [
    "@show minimum(par_costs)\n",
    "@show par_results[:, sortperm(par_costs[:])[1]]"
   ]
  },
  {
   "cell_type": "code",
   "execution_count": null,
   "metadata": {
    "collapsed": false
   },
   "outputs": [],
   "source": [
    "\n",
    "p1 = Plot([scatter(;x=data_x[dataset_ranges[3]], y=data_y[dataset_ranges[3]]),\n",
    "    scatter(;x=data_x[dataset_ranges[4]], y=data_y[dataset_ranges[4]]),\n",
    "    scatter(;x=data_x[dataset_ranges[3]], y=y_pred_origfit[dataset_ranges[3]]),\n",
    "    scatter(;x=data_x[dataset_ranges[4]], y=y_pred_origfit[dataset_ranges[4]]),\n",
    "    ]\n",
    "        )\n",
    "\n",
    "p2 = Plot([scatter(;x=data_x[dataset_ranges[1]], y=data_y[dataset_ranges[1]]),\n",
    "    scatter(;x=data_x[dataset_ranges[2]], y=data_y[dataset_ranges[2]]),\n",
    "    scatter(;x=data_x[dataset_ranges[1]], y=y_pred_origfit[dataset_ranges[1]]),\n",
    "    scatter(;x=data_x[dataset_ranges[2]], y=y_pred_origfit[dataset_ranges[2]]),\n",
    "    ]\n",
    "        )\n",
    "\n",
    "plt = plot([p1\n",
    "    p2])"
   ]
  },
  {
   "cell_type": "code",
   "execution_count": null,
   "metadata": {
    "collapsed": true
   },
   "outputs": [],
   "source": [
    "PlotlyJS.relayout!(plt, height=1000)"
   ]
  },
  {
   "cell_type": "code",
   "execution_count": null,
   "metadata": {
    "collapsed": false
   },
   "outputs": [],
   "source": [
    "#@show par_costs"
   ]
  },
  {
   "cell_type": "code",
   "execution_count": null,
   "metadata": {
    "collapsed": false
   },
   "outputs": [],
   "source": [
    "# Run MBAM on the complete model and see what happens\n",
    "\n",
    "basic_model(param::AbstractArray, data::AbstractArray; model_id=0)=model_allmoves(data,param, in_log=data_in_log, data_ranges=dataset_ranges, w_log=weight_of_log_fits);\n",
    "\n",
    "data_x_grid = [Real(d1) for d1 in data_x];\n",
    "\n",
    "phi_joint0 = copy(par_results[:, sortperm(par_costs[:])[1]])\n",
    "#= Code to run in normal julia (so that chrome doesnt die)\n",
    "\n",
    "outp = MBAM(basic_model, phi_joint0, data_x_grid, model_iters=[0], \n",
    "move_dir=[-1], boundary_time=10, verbose=2, reduce_func=BK_reduce);\n",
    "\n",
    "=#"
   ]
  },
  {
   "cell_type": "markdown",
   "metadata": {
    "collapsed": true
   },
   "source": [
    "# Figure 4c-d models for optimal information"
   ]
  },
  {
   "cell_type": "code",
   "execution_count": 1,
   "metadata": {
    "collapsed": false
   },
   "outputs": [
    {
     "data": {
      "text/plain": [
       "bk_model_2010 (generic function with 1 method)"
      ]
     },
     "execution_count": 1,
     "metadata": {},
     "output_type": "execute_result"
    }
   ],
   "source": [
    "using LsqFit\n",
    "using Physical\n",
    "\n",
    "elec_resp = (Volt*(-1)*e_electron/(k_boltzmann*304*Kelvin));\n",
    "\n",
    "\n",
    "function bk_model_2010(ϕ::AbstractArray, x::AbstractArray; model_id=[])\n",
    "    if model_id == 0 # Aldrich 2010, eq. 1\n",
    "        D = ϕ[1]; L0 = ϕ[2]; J0 = ϕ[3]; zJ = ϕ[4]; zL = ϕ[5];\n",
    "        Popen = (1+\n",
    "        (1.+J0.*exp(-zJ .* x .* elec_resp )).^4\n",
    "        ./\n",
    "        ( L0.*exp(-zL .* x .* elec_resp ).*(1+D.*J0.*exp(-zJ .* x .* elec_resp )).^4)\n",
    "        ).^-1\n",
    "\n",
    "        return Popen\n",
    "    end\n",
    "    \n",
    "    if model_id == 1\n",
    "        DL = ϕ[1]; J0 = ϕ[2]; zJ = ϕ[3]; zL = ϕ[4];\n",
    "        Popen = (1+\n",
    "        (1.+J0.*exp(-zJ .* x .* elec_resp )).^4\n",
    "        ./\n",
    "        ( exp(-zL .* x .* elec_resp ).*(DL.*J0.*exp(-zJ .* x .* elec_resp )).^4)\n",
    "        ).^-1\n",
    "\n",
    "        return Popen\n",
    "    end\n",
    "    \n",
    "    if model_id == 2\n",
    "        DL = ϕ[1]; J0 = ϕ[2]; zJ = ϕ[3]\n",
    "        Popen = (1+\n",
    "        (1.+J0.*exp(-zJ .* x .* elec_resp )).^4\n",
    "        ./\n",
    "        ((DL.*J0.*exp(-zJ .* x .* elec_resp )).^4)\n",
    "        ).^-1\n",
    "\n",
    "        return Popen\n",
    "    end\n",
    "    \n",
    "    ########################################################################\n",
    "    ########################################################################\n",
    "    ########################################################################\n",
    "    # Aldrich 2010, eq. 1 in log space\n",
    "    if model_id==10 \n",
    "        D = ϕ[1]; L0 = ϕ[2]; J0 = ϕ[3]; zJ = ϕ[4]; zL = ϕ[5];\n",
    "        Popen = (1+\n",
    "        (1.+J0.*exp(-zJ .* x .* elec_resp )).^4\n",
    "        ./\n",
    "        ( L0.*exp(-zL .* x .* elec_resp ).*((1+D.*J0.*exp(-zJ .* x .* elec_resp )).^4))\n",
    "        ).^-1\n",
    "\n",
    "        logPopen = copy(Popen);\n",
    "        for p1 = 1:length(logPopen)\n",
    "            logPopen[p1] = Popen[p1]>0?log10(Popen[p1]):-10\n",
    "        end\n",
    "        return logPopen\n",
    "    end\n",
    "    \n",
    "    if model_id==11\n",
    "        DJ = ϕ[1]; L0 = ϕ[2]; zJ = ϕ[3]; zL = ϕ[4];\n",
    "        Popen = (1+\n",
    "        1.^4\n",
    "        ./\n",
    "        ( L0.*exp(-zL .* x .* elec_resp ).*((1+DJ.*exp(-zJ .* x .* elec_resp )).^4))\n",
    "        ).^-1\n",
    "\n",
    "        logPopen = copy(Popen);\n",
    "        for p1 = 1:length(logPopen)\n",
    "            logPopen[p1] = Popen[p1]>0?log10(Popen[p1]):-10\n",
    "        end\n",
    "        return logPopen\n",
    "    end\n",
    "    \n",
    "    \n",
    "    if model_id==12\n",
    "        DJ = ϕ[1]; L0 = ϕ[2]; zJ = ϕ[3];\n",
    "        Popen = (1+\n",
    "        1.^4\n",
    "        ./\n",
    "        ( L0.*((1+DJ.*exp(-zJ .* x .* elec_resp )).^4))\n",
    "        ).^-1\n",
    "\n",
    "        logPopen = copy(Popen);\n",
    "        for p1 = 1:length(logPopen)\n",
    "            logPopen[p1] = Popen[p1]>0?log10(Popen[p1]):-10\n",
    "        end\n",
    "        return logPopen\n",
    "    end\n",
    "    \n",
    "    ########################################################################\n",
    "    ########################################################################\n",
    "    ########################################################################\n",
    "    # Aldrich 2010, eq. 1 in log space, but n = 17 (optimal inf. theory sense)\n",
    "    if model_id==20\n",
    "        D = ϕ[1]; L0 = ϕ[2]; J0 = ϕ[3]; zJ = ϕ[4]; zL = ϕ[5];\n",
    "        Popen = (1+\n",
    "        (1.+J0.*exp(-zJ .* x .* elec_resp )).^17\n",
    "        ./\n",
    "        ( L0.*exp(-zL .* x .* elec_resp ).*((1+D.*J0.*exp(-zJ .* x .* elec_resp )).^17))\n",
    "        ).^-1\n",
    "\n",
    "        logPopen = copy(Popen);\n",
    "        for p1 = 1:length(logPopen)\n",
    "            logPopen[p1] = Popen[p1]>0?log10(Popen[p1]):-10\n",
    "        end\n",
    "        return logPopen\n",
    "    end\n",
    "    \n",
    "    if model_id==21\n",
    "        DJ = ϕ[1]; L0 = ϕ[2]; zJ = ϕ[3]; zL = ϕ[4];\n",
    "        Popen = (1+\n",
    "        1.^17\n",
    "        ./\n",
    "        ( L0.*exp(-zL .* x .* elec_resp ).*((1+DJ.*exp(-zJ .* x .* elec_resp )).^17))\n",
    "        ).^-1\n",
    "\n",
    "        logPopen = copy(Popen);\n",
    "        for p1 = 1:length(logPopen)\n",
    "            logPopen[p1] = Popen[p1]>0?log10(Popen[p1]):-10\n",
    "        end\n",
    "        return logPopen\n",
    "    end\n",
    "    \n",
    "    if model_id==22\n",
    "        DJ = ϕ[1]; L0 = ϕ[2]; zJ = ϕ[3];\n",
    "        Popen = (1+\n",
    "        1.^17\n",
    "        ./\n",
    "        ( L0.*((1+DJ.*exp(-zJ .* x .* elec_resp )).^17))\n",
    "        ).^-1\n",
    "\n",
    "        logPopen = copy(Popen);\n",
    "        for p1 = 1:length(logPopen)\n",
    "            logPopen[p1] = Popen[p1]>0?log10(Popen[p1]):-10\n",
    "        end\n",
    "        return logPopen\n",
    "    end\n",
    "    \n",
    "end"
   ]
  },
  {
   "cell_type": "code",
   "execution_count": 2,
   "metadata": {
    "collapsed": false
   },
   "outputs": [
    {
     "data": {
      "text/plain": [
       "reduce_model (generic function with 1 method)"
      ]
     },
     "execution_count": 2,
     "metadata": {},
     "output_type": "execute_result"
    }
   ],
   "source": [
    "function reduce_model(phi::AbstractArray; model_id=[], in_log=1)\n",
    "    if in_log==1\n",
    "        f_add = (a,x,b,y) -> a*x + b*y\n",
    "    else\n",
    "        f_add = (a,x,b,y) -> (x.^a)*(y.^b)\n",
    "    end\n",
    "    \n",
    "    phi_red = deepcopy(phi)\n",
    "    \n",
    "    if model_id==0\n",
    "        phi_red = zeros(size(phi)[1]-1)\n",
    "        phi_red[1] = f_add(1, phi[1], 0.25, phi[2])\n",
    "        phi_red[2] = phi[3]\n",
    "        phi_red[3] = phi[4]\n",
    "        phi_red[4] = phi[5]\n",
    "    end\n",
    "    \n",
    "    if model_id == 1\n",
    "        phi_red = zeros(size(phi)[1]-1)\n",
    "        phi_red[1] = phi[1]\n",
    "        phi_red[2] = phi[2]\n",
    "        phi_red[3] = phi[3]\n",
    "    end\n",
    "    \n",
    "    if model_id==10\n",
    "        phi_red = zeros(size(phi)[1]-1)\n",
    "        phi_red[1] = f_add(1, phi[1], 1, phi[3])\n",
    "        phi_red[2] = phi[2]\n",
    "        phi_red[3] = phi[4]\n",
    "        phi_red[4] = phi[5]\n",
    "    end\n",
    "    \n",
    "    if model_id == 11\n",
    "        phi_red = zeros(size(phi)[1]-1)\n",
    "        phi_red[1] = phi[1]\n",
    "        phi_red[2] = phi[2]\n",
    "        phi_red[3] = phi[3]\n",
    "    end\n",
    "    \n",
    "    if model_id==20\n",
    "        phi_red = zeros(size(phi)[1]-1)\n",
    "        phi_red[1] = f_add(1, phi[1], 1, phi[3])\n",
    "        phi_red[2] = phi[2]\n",
    "        phi_red[3] = phi[4]\n",
    "        phi_red[4] = phi[5]\n",
    "    end\n",
    "    \n",
    "    if model_id == 21\n",
    "        phi_red = zeros(size(phi)[1]-1)\n",
    "        phi_red[1] = phi[1]\n",
    "        phi_red[2] = phi[2]\n",
    "        phi_red[3] = phi[3]\n",
    "    end\n",
    "    \n",
    "    return phi_red\n",
    "end"
   ]
  },
  {
   "cell_type": "code",
   "execution_count": 3,
   "metadata": {
    "collapsed": false
   },
   "outputs": [
    {
     "data": {
      "text/plain": [
       "MBAM (generic function with 1 method)"
      ]
     },
     "execution_count": 3,
     "metadata": {},
     "output_type": "execute_result"
    }
   ],
   "source": [
    "using NBInclude #Includes for ipynb-s\n",
    "#using JLD # Julia data I/O\n",
    "nbinclude(\"MBAM.ipynb\")"
   ]
  },
  {
   "cell_type": "code",
   "execution_count": 4,
   "metadata": {
    "collapsed": false
   },
   "outputs": [],
   "source": [
    "data_x_full = collect(-160:20:200)*1e-3\n",
    "data_x_low = collect(-160:20:80)*1e-3\n",
    "data_x_high = collect(80:20:200)*1e-3;"
   ]
  },
  {
   "cell_type": "code",
   "execution_count": 5,
   "metadata": {
    "collapsed": false
   },
   "outputs": [],
   "source": [
    "phi0 = [21, 3.6e-6, 0.048, 0.59, 0.29];"
   ]
  },
  {
   "cell_type": "code",
   "execution_count": 6,
   "metadata": {
    "collapsed": false
   },
   "outputs": [
    {
     "name": "stdout",
     "output_type": "stream",
     "text": [
      "  0.419009 seconds (395.78 k allocations: 18.233 MB, 1.35% gc time)\n",
      "Model iteration 0, Single g_cost call takes: \n",
      "  0.110286 seconds (112.76 k allocations: 5.028 MB)\n",
      "Model iteration 0, initial values:\n",
      "      D = [  1.94e-08,   1.01e-05,   1.29e-03,   1.05e-01,   7.89e+00]\n",
      "   cost = 1.718892475365608e-32\n",
      "phi_cur = [      3.04,     -12.53,      -3.04,      -0.53,      -1.24]\n",
      "      v = [  3.05e-01,  -9.47e-01,   3.38e-02,  -2.60e-02,  -9.14e-02]\n",
      "\n",
      "\n",
      "Model iteration 0, final values:\n",
      "      D = [  4.53e-13,   3.01e-06,   1.92e-03,   6.34e-02,   9.13e+00]\n",
      "   cost = 2.5250260928111526e-7\n",
      "phi_cur = [      8.41,     -32.80,      -2.97,      -0.62,      -1.73]\n",
      "      v = [  2.43e-01,  -9.70e-01,   1.24e-05,  -1.23e-04,  -9.92e-04]\n",
      "\n",
      "\n",
      "Model iteration 1, Single g_cost call takes: \n",
      "  0.002927 seconds (673 allocations: 36.602 KB)\n",
      "Model iteration 1, initial values:\n",
      "      D = [  2.98e-06,   1.91e-03,   6.20e-02,   8.94e+00]\n",
      "   cost = 3.5065176005451135e-7\n",
      "phi_cur = [      0.21,      -2.97,      -0.62,      -1.73]\n",
      "      v = [ -3.88e-01,   2.76e-01,   2.41e-02,   8.79e-01]\n",
      "\n",
      "\n",
      "Model iteration 1, final values:\n",
      "      D = [  8.06e-12,   2.90e-03,   3.64e-02,   1.14e+01]\n",
      "   cost = 3.5488411283669977e-6\n",
      "phi_cur = [      0.65,      -3.30,      -0.63,      -8.07]\n",
      "      v = [  7.81e-04,  -6.25e-04,   1.03e-05,  -1.00e+00]\n",
      "\n",
      "\n",
      "Model iteration 2, Single g_cost call takes: \n",
      "  0.000017 seconds (46 allocations: 3.406 KB)\n",
      "Model iteration 2, initial values:\n",
      "      D = [  2.90e-03,   3.64e-02,   1.14e+01]\n",
      "   cost = 4.933993759881817e-6\n",
      "phi_cur = [      0.65,      -3.30,      -0.63]\n",
      "      v = [ -4.64e-01,  -7.21e-01,   5.14e-01]\n",
      "\n",
      "\n",
      "Model iteration 2, final values:\n",
      "      D = [  3.68e-09,   7.78e-02,   1.46e+01]\n",
      "   cost = 0.0037496187057599125\n",
      "phi_cur = [      6.54,      -8.20,      -1.36]\n",
      "      v = [  7.07e-01,  -7.07e-01,  -1.00e-03]\n",
      "\n",
      "\n"
     ]
    }
   ],
   "source": [
    "outp_high = MBAM(bk_model_2010, phi0, data_x_high, model_iters=[0, 1, 2], move_dir=[1, -1, -1],\n",
    "reduce_func=reduce_model, verbose=1);"
   ]
  },
  {
   "cell_type": "code",
   "execution_count": 20,
   "metadata": {
    "collapsed": false
   },
   "outputs": [
    {
     "name": "stdout",
     "output_type": "stream",
     "text": [
      "  0.000049 seconds (103 allocations: 6.203 KB)\n",
      "Model iteration 10, Single g_cost call takes: \n",
      "  0.000029 seconds (111 allocations: 6.688 KB)\n",
      "Model iteration 10, initial values:\n",
      "      D = [  6.06e-04,   1.34e-02,   1.02e+00,   5.59e+00,   2.05e+01]\n",
      "   cost = 1.1832913578315177e-30\n",
      "phi_cur = [      3.04,     -12.53,      -3.04,      -0.53,      -1.24]\n",
      "      v = [  7.05e-01,  -3.72e-01,  -5.65e-01,  -9.28e-02,  -1.93e-01]\n",
      "\n",
      "\n",
      "Model iteration 10, final values:\n",
      "      D = [  1.02e-09,   3.74e-03,   5.65e-01,   7.15e+00,   2.61e+01]\n",
      "   cost = 0.0014721721400098161\n",
      "phi_cur = [      9.94,     -13.27,      -9.66,      -0.67,      -1.70]\n",
      "      v = [  7.07e-01,  -7.92e-04,  -7.07e-01,  -1.20e-04,  -5.99e-04]\n",
      "\n",
      "\n",
      "Model iteration 11, Single g_cost call takes: \n",
      "  0.000042 seconds (100 allocations: 5.422 KB)\n",
      "Model iteration 11, initial values:\n",
      "      D = [  3.54e-03,   5.20e-01,   6.17e+00,   1.74e+01]\n",
      "   cost = 0.001476466516934073\n",
      "phi_cur = [      0.27,     -13.27,      -0.67,      -1.70]\n",
      "      v = [  3.29e-01,  -7.13e-01,  -2.33e-02,  -6.19e-01]\n",
      "\n",
      "\n",
      "Model iteration 11, final values:\n",
      "      D = [  3.91e-09,   1.84e-01,   9.04e+00,   2.00e+01]\n",
      "   cost = 0.010533569863915489\n",
      "phi_cur = [      0.76,     -14.44,      -0.68,      -8.83]\n",
      "      v = [  3.56e-04,  -9.34e-04,   6.67e-06,  -1.00e+00]\n",
      "\n",
      "\n",
      "Model iteration 12, Single g_cost call takes: \n",
      "  0.000025 seconds (89 allocations: 4.406 KB)\n",
      "Model iteration 12, initial values:\n",
      "      D = [  1.84e-01,   9.04e+00,   2.00e+01]\n",
      "   cost = 0.010539245348293152\n",
      "phi_cur = [      0.76,     -14.44,      -0.68]\n",
      "      v = [  4.21e-01,  -8.91e-01,  -1.67e-01]\n",
      "\n",
      "\n",
      "Model iteration 12, final values:\n",
      "      D = [  1.00e-08,   2.02e+01,   5.72e+01]\n",
      "   cost = 2.139054580068469\n",
      "phi_cur = [      9.10,     -45.59,      -1.22]\n",
      "      v = [  2.43e-01,  -9.70e-01,  -3.99e-05]\n",
      "\n",
      "\n"
     ]
    }
   ],
   "source": [
    "outp_low = MBAM(bk_model_2010, phi0, data_x_low, model_iters=[10, 11, 12], move_dir = [1, 1, 1], \n",
    "reduce_func=reduce_model, verbose=1);"
   ]
  },
  {
   "cell_type": "code",
   "execution_count": 10,
   "metadata": {
    "collapsed": false
   },
   "outputs": [
    {
     "name": "stdout",
     "output_type": "stream",
     "text": [
      "  0.000050 seconds (103 allocations: 6.203 KB)\n",
      "Model iteration 20, Single g_cost call takes: \n",
      "  0.000029 seconds (111 allocations: 6.688 KB)\n",
      "Model iteration 20, initial values:\n",
      "      D = [  1.86e-05,   1.51e-03,   7.66e-01,   8.67e+00,   5.95e+01]\n",
      "   cost = 1.232595164407831e-32\n",
      "phi_cur = [      3.04,     -12.53,      -3.04,      -0.53,      -1.24]\n",
      "      v = [  6.64e-01,  -2.40e-01,  -6.99e-01,  -3.37e-02,  -1.08e-01]\n",
      "\n",
      "\n",
      "Model iteration 20, final values:\n",
      "      D = [  1.82e-10,   1.06e-03,   5.57e-01,   8.92e+00,   6.30e+01]\n",
      "   cost = 3.685084805047665e-5\n",
      "phi_cur = [      8.75,     -12.90,      -8.79,      -0.58,      -1.42]\n",
      "      v = [  7.07e-01,  -8.80e-04,  -7.07e-01,  -1.16e-04,  -4.61e-04]\n",
      "\n",
      "\n",
      "Model iteration 21, Single g_cost call takes: \n",
      "  0.000034 seconds (100 allocations: 5.422 KB)\n",
      "Model iteration 21, initial values:\n",
      "      D = [  1.06e-03,   5.56e-01,   7.25e+00,   3.90e+01]\n",
      "   cost = 3.894792338247559e-5\n",
      "phi_cur = [     -0.04,     -12.90,      -0.58,      -1.42]\n",
      "      v = [ -9.86e-02,   8.53e-01,   4.90e-02,   5.10e-01]\n",
      "\n",
      "\n",
      "Model iteration 21, final values:\n",
      "      D = [  8.93e-10,   1.16e-01,   9.13e+00,   5.37e+01]\n",
      "   cost = 0.0034004394798715317\n",
      "phi_cur = [      0.15,     -14.61,      -0.66,      -8.89]\n",
      "      v = [  1.06e-04,  -9.94e-04,  -4.03e-05,  -1.00e+00]\n",
      "\n",
      "\n",
      "Model iteration 22, Single g_cost call takes: \n",
      "  0.000020 seconds (89 allocations: 4.406 KB)\n",
      "Model iteration 22, initial values:\n",
      "      D = [  1.16e-01,   9.13e+00,   5.37e+01]\n",
      "   cost = 0.0034026900201074776\n",
      "phi_cur = [      0.15,     -14.61,      -0.66]\n",
      "      v = [  7.14e-02,  -9.83e-01,  -1.72e-01]\n",
      "\n",
      "\n",
      "Model iteration 22, final values:\n",
      "      D = [  1.00e-08,   3.90e+01,   6.04e+02]\n",
      "   cost = 4.387522668551987\n",
      "phi_cur = [      6.71,    -116.88,      -1.96]\n",
      "      v = [  5.88e-02,  -9.98e-01,  -1.01e-04]\n",
      "\n",
      "\n"
     ]
    }
   ],
   "source": [
    "outp_low17 = MBAM(bk_model_2010, phi0, data_x_low, model_iters=[20, 21, 22], move_dir=[1, -1, 1],\n",
    "reduce_func=reduce_model, verbose=1);"
   ]
  },
  {
   "cell_type": "code",
   "execution_count": 29,
   "metadata": {
    "collapsed": false
   },
   "outputs": [
    {
     "data": {
      "text/html": [
       "<div id=\"f39d1a06-d2c6-4eed-bb24-8578a617d096\" class=\"plotly-graph-div\"></div>\n",
       "\n",
       "<script>\n",
       "    window.PLOTLYENV=window.PLOTLYENV || {};\n",
       "    window.PLOTLYENV.BASE_URL=\"https://plot.ly\";\n",
       "    require(['plotly'], function(Plotly) {\n",
       "        Plotly.newPlot('f39d1a06-d2c6-4eed-bb24-8578a617d096', [{\"yaxis\":\"y1\",\"y\":[-6.0226681853120025,-5.82062202831102,-5.56163214392756,-5.21774286803333,-4.750606475058843,-4.111392315581888,-3.2449101209325497,-2.1024208422563606,-0.7319078528119901,-0.03187174539144677,-0.00031891694573358686,-2.1151251504143637e-6,-1.2633215650494224e-8,-9.05841970128766e-11,-1.0095544247358097e-12,-2.1118771517517502e-14,-8.678947198979593e-16,-9.643274665532872e-17,0.0],\"type\":\"scatter\",\"xaxis\":\"x1\",\"x\":[-160.0,-140.0,-120.0,-100.0,-80.0,-60.0,-40.0,-20.0,0.0,20.0,40.0,60.0,80.0,100.0,120.0,140.0,160.0,180.0,200.0]},{\"yaxis\":\"y2\",\"y\":[-7.510092702410159,-6.72144747026567,-5.9325855414329824,-5.143530693497806,-4.35431394655643,-3.565022533687384,-2.7761000090093804,-1.9901778563970265,-1.2227532902721832,-0.5498850008922674,-0.15018394449481512,-0.02816228591862736,-0.004691916579271102,-0.0007640511479889118,-0.0001239334257714701,-2.008778939621793e-5,-3.2552450134131178e-6,-5.274538342190056e-7,-8.545644179368842e-8],\"type\":\"scatter\",\"xaxis\":\"x2\",\"x\":[-160.0,-140.0,-120.0,-100.0,-80.0,-60.0,-40.0,-20.0,0.0,20.0,40.0,60.0,80.0,100.0,120.0,140.0,160.0,180.0,200.0]}],  {\"yaxis2\":{\"domain\":[5.551115123125783e-17,0.42500000000000004],\"anchor\":\"x2\"},\"yaxis1\":{\"domain\":[0.575,1.0],\"anchor\":\"x1\"},\"xaxis1\":{\"domain\":[0.0,1.0],\"anchor\":\"y1\"},\"margin\":{\"r\":50,\"l\":50,\"b\":50,\"t\":60},\"xaxis2\":{\"domain\":[0.0,1.0],\"anchor\":\"y2\"}}, {showLink: false});\n",
       "\n",
       "    });\n",
       " </script>\n"
      ]
     },
     "execution_count": 29,
     "metadata": {},
     "output_type": "execute_result"
    }
   ],
   "source": [
    "using PlotlyJS\n",
    "plot([Plot(scatter(;x=data_x_full*1e3, y=bk_model_2010(exp(outp_low17[1][1,1]), data_x_full, model_id=20))) \n",
    "    Plot(scatter(;x=data_x_full*1e3, y=bk_model_2010(exp(outp_low17[1][3,2]), data_x_full, model_id=22)))])"
   ]
  },
  {
   "cell_type": "code",
   "execution_count": 27,
   "metadata": {
    "collapsed": false
   },
   "outputs": [
    {
     "data": {
      "text/html": [
       "<div id=\"f1498eed-14fb-4656-8638-d61b2a07468b\" class=\"plotly-graph-div\"></div>\n",
       "\n",
       "<script>\n",
       "    window.PLOTLYENV=window.PLOTLYENV || {};\n",
       "    window.PLOTLYENV.BASE_URL=\"https://plot.ly\";\n",
       "    require(['plotly'], function(Plotly) {\n",
       "        Plotly.newPlot('f1498eed-14fb-4656-8638-d61b2a07468b', [{\"yaxis\":\"y1\",\"y\":[-6.168160325807331,-6.0470908119215885,-5.912622752068577,-5.758178237583448,-5.574733715836846,-5.350795792826527,-5.07333983138264,-4.730241725293873,-4.314108866972018,-3.826222990761657,-3.278598307223098,-2.6931333242064737,-2.0989422677485883,-1.530360766733421,-1.0271642279342674,-0.631156873913859,-0.36507203820486417,-0.21086157569391567,-0.1278850914202104],\"type\":\"scatter\",\"xaxis\":\"x1\",\"x\":[-160.0,-140.0,-120.0,-100.0,-80.0,-60.0,-40.0,-20.0,0.0,20.0,40.0,60.0,80.0,100.0,120.0,140.0,160.0,180.0,200.0]},{\"yaxis\":\"y2\",\"y\":[-7.12812078645561,-6.737014597986373,-6.345860511878065,-5.9546682956321035,-5.56344591756299,-5.172200154035407,-4.780937433487642,-4.389665393990279,-3.998396301770258,-3.60715513282984,-3.215999187005414,-2.825066053597796,-2.434690838229411,-2.0456904167005785,-1.6600379855874066,-1.2823786259944239,-0.9229847847285544,-0.6015373851800746,-0.34565302937296477],\"type\":\"scatter\",\"xaxis\":\"x2\",\"x\":[-160.0,-140.0,-120.0,-100.0,-80.0,-60.0,-40.0,-20.0,0.0,20.0,40.0,60.0,80.0,100.0,120.0,140.0,160.0,180.0,200.0]}],  {\"yaxis2\":{\"domain\":[5.551115123125783e-17,0.42500000000000004],\"anchor\":\"x2\"},\"yaxis1\":{\"domain\":[0.575,1.0],\"anchor\":\"x1\"},\"xaxis1\":{\"domain\":[0.0,1.0],\"anchor\":\"y1\"},\"margin\":{\"r\":50,\"l\":50,\"b\":50,\"t\":60},\"xaxis2\":{\"domain\":[0.0,1.0],\"anchor\":\"y2\"}}, {showLink: false});\n",
       "\n",
       "    });\n",
       " </script>\n"
      ]
     },
     "execution_count": 27,
     "metadata": {},
     "output_type": "execute_result"
    }
   ],
   "source": [
    "plot([Plot(scatter(;x=data_x_full*1e3, y=bk_model_2010(exp(outp_low[1][1,1]), data_x_full, model_id=10))) \n",
    "    Plot(scatter(;x=data_x_full*1e3, y=bk_model_2010(exp(outp_low[1][3,2]), data_x_full, model_id=12)))])"
   ]
  },
  {
   "cell_type": "code",
   "execution_count": null,
   "metadata": {
    "collapsed": true
   },
   "outputs": [],
   "source": []
  }
 ],
 "metadata": {
  "kernelspec": {
   "display_name": "Julia 0.4.5",
   "language": "julia",
   "name": "julia-0.4"
  },
  "language_info": {
   "file_extension": ".jl",
   "mimetype": "application/julia",
   "name": "julia",
   "version": "0.4.5"
  }
 },
 "nbformat": 4,
 "nbformat_minor": 0
}
