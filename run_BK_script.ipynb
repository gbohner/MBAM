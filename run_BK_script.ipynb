{
 "cells": [
  {
   "cell_type": "markdown",
   "metadata": {},
   "source": [
    "# MBAM model reduction for the MWC model of BK\n",
    "Model taken from Aldrich 2002 (Equation 1) <br>\n",
    "Initial parameters taken from Miranda 2013 PNAS, Suppl fig 5 <br>\n",
    "Algorithm as in Transtrum 2015 (Equation 49-51) - except for signs\n",
    "\n",
    "The code below iteratively finds limits (boundaries) and stiff nonlinear combinations of sloppy parameters for the MWC model of BK, while preserving the model output function $P_{open}(V, [Ca] \\ | \\ \\theta)$.\n",
    "\n",
    "The iterative model reduction proceeds as follows:\n",
    "+ $\\theta = \\{L_0, z_L, J_0, z_J, K_d, C, D, E \\}$\n",
    "    * $z_L -> 0$\n",
    "    \n",
    "    \n",
    "+ $\\phi^1 = \\{L_0, J_0, z_J, K_d, C, D, E \\}$\n",
    "    * $L_0^{1/4} \\rightarrow 0, \\quad C \\rightarrow \\infty, \\quad D \\rightarrow \\infty, \\quad E \\rightarrow 0 $\n",
    "    \n",
    "\n",
    "+ $\\phi^2 = \\{J_0, z_J, K_d, L_0^{1/4}C, L_0^{1/4}D, L_0^{-1/4}E \\}$ \n",
    "    * $L_0^{1/4}C \\rightarrow 0, \\quad L_0^{-1/4}E \\rightarrow \\infty $\n",
    "    \n",
    "    \n",
    "+ $\\phi^3 = \\{J_0, z_J, K_d, CE, L_0^{1/4}D \\}$ \n",
    "    * $J_0 \\rightarrow 0, \\quad L_0^{1/4}D \\rightarrow \\infty $\n",
    " \n",
    " \n",
    "+ $\\phi^4 = \\{J_0L_0^{1/4}D, z_J, K_d, CE  \\}$ \n",
    "    * $K_d \\rightarrow \\infty, \\quad CE \\rightarrow \\infty $\n",
    " \n",
    " \n",
    "+ $\\phi^5 = \\{J_0L_0^{1/4}D, z_J, CEK_d^{-1}  \\}$ \n",
    "\n",
    "The $P_{open}(V, [Ca] \\ | \\ \\phi^5)$ function is an excellent approximation of the original (way below experimental error), despite having only 3 parameters. Each of the parameters are meaningful, the first one describing the slope of the voltage sensitivity, the second the middle point of the voltage sensitivity and the third the calcium sensitivity.\n",
    "Note that the 4 parameter-model ($\\phi^4$) describes both the voltage and the calcium sensitivity curves as two-parameter sigmoids. The allosteric MWC model introduces nonlinear interaction between these two sensitivity curves."
   ]
  },
  {
   "cell_type": "code",
   "execution_count": 2,
   "metadata": {
    "collapsed": false
   },
   "outputs": [
    {
     "data": {
      "text/plain": [
       "BK_cost (generic function with 1 method)"
      ]
     },
     "execution_count": 2,
     "metadata": {},
     "output_type": "execute_result"
    }
   ],
   "source": [
    "using NBInclude #Includes for ipynb-s\n",
    "#using JLD # Julia data I/O\n",
    "nbinclude(\"MBAM.ipynb\")\n",
    "nbinclude(\"BK_functions/BK_functions.ipynb\")\n"
   ]
  },
  {
   "cell_type": "code",
   "execution_count": 3,
   "metadata": {
    "collapsed": false
   },
   "outputs": [
    {
     "data": {
      "text/plain": [
       "(2,)"
      ]
     },
     "execution_count": 3,
     "metadata": {},
     "output_type": "execute_result"
    }
   ],
   "source": [
    "# Create grid to evaluate over\n",
    "using Iterators\n",
    "Ca=([0.0, 0.7, 4.0, 12.0, 22.0, 55.0, 70.0, 95.0]*1e-6)\n",
    "V=collect(-100:25:200)*1e-3\n",
    "Ca = float(Ca)\n",
    "V = float(V)\n",
    "\n",
    "x_grid = Array(Any, (length(Ca)*length(V),))\n",
    "iterind = 0;\n",
    "for j1 in product(Ca, V)\n",
    "    iterind += 1;\n",
    "    x_grid[iterind] = collect(j1)\n",
    "end\n",
    "size(x_grid[1])"
   ]
  },
  {
   "cell_type": "code",
   "execution_count": null,
   "metadata": {
    "collapsed": false
   },
   "outputs": [
    {
     "name": "stdout",
     "output_type": "stream",
     "text": [
      "  0.716084 seconds (665.10 k allocations: 31.533 MB, 0.78% gc time)\n",
      "Model iteration 10, Single g_cost call takes: \n",
      "  0.060158 seconds (76.52 k allocations: 3.465 MB)\n",
      "Model iteration 10, initial values:\n",
      "      D = [  2.45e-05,   2.83e-04,   1.32e-03,   4.91e-02,   8.41e-02,   3.34e-01,   5.48e+00,   2.81e+01]"
     ]
    }
   ],
   "source": [
    "# Single MBAM call that runs through all iterations of BK model reduction with NON-AUTOMATED model reduction\n",
    "phi0 = [2.2e-6, 0.42, 0.1026, 0.58, 39*1e-6, 6.16,30.4,2.0];\n",
    "outp = MBAM(BK_simulator, phi0, x_grid, model_iters=[10, 11, 12, 13, 14], \n",
    "move_dir=[-1, -1, 1, 1, -1], boundary_time=10, verbose=1, reduce_func=BK_reduce);\n",
    "\n"
   ]
  }
 ],
 "metadata": {
  "kernelspec": {
   "display_name": "Julia 0.4.5",
   "language": "julia",
   "name": "julia-0.4"
  },
  "language_info": {
   "file_extension": ".jl",
   "mimetype": "application/julia",
   "name": "julia",
   "version": "0.4.5"
  }
 },
 "nbformat": 4,
 "nbformat_minor": 0
}
