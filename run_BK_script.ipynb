{
 "cells": [
  {
   "cell_type": "markdown",
   "metadata": {},
   "source": [
    "# MBAM model reduction for the MWC model of BK\n",
    "Model taken from Aldrich 2002 (Equation 1) <br>\n",
    "Initial parameters taken from Miranda 2013 PNAS, Suppl fig 5 <br>\n",
    "Algorithm as in Transtrum 2015 (Equation 49-51) - except for signs\n",
    "\n",
    "The code below iteratively finds limits (boundaries) and stiff nonlinear combinations of sloppy parameters for the MWC model of BK, while preserving the model output function $P_{open}(V, [Ca] \\ | \\ \\theta)$.\n",
    "\n",
    "The iterative model reduction proceeds as follows:\n",
    "+ $\\theta = \\{L_0, z_L, J_0, z_J, K_d, C, D, E \\}$\n",
    "    * $z_L -> 0$\n",
    "    \n",
    "    \n",
    "+ $\\phi^1 = \\{L_0, J_0, z_J, K_d, C, D, E \\}$\n",
    "    * $L_0^{1/4} \\rightarrow 0, \\quad C \\rightarrow \\infty, \\quad D \\rightarrow \\infty, \\quad E \\rightarrow 0 $\n",
    "    \n",
    "\n",
    "+ $\\phi^2 = \\{J_0, z_J, K_d, L_0^{1/4}C, L_0^{1/4}D, L_0^{-1/4}E \\}$ \n",
    "    * $L_0^{1/4}C \\rightarrow 0, \\quad L_0^{-1/4}E \\rightarrow \\infty $\n",
    "    \n",
    "    \n",
    "+ $\\phi^3 = \\{J_0, z_J, K_d, CE, L_0^{1/4}D \\}$ \n",
    "    * $J_0 \\rightarrow 0, \\quad L_0^{1/4}D \\rightarrow \\infty $\n",
    " \n",
    " \n",
    "+ $\\phi^4 = \\{J_0L_0^{1/4}D, z_J, K_d, CE  \\}$ \n",
    "    * $K_d \\rightarrow \\infty, \\quad CE \\rightarrow \\infty $\n",
    " \n",
    " \n",
    "+ $\\phi^5 = \\{J_0L_0^{1/4}D, z_J, CEK_d^{-1}  \\}$ \n",
    "\n",
    "The $P_{open}(V, [Ca] \\ | \\ \\phi^5)$ function is an excellent approximation of the original (way below experimental error), despite having only 3 parameters. Each of the parameters are meaningful, the first one describing the slope of the voltage sensitivity, the second the middle point of the voltage sensitivity and the third the calcium sensitivity.\n",
    "Note that the 4 parameter-model ($\\phi^4$) describes both the voltage and the calcium sensitivity curves as two-parameter sigmoids. The allosteric MWC model introduces nonlinear interaction between these two sensitivity curves."
   ]
  },
  {
   "cell_type": "code",
   "execution_count": 2,
   "metadata": {
    "collapsed": false
   },
   "outputs": [
    {
     "data": {
      "text/plain": [
       "BK_cost (generic function with 1 method)"
      ]
     },
     "execution_count": 2,
     "metadata": {},
     "output_type": "execute_result"
    }
   ],
   "source": [
    "using NBInclude #Includes for ipynb-s\n",
    "#using JLD # Julia data I/O\n",
    "nbinclude(\"MBAM.ipynb\")\n",
    "nbinclude(\"BK_functions/BK_functions.ipynb\")\n"
   ]
  },
  {
   "cell_type": "code",
   "execution_count": 3,
   "metadata": {
    "collapsed": false
   },
   "outputs": [
    {
     "data": {
      "text/plain": [
       "(2,)"
      ]
     },
     "execution_count": 3,
     "metadata": {},
     "output_type": "execute_result"
    }
   ],
   "source": [
    "# Create grid to evaluate over\n",
    "#=\n",
    "using Iterators\n",
    "Ca=([0.0, 0.7, 4.0, 12.0, 22.0, 55.0, 70.0, 95.0]*1e-6)\n",
    "V=collect(-100:25:200)*1e-3\n",
    "Ca = float(Ca)\n",
    "V = float(V)\n",
    "\n",
    "x_grid = Array(Any, (length(Ca)*length(V),))\n",
    "iterind = 0;\n",
    "for j1 in product(Ca, V)\n",
    "    iterind += 1;\n",
    "    x_grid[iterind] = collect(j1)\n",
    "end\n",
    "size(x_grid[1])\n",
    "=#"
   ]
  },
  {
   "cell_type": "code",
   "execution_count": null,
   "metadata": {
    "collapsed": false
   },
   "outputs": [
    {
     "name": "stdout",
     "output_type": "stream",
     "text": [
      "  0.716084 seconds (665.10 k allocations: 31.533 MB, 0.78% gc time)\n",
      "Model iteration 10, Single g_cost call takes: \n",
      "  0.060158 seconds (76.52 k allocations: 3.465 MB)\n",
      "Model iteration 10, initial values:\n",
      "      D = [  2.45e-05,   2.83e-04,   1.32e-03,   4.91e-02,   8.41e-02,   3.34e-01,   5.48e+00,   2.81e+01]"
     ]
    }
   ],
   "source": [
    "#=\n",
    "# Single MBAM call that runs through all iterations of BK model reduction with NON-AUTOMATED model reduction\n",
    "phi0 = [2.2e-6, 0.42, 0.1026, 0.58, 39*1e-6, 6.16,30.4,2.0];\n",
    "outp = MBAM(BK_simulator, phi0, x_grid, model_iters=[10, 11, 12, 13, 14], \n",
    "move_dir=[-1, -1, 1, 1, -1], boundary_time=10, verbose=1, reduce_func=BK_reduce);\n",
    "=#\n"
   ]
  },
  {
   "cell_type": "markdown",
   "metadata": {},
   "source": [
    "# Fit the reduced models to data\n",
    "Using data from Aldrich 2010 Fig 4c,d fit simplified models"
   ]
  },
  {
   "cell_type": "code",
   "execution_count": 430,
   "metadata": {
    "collapsed": false
   },
   "outputs": [],
   "source": [
    "# Read the data\n",
    "data_4c_control = readcsv(\"Figures/aldrich_fig4c_control.csv\")[1:end-1,:]\n",
    "data_4c_lrrc26 = readcsv(\"Figures/aldrich_fig4c_lrrc26.csv\")\n",
    "data_4d_control = readcsv(\"Figures/aldrich_fig4d_control.csv\")\n",
    "data_4d_lrrc26 = readcsv(\"Figures/aldrich_fig4d_lrrc26.csv\");\n"
   ]
  },
  {
   "cell_type": "markdown",
   "metadata": {},
   "source": [
    "# Models for simultaneously fitting all 4 curves"
   ]
  },
  {
   "cell_type": "code",
   "execution_count": 388,
   "metadata": {
    "collapsed": false
   },
   "outputs": [
    {
     "data": {
      "text/plain": [
       "0.9766267267700984"
      ]
     },
     "execution_count": 388,
     "metadata": {},
     "output_type": "execute_result"
    }
   ],
   "source": [
    "# join the data\n",
    "data_x = [data_4c_control[:,1]; data_4c_lrrc26[:,1]; data_4d_control[:,1]; data_4d_lrrc26[:,1]]*1e-3;\n",
    "data_y = [data_4c_control[:,2]; data_4c_lrrc26[:,2]; log10(data_4d_control[:,2]); log10(data_4d_lrrc26[:,2])];\n",
    "data_in_log = [zeros(length(data_4c_control[:,1]),1); zeros(length(data_4c_lrrc26[:,1]),1); \n",
    "    ones(length(data_4d_control[:,1]),1); ones(length(data_4d_lrrc26[:,1]),1)].==1;\n",
    "dataset_ranges = Any[1:length(data_4c_control[:,1]),\n",
    "    (length(data_4c_control[:,1])+1):(length(data_4c_control[:,1])+length(data_4c_lrrc26[:,1])),\n",
    "    (length(data_4c_control[:,1])+length(data_4c_lrrc26[:,1])+1):(length(data_4c_control[:,1])+length(data_4c_lrrc26[:,1])+length(data_4d_control[:,1])),\n",
    "    (length(data_4c_control[:,1])+length(data_4c_lrrc26[:,1])+length(data_4d_control[:,1])+1):length(data_x)]\n",
    "\n",
    "# Tradeoff between log-space fit and original space fit by norm of data there\n",
    "w_log = norm([data_4c_control[:,2]; data_4c_lrrc26[:,2]])./norm([data_4d_control[:,2]; data_4d_lrrc26[:,2]])"
   ]
  },
  {
   "cell_type": "code",
   "execution_count": 395,
   "metadata": {
    "collapsed": false
   },
   "outputs": [
    {
     "data": {
      "text/plain": [
       "scale_data (generic function with 1 method)"
      ]
     },
     "execution_count": 395,
     "metadata": {},
     "output_type": "execute_result"
    }
   ],
   "source": [
    "# Return results in log\n",
    "function to_log(x::AbstractArray, in_log::AbstractArray)\n",
    "    x = copy(x);\n",
    "    x[x.<1e-12]=1e-12\n",
    "    x[find(a->a==true, in_log)] = log10(x[find(a->a==true, in_log)])\n",
    "    return x\n",
    "end\n",
    "\n",
    "function scale_data(x::AbstractArray, to_scale::AbstractArray, w)\n",
    "    x = copy(x);\n",
    "    x[find(a->a==true, to_scale)] *= w;\n",
    "    return x\n",
    "end"
   ]
  },
  {
   "cell_type": "markdown",
   "metadata": {},
   "source": [
    "## Models"
   ]
  },
  {
   "cell_type": "code",
   "execution_count": 398,
   "metadata": {
    "collapsed": false
   },
   "outputs": [
    {
     "data": {
      "text/plain": [
       "model_LDmoves (generic function with 1 method)"
      ]
     },
     "execution_count": 398,
     "metadata": {},
     "output_type": "execute_result"
    }
   ],
   "source": [
    "using LsqFit\n",
    "using Physical\n",
    "\n",
    "elec_resp = (Volt*(-1)*e_electron/(k_boltzmann*304*Kelvin));\n",
    "\n",
    "\n",
    "function model_orig(x::AbstractArray, ϕ::AbstractArray)\n",
    "    D = ϕ[1]; L0 = ϕ[2]; J0 = ϕ[3]; zJ = ϕ[4]; zL = ϕ[5];\n",
    "    Popen = (1+\n",
    "    (1.+J0.*exp(-zJ .* x .* elec_resp )).^4\n",
    "    ./\n",
    "    ( L0.*exp(-zL .* x .* elec_resp ).*(1+D.*J0.*exp(-zJ .* x .* elec_resp )).^4)\n",
    "    ).^-1\n",
    "    \n",
    "    logPopen = copy(Popen);\n",
    "    for p1 = 1:length(logPopen)\n",
    "        logPopen[p1] = Popen[p1]>0?log(Popen[p1]):-6\n",
    "    end\n",
    "    return Popen\n",
    "end\n",
    "\n",
    "function model_red(x::AbstractArray, ϕ::AbstractArray)\n",
    "    DL0 = ϕ[1]; J0 = ϕ[2]; zJ = ϕ[3]; zL = ϕ[4];\n",
    "    Popen = (1+\n",
    "    (1.+J0.*exp(-zJ .* x .* elec_resp )).^4\n",
    "    ./\n",
    "    (exp(-zL .* x .* elec_resp ).*(DL0.*J0.*exp(-zJ .* x .* elec_resp )).^4)\n",
    "    ).^-1\n",
    "    return Popen\n",
    "end\n",
    "\n",
    "function model_Dmoves(x::AbstractArray, ϕ::AbstractArray; in_log=(zeros(size(x)).==1), data_ranges=Any[collect(1:length(x))], w_log=1)\n",
    "    y_out = zeros(size(x))\n",
    "    y_out[data_ranges[1]] = model_orig(x[data_ranges[1]], [ϕ[1]; ϕ[2:5]])\n",
    "    y_out[data_ranges[2]] = model_orig(x[data_ranges[2]], [ϕ[6]; ϕ[2:5]])\n",
    "    y_out[data_ranges[3]] = model_orig(x[data_ranges[3]], [ϕ[1]; ϕ[2:5]])\n",
    "    y_out[data_ranges[4]] = model_orig(x[data_ranges[4]], [ϕ[6]; ϕ[2:5]])\n",
    "    return scale_data(to_log(y_out, in_log), in_log, w_log);\n",
    "end\n",
    "\n",
    "\n",
    "function model_LDmoves(x::AbstractArray, ϕ::AbstractArray; in_log=(zeros(size(x)).==1), data_ranges=Any[collect(1:length(x))], w_log=1)\n",
    "    y_out = zeros(size(x))\n",
    "    y_out[data_ranges[1]] = model_red(x[data_ranges[1]], [ϕ[1]; ϕ[2:4]])\n",
    "    y_out[data_ranges[2]] = model_red(x[data_ranges[2]], [ϕ[5]; ϕ[2:4]])\n",
    "    y_out[data_ranges[3]] = model_red(x[data_ranges[3]], [ϕ[1]; ϕ[2:4]])\n",
    "    y_out[data_ranges[4]] = model_red(x[data_ranges[4]], [ϕ[5]; ϕ[2:4]])\n",
    "    return scale_data(to_log(y_out, in_log), in_log, w_log);\n",
    "end"
   ]
  },
  {
   "cell_type": "code",
   "execution_count": 423,
   "metadata": {
    "collapsed": false
   },
   "outputs": [],
   "source": [
    "weight_of_log_fits = 0;\n",
    "\n",
    "fit_orig = LsqFit.curve_fit((a,b)->model_Dmoves(a,b, in_log=data_in_log, data_ranges=dataset_ranges, w_log=weight_of_log_fits), \n",
    "                                data_x, scale_data(data_y, data_in_log, weight_of_log_fits), [phi0, 412]);\n",
    "\n",
    "fit_red = LsqFit.curve_fit((a,b)->model_LDmoves(a,b, in_log=data_in_log, data_ranges=dataset_ranges, w_log=weight_of_log_fits), \n",
    "                                data_x, scale_data(data_y, data_in_log, weight_of_log_fits), [0.91, phi0[3:5], 3]);"
   ]
  },
  {
   "cell_type": "code",
   "execution_count": 424,
   "metadata": {
    "collapsed": false
   },
   "outputs": [],
   "source": [
    "y_pred_orig = model_Dmoves(data_x, [phi0, 412], data_ranges=dataset_ranges, in_log=data_in_log);\n",
    "y_pred_origfit = model_Dmoves(data_x, fit_orig.param, data_ranges=dataset_ranges, in_log=data_in_log);\n",
    "y_pred_redfit = model_LDmoves(data_x, fit_red.param, data_ranges=dataset_ranges, in_log=data_in_log);"
   ]
  },
  {
   "cell_type": "code",
   "execution_count": 425,
   "metadata": {
    "collapsed": false
   },
   "outputs": [
    {
     "data": {
      "text/plain": [
       "70-element Array{Float64,1}:\n",
       "  1.08157e-5 \n",
       "  2.07252e-5 \n",
       "  4.33877e-5 \n",
       "  0.000100576\n",
       "  0.000719938\n",
       "  0.00213798 \n",
       "  0.00632252 \n",
       "  0.0184487  \n",
       "  0.0521389  \n",
       "  0.128564   \n",
       "  0.267051   \n",
       "  0.454124   \n",
       "  0.63027    \n",
       "  ⋮          \n",
       " -0.404363   \n",
       " -0.14501    \n",
       " -0.0411752  \n",
       " -0.0117154  \n",
       " -0.00328744 \n",
       " -0.00103613 \n",
       " -0.000343328\n",
       " -0.000131744\n",
       " -5.6562e-5  \n",
       " -2.65181e-5 \n",
       " -1.3976e-5  \n",
       " -8.33136e-6 "
      ]
     },
     "execution_count": 425,
     "metadata": {},
     "output_type": "execute_result"
    }
   ],
   "source": [
    "y_pred_origfit"
   ]
  },
  {
   "cell_type": "code",
   "execution_count": 426,
   "metadata": {
    "collapsed": false,
    "scrolled": true
   },
   "outputs": [
    {
     "data": {
      "text/html": [
       "<div id=\"8b7f7678-3aef-435b-b728-b194262c1386\" class=\"plotly-graph-div\"></div>\n",
       "\n",
       "<script>\n",
       "    window.PLOTLYENV=window.PLOTLYENV || {};\n",
       "    window.PLOTLYENV.BASE_URL=\"https://plot.ly\";\n",
       "    require(['plotly'], function(Plotly) {\n",
       "        Plotly.newPlot('8b7f7678-3aef-435b-b728-b194262c1386', [{\"yaxis\":\"y1\",\"y\":[-5.999999999999999,-5.891191709844559,-5.844559585492228,-5.626943005181348,-5.5025906735751295,-5.098445595854923,-4.880829015544042,-3.83937823834197,-3.233160621761659,-2.5803108808290163,-1.8186528497409333,-1.3367875647668406,-0.9170984455958562,-0.5595854922279806,-0.34196891191709966,-0.18652849740932795,-0.12435233160621896,-0.06217616580311038],\"type\":\"scatter\",\"xaxis\":\"x1\",\"x\":[-0.14033096926713945,-0.11990543735224586,-0.1009929078014184,-0.0805673758865248,-0.06014184397163115,-0.04047281323877064,-0.020047281323877002,0.020047281323877144,0.03971631205673765,0.06014184397163126,0.07981087470449177,0.09947990543735233,0.11990543735224594,0.13957446808510646,0.15924349881796696,0.17966903073286056,0.20009456264775424,0.21976359338061474]},{\"yaxis\":\"y1\",\"y\":[-5.782383419689119,-5.440414507772021,-5.253886010362694,-4.803108808290156,-4.227979274611399,-3.528497409326425,-2.5181347150259077,-1.4922279792746127,-0.8393782383419701,-0.3886010362694312,-0.13989637305699623,-0.031088082901555857,-1.5429239464852621e-15,0.01554404145077567,-1.5429239464852621e-15,0.01554404145077567,0.01554404145077567,0.01554404145077567,0.01554404145077567,0.01554404145077567,-1.5429239464852621e-15],\"type\":\"scatter\",\"xaxis\":\"x1\",\"x\":[-0.1804255319148936,-0.15999999999999998,-0.14033096926713945,-0.12066193853427894,-0.10023640661938532,-0.0805673758865248,-0.06014184397163115,-0.04047281323877064,-0.020047281323877002,-0.00037825059101652414,0.01929078014184398,0.03971631205673765,0.059385342789598214,0.07981087470449177,0.09947990543735233,0.11990543735224594,0.13957446808510646,0.15924349881796696,0.17966903073286056,0.20009456264775424,0.21976359338061474]},{\"yaxis\":\"y1\",\"y\":[-5.564278907737713,-5.393761561759981,-5.20668526428788,-4.9670174121166655,-4.683035882119659,-4.364838476125252,-3.9883207894468993,-3.132957662254842,-2.6750673862905274,-2.1900028936088125,-1.7288478905898204,-1.291678741379895,-0.8875947076900166,-0.5730819625393394,-0.34843814318137195,-0.20313399804216872,-0.12114949383780037,-0.07733057931832849],\"type\":\"scatter\",\"xaxis\":\"x1\",\"x\":[-0.14033096926713945,-0.11990543735224586,-0.1009929078014184,-0.0805673758865248,-0.06014184397163115,-0.04047281323877064,-0.020047281323877002,0.020047281323877144,0.03971631205673765,0.06014184397163126,0.07981087470449177,0.09947990543735233,0.11990543735224594,0.13957446808510646,0.15924349881796696,0.17966903073286056,0.20009456264775424,0.21976359338061474]},{\"yaxis\":\"y1\",\"y\":[-4.873032220872214,-4.4907730408407796,-4.0729659765426405,-3.609999612234549,-3.0877169563281575,-2.55252832676104,-1.9732731570031203,-1.4074167124469732,-0.8455971161067383,-0.40436297790974507,-0.14501037796152383,-0.04117521421320193,-0.011715399836515157,-0.003287435182244543,-0.001036127102299527,-0.000343328385769909,-0.0001317437259322203,-5.656204630148227e-5,-2.6518084445184876e-5,-1.3975966006267344e-5,-8.331364789700524e-6],\"type\":\"scatter\",\"xaxis\":\"x1\",\"x\":[-0.1804255319148936,-0.15999999999999998,-0.14033096926713945,-0.12066193853427894,-0.10023640661938532,-0.0805673758865248,-0.06014184397163115,-0.04047281323877064,-0.020047281323877002,-0.00037825059101652414,0.01929078014184398,0.03971631205673765,0.059385342789598214,0.07981087470449177,0.09947990543735233,0.11990543735224594,0.13957446808510646,0.15924349881796696,0.17966903073286056,0.20009456264775424,0.21976359338061474]},{\"yaxis\":\"y1\",\"y\":[-8.429671000121964,-7.768955818894582,-7.15949176610596,-6.50469081008428,-5.854744100494312,-5.235125048181677,-4.600470514575017,-3.3933502078308755,-2.8282118026349834,-2.2680057079793006,-1.7622560047379208,-1.3010647473889034,-0.8871943545383645,-0.5715722062678058,-0.34832672141970594,-0.20375290771462343,-0.1213970164589949,-0.07684233523208722],\"type\":\"scatter\",\"xaxis\":\"x1\",\"x\":[-0.14033096926713945,-0.11990543735224586,-0.1009929078014184,-0.0805673758865248,-0.06014184397163115,-0.04047281323877064,-0.020047281323877002,0.020047281323877144,0.03971631205673765,0.06014184397163126,0.07981087470449177,0.09947990543735233,0.11990543735224594,0.13957446808510646,0.15924349881796696,0.17966903073286056,0.20009456264775424,0.21976359338061474]},{\"yaxis\":\"y1\",\"y\":[-5.914645669011561,-5.250734530562321,-4.612710809374654,-3.976460432249507,-3.3184078716239633,-2.688610360256868,-2.0417357511865344,-1.4344248492052598,-0.8496771160046386,-0.40247866998747517,-0.1450761970648834,-0.04236666745414319,-0.012601835669452027,-0.003746461102550035,-0.0012559593354078762,-0.00044409390786046595,-0.0001805922850478253,-8.141746167038945e-5,-3.962464722904132e-5,-2.1347059014077666e-5,-1.2811821884986299e-5],\"type\":\"scatter\",\"xaxis\":\"x1\",\"x\":[-0.1804255319148936,-0.15999999999999998,-0.14033096926713945,-0.12066193853427894,-0.10023640661938532,-0.0805673758865248,-0.06014184397163115,-0.04047281323877064,-0.020047281323877002,-0.00037825059101652414,0.01929078014184398,0.03971631205673765,0.059385342789598214,0.07981087470449177,0.09947990543735233,0.11990543735224594,0.13957446808510646,0.15924349881796696,0.17966903073286056,0.20009456264775424,0.21976359338061474]},{\"yaxis\":\"y2\",\"y\":[0.0021191603886536736,0.002267501615859535,0.0024123109090841144,0.0005121304272579508,0.0008052809476883915,0.002998611949945218,0.005188411018221206,0.015558169186701498,0.04842634681472502,0.12219078800979022,0.2716198508817471,0.4599072514136564,0.6277447541950544,0.7444539806661932,0.8468482787119742],\"type\":\"scatter\",\"xaxis\":\"x2\",\"x\":[-0.08048359240069083,-0.06017271157167531,-0.0403454231433506,-0.020518134715025924,0.01962003454231433,0.03993091537132986,0.059758203799654554,0.07958549222797924,0.09989637305699481,0.1197236614853195,0.1395509499136442,0.15986183074265975,0.1801727115716753,0.19999999999999998,0.2198272884283247]},{\"yaxis\":\"y2\",\"y\":[7.417061360270871e-5,0.004312491390910944,0.03308715753485103,0.13957143513073444,0.39943347778943306,0.7206416817656843,0.9048391027474914,0.968378595067301,1.0053367522454268,0.9891216433382426,1.0056299027658573,1.003729722284031,1.0120544906774602,0.9937943919952247,0.9980327127725327,1.010447460716064],\"type\":\"scatter\",\"xaxis\":\"x2\",\"x\":[-0.08048359240069083,-0.06017271157167531,-0.0403454231433506,-0.020518134715025924,-0.00020725388601036343,0.01962003454231433,0.03993091537132986,0.059758203799654554,0.08006908462867011,0.09989637305699481,0.12020725388601033,0.14003454231433507,0.15986183074265975,0.17968911917098443,0.19999999999999998,0.2198272884283247]},{\"yaxis\":\"y2\",\"y\":[1.081568143266102e-5,2.0725242060928402e-5,4.338769954509145e-5,0.00010057621049646486,0.0007199382562755236,0.0021379809617311403,0.00632252380098054,0.018448680259014343,0.05213887733754619,0.1285635642373786,0.26705110590808545,0.4541237208666921,0.6302697665512909,0.7560893061965336,0.8370950307602579],\"type\":\"scatter\",\"xaxis\":\"x2\",\"x\":[-0.08048359240069083,-0.06017271157167531,-0.0403454231433506,-0.020518134715025924,0.01962003454231433,0.03993091537132986,0.059758203799654554,0.07958549222797924,0.09989637305699481,0.1197236614853195,0.1395509499136442,0.15986183074265975,0.1801727115716753,0.19999999999999998,0.2198272884283247]},{\"yaxis\":\"y2\",\"y\":[0.0028171280813316115,0.010613042947844346,0.03946586387274995,0.13875101911248613,0.39695810764867645,0.7206849731328241,0.9107185354041776,0.9739992096269855,0.9925756682486391,0.997672460682387,0.9992219286994359,0.9997030206198819,0.9998729496352221,0.9999389835810907,0.9999677322731149,0.9999808458669206],\"type\":\"scatter\",\"xaxis\":\"x2\",\"x\":[-0.08048359240069083,-0.06017271157167531,-0.0403454231433506,-0.020518134715025924,-0.00020725388601036343,0.01962003454231433,0.03993091537132986,0.059758203799654554,0.08006908462867011,0.09989637305699481,0.12020725388601033,0.14003454231433507,0.15986183074265975,0.17968911917098443,0.19999999999999998,0.2198272884283247]},{\"yaxis\":\"y2\",\"y\":[3.1476480876621543e-7,1.3940494461833207e-6,5.873049355794894e-6,2.4267289203062492e-5,0.0003927724158842559,0.001506009409842716,0.005269507424114471,0.017067692639411505,0.05106311066386914,0.1286707204987542,0.26798177587020133,0.45419746937213623,0.6293699836999912,0.7556530305048297,0.8380413230060819],\"type\":\"scatter\",\"xaxis\":\"x2\",\"x\":[-0.08048359240069083,-0.06017271157167531,-0.0403454231433506,-0.020518134715025924,0.01962003454231433,0.03993091537132986,0.059758203799654554,0.07958549222797924,0.09989637305699481,0.1197236614853195,0.1395509499136442,0.15986183074265975,0.1801727115716753,0.19999999999999998,0.2198272884283247]},{\"yaxis\":\"y2\",\"y\":[0.0020609199443534835,0.009063488700329355,0.037103641005031295,0.13735233307784414,0.39868454125821096,0.7205140047685784,0.9082219204182701,0.9720330154250849,0.9915368089378745,0.9971755693968389,0.9989927395420214,0.9995924128062963,0.9998168780033159,0.9999088249218926,0.9999507175441571,0.9999705452588257],\"type\":\"scatter\",\"xaxis\":\"x2\",\"x\":[-0.08048359240069083,-0.06017271157167531,-0.0403454231433506,-0.020518134715025924,-0.00020725388601036343,0.01962003454231433,0.03993091537132986,0.059758203799654554,0.08006908462867011,0.09989637305699481,0.12020725388601033,0.14003454231433507,0.15986183074265975,0.17968911917098443,0.19999999999999998,0.2198272884283247]}],  {\"yaxis2\":{\"domain\":[5.551115123125783e-17,0.42500000000000004],\"anchor\":\"x2\"},\"yaxis1\":{\"domain\":[0.575,1.0],\"anchor\":\"x1\"},\"xaxis1\":{\"domain\":[0.0,1.0],\"anchor\":\"y1\"},\"margin\":{\"r\":50,\"l\":50,\"b\":50,\"t\":60},\"xaxis2\":{\"domain\":[0.0,1.0],\"anchor\":\"y2\"}}, {showLink: false});\n",
       "\n",
       "    });\n",
       " </script>\n"
      ]
     },
     "execution_count": 426,
     "metadata": {},
     "output_type": "execute_result"
    }
   ],
   "source": [
    "\n",
    "\n",
    "p1 = Plot([scatter(;x=data_x[dataset_ranges[3]], y=data_y[dataset_ranges[3]]),\n",
    "    scatter(;x=data_x[dataset_ranges[4]], y=data_y[dataset_ranges[4]]),\n",
    "    scatter(;x=data_x[dataset_ranges[3]], y=y_pred_origfit[dataset_ranges[3]]),\n",
    "    scatter(;x=data_x[dataset_ranges[4]], y=y_pred_origfit[dataset_ranges[4]]),\n",
    "    scatter(;x=data_x[dataset_ranges[3]], y=y_pred_redfit[dataset_ranges[3]]),\n",
    "    scatter(;x=data_x[dataset_ranges[4]], y=y_pred_redfit[dataset_ranges[4]])\n",
    "    ]\n",
    "        )\n",
    "\n",
    "p2 = Plot([scatter(;x=data_x[dataset_ranges[1]], y=data_y[dataset_ranges[1]]),\n",
    "    scatter(;x=data_x[dataset_ranges[2]], y=data_y[dataset_ranges[2]]),\n",
    "    scatter(;x=data_x[dataset_ranges[1]], y=y_pred_origfit[dataset_ranges[1]]),\n",
    "    scatter(;x=data_x[dataset_ranges[2]], y=y_pred_origfit[dataset_ranges[2]]),\n",
    "    scatter(;x=data_x[dataset_ranges[1]], y=y_pred_redfit[dataset_ranges[1]]),\n",
    "    scatter(;x=data_x[dataset_ranges[2]], y=y_pred_redfit[dataset_ranges[2]])\n",
    "    ]\n",
    "        )\n",
    "\n",
    "plt = plot([p1\n",
    "    p2])"
   ]
  },
  {
   "cell_type": "code",
   "execution_count": 427,
   "metadata": {
    "collapsed": false
   },
   "outputs": [],
   "source": [
    "PlotlyJS.relayout!(plt, height=1000)"
   ]
  },
  {
   "cell_type": "code",
   "execution_count": 428,
   "metadata": {
    "collapsed": false
   },
   "outputs": [
    {
     "data": {
      "text/plain": [
       "5-element Array{Float64,1}:\n",
       "  1.13199  \n",
       "  0.0975634\n",
       "  0.429144 \n",
       "  0.254361 \n",
       " 10.1879   "
      ]
     },
     "execution_count": 428,
     "metadata": {},
     "output_type": "execute_result"
    }
   ],
   "source": [
    "fit_red.param"
   ]
  },
  {
   "cell_type": "code",
   "execution_count": 429,
   "metadata": {
    "collapsed": false
   },
   "outputs": [
    {
     "data": {
      "text/plain": [
       "6-element Array{Float64,1}:\n",
       "  27.927     \n",
       "   4.34291e-6\n",
       "   0.07139   \n",
       "   0.454448  \n",
       "   0.202457  \n",
       " 283.174     "
      ]
     },
     "execution_count": 429,
     "metadata": {},
     "output_type": "execute_result"
    }
   ],
   "source": [
    "fit_orig.param"
   ]
  },
  {
   "cell_type": "code",
   "execution_count": null,
   "metadata": {
    "collapsed": true
   },
   "outputs": [],
   "source": []
  }
 ],
 "metadata": {
  "kernelspec": {
   "display_name": "Julia 0.4.5",
   "language": "julia",
   "name": "julia-0.4"
  },
  "language_info": {
   "file_extension": ".jl",
   "mimetype": "application/julia",
   "name": "julia",
   "version": "0.4.5"
  }
 },
 "nbformat": 4,
 "nbformat_minor": 0
}
