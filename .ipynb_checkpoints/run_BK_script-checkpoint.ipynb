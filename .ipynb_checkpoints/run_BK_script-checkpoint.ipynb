{
 "cells": [
  {
   "cell_type": "markdown",
   "metadata": {},
   "source": [
    "# MBAM model reduction for the MWC model of BK\n",
    "Model taken from Aldrich 2002 (Equation 1) <br>\n",
    "Initial parameters taken from Miranda 2013 PNAS, Suppl fig 5 <br>\n",
    "Algorithm as in Transtrum 2015 (Equation 49-51) - except for signs\n",
    "\n",
    "The code below iteratively finds limits (boundaries) and stiff nonlinear combinations of sloppy parameters for the MWC model of BK, while preserving the model output function $P_{open}(V, [Ca] \\ | \\ \\theta)$.\n",
    "\n",
    "The iterative model reduction proceeds as follows:\n",
    "+ $\\theta = \\{L_0, z_L, J_0, z_J, K_d, C, D, E \\}$\n",
    "    * $z_L -> 0$\n",
    "    \n",
    "    \n",
    "+ $\\phi^1 = \\{L_0, J_0, z_J, K_d, C, D, E \\}$\n",
    "    * $L_0^{1/4} \\rightarrow 0, \\quad C \\rightarrow \\infty, \\quad D \\rightarrow \\infty, \\quad E \\rightarrow 0 $\n",
    "    \n",
    "\n",
    "+ $\\phi^2 = \\{J_0, z_J, K_d, L_0^{1/4}C, L_0^{1/4}D, L_0^{-1/4}E \\}$ \n",
    "    * $L_0^{1/4}C \\rightarrow 0, \\quad L_0^{-1/4}E \\rightarrow \\infty $\n",
    "    \n",
    "    \n",
    "+ $\\phi^3 = \\{J_0, z_J, K_d, CE, L_0^{1/4}D \\}$ \n",
    "    * $J_0 \\rightarrow 0, \\quad L_0^{1/4}D \\rightarrow \\infty $\n",
    " \n",
    " \n",
    "+ $\\phi^4 = \\{J_0L_0^{1/4}D, z_J, K_d, CE  \\}$ \n",
    "    * $K_d \\rightarrow \\infty, \\quad CE \\rightarrow \\infty $\n",
    " \n",
    " \n",
    "+ $\\phi^5 = \\{J_0L_0^{1/4}D, z_J, CEK_d^{-1}  \\}$ \n",
    "\n",
    "The $P_{open}(V, [Ca] \\ | \\ \\phi^5)$ function is an excellent approximation of the original (way below experimental error), despite having only 3 parameters. Each of the parameters are meaningful, the first one describing the slope of the voltage sensitivity, the second the middle point of the voltage sensitivity and the third the calcium sensitivity.\n",
    "Note that the 4 parameter-model ($\\phi^4$) describes both the voltage and the calcium sensitivity curves as two-parameter sigmoids. The allosteric MWC model introduces nonlinear interaction between these two sensitivity curves."
   ]
  },
  {
   "cell_type": "code",
   "execution_count": 63,
   "metadata": {
    "collapsed": false
   },
   "outputs": [
    {
     "data": {
      "text/plain": [
       "BK_cost (generic function with 1 method)"
      ]
     },
     "execution_count": 63,
     "metadata": {},
     "output_type": "execute_result"
    }
   ],
   "source": [
    "using NBInclude #Includes for ipynb-s\n",
    "using JLD # Julia data I/O\n",
    "nbinclude(\"MBAM.ipynb\")\n",
    "nbinclude(\"BK_functions/BK_functions.ipynb\")\n"
   ]
  },
  {
   "cell_type": "code",
   "execution_count": 64,
   "metadata": {
    "collapsed": false
   },
   "outputs": [
    {
     "data": {
      "text/plain": [
       "(2,)"
      ]
     },
     "execution_count": 64,
     "metadata": {},
     "output_type": "execute_result"
    }
   ],
   "source": [
    "# Create grid to evaluate over\n",
    "using Iterators\n",
    "Ca=([0, 0.7, 4, 12, 22, 55, 70, 95]*1e-6)\n",
    "V=collect(-100:25:200)*1e-3\n",
    "\n",
    "x_grid = Array(Any, (length(Ca)*length(V),))\n",
    "iterind = 0;\n",
    "for j1 in product(Ca, V)\n",
    "    iterind += 1;\n",
    "    x_grid[iterind] = collect(j1)\n",
    "end\n",
    "size(x_grid[1])\n",
    "\n",
    "x= \n",
    "size([0.0,-0.1])"
   ]
  },
  {
   "cell_type": "code",
   "execution_count": null,
   "metadata": {
    "collapsed": false
   },
   "outputs": [],
   "source": [
    "# Single MBAM call that runs through all iterations of BK model reduction with automated model reduction\n",
    "phi0 = BK_reduce([2.2e-6, 0.42, 0.1026, 0.58, 39*1e-6, 6.16,30.4,2.0], model_id=11, in_log=0)\n",
    "outp = MBAM(BK_simulator, phi0, x_grid, model_iters=[11], move_dir=[-1, -1], boundary_time=10, verbose=1);\n"
   ]
  },
  {
   "cell_type": "code",
   "execution_count": null,
   "metadata": {
    "collapsed": false
   },
   "outputs": [],
   "source": [
    "outp[8][1][2] # First reduced model"
   ]
  },
  {
   "cell_type": "code",
   "execution_count": null,
   "metadata": {
    "collapsed": false
   },
   "outputs": [
    {
     "name": "stdout",
     "output_type": "stream",
     "text": [
      "Model iteration 11, initial values:\n",
      "    D =   6.30e-06   1.53e-04   3.21e-02   6.72e-02   3.55e-01   8.12e+00   3.62e+01\n",
      "theta =     -19.74      -2.96      -0.55     -10.29       2.19       5.95       0.11\n",
      "    v =   9.42e-01  -6.99e-03   8.88e-03   1.08e-02  -1.49e-01  -2.46e-01   1.73e-01\n",
      "\n",
      "\n",
      "Model iteration 11, final values:\n",
      "    D =   6.30e-06   1.53e-04   3.21e-02   6.72e-02   3.55e-01   8.12e+00   3.62e+01\n",
      "theta =     -35.33      -2.93      -0.60     -10.35       5.39       9.91      -3.22\n",
      "    v =  -9.21e-01   9.86e-05  -4.34e-04  -4.31e-04   2.22e-01   2.31e-01  -2.23e-01\n",
      "\n",
      "\n",
      "phi_comb = Any[phi1^0.25*phi5^1.0*phi6^1.0*phi7^1.0,phi1^(-0.25)*phi5^1.0*phi6^1.0*phi7^1.0,phi1^0.25*phi5^(-1.0)*phi6^1.0*phi7^1.0,phi1^(-0.25)*phi5^(-1.0)*phi6^1.0*phi7^1.0,phi1^0.25*phi5^1.0*phi6^(-1.0)*phi7^1.0,phi1^(-0.25)*phi5^1.0*phi6^(-1.0)*phi7^1.0,phi1^0.25*phi5^(-1.0)*phi6^(-1.0)*phi7^1.0,phi1^(-0.25)*phi5^(-1.0)*phi6^(-1.0)*phi7^1.0,phi1^0.25*phi5^1.0*phi6^1.0*phi7^(-1.0),phi1^(-0.25)*phi5^1.0*phi6^1.0*phi7^(-1.0),phi1^0.25*phi5^(-1.0)*phi6^1.0*phi7^(-1.0),phi1^(-0.25)*phi5^(-1.0)*phi6^1.0*phi7^(-1.0),phi1^0.25*phi5^1.0*phi6^(-1.0)*phi7^(-1.0),phi1^(-0.25)*phi5^1.0*phi6^(-1.0)*phi7^(-1.0),phi1^0.25*phi5^(-1.0)*phi6^(-1.0)*phi7^(-1.0),phi1^(-0.25)*phi5^(-1.0)*phi6^(-1.0)*phi7^(-1.0),phi1^0.25*phi5^1.0*phi6^1.0,phi1^(-0.25)*phi5^1.0*phi6^1.0,phi1^0.25*phi5^(-1.0)*phi6^1.0,phi1^(-0.25)*phi5^(-1.0)*phi6^1.0,phi1^0.25*phi5^1.0*phi6^(-1.0),phi1^(-0.25)*phi5^1.0*phi6^(-1.0),phi1^0.25*phi5^(-1.0)*phi6^(-1.0),phi1^(-0.25)*phi5^(-1.0)*phi6^(-1.0),phi1^0.25*phi5^1.0*phi7^1.0,phi1^(-0.25)*phi5^1.0*phi7^1.0,phi1^0.25*phi5^(-1.0)*phi7^1.0,phi1^(-0.25)*phi5^(-1.0)*phi7^1.0,phi1^0.25*phi5^1.0*phi7^(-1.0),phi1^(-0.25)*phi5^1.0*phi7^(-1.0),phi1^0.25*phi5^(-1.0)*phi7^(-1.0),phi1^(-0.25)*phi5^(-1.0)*phi7^(-1.0),phi1^0.25*phi6^1.0*phi7^1.0,phi1^(-0.25)*phi6^1.0*phi7^1.0,phi1^0.25*phi6^(-1.0)*phi7^1.0,phi1^(-0.25)*phi6^(-1.0)*phi7^1.0,phi1^0.25*phi6^1.0*phi7^(-1.0),phi1^(-0.25)*phi6^1.0*phi7^(-1.0),phi1^0.25*phi6^(-1.0)*phi7^(-1.0),phi1^(-0.25)*phi6^(-1.0)*phi7^(-1.0),phi5^1.0*phi6^1.0*phi7^1.0,phi5^(-1.0)*phi6^1.0*phi7^1.0,phi5^1.0*phi6^(-1.0)*phi7^1.0,phi5^(-1.0)*phi6^(-1.0)*phi7^1.0,phi5^1.0*phi6^1.0*phi7^(-1.0),phi5^(-1.0)*phi6^1.0*phi7^(-1.0),phi5^1.0*phi6^(-1.0)*phi7^(-1.0),phi5^(-1.0)*phi6^(-1.0)*phi7^(-1.0),phi1^0.25*phi5^1.0,phi1^(-0.25)*phi5^1.0,phi1^0.25*phi5^(-1.0),phi1^(-0.25)*phi5^(-1.0),phi1^0.25*phi6^1.0,phi1^(-0.25)*phi6^1.0,phi1^0.25*phi6^(-1.0),phi1^(-0.25)*phi6^(-1.0),phi1^0.25*phi7^1.0,phi1^(-0.25)*phi7^1.0,phi1^0.25*phi7^(-1.0),phi1^(-0.25)*phi7^(-1.0),phi5^1.0*phi6^1.0,phi5^(-1.0)*phi6^1.0,phi5^1.0*phi6^(-1.0),phi5^(-1.0)*phi6^(-1.0),phi5^1.0*phi7^1.0,phi5^(-1.0)*phi7^1.0,phi5^1.0*phi7^(-1.0),phi5^(-1.0)*phi7^(-1.0),phi6^1.0*phi7^1.0,phi6^(-1.0)*phi7^1.0,phi6^1.0*phi7^(-1.0),phi6^(-1.0)*phi7^(-1.0)]\n",
      "y_comb = "
     ]
    }
   ],
   "source": [
    "nbinclude(\"MBAM.ipynb\")\n",
    "phi_boundary = exp(BK_reduce([-19.74, -10.16,      -2.96,      -0.55,     -10.29,       2.19,       5.95,       0.11], model_id=11))\n",
    "outp = MBAM(BK_cost, phi_boundary, BK_simulator, model_iters=11, move_dir=-1, boundary_time=10, verbose=1);"
   ]
  },
  {
   "cell_type": "code",
   "execution_count": 18,
   "metadata": {
    "collapsed": false
   },
   "outputs": [
    {
     "ename": "LoadError",
     "evalue": "LoadError: cannot write a pointer to JLD file\nwhile loading In[18], in expression starting on line 1",
     "output_type": "error",
     "traceback": [
      "LoadError: cannot write a pointer to JLD file\nwhile loading In[18], in expression starting on line 1",
      "",
      " in h5fieldtype at /Users/gergobohner/.julia/v0.4/JLD/src/jld_types.jl:382",
      " in call at /Users/gergobohner/.julia/v0.4/JLD/src/jld_types.jl:45",
      " in h5type at /Users/gergobohner/.julia/v0.4/JLD/src/jld_types.jl:398",
      " in write_compound at /Users/gergobohner/.julia/v0.4/JLD/src/JLD.jl:706",
      " in write_ref at /Users/gergobohner/.julia/v0.4/JLD/src/JLD.jl:668",
      " [inlined code] from /Users/gergobohner/.julia/v0.4/JLD/src/jld_types.jl:621",
      " in h5convert! at /Users/gergobohner/.julia/v0.4/JLD/src/jld_types.jl:633",
      " in write_compound at /Users/gergobohner/.julia/v0.4/JLD/src/JLD.jl:710",
      " in write at /Users/gergobohner/.julia/v0.4/JLD/src/JLD.jl:526",
      " in anonymous at /Users/gergobohner/.julia/v0.4/JLD/src/JLD.jl:1207",
      " in jldopen at /Users/gergobohner/.julia/v0.4/JLD/src/JLD.jl:262",
      " in save at /Users/gergobohner/.julia/v0.4/JLD/src/JLD.jl:1205",
      " in save at /Users/gergobohner/.julia/v0.4/FileIO/src/loadsave.jl:54"
     ]
    }
   ],
   "source": [
    "save(\"BK_results/geodesic_$(timestamp()).jld\", \"outp\", )"
   ]
  },
  {
   "cell_type": "code",
   "execution_count": 26,
   "metadata": {
    "collapsed": false
   },
   "outputs": [
    {
     "data": {
      "text/latex": [
       "$$\\frac{\\phi_{1} \\left(\\phi_{2} \\phi_{6} e^{38.1727608645031 \\phi_{3} x_{2}} + \\frac{\\phi_{2} \\phi_{5}}{\\phi_{4}} \\phi_{6} \\phi_{7} x_{1} e^{38.1727608645031 \\phi_{3} x_{2}} + 1 + \\frac{\\phi_{5} x_{1}}{\\phi_{4}}\\right)^{4}}{\\phi_{1} \\left(\\phi_{2} \\phi_{6} e^{38.1727608645031 \\phi_{3} x_{2}} + \\frac{\\phi_{2} \\phi_{5}}{\\phi_{4}} \\phi_{6} \\phi_{7} x_{1} e^{38.1727608645031 \\phi_{3} x_{2}} + 1 + \\frac{\\phi_{5} x_{1}}{\\phi_{4}}\\right)^{4} + \\left(\\phi_{2} e^{38.1727608645031 \\phi_{3} x_{2}} + \\frac{\\phi_{2} \\phi_{7}}{\\phi_{4}} x_{1} e^{38.1727608645031 \\phi_{3} x_{2}} + 1 + \\frac{x_{1}}{\\phi_{4}}\\right)^{4}}$$"
      ],
      "text/plain": [
       "                                                                              \n",
       "                                                 /                            \n",
       "                                                 |           38.1727608645031*\n",
       "                                            phi1*|phi2*phi6*e                 \n",
       "                                                 \\                            \n",
       "------------------------------------------------------------------------------\n",
       "                                                                              \n",
       "     /                                                              38.1727608\n",
       "     |           38.1727608645031*phi3*x2   phi2*phi5*phi6*phi7*x1*e          \n",
       "phi1*|phi2*phi6*e                         + ----------------------------------\n",
       "     \\                                                            phi4        \n",
       "\n",
       "                                                                         4    \n",
       "                                  38.1727608645031*phi3*x2              \\     \n",
       "phi3*x2   phi2*phi5*phi6*phi7*x1*e                               phi5*x1|     \n",
       "        + ------------------------------------------------ + 1 + -------|     \n",
       "                                phi4                               phi4 /     \n",
       "------------------------------------------------------------------------------\n",
       "                             4                                                \n",
       "645031*phi3*x2              \\    /                                            \n",
       "                     phi5*x1|    |      38.1727608645031*phi3*x2   phi2*phi7*x\n",
       "-------------- + 1 + -------|  + |phi2*e                         + -----------\n",
       "                       phi4 /    \\                                            \n",
       "\n",
       "                                        \n",
       "                                        \n",
       "                                        \n",
       "                                        \n",
       "                                        \n",
       "----------------------------------------\n",
       "                                       4\n",
       "   38.1727608645031*phi3*x2           \\ \n",
       "1*e                                x1 | \n",
       "--------------------------- + 1 + ----| \n",
       "      phi4                        phi4/ "
      ]
     },
     "execution_count": 26,
     "metadata": {},
     "output_type": "execute_result"
    }
   ],
   "source": [
    "outp[8][1][1]"
   ]
  },
  {
   "cell_type": "code",
   "execution_count": 11,
   "metadata": {
    "collapsed": false
   },
   "outputs": [
    {
     "data": {
      "text/plain": [
       "false"
      ]
     },
     "execution_count": 11,
     "metadata": {},
     "output_type": "execute_result"
    }
   ],
   "source": [
    "vn = v/norm(v)\n",
    "norm(vn[abs(vn).<5e-2])<1e-3"
   ]
  },
  {
   "cell_type": "code",
   "execution_count": null,
   "metadata": {
    "collapsed": true
   },
   "outputs": [],
   "source": []
  },
  {
   "cell_type": "code",
   "execution_count": null,
   "metadata": {
    "collapsed": true
   },
   "outputs": [],
   "source": []
  },
  {
   "cell_type": "code",
   "execution_count": null,
   "metadata": {
    "collapsed": true
   },
   "outputs": [],
   "source": []
  },
  {
   "cell_type": "code",
   "execution_count": null,
   "metadata": {
    "collapsed": true
   },
   "outputs": [],
   "source": []
  },
  {
   "cell_type": "code",
   "execution_count": null,
   "metadata": {
    "collapsed": true
   },
   "outputs": [],
   "source": []
  },
  {
   "cell_type": "code",
   "execution_count": null,
   "metadata": {
    "collapsed": true
   },
   "outputs": [],
   "source": [
    "# Single MBAM call that runs through all iterations of BK model reduction\n",
    "x_0 = [2.2e-6, 0.42, 0.1026, 0.58, 39*1e-6, 6.16,30.4,2.0]\n",
    "@time (x, cost, v, D, x_red1) = MBAM(BK_cost, x_0, BK_reduce, model_iters=collect(10:14), move_dir=[-1,-1,1,1,1], boundary_time=10, verbose=1);\n"
   ]
  },
  {
   "cell_type": "markdown",
   "metadata": {},
   "source": [
    "### Iterative MBAM calls\n",
    "(Old)"
   ]
  },
  {
   "cell_type": "code",
   "execution_count": null,
   "metadata": {
    "collapsed": false
   },
   "outputs": [],
   "source": [
    "#Run MBAM on BK model (inital iteration)\n",
    "x_0 = [2.2e-6, 0.42, 0.1026, 0.58, 39*1e-6, 6.16,30.4,2.0]\n",
    "@time (x, cost, v, D, x_red1) = MBAM(BK_cost, x_0, BK_reduce, model_iters=10, boundary_time=10, verbose=0);\n",
    "@save \"BK_results/geodesic_iter_1$(timestamp()).jld\""
   ]
  },
  {
   "cell_type": "code",
   "execution_count": null,
   "metadata": {
    "collapsed": true
   },
   "outputs": [],
   "source": []
  },
  {
   "cell_type": "code",
   "execution_count": null,
   "metadata": {
    "collapsed": false
   },
   "outputs": [],
   "source": [
    "#Run MBAM on BK model (second iteration)\n",
    "x_red1 = BK_reduce(x, model_id=11)\n",
    "(x, cost, v, D, x_red2) = MBAM(BK_cost, exp(x_red1), BK_reduce, model_iters=11, boundary_time=10, verbose=0);\n",
    "@save \"BK_results/geodesic_iter_2$(timestamp()).jld\""
   ]
  },
  {
   "cell_type": "code",
   "execution_count": null,
   "metadata": {
    "collapsed": false
   },
   "outputs": [],
   "source": [
    "#Run MBAM on BK model (third iteration)\n",
    "x_red2 = BK_reduce(x, model_id=12)\n",
    "@time (x, cost, v, D, x_red3) = MBAM(BK_cost, exp(x_red2), BK_reduce, model_iters=12, boundary_time=10, verbose=1); \n",
    "@save \"BK_results/geodesic_iter_3$(timestamp()).jld\""
   ]
  },
  {
   "cell_type": "code",
   "execution_count": null,
   "metadata": {
    "collapsed": false
   },
   "outputs": [],
   "source": [
    "#Run MBAM on BK model (fourth iteration)\n",
    "@time (x, cost, v, D, x_red4) = MBAM(BK_cost, exp(x_red3), BK_reduce, model_iters=13, boundary_time=10, verbose=0); \n",
    "@save \"BK_results/geodesic_iter_4$(timestamp()).jld\"\n",
    "# Doesn't really seem to converge anymore"
   ]
  },
  {
   "cell_type": "code",
   "execution_count": null,
   "metadata": {
    "collapsed": true
   },
   "outputs": [],
   "source": [
    "#Run MBAM on BK model (fifth iteration)\n",
    "@time (x, cost, v, D, x_red5) = MBAM(BK_cost, exp(x_red4), BK_reduce, model_iters=14, boundary_time=10, verbose=0); \n",
    "@save \"BK_results/geodesic_iter_5$(timestamp()).jld\""
   ]
  },
  {
   "cell_type": "code",
   "execution_count": null,
   "metadata": {
    "collapsed": false
   },
   "outputs": [],
   "source": [
    "using Plots\n",
    "x_0 = [2.2e-6, 0.42, 0.1026, 0.58, 39*1e-6, 6.16,30.4,2.0]\n",
    "\n",
    "#Original model at x_0\n",
    "Plots.plot(BK_simulator(x_0,model_id=0)')"
   ]
  },
  {
   "cell_type": "code",
   "execution_count": null,
   "metadata": {
    "collapsed": false
   },
   "outputs": [],
   "source": [
    "# Reduced model at the boundary\n",
    "Plots.plot(BK_simulator(exp(x),model_id=14)')"
   ]
  }
 ],
 "metadata": {
  "kernelspec": {
   "display_name": "Julia 0.4.5",
   "language": "julia",
   "name": "julia-0.4"
  },
  "language_info": {
   "file_extension": ".jl",
   "mimetype": "application/julia",
   "name": "julia",
   "version": "0.4.5"
  }
 },
 "nbformat": 4,
 "nbformat_minor": 0
}
