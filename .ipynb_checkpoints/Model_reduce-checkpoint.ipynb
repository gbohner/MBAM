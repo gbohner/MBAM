{
 "cells": [
  {
   "cell_type": "markdown",
   "metadata": {},
   "source": [
    "# Symbolic reduction of given models\n",
    "Passes a symbolic parameter and a data vector to the model function, then given the normal vector at the boundary (eigenvec with smallest EV of J'J), figures out a model with a reduce number of parameters"
   ]
  },
  {
   "cell_type": "code",
   "execution_count": 1,
   "metadata": {
    "collapsed": true
   },
   "outputs": [],
   "source": [
    "# Includes\n",
    "using SymPy\n",
    "using Iterators"
   ]
  },
  {
   "cell_type": "markdown",
   "metadata": {},
   "source": [
    "## Subfunctions"
   ]
  },
  {
   "cell_type": "markdown",
   "metadata": {},
   "source": [
    "### Utility"
   ]
  },
  {
   "cell_type": "code",
   "execution_count": 2,
   "metadata": {
    "collapsed": false
   },
   "outputs": [
    {
     "data": {
      "text/plain": [
       "arrayfy (generic function with 1 method)"
      ]
     },
     "execution_count": 2,
     "metadata": {},
     "output_type": "execute_result"
    }
   ],
   "source": [
    "# Assign a vector of symbolic variables\n",
    "\n",
    "# Assign a single variable, given it's string name and input\n",
    "function string_as_varname(s::AbstractString,v::Any)\n",
    "    s=symbol(s) \n",
    "    @eval (($s) = ($v))\n",
    "end\n",
    "\n",
    "# Assign a matrix of symbolic variables to string s (the variables share the same name)\n",
    "function string_as_symb_vec(s::AbstractString, dims::Tuple)\n",
    "    string_as_varname(s, [string_as_varname(\"$s$(i1)\",Sym(\"$s$(i1)\")) for i1 in 1:prod(dims)])\n",
    "    string_as_varname(s, reshape(eval(symbol(s)), dims))\n",
    "end\n",
    "\n",
    "# Return the index of a symbolic variable within a vector\n",
    "\n",
    "# Check if the input is already an array, if not, convert it to array\n",
    "function arrayfy(a::Any)\n",
    "    if (typeof(a)==Array{eltype(a),1}) || (typeof(a)==Array{eltype(a),2})\n",
    "        return a # Already an array\n",
    "    else\n",
    "        return [a]\n",
    "    end\n",
    "end"
   ]
  },
  {
   "cell_type": "code",
   "execution_count": 145,
   "metadata": {
    "collapsed": false
   },
   "outputs": [
    {
     "data": {
      "text/plain": [
       "all_phi_combs (generic function with 1 method)"
      ]
     },
     "execution_count": 145,
     "metadata": {},
     "output_type": "execute_result"
    }
   ],
   "source": [
    "# Return all combination of parameters given an integer vector\n",
    "function abstract_mply(phi::AbstractArray, inds::AbstractArray)\n",
    "    out = phi[inds[1]];\n",
    "    for i1 in inds[2:end]\n",
    "        out *= phi[i1]; \n",
    "    end\n",
    "    return out\n",
    "end\n",
    "\n",
    "function all_phi_combs(phi::AbstractArray, v::AbstractArray; min_set_size=2)\n",
    "    # Find parameters that need to be combined\n",
    "    inds = find(x -> x != 0, v);\n",
    "    n_comb = length(inds)\n",
    "    phi = copy(phi)\n",
    "    \n",
    "    # Take the correct symbolic power before combining\n",
    "    for i1 in inds[1:n_comb]\n",
    "        phi[i1] = phi[i1].^Sym(round(Int, 1/abs(v[i1])))\n",
    "    end\n",
    "    \n",
    "    # Also create both ^1 and ^-1 versions of each variable\n",
    "    phi_ext = [phi; phi];\n",
    "    for i1 = (1+length(phi)):(2*length(phi))\n",
    "        phi_ext[i1] = 1/phi_ext[i1];\n",
    "    end    \n",
    "    \n",
    "    out1 = Array(Any, ((2^length(inds))^2)); #Combinations\n",
    "    out2 = Array(Any, ((2^length(inds))^2)); #Indices of generators\n",
    "    \n",
    "    # Iterate over all subsets and return them, ordered by their size   \n",
    "    iterind = 0;\n",
    "    for n1 = length(inds):-1:min_set_size\n",
    "        for i1 in subsets(inds, n1)\n",
    "            tmp = Array(Any, (n1,1))\n",
    "            fill!(tmp, [0,length(phi)])\n",
    "            for j1 in product(tmp...)\n",
    "                #@show i1.+collect(j1)\n",
    "                iterind += 1\n",
    "                out1[iterind] = abstract_mply(phi_ext, i1.+collect(j1));\n",
    "                out2[iterind] = i1.+collect(j1);\n",
    "            end\n",
    "        end\n",
    "    end\n",
    "    return out1[1:iterind], out2[1:iterind]\n",
    "end"
   ]
  },
  {
   "cell_type": "code",
   "execution_count": 4,
   "metadata": {
    "collapsed": false
   },
   "outputs": [
    {
     "data": {
      "text/plain": [
       "is_explained (generic function with 1 method)"
      ]
     },
     "execution_count": 4,
     "metadata": {},
     "output_type": "execute_result"
    }
   ],
   "source": [
    "# Check if a combination of parameters is explained by other given combinations\n",
    "function is_explained(expr::Sym, combs::AbstractArray)\n",
    "    possible_combs, indices = all_phi_combs(combs, ones(size(combs)), min_set_size=1)\n",
    "    explanation = find(x -> x == expr, possible_combs);\n",
    "    \n",
    "    # Returns whether or not it is explained, and if so, then also\n",
    "    if !isempty(explanation)\n",
    "        return !isempty(explanation), indices[explanation]\n",
    "    else\n",
    "        return !isempty(explanation)\n",
    "    end\n",
    "end"
   ]
  },
  {
   "cell_type": "markdown",
   "metadata": {},
   "source": [
    "### Important"
   ]
  },
  {
   "cell_type": "code",
   "execution_count": 147,
   "metadata": {
    "collapsed": false
   },
   "outputs": [
    {
     "data": {
      "text/plain": [
       "phi_combine (generic function with 1 method)"
      ]
     },
     "execution_count": 147,
     "metadata": {},
     "output_type": "execute_result"
    }
   ],
   "source": [
    "# Given the normal at the boundary, substitute parameter combinations\n",
    "function phi_combine(y_symb::Sym, v::AbstractArray)\n",
    "    # First figure out what parameters need to be combined given v\n",
    "    v[abs(v).<5e-2] = 0;\n",
    "    v = round(v./abs(minimum(v[v.!=0])))\n",
    "    # Note that this \"integerization\" of v persists outside of this subfunction, as we did NOT make a copy.\n",
    "    \n",
    "    # Get combinations, ordered by their size\n",
    "    phi_comb, = all_phi_combs(phi, v)\n",
    "    #@show phi_comb\n",
    "    # Replace the combined phis with temporary etas\n",
    "    y_comb = copy(y_symb);\n",
    "    string_as_symb_vec(\"eta\", (length(phi_comb),))\n",
    "    for i1 in 1:length(phi_comb)\n",
    "        y_comb = subs(y_comb, phi_comb[i1]=>eta[i1])\n",
    "    end\n",
    "    \n",
    "    return y_comb, phi_comb, eta\n",
    "end"
   ]
  },
  {
   "cell_type": "code",
   "execution_count": 30,
   "metadata": {
    "collapsed": false
   },
   "outputs": [
    {
     "data": {
      "text/plain": [
       "take_limits (generic function with 1 method)"
      ]
     },
     "execution_count": 30,
     "metadata": {},
     "output_type": "execute_result"
    }
   ],
   "source": [
    "# Take the limits of the combined model\n",
    "function take_limits(y_comb::Sym, phi::AbstractArray, v::AbstractArray)\n",
    "    inds = find(x -> x != 0, v); \n",
    "    y_lims = copy(y_comb)\n",
    "    for i1 in inds\n",
    "        if v[i1] > 0\n",
    "            y_lims = limit(y_lims, phi[i1], oo)\n",
    "        else\n",
    "            y_lims = subs(y_lims, phi[i1], 0)\n",
    "        end\n",
    "    end\n",
    "    \n",
    "    return y_lims\n",
    "end"
   ]
  },
  {
   "cell_type": "code",
   "execution_count": 94,
   "metadata": {
    "collapsed": false
   },
   "outputs": [
    {
     "data": {
      "text/plain": [
       "phi_reduce (generic function with 1 method)"
      ]
     },
     "execution_count": 94,
     "metadata": {},
     "output_type": "execute_result"
    }
   ],
   "source": [
    "# Substitute back parameter combinations\n",
    "function phi_reduce(y_lims::Sym, phi::AbstractArray, phi_comb::AbstractArray, eta::AbstractArray)\n",
    "    y_red = copy(y_lims)\n",
    "    # First check which combinations do exist in the reduced model, work with only those\n",
    "    all_symbols = free_symbols(y_red);\n",
    "    # We want to check which of the etas and phis we ended up using\n",
    "    eta_does_exist = [];\n",
    "    for i1 in 1:length(eta)\n",
    "        ind = find(x -> x==eta[i1], all_symbols)\n",
    "        if !isempty(ind) eta_does_exist = [eta_does_exist, i1] end\n",
    "    end\n",
    "    phi_does_exist = [];\n",
    "    for i1 in 1:length(phi)\n",
    "        ind = find(x -> x==phi[i1], all_symbols)\n",
    "        if !isempty(ind) phi_does_exist = [phi_does_exist, i1] end\n",
    "    end\n",
    "    \n",
    "    \n",
    "    # Whether some higher order combinations can be explained by a combination of lower ordered ones\n",
    "    phi_keep = copy(phi_comb[eta_does_exist])\n",
    "    to_keep = length(phi_keep); # Check if all phi_combs are explained by the kept combinations\n",
    "    expl_by = Array(Any, size(phi_keep));\n",
    "    \n",
    "    \n",
    "    all_explained = false;\n",
    "    while !all_explained\n",
    "        all_explained = true;\n",
    "        # Try to find an explanation for all combinations, given a few combinations\n",
    "        for i1 in 1:length(phi_keep)\n",
    "            b, tmp = is_explained(phi_keep[i1], arrayfy(phi_keep[to_keep]))\n",
    "            expl_by[i1] = tmp[1]\n",
    "            if !b all_explained=false end\n",
    "        end\n",
    "        \n",
    "        # If there are some not explained, extend the set of explaining combinations with the smallest unexplained combination\n",
    "        if !all_explained\n",
    "            to_keep = [to_keep, find(x -> !isempty(x), expl_by[sort(collect(setdiff(Set(1:length(phi_keep)), Set(to_keep))))])[1]];\n",
    "        end\n",
    "    \n",
    "    end\n",
    "    \n",
    "    # By now we found the minimal set of combinations that explain all combinations that exist in y_lims\n",
    "    # Now replace the explained-away etas with combinations of to_keep etas\n",
    "    for i1 = 1:length(phi_keep)\n",
    "        y_red = subs(y_red, eta[eta_does_exist[to_keep[i1]]] =>  abstract_mply(eta, eta_does_exist[expl_by[i1]]));\n",
    "    end\n",
    "    \n",
    "    \n",
    "    # Now just create a reduced phi vector\n",
    "    \n",
    "    phi_red = copy(phi)[1:(length(to_keep)+length(phi_does_exist))]\n",
    "    \n",
    "    # Change the symbols within y_lims accordingly, and remember the mapping\n",
    "    \n",
    "    phi_red_mapping = Dict()\n",
    "    # First map existing symbols to something arbitrary (kappa) and remember the mappings\n",
    "    string_as_symb_vec(\"kappa\", size(phi_red))\n",
    "    for i1 in 1:length(phi_does_exist)\n",
    "        y_red = subs(y_red, phi[phi_does_exist[i1]]=>kappa[i1])\n",
    "        phi_red_mapping[phi[phi_does_exist[i1]]] = phi[i1];\n",
    "    end\n",
    "    for i1 in 1:length(to_keep)\n",
    "        y_red = subs(y_red, eta[eta_does_exist[to_keep[i1]]]=>kappa[length(phi_does_exist)+i1])\n",
    "        phi_red_mapping[phi_comb[eta_does_exist[to_keep[i1]]]] = phi[length(phi_does_exist)+i1];\n",
    "    end\n",
    "    \n",
    "    # Create the final product by substituting back to phi form\n",
    "    for i1 in 1:length(kappa)\n",
    "        y_red = subs(y_red, kappa[i1]=>phi_red[i1])\n",
    "    end\n",
    "    \n",
    "    \n",
    "    return y_red, phi_red, phi_red_mapping\n",
    "end"
   ]
  },
  {
   "cell_type": "code",
   "execution_count": 133,
   "metadata": {
    "collapsed": false
   },
   "outputs": [
    {
     "data": {
      "text/plain": [
       "create_reduced_model (generic function with 1 method)"
      ]
     },
     "execution_count": 133,
     "metadata": {},
     "output_type": "execute_result"
    }
   ],
   "source": [
    "# Turn the symbolic model into a callable function\n",
    "function create_reduced_model(y_red::Sym, phi_in::AbstractArray, x_in::AbstractArray)\n",
    "    # Roughly, with correct wrappers such that model_red(phi, x)\n",
    "\n",
    "    f_red = lambdify(y_red, [phi_in; x_in])\n",
    "    \n",
    "    model_red(phi::AbstractArray, x::AbstractArray) = f_red(phi..., x...)\n",
    "    \n",
    "    return model_red\n",
    "end"
   ]
  },
  {
   "cell_type": "code",
   "execution_count": 149,
   "metadata": {
    "collapsed": false
   },
   "outputs": [
    {
     "data": {
      "text/plain": [
       "numeric_reduction (generic function with 2 methods)"
      ]
     },
     "execution_count": 149,
     "metadata": {},
     "output_type": "execute_result"
    }
   ],
   "source": [
    "# Compute the reduced parameter vector numerically\n",
    "function numeric_reduction(phi_boundary::AbstractArray, phi::AbstractArray, phi_red::AbstractArray, phi_red_mapping::Dict )\n",
    "    # Quickly reverse the mapping for convenience\n",
    "    phi_reverse_mapping = Dict();\n",
    "    for key = keys(phi_red_mapping)\n",
    "        phi_reverse_mapping[phi_red_mapping[key]] = key;\n",
    "    end\n",
    "    \n",
    "    phi_red_numeric = zeros(size(phi_red))\n",
    "\n",
    "    # Implement the numeric substitutions\n",
    "    tmp = Array(Any, size(phi)) \n",
    "    for i1 in 1:length(phi)\n",
    "        tmp[i1] = eval(symbol(\"phi$i1\"))=>phi_boundary[i1];\n",
    "    end\n",
    "    \n",
    "    # Do the substitutions\n",
    "    for i1 in 1:length(phi_red)\n",
    "        phi_red_numeric[i1] = subs(phi_reverse_mapping[eval(symbol(\"phi$i1\"))], tmp...)\n",
    "    end\n",
    "    \n",
    "    return phi_red_numeric\n",
    "end"
   ]
  },
  {
   "cell_type": "markdown",
   "metadata": {},
   "source": [
    "## Main function"
   ]
  },
  {
   "cell_type": "code",
   "execution_count": 143,
   "metadata": {
    "collapsed": false
   },
   "outputs": [
    {
     "data": {
      "text/plain": [
       "Reduce_model (generic function with 1 method)"
      ]
     },
     "execution_count": 143,
     "metadata": {},
     "output_type": "execute_result"
    }
   ],
   "source": [
    "# Reduces the model described in the function model(phi::parameters, x::evaluation_locations)\n",
    "# given a normal vector v of parameters at the boundary location x\n",
    "# Return a callable function model_red(phi_red, x) where size(phi_red) = size(phi)-1\n",
    "# but for the output y_red = model(phi_red, x):   (y_red-y)^2 ~ 0\n",
    "\n",
    "function Reduce_model(model::Union{Function, Sym}, phi_boundary::AbstractArray, v_boundary::AbstractArray, data_dim::Tuple; model_id=0)\n",
    "    # Create symbolic vectors for y and x\n",
    "    string_as_symb_vec(\"phi\", size(v_boundary)) # Dimension is number of parameters\n",
    "    string_as_symb_vec(\"x\", data_dim) # Dimension of input data dimension (for voltage and [Ca2+] is 2)\n",
    "    \n",
    "    # Get the symbolic model (either from a supplied function, or the symbolic version from previous iteration)\n",
    "    if typeof(model)==Function\n",
    "        #y_symb = model(phi, x, model_id=model_id) # General implementation\n",
    "        y_symb = model(phi, Ca=[x[1]], V=[x[2]], model_id=model_id)[1] # BK_specific for now\n",
    "    else\n",
    "        y_symb = model;\n",
    "    end\n",
    "\n",
    "    # Given the normal at the boundary, substitute parameter combinations\n",
    "    #y_comb, phi_comb = phi_combine(y_symb, v)\n",
    "    y_comb, phi_comb, eta = phi_combine(y_symb, v)\n",
    "    \n",
    "    # Take the limits of the combined model\n",
    "    y_lims = take_limits(y_comb, phi, v)\n",
    "    \n",
    "    # Substitute back parameter combinations\n",
    "    y_red, phi_red, phi_red_mapping = phi_reduce(y_lims, phi, phi_comb, eta)\n",
    "    \n",
    "    # Turn the symbolic model into a callable function\n",
    "    model_red = create_reduced_model(y_red, phi_red, x)\n",
    "    \n",
    "    # Compute the reduced parameter vector numerically\n",
    "    phi_red_numeric = numeric_reduction(phi_boundary, phi, phi_red, phi_red_mapping)\n",
    "    \n",
    "    #return y_red, phi_red_numeric \n",
    "    \n",
    "    return y_symb, y_red, phi_red_mapping, model_red, y_comb, phi_comb, y_lims, y_red, phi_red, phi_red_mapping, model_red, phi_red_numeric\n",
    "end"
   ]
  },
  {
   "cell_type": "code",
   "execution_count": 150,
   "metadata": {
    "collapsed": false
   },
   "outputs": [],
   "source": [
    "outp = Reduce_model(BK_simulator, exp(x_red2), v, (2,1), model_id=12);"
   ]
  },
  {
   "cell_type": "code",
   "execution_count": 151,
   "metadata": {
    "collapsed": false
   },
   "outputs": [
    {
     "data": {
      "text/latex": [
       "$$\\frac{\\left(\\phi_{1} \\phi_{5} e^{38.1727608645031 \\phi_{2} x_{2}} + \\frac{\\phi_{1} \\phi_{4}}{\\phi_{3}} \\phi_{5} \\phi_{6} x_{1} e^{38.1727608645031 \\phi_{2} x_{2}} + \\frac{\\phi_{4} x_{1}}{\\phi_{3}}\\right)^{4}}{\\left(\\phi_{1} e^{38.1727608645031 \\phi_{2} x_{2}} + 1 + \\frac{x_{1}}{\\phi_{3}}\\right)^{4} + \\left(\\phi_{1} \\phi_{5} e^{38.1727608645031 \\phi_{2} x_{2}} + \\frac{\\phi_{1} \\phi_{4}}{\\phi_{3}} \\phi_{5} \\phi_{6} x_{1} e^{38.1727608645031 \\phi_{2} x_{2}} + \\frac{\\phi_{4} x_{1}}{\\phi_{3}}\\right)^{4}}$$"
      ],
      "text/plain": [
       "                                                                              \n",
       "                       /                                                      \n",
       "                       |           38.1727608645031*phi2*x2   phi1*phi4*phi5*p\n",
       "                       |phi1*phi5*e                         + ----------------\n",
       "                       \\                                                      \n",
       "------------------------------------------------------------------------------\n",
       "                                                                              \n",
       "                                           4   /                              \n",
       "/      38.1727608645031*phi2*x2        x1 \\    |           38.1727608645031*ph\n",
       "|phi1*e                         + 1 + ----|  + |phi1*phi5*e                   \n",
       "\\                                     phi3/    \\                              \n",
       "\n",
       "                                           4                        \n",
       "        38.1727608645031*phi2*x2          \\                         \n",
       "hi6*x1*e                           phi4*x1|                         \n",
       "-------------------------------- + -------|                         \n",
       "      phi3                           phi3 /                         \n",
       "--------------------------------------------------------------------\n",
       "                                                                   4\n",
       "                                38.1727608645031*phi2*x2          \\ \n",
       "i2*x2   phi1*phi4*phi5*phi6*x1*e                           phi4*x1| \n",
       "      + ------------------------------------------------ + -------| \n",
       "                              phi3                           phi3 / "
      ]
     },
     "execution_count": 151,
     "metadata": {},
     "output_type": "execute_result"
    }
   ],
   "source": [
    "outp[1]"
   ]
  },
  {
   "cell_type": "code",
   "execution_count": 152,
   "metadata": {
    "collapsed": false
   },
   "outputs": [
    {
     "data": {
      "text/latex": [
       "\\begin{equation*}\\begin{cases}\\phi_{4} \\phi_{6} & \\text{=>} &\\phi_{5}\\\\\\phi_{3} & \\text{=>} &\\phi_{3}\\\\\\phi_{1} & \\text{=>} &\\phi_{1}\\\\\\phi_{2} & \\text{=>} &\\phi_{2}\\\\\\phi_{5} & \\text{=>} &\\phi_{4}\\\\\\end{cases}\\end{equation*}"
      ],
      "text/plain": [
       "Dict{Any,Any} with 5 entries:\n",
       "  phi4*phi6 => phi5\n",
       "  phi3      => phi3\n",
       "  phi1      => phi1\n",
       "  phi2      => phi2\n",
       "  phi5      => phi4"
      ]
     },
     "execution_count": 152,
     "metadata": {},
     "output_type": "execute_result"
    }
   ],
   "source": [
    "outp[3]"
   ]
  },
  {
   "cell_type": "code",
   "execution_count": 153,
   "metadata": {
    "collapsed": false
   },
   "outputs": [
    {
     "data": {
      "text/latex": [
       "$$\\frac{\\left(\\phi_{1} \\phi_{4} e^{38.1727608645031 \\phi_{2} x_{2}} + \\frac{\\phi_{1} \\phi_{4}}{\\phi_{3}} \\phi_{5} x_{1} e^{38.1727608645031 \\phi_{2} x_{2}}\\right)^{4}}{\\left(\\phi_{1} \\phi_{4} e^{38.1727608645031 \\phi_{2} x_{2}} + \\frac{\\phi_{1} \\phi_{4}}{\\phi_{3}} \\phi_{5} x_{1} e^{38.1727608645031 \\phi_{2} x_{2}}\\right)^{4} + \\left(\\phi_{1} e^{38.1727608645031 \\phi_{2} x_{2}} + 1 + \\frac{x_{1}}{\\phi_{3}}\\right)^{4}}$$"
      ],
      "text/plain": [
       "                                                                              \n",
       "                        /                                                     \n",
       "                        |           38.1727608645031*phi2*x2   phi1*phi4*phi5*\n",
       "                        |phi1*phi4*e                         + ---------------\n",
       "                        \\                                                     \n",
       "------------------------------------------------------------------------------\n",
       "                                                                              \n",
       "/                                                         38.1727608645031*phi\n",
       "|           38.1727608645031*phi2*x2   phi1*phi4*phi5*x1*e                    \n",
       "|phi1*phi4*e                         + ---------------------------------------\n",
       "\\                                                          phi3               \n",
       "\n",
       "                             4                       \n",
       "    38.1727608645031*phi2*x2\\                        \n",
       "x1*e                        |                        \n",
       "----------------------------|                        \n",
       "     phi3                   /                        \n",
       "-----------------------------------------------------\n",
       "     4                                               \n",
       "2*x2\\                                               4\n",
       "    |    /      38.1727608645031*phi2*x2        x1 \\ \n",
       "----|  + |phi1*e                         + 1 + ----| \n",
       "    /    \\                                     phi3/ "
      ]
     },
     "execution_count": 153,
     "metadata": {},
     "output_type": "execute_result"
    }
   ],
   "source": [
    "outp[2]"
   ]
  },
  {
   "cell_type": "code",
   "execution_count": 154,
   "metadata": {
    "collapsed": false
   },
   "outputs": [
    {
     "data": {
      "text/plain": [
       "model_red (generic function with 1 method)"
      ]
     },
     "execution_count": 154,
     "metadata": {},
     "output_type": "execute_result"
    }
   ],
   "source": [
    "outp[4]"
   ]
  },
  {
   "cell_type": "code",
   "execution_count": null,
   "metadata": {
    "collapsed": true
   },
   "outputs": [],
   "source": []
  }
 ],
 "metadata": {
  "kernelspec": {
   "display_name": "Julia 0.4.5",
   "language": "julia",
   "name": "julia-0.4"
  },
  "language_info": {
   "file_extension": ".jl",
   "mimetype": "application/julia",
   "name": "julia",
   "version": "0.4.5"
  }
 },
 "nbformat": 4,
 "nbformat_minor": 0
}
