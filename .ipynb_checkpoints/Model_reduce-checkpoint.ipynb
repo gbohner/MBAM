{
 "cells": [
  {
   "cell_type": "markdown",
   "metadata": {},
   "source": [
    "# Symbolic reduction of given models\n",
    "Passes a symbolic parameter and a data vector to the model function, then given the normal vector at the boundary (eigenvec with smallest EV of J'J), figures out a model with a reduce number of parameters"
   ]
  },
  {
   "cell_type": "code",
   "execution_count": 1,
   "metadata": {
    "collapsed": true
   },
   "outputs": [],
   "source": [
    "# Includes\n",
    "using SymPy\n",
    "using Iterators"
   ]
  },
  {
   "cell_type": "markdown",
   "metadata": {},
   "source": [
    "## Subfunctions"
   ]
  },
  {
   "cell_type": "markdown",
   "metadata": {},
   "source": [
    "### Utility"
   ]
  },
  {
   "cell_type": "code",
   "execution_count": 1,
   "metadata": {
    "collapsed": false
   },
   "outputs": [
    {
     "data": {
      "text/plain": [
       "arrayfy (generic function with 1 method)"
      ]
     },
     "execution_count": 1,
     "metadata": {},
     "output_type": "execute_result"
    }
   ],
   "source": [
    "# Assign a vector of symbolic variables\n",
    "\n",
    "# Assign a single variable, given it's string name and input\n",
    "function string_as_varname(s::AbstractString,v::Any)\n",
    "    s=symbol(s) \n",
    "    @eval (($s) = ($v))\n",
    "end\n",
    "\n",
    "# Return a matrix of symbolic variables (s1, s2 etc) (the variables share the same name)\n",
    "function string_as_symb_vec(s::AbstractString, dims::Tuple)\n",
    "    out = [string_as_varname(\"$s$(i1)\",Sym(\"$s$(i1)\")) for i1 in 1:prod(dims)];\n",
    "    reshape(out, dims)\n",
    "    return out\n",
    "end\n",
    "\n",
    "# Return the index of a symbolic variable within a vector\n",
    "\n",
    "# Check if the input is already an array, if not, convert it to array\n",
    "function arrayfy(a::Any)\n",
    "    if (typeof(a)==Array{eltype(a),1}) || (typeof(a)==Array{eltype(a),2})\n",
    "        return a # Already an array\n",
    "    else\n",
    "        return [a]\n",
    "    end\n",
    "end"
   ]
  },
  {
   "cell_type": "code",
   "execution_count": 2,
   "metadata": {
    "collapsed": false
   },
   "outputs": [
    {
     "data": {
      "text/plain": [
       "all_phi_combs (generic function with 1 method)"
      ]
     },
     "execution_count": 2,
     "metadata": {},
     "output_type": "execute_result"
    }
   ],
   "source": [
    "# Return all combination of parameters given an integer vector\n",
    "function abstract_mply(phi::AbstractArray, inds::AbstractArray)\n",
    "    out = phi[inds[1]];\n",
    "    for i1 in inds[2:end]\n",
    "        out *= phi[i1]; \n",
    "    end\n",
    "    return out\n",
    "end\n",
    "\n",
    "function all_phi_combs(phi::AbstractArray, v::AbstractArray; min_set_size=2)\n",
    "    # Find parameters that need to be combined\n",
    "    inds = find(x -> x != 0, v);\n",
    "    n_comb = length(inds)\n",
    "    phi = copy(phi)\n",
    "    \n",
    "    println(\"Model_reduce - step 2/1/1 - Phi combinations inds done\")\n",
    "    @show inds\n",
    "    \n",
    "    # Take the correct symbolic power before combining\n",
    "    for i1 in inds[1:n_comb]\n",
    "        phi[i1] = phi[i1].^(1//round(Int, abs(v[i1])))\n",
    "    end\n",
    "    \n",
    "    # Also create both ^1 and ^-1 versions of each variable\n",
    "    phi_ext = [phi; phi];\n",
    "    for i1 = (1+length(phi)):(2*length(phi))\n",
    "        phi_ext[i1] = 1/phi_ext[i1];\n",
    "    end    \n",
    "    \n",
    "    println(\"Model_reduce - step 2/1/2 - Phi combinations ext done\")\n",
    "    @show phi_ext\n",
    "    \n",
    "    out1 = Array(Any, ((2^length(inds))^2)); #Combinations\n",
    "    out2 = Array(Any, ((2^length(inds))^2)); #Indices of generators\n",
    "    \n",
    "    # Iterate over all subsets and return them, ordered by their size   \n",
    "    iterind = 0;\n",
    "    for n1 = length(inds):-1:min_set_size\n",
    "        for i1 in subsets(inds, n1)\n",
    "            tmp = Array(Any, (n1,1))\n",
    "            fill!(tmp, [0,length(phi)])\n",
    "            for j1 in product(tmp...)\n",
    "                ##@show i1.+collect(j1)\n",
    "                iterind += 1\n",
    "                out1[iterind] = abstract_mply(phi_ext, i1.+collect(j1));\n",
    "                out2[iterind] = i1.+collect(j1);\n",
    "            end\n",
    "        end\n",
    "    end\n",
    "    return out1[1:iterind], out2[1:iterind]\n",
    "end"
   ]
  },
  {
   "cell_type": "code",
   "execution_count": 4,
   "metadata": {
    "collapsed": false
   },
   "outputs": [
    {
     "data": {
      "text/plain": [
       "is_explained (generic function with 1 method)"
      ]
     },
     "execution_count": 4,
     "metadata": {},
     "output_type": "execute_result"
    }
   ],
   "source": [
    "# Check if a combination of parameters is explained by other given combinations\n",
    "function is_explained(expr::Sym, combs::AbstractArray)\n",
    "    possible_combs, indices = all_phi_combs(combs, ones(size(combs)), min_set_size=1)\n",
    "    explanation = find(x -> x == expr, possible_combs);\n",
    "    \n",
    "    # Returns whether or not it is explained, and if so, then also\n",
    "    if !isempty(explanation)\n",
    "        return !isempty(explanation), indices[explanation]\n",
    "    else\n",
    "        return !isempty(explanation)\n",
    "    end\n",
    "end"
   ]
  },
  {
   "cell_type": "markdown",
   "metadata": {},
   "source": [
    "### Important"
   ]
  },
  {
   "cell_type": "code",
   "execution_count": 4,
   "metadata": {
    "collapsed": false
   },
   "outputs": [
    {
     "ename": "LoadError",
     "evalue": "LoadError: UndefVarError: Sym not defined\nwhile loading In[4], in expression starting on line 2",
     "output_type": "error",
     "traceback": [
      "LoadError: UndefVarError: Sym not defined\nwhile loading In[4], in expression starting on line 2",
      ""
     ]
    }
   ],
   "source": [
    "# Given the normal at the boundary, substitute parameter combinations\n",
    "function phi_combine(y_symb::Sym, phi::AbstractArray, v::AbstractArray)\n",
    "    # First figure out what parameters need to be combined given v\n",
    "    v[abs(v).<1e-2] = 0.0;\n",
    "    v = round(Int64, v./minimum(abs(v[abs(v).>5e-3]))) # Convert to Int64 to make sure 0 is zero\n",
    "    # Note that this \"integerization\" of v persists outside of this subfunction, as we did NOT make a copy. (Still return it for safety)\n",
    "    \n",
    "    # Get combinations, ordered by their size\n",
    "    phi_comb, = all_phi_combs(phi, v)\n",
    "    \n",
    "    println(\"Model_reduce - step 2/1 - Phi combinations done\")\n",
    "    @show phi_comb\n",
    "    \n",
    "    # Replace the combined phis with temporary etas\n",
    "    y_comb = copy(y_symb);\n",
    "    @time y_comb = expand(y_comb)\n",
    "    ##@show y_comb\n",
    "    eta = string_as_symb_vec(\"eta\", (length(phi_comb),))\n",
    "    println(\"Model_reduce - step 2/2 - Eta vec done\")\n",
    "    @show eta\n",
    "    \n",
    "    \n",
    "    for i1 in 1:length(phi_comb)\n",
    "        y_comb = subs(y_comb, phi_comb[i1]=>eta[i1])\n",
    "    end\n",
    "    \n",
    "    println(\"Model_reduce - step 2/3 - Symbolic substitutions done\")\n",
    "    println()\n",
    "    #@show y_comb\n",
    "    println()\n",
    "    \n",
    "    return y_comb, phi_comb, eta, v\n",
    "end"
   ]
  },
  {
   "cell_type": "code",
   "execution_count": 30,
   "metadata": {
    "collapsed": false
   },
   "outputs": [
    {
     "data": {
      "text/plain": [
       "take_limits (generic function with 1 method)"
      ]
     },
     "execution_count": 30,
     "metadata": {},
     "output_type": "execute_result"
    }
   ],
   "source": [
    "# Take the limits of the combined model\n",
    "function take_limits(y_comb::Sym, phi::AbstractArray, v::AbstractArray)\n",
    "    inds = find(x -> x != 0, v); \n",
    "    y_lims = copy(y_comb)\n",
    "    #@show y_lims\n",
    "    for i1 in inds\n",
    "        if v[i1] > 0\n",
    "            y_lims = limit(y_lims, phi[i1], oo)\n",
    "        else\n",
    "            y_lims = subs(y_lims, phi[i1], 0)\n",
    "        end\n",
    "    end\n",
    "    \n",
    "    return y_lims\n",
    "end"
   ]
  },
  {
   "cell_type": "code",
   "execution_count": 157,
   "metadata": {
    "collapsed": false
   },
   "outputs": [
    {
     "data": {
      "text/plain": [
       "phi_reduce (generic function with 2 methods)"
      ]
     },
     "execution_count": 157,
     "metadata": {},
     "output_type": "execute_result"
    }
   ],
   "source": [
    "# Substitute back parameter combinations\n",
    "function phi_reduce(y_lims::Sym, phi::AbstractArray, phi_comb::AbstractArray, eta::Any)\n",
    "    y_red = copy(y_lims)\n",
    "    # First check which combinations do exist in the reduced model, work with only those\n",
    "    all_symbols = free_symbols(y_red);\n",
    "    \n",
    "    #@show eta\n",
    "    #@show length(eta)\n",
    "    # We want to check which of the etas and phis we ended up using\n",
    "    eta_does_exist = [];\n",
    "    for i1 in 1:length(eta)\n",
    "        ind = find(x -> x==eta[i1], all_symbols)\n",
    "        if !isempty(ind) eta_does_exist = [eta_does_exist; i1] end\n",
    "    end\n",
    "    phi_does_exist = [];\n",
    "    for i1 in 1:length(phi)\n",
    "        ind = find(x -> x==phi[i1], all_symbols)\n",
    "        if !isempty(ind) phi_does_exist = [phi_does_exist; i1] end\n",
    "    end\n",
    "    \n",
    "    println(\"Model_reduce - step 4/1 - Which eta's got substituted in\")\n",
    "    @show eta_does_exist\n",
    "    \n",
    "    # Whether some higher order combinations can be explained by a combination of lower ordered ones\n",
    "    phi_keep = copy(phi_comb[eta_does_exist])\n",
    "    to_keep = length(phi_keep); # Check if all phi_combs are explained by the kept combinations\n",
    "    if to_keep==0 to_keep=[] end\n",
    "    expl_by = Array(Any, size(phi_keep));\n",
    "    \n",
    "    #@show phi_keep\n",
    "    #@show to_keep\n",
    "    \n",
    "    all_explained = false;\n",
    "    while !all_explained\n",
    "        all_explained = true;\n",
    "        #@show to_keep\n",
    "        # Try to find an explanation for all combinations, given a few combinations\n",
    "        for i1 in 1:length(phi_keep)\n",
    "            tmp = is_explained(phi_keep[i1], arrayfy(phi_keep[to_keep]))\n",
    "            #@show tmp\n",
    "            b = tmp[1]\n",
    "            if b\n",
    "                expl_by[i1] = tmp[2][1]\n",
    "            else\n",
    "                expl_by[i1] = 0\n",
    "                all_explained=false \n",
    "            end\n",
    "        end\n",
    "        \n",
    "        # If there are some not explained, extend the set of explaining combinations with the smallest unexplained combination\n",
    "        if !all_explained\n",
    "            to_keep = sort([to_keep; find(x -> x==0, expl_by[sort(collect(setdiff(Set(1:length(phi_keep)), Set(to_keep))))])[end]]);\n",
    "        end\n",
    "    \n",
    "    end\n",
    "    \n",
    "    # By now we found the minimal set of combinations that explain all combinations that exist in y_lims\n",
    "    # Now replace the explained-away etas with combinations of to_keep etas\n",
    "    for i1 = 1:length(phi_keep)\n",
    "        y_red = subs(y_red, eta[eta_does_exist[to_keep[i1]]] =>  abstract_mply(eta, eta_does_exist[expl_by[i1]]));\n",
    "    end\n",
    "    \n",
    "    #@show to_keep\n",
    "    #@show expl_by\n",
    "    \n",
    "    # Now just create a reduced phi vector\n",
    "    \n",
    "    phi_red = copy(phi)[1:(length(to_keep)+length(phi_does_exist))]\n",
    "    \n",
    "    # Change the symbols within y_lims accordingly, and remember the mapping\n",
    "    \n",
    "    phi_red_mapping = Dict()\n",
    "    # First map existing symbols to something arbitrary (kappa) and remember the mappings\n",
    "    kappa = string_as_symb_vec(\"kappa\", size(phi_red))\n",
    "    for i1 in 1:length(phi_does_exist)\n",
    "        y_red = subs(y_red, phi[phi_does_exist[i1]]=>kappa[i1])\n",
    "        phi_red_mapping[phi[phi_does_exist[i1]]] = phi[i1];\n",
    "    end\n",
    "    for i1 in 1:length(to_keep)\n",
    "        y_red = subs(y_red, eta[eta_does_exist[to_keep[i1]]]=>kappa[length(phi_does_exist)+i1])\n",
    "        phi_red_mapping[phi_comb[eta_does_exist[to_keep[i1]]]] = phi[length(phi_does_exist)+i1];\n",
    "    end\n",
    "    \n",
    "    # Create the final product by substituting back to phi form\n",
    "    for i1 in 1:length(kappa)\n",
    "        y_red = subs(y_red, kappa[i1]=>phi_red[i1])\n",
    "    end\n",
    "    \n",
    "    # Simplify the resulting symbolic expression\n",
    "    @time y_red = factor(y_red)\n",
    "    \n",
    "    \n",
    "    return y_red, phi_red, phi_red_mapping\n",
    "end"
   ]
  },
  {
   "cell_type": "code",
   "execution_count": 133,
   "metadata": {
    "collapsed": false
   },
   "outputs": [
    {
     "data": {
      "text/plain": [
       "create_reduced_model (generic function with 1 method)"
      ]
     },
     "execution_count": 133,
     "metadata": {},
     "output_type": "execute_result"
    }
   ],
   "source": [
    "# Turn the symbolic model into a callable function\n",
    "function create_reduced_model(y_red::Sym, phi_in::AbstractArray, x_in::AbstractArray)\n",
    "    # Roughly, with correct wrappers such that model_red(phi, x)\n",
    "\n",
    "    f_red = lambdify(y_red, [phi_in; x_in])\n",
    "    \n",
    "    # One function call per data vector (columns in x) (for now, hard to symbolicly do hadamard product apparently)\n",
    "    function model_red(phi_num::AbstractArray, x_num::AbstractArray)\n",
    "        map(Real, [f_red(phi_num..., x_num[:,i1]...) for i1 in 1:(size(x_num)[2])])\n",
    "    end\n",
    "    \n",
    "    #=\n",
    "    function model_red(phi::AbstractArray, x::AbstractArray)\n",
    "        # Re-splice x not along data points but rather along variables\n",
    "        xcat_splice = Array(Any, size(x)[1])\n",
    "        for x1 = 1:size(x)[1]\n",
    "            xcat_splice[x1] = x[x1,:];\n",
    "        end\n",
    "        @show xcat_splice\n",
    "        @show size(x)\n",
    "        @show size(xcat_splice)\n",
    "        \n",
    "        return f_red(phi..., xcat_splice...);\n",
    "    end\n",
    "    =#\n",
    "    return model_red\n",
    "end"
   ]
  },
  {
   "cell_type": "code",
   "execution_count": 149,
   "metadata": {
    "collapsed": false
   },
   "outputs": [
    {
     "data": {
      "text/plain": [
       "numeric_reduction (generic function with 2 methods)"
      ]
     },
     "execution_count": 149,
     "metadata": {},
     "output_type": "execute_result"
    }
   ],
   "source": [
    "# Compute the reduced parameter vector numerically\n",
    "function numeric_reduction(phi_boundary::AbstractArray, phi::AbstractArray, phi_red::AbstractArray, phi_red_mapping::Dict )\n",
    "    # Quickly reverse the mapping for convenience\n",
    "    phi_reverse_mapping = Dict();\n",
    "    for key = keys(phi_red_mapping)\n",
    "        phi_reverse_mapping[phi_red_mapping[key]] = key;\n",
    "    end\n",
    "    \n",
    "    phi_red_numeric = zeros(size(phi_red))\n",
    "\n",
    "    # Implement the numeric substitutions\n",
    "    tmp = Array(Any, size(phi)) \n",
    "    for i1 in 1:length(phi)\n",
    "        tmp[i1] = eval(symbol(\"phi$i1\"))=>phi_boundary[i1];\n",
    "    end\n",
    "    \n",
    "    # Do the substitutions\n",
    "    for i1 in 1:length(phi_red)\n",
    "        phi_red_numeric[i1] = subs(phi_reverse_mapping[eval(symbol(\"phi$i1\"))], tmp...)\n",
    "    end\n",
    "    \n",
    "    return phi_red_numeric\n",
    "end"
   ]
  },
  {
   "cell_type": "markdown",
   "metadata": {},
   "source": [
    "## Main function"
   ]
  },
  {
   "cell_type": "code",
   "execution_count": 6,
   "metadata": {
    "collapsed": false
   },
   "outputs": [
    {
     "ename": "LoadError",
     "evalue": "LoadError: UndefVarError: Sym not defined\nwhile loading In[6], in expression starting on line 6",
     "output_type": "error",
     "traceback": [
      "LoadError: UndefVarError: Sym not defined\nwhile loading In[6], in expression starting on line 6",
      ""
     ]
    }
   ],
   "source": [
    "# Reduces the model described in the function model(phi::parameters, x::evaluation_locations)\n",
    "# given a normal vector v of parameters at the boundary location x\n",
    "# Return a callable function model_red(phi_red, x) where size(phi_red) = size(phi)-1\n",
    "# but for the output y_red = model(phi_red, x):   (y_red-y)^2 ~ 0\n",
    "\n",
    "function Reduce_model(model::Union{Function, Sym}, phi_boundary::AbstractArray, v_boundary::AbstractArray, data_dim::Tuple; model_id=0)\n",
    "    # Create symbolic vectors for y and x\n",
    "    phi = string_as_symb_vec(\"phi\", size(v_boundary)) # Dimension is number of parameters\n",
    "    x = string_as_symb_vec(\"x\", data_dim) # Dimension of input data dimension (for voltage and [Ca2+] is 2)\n",
    "\n",
    "    \n",
    "    \n",
    "    @show data_dim\n",
    "    # Get the symbolic model (either from a supplied function, or the symbolic version from previous iteration)\n",
    "    if typeof(model)==Function\n",
    "        y_symb = model(phi, x, model_id=model_id)[1]\n",
    "    else\n",
    "        y_symb = model;\n",
    "    end\n",
    "\n",
    "    println(\"Model_reduce - step 1 - Symbolic expression read\")\n",
    "    @show y_symb\n",
    "    \n",
    "    # Given the normal at the boundary, substitute parameter combinations\n",
    "    v = copy(v_boundary)\n",
    "    y_comb, phi_comb, eta, v = phi_combine(y_symb, phi, v)\n",
    "    \n",
    "    \n",
    "    println(\"Model_reduce - step 2 - Parameter combinations substituted\")\n",
    "    \n",
    "    #@show v\n",
    "    #@show phi_comb\n",
    "    \n",
    "    \n",
    "    # Take the limits of the combined model\n",
    "    y_lims = take_limits(y_comb, phi, v)\n",
    "    \n",
    "    \n",
    "    println(\"Model_reduce - step 3 - Limits taken\")\n",
    "    \n",
    "    #@show y_lims\n",
    "    \n",
    "    #@show eta\n",
    "    \n",
    "    # Substitute back parameter combinations\n",
    "    y_red, phi_red, phi_red_mapping = phi_reduce(y_lims, phi, phi_comb, eta)\n",
    "    \n",
    "    \n",
    "    println(\"Model_reduce - step 4 - Reduction done\")\n",
    "    \n",
    "    \n",
    "    # Turn the symbolic model into a callable function\n",
    "    model_red = create_reduced_model(y_red, phi_red, x)\n",
    "\n",
    "    \n",
    "    println(\"Model_reduce - step 5 - Callable function done\")\n",
    "    \n",
    "    # Compute the reduced parameter vector numerically\n",
    "    phi_red_numeric = numeric_reduction(phi_boundary, phi, phi_red, phi_red_mapping)\n",
    "    \n",
    "    \n",
    "    println(\"Model_reduce - step 6 - Numeric reduction done\")\n",
    "    \n",
    "    #return y_red, phi_red_numeric \n",
    "    \n",
    "    return y_symb, y_red, phi_red_mapping, model_red, y_comb, phi_comb, y_lims, y_red, phi_red, phi_red_mapping, model_red, phi_red_numeric\n",
    "end"
   ]
  },
  {
   "cell_type": "code",
   "execution_count": null,
   "metadata": {
    "collapsed": true
   },
   "outputs": [],
   "source": []
  }
 ],
 "metadata": {
  "kernelspec": {
   "display_name": "Julia 0.4.5",
   "language": "julia",
   "name": "julia-0.4"
  },
  "language_info": {
   "file_extension": ".jl",
   "mimetype": "application/julia",
   "name": "julia",
   "version": "0.4.5"
  }
 },
 "nbformat": 4,
 "nbformat_minor": 0
}
