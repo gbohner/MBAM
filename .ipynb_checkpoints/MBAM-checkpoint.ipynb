{
 "cells": [
  {
   "cell_type": "code",
   "execution_count": 4,
   "metadata": {
    "collapsed": false
   },
   "outputs": [
    {
     "data": {
      "text/plain": [
       "Reduce_model (generic function with 1 method)"
      ]
     },
     "execution_count": 4,
     "metadata": {},
     "output_type": "execute_result"
    }
   ],
   "source": [
    "using ODE\n",
    "using ForwardDiff # Mostly relies on package DualNumbers -> check in more detail later\n",
    "using Formatting # For clear and concise printing output\n",
    "using JLD\n",
    "using NBInclude\n",
    "\n",
    "nbinclude(\"Model_reduce.ipynb\")\n",
    "\n"
   ]
  },
  {
   "cell_type": "markdown",
   "metadata": {},
   "source": [
    "# Subfunctions used for MBAM"
   ]
  },
  {
   "cell_type": "code",
   "execution_count": 9,
   "metadata": {
    "collapsed": false
   },
   "outputs": [
    {
     "data": {
      "text/plain": [
       "log_deriv_wrapper (generic function with 1 method)"
      ]
     },
     "execution_count": 9,
     "metadata": {},
     "output_type": "execute_result"
    }
   ],
   "source": [
    "# Return f(x) given log(x)\n",
    "function log_deriv_wrapper(f::Function, x::Vector; log_specific=ones(size(x)) )\n",
    "    y = copy(x)\n",
    "    # Assuming some of the input parameters (x) are in log space, passes the original (exponentiated) values on to the function f\n",
    "    if sum(log_specific==1)==prod(size(x)) # all the parameters are in log space\n",
    "        y = exp(y)\n",
    "    else\n",
    "        for i1 = 1:size(log_specific)[1]\n",
    "            if log_specific[i1]==1\n",
    "                y[i1]=exp(y[i1])\n",
    "            end\n",
    "        end\n",
    "    end\n",
    "    \n",
    "    return f(y)\n",
    "end"
   ]
  },
  {
   "cell_type": "code",
   "execution_count": 10,
   "metadata": {
    "collapsed": false
   },
   "outputs": [
    {
     "data": {
      "text/plain": [
       "to_log (generic function with 1 method)"
      ]
     },
     "execution_count": 10,
     "metadata": {},
     "output_type": "execute_result"
    }
   ],
   "source": [
    "# Convert a parameter vector (or specific parameters) to log values\n",
    "function to_log(x::Vector; log_specific=ones(size(x)))\n",
    "    y = copy(x) # To avoid passing by reference!!!\n",
    "    \n",
    "    if sum(log_specific==1)==prod(size(x)) # all the parameters are in log space\n",
    "        y = log(y)\n",
    "    else\n",
    "        for i1 = 1:size(log_specific)[1]\n",
    "            if log_specific[i1]==1\n",
    "                y[i1]=log(y[i1])\n",
    "            end\n",
    "        end\n",
    "    end\n",
    "    \n",
    "    return y\n",
    "end"
   ]
  },
  {
   "cell_type": "code",
   "execution_count": 11,
   "metadata": {
    "collapsed": false
   },
   "outputs": [
    {
     "data": {
      "text/plain": [
       "print_arr (generic function with 1 method)"
      ]
     },
     "execution_count": 11,
     "metadata": {},
     "output_type": "execute_result"
    }
   ],
   "source": [
    "# Given parameters x, selected parameters d and a canvas c, draw a scatter point at x[d] on the d-dim canvas c\n",
    "#function scatter_param(x::Vector, d, c)\n",
    " #   Plots.plot(x[d])\n",
    "#end\n",
    "\n",
    "# Matlab-like rcond for matrix inversion\n",
    "rcond(A::StridedMatrix) = LAPACK.gecon!('1', lufact(A).factors, norm(A, 1))\n",
    "\n",
    "# Get a timestamp in useful format\n",
    "timestamp()=Dates.format(now(),\"_yyyymmddTHHMMSSss\")\n",
    "\n",
    "# Return an array as a string in a given format s for each element\n",
    "function print_arr(s::AbstractString, x::AbstractArray)\n",
    "    out = \"\";\n",
    "    for i1=1:length(x)\n",
    "        out = string(out, sprintf1(s, x[i1]));\n",
    "        if i1<length(x)\n",
    "            out = string(out, \" \");\n",
    "        end\n",
    "    end\n",
    "    return out\n",
    "end"
   ]
  },
  {
   "cell_type": "markdown",
   "metadata": {},
   "source": [
    "### Geodesic differential equation\n",
    "\n",
    "As in Transtrum 2015 Supplemental\n",
    "\n",
    "$$\n",
    "\\frac{d}{d\\tau} v = - [\\mathbf{J}^T \\mathbf{J}]^{-1} \\mathbf{J}^T \\mathbf{A} \\\\\n",
    "\\mathbf{A}_m = v^T \\mathbf{H_m} v \\\\\n",
    "\\frac{d}{d\\tau} \\theta = v\n",
    "$$"
   ]
  },
  {
   "cell_type": "code",
   "execution_count": 12,
   "metadata": {
    "collapsed": false
   },
   "outputs": [
    {
     "data": {
      "text/plain": [
       "geodesic_ode (generic function with 1 method)"
      ]
     },
     "execution_count": 12,
     "metadata": {},
     "output_type": "execute_result"
    }
   ],
   "source": [
    "# Defines the geodesic differential equation with respect to a cost function f_cost and residual function f_res\n",
    "function geodesic_ode(t, y, f_cost::Function, f_res::Function; verbose=1, move_dir=1.0)\n",
    "    sz2 = round(size(y)[1]/2);\n",
    "    theta = y[1:sz2]; # First half of vector is d-dim position\n",
    "    v = y[(sz2+1):end]; # Second half of y vector is d-dim velocity\n",
    "    \n",
    "    result = HessianResult(theta);\n",
    "    ForwardDiff.hessian!(result, f_cost, theta);\n",
    "    \n",
    "    grad = ForwardDiff.gradient(result); # Gradient in parameter space\n",
    "    hess = ForwardDiff.hessian(result); # Hessian in parameter space\n",
    "    \n",
    "    jac = ForwardDiff.jacobian(f_res, theta);\n",
    "    f_jac(theta,m) = ForwardDiff.jacobian(f_res, theta)[m,:]\n",
    "    hess_m = cell(size(jac)[1],1); # Stores the second derivative of the m-th residual \n",
    "    A = zeros(size(jac)[1],1)\n",
    "    for m1 = 1:(size(jac)[1])\n",
    "        f_jac_m(theta) = f_jac(theta,m1);\n",
    "        hess_m[m1] = ForwardDiff.jacobian(f_jac_m, theta)\n",
    "        A[m1] = (v'*hess_m[m1]*v)[1];\n",
    "    end\n",
    "    \n",
    "    (D,V) = eig(jac'*jac)\n",
    "    \n",
    "    # Printing intermediate steps\n",
    "    if verbose>=2\n",
    "        #@printf(\"size(A)=%s\\n\", size(A))\n",
    "        #@printf(\"size(J)=%s\\n\", size(jac))\n",
    "        @printf(\"smallest EV = %7.5e\\n\", sort(D)[1])\n",
    "        println(\"theta = $(print_arr(\"%10.2f\", theta))\")\n",
    "        println(\"    v = $(print_arr(\"%10.2e\", v/norm(v)))\")\n",
    "        println()\n",
    "        println()\n",
    "    end\n",
    "    \n",
    "    #Stopping condition (small EV and the normalized v has \"converged\" - norm dominated by a few dimensions)\n",
    "    vn = (v/norm(v));\n",
    "    converged = (sort(D)[1] < 1e-8)*(norm(vn[abs(vn).<5e-2])<1e-3)\n",
    "    if converged\n",
    "        dy = copy(y);\n",
    "        dy[1:end]=0\n",
    "    else   \n",
    "        dy = copy(y);\n",
    "        dy[1:(sz2)] = move_dir * v # Change in theta is v (or -v, change move_dir)\n",
    "        dy[(sz2+1):end] = - move_dir * (jac'*jac) \\ (jac' * A) # dy[2] is change in v (as y[2] is v), change in v is dy[1]: the second derivative\n",
    "        #print(grad)\n",
    "    end\n",
    "    \n",
    "    ## Matlab version (just take a step towards the smallest eigenvector)\n",
    "    #dy[1:(sz/2)] = V[:,sortperm(D)[1]]\n",
    "    #dy[(sz/2+1):end] = 0;\n",
    "    return dy\n",
    "end"
   ]
  },
  {
   "cell_type": "markdown",
   "metadata": {},
   "source": [
    "# MBAM main function"
   ]
  },
  {
   "cell_type": "code",
   "execution_count": 6,
   "metadata": {
    "collapsed": false
   },
   "outputs": [
    {
     "data": {
      "text/plain": [
       "MBAM (generic function with 1 method)"
      ]
     },
     "execution_count": 6,
     "metadata": {},
     "output_type": "execute_result"
    }
   ],
   "source": [
    "function MBAM(f_costs::Function, x0::Vector, f_model::Function; model_iters=0, boundary_time=10, log_specific=ones(size(x0)), verbose=0, move_dir=ones(size(model_iters)))\n",
    "    x_red = to_log(x0, log_specific=log_specific);\n",
    "    # Initialize variables we want to remember in the end (otherwise their scope is limited to within the for cycle)\n",
    "    x = x_red;\n",
    "    V = x_red;\n",
    "    D = x_red;\n",
    "    x0 = x_red\n",
    "    v0 = x_red;\n",
    "    v = x_red;\n",
    "    t_out = x_red;\n",
    "    y_out = x_red;\n",
    "    cur_time = timestamp();\n",
    "    model_reduced = Array(Any, length(model_iters))\n",
    "    \n",
    "    for n1 = 1:length(model_iters) # Outer loop, reduces the number of parameters in the model each step\n",
    "        m1 = model_iters[n1]\n",
    "        f_cost = x1 -> f_costs(x1, model_id=m1); # Current cost function\n",
    "        g_cost = x1 -> log_deriv_wrapper(f_cost, x1, log_specific=log_specific); # Define which parameters we're taking in log space ([default: all])\n",
    "        f_res = x1 -> f_costs(x1, model_id=m1, return_res=1)\n",
    "        g_res = x1 -> log_deriv_wrapper(f_res, x1, log_specific=log_specific);\n",
    "        \n",
    "        x = x_red; # Initial point in parameter space\n",
    "        #H = ForwardDiff.hessian(g_cost,x)\n",
    "        jac = ForwardDiff.jacobian(g_res, x);\n",
    "        (D,V) = eig(jac'*jac)\n",
    "        v = V[:,sortperm(D)[1]]; # Initial velocity in parameter space\n",
    "        \n",
    "        if verbose>=1\n",
    "            println(\"Model iteration $(m1), initial values:\")\n",
    "            println(\"    D = $(print_arr(\"%10.2e\", D))\")\n",
    "            println(\"theta = $(print_arr(\"%10.2f\", x))\")\n",
    "            println(\"    v = $(print_arr(\"%10.2e\", v/norm(v)))\")\n",
    "            println()\n",
    "            println()\n",
    "        end\n",
    "        \n",
    "       #=\n",
    "        \n",
    "        # Run the ODE solver\n",
    "        (t_out, y_out) = ODE.ode23((t,y) -> geodesic_ode(t,y,g_cost,g_res,verbose=verbose, move_dir=move_dir[find(model_iters.==m1)[1]]), [x; v], [0,boundary_time])\n",
    "\n",
    "        x = y_out[end][1:size(x)[1]] # Final point in parameter space (on the boundary)\n",
    "        v = y_out[end][(size(x)[1]+1):end] # Final velocity in parameter space (reduceable combination)\n",
    "        v = v*move_dir[n1]\n",
    "        jac = ForwardDiff.jacobian(g_res, x);\n",
    "        (D,V) = eig(jac'*jac)\n",
    "        \n",
    "        =#\n",
    "        #= \n",
    "            #Results of first iteration\n",
    "            x = [-19.74, -10.16,      -2.96,      -0.55,     -10.29,       2.19,       5.95,       0.11]\n",
    "            v = [ -9.41e-04,  -1.00e+00,  -6.92e-05,   4.06e-06,  -7.45e-06,   6.93e-05,   3.15e-04,  -8.16e-05]\n",
    "        =#\n",
    "        \n",
    "        # Results of second BK iteration\n",
    "        x =     [-35.33,      -2.93,      -0.60,     -10.35,       5.39,       9.91,      -3.22]\n",
    "        v =  [-9.21e-01,   9.86e-05,  -4.34e-04,  -4.31e-04,   2.22e-01,   2.31e-01,  -2.23e-01]\n",
    "\n",
    "        \n",
    "        if verbose>=1\n",
    "            println(\"Model iteration $(m1), final values:\")\n",
    "            println(\"    D = $(print_arr(\"%10.2e\", D))\")\n",
    "            println(\"theta = $(print_arr(\"%10.2f\", x))\")\n",
    "            println(\"    v = $(print_arr(\"%10.2e\", v/norm(v)))\")\n",
    "            println()\n",
    "            println()\n",
    "        end\n",
    "    \n",
    "        \n",
    "        \n",
    "        if m1==model_iters[1]\n",
    "            model_reduced[n1] = Reduce_model(f_model, exp(x), v, (2,1); model_id=m1)\n",
    "        else\n",
    "            model_reduced[n1] = Reduce_model(model_reduced[n1-1][2], exp(x), v, (2,1))\n",
    "        end\n",
    "        #@save \"BK_results/geodesic_iter_$(m1)$(cur_time).jld\" x v D V t_out y_out jac model_reduced\n",
    "    end\n",
    "    \n",
    "    f_cost = x -> f_costs(x, model_id=model_iters[end]); # Current cost function\n",
    "    g_cost = x -> log_deriv_wrapper(f_cost, x, log_specific=log_specific); # Define which parameters we're taking in log space ([default: all])\n",
    "    #g_cost(x)\n",
    "    #print((x, V, x_red, g_cost(x)))\n",
    "    cur_cost = g_cost(x)\n",
    "    @save \"BK_results/geodesic_$(cur_time).jld\"\n",
    "    return x, cur_cost, v, D, x_red, t_out, y_out, model_reduced\n",
    "end #line 35"
   ]
  },
  {
   "cell_type": "code",
   "execution_count": null,
   "metadata": {
    "collapsed": true
   },
   "outputs": [],
   "source": []
  }
 ],
 "metadata": {
  "kernelspec": {
   "display_name": "Julia 0.4.5",
   "language": "julia",
   "name": "julia-0.4"
  },
  "language_info": {
   "file_extension": ".jl",
   "mimetype": "application/julia",
   "name": "julia",
   "version": "0.4.5"
  }
 },
 "nbformat": 4,
 "nbformat_minor": 0
}
