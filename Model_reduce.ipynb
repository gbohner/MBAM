{
 "cells": [
  {
   "cell_type": "markdown",
   "metadata": {},
   "source": [
    "# Symbolic reduction of given models\n",
    "Passes a symbolic parameter and a data vector to the model function, then given the velocity vector at the boundary, figures out a model with a reduce number of parameters"
   ]
  },
  {
   "cell_type": "code",
   "execution_count": 4,
   "metadata": {
    "collapsed": true
   },
   "outputs": [],
   "source": [
    "# Includes\n",
    "using SymPy"
   ]
  },
  {
   "cell_type": "markdown",
   "metadata": {},
   "source": [
    "## Subfunctions"
   ]
  },
  {
   "cell_type": "code",
   "execution_count": 28,
   "metadata": {
    "collapsed": false
   },
   "outputs": [
    {
     "data": {
      "text/plain": [
       "string_as_symb_vec (generic function with 1 method)"
      ]
     },
     "execution_count": 28,
     "metadata": {},
     "output_type": "execute_result"
    }
   ],
   "source": [
    "# Assign a vector of symbolic variables\n",
    "\n",
    "# Assign a single variable, given it's string name and input\n",
    "function string_as_varname(s::AbstractString,v::Any)\n",
    "    s=symbol(s) \n",
    "    @eval (($s) = ($v))\n",
    "end\n",
    "\n",
    "# Assign a matrix of symbolic variables to string s (the variables share the same name)\n",
    "function string_as_symb_vec(s::AbstractString, dims::Tuple)\n",
    "    string_as_varname(s, [string_as_varname(\"$s$(i1)\",Sym(\"$s$(i1)\")) for i1 in 1:prod(dims)])\n",
    "    string_as_varname(s, reshape(eval(symbol(s)), dims))\n",
    "end"
   ]
  },
  {
   "cell_type": "code",
   "execution_count": 17,
   "metadata": {
    "collapsed": false
   },
   "outputs": [
    {
     "data": {
      "text/plain": [
       "3x4 Array{Any,2}:\n",
       " phi1  phi4  phi7  phi10\n",
       " phi2  phi5  phi8  phi11\n",
       " phi3  phi6  phi9  phi12"
      ]
     },
     "execution_count": 17,
     "metadata": {},
     "output_type": "execute_result"
    }
   ],
   "source": [
    "# Example assignment\n",
    "string_as_symb_vec(\"phi\", (3,4))"
   ]
  },
  {
   "cell_type": "code",
   "execution_count": null,
   "metadata": {
    "collapsed": true
   },
   "outputs": [],
   "source": [
    "# Given the normal at the boundary, substitute parameter combinations\n",
    "function phi_combine(y_symb::SymFunction, v::AbstractArray)\n",
    "    \n",
    "    \n",
    "    \n",
    "    return y_comb, phi_comb\n",
    "end"
   ]
  },
  {
   "cell_type": "code",
   "execution_count": null,
   "metadata": {
    "collapsed": true
   },
   "outputs": [],
   "source": [
    "# Take the limits of the combined model\n",
    "function take_limits(y_comb::SymFunction, v::AbstractArray)\n",
    "    \n",
    "    \n",
    "    \n",
    "    return y_lims\n",
    "end"
   ]
  },
  {
   "cell_type": "code",
   "execution_count": null,
   "metadata": {
    "collapsed": true
   },
   "outputs": [],
   "source": [
    "# Substitute back parameter combinations\n",
    "function phi_reduce(y_lims::SymFunction, phi_comb)\n",
    "    \n",
    "    \n",
    "    return y_red, phi_red, phi_red_mapping\n",
    "end"
   ]
  },
  {
   "cell_type": "code",
   "execution_count": null,
   "metadata": {
    "collapsed": true
   },
   "outputs": [],
   "source": [
    "# Turn the symbolic model into a callable function\n",
    "function create_reduced_model(y_red::SymFunction)\n",
    "    # model_red = lambdify(y_red) # Roughly, with correct wrappers such that model_red(phi, x)\n",
    "    \n",
    "    return model_red\n",
    "end"
   ]
  },
  {
   "cell_type": "code",
   "execution_count": null,
   "metadata": {
    "collapsed": true
   },
   "outputs": [],
   "source": [
    "# Compute the reduced parameter vector numerically\n",
    "function numeric_reduction(phi_boundary::AbstractArray, phi_red_mapping::AbstractArray)\n",
    "    # basically do a general BK_reduce function\n",
    "    \n",
    "    return phi_red_numeric\n",
    "end"
   ]
  },
  {
   "cell_type": "markdown",
   "metadata": {},
   "source": [
    "## Main function"
   ]
  },
  {
   "cell_type": "code",
   "execution_count": 32,
   "metadata": {
    "collapsed": false
   },
   "outputs": [
    {
     "data": {
      "text/plain": [
       "Reduce_model (generic function with 1 method)"
      ]
     },
     "execution_count": 32,
     "metadata": {},
     "output_type": "execute_result"
    }
   ],
   "source": [
    "# Reduces the model described in the function model(phi::parameters, x::evaluation_locations)\n",
    "# given a normal vector v of parameters at the boundary location x\n",
    "# Return a callable function model_red(phi_red, x) where size(phi_red) = size(phi)-1\n",
    "# but for the output y_red = model(phi_red, x):   (y_red-y)^2 ~ 0\n",
    "\n",
    "function Reduce_model(model::Function, phi_boundary::AbstractArray, v_boundary::AbstractArray, data_dim::Tuple; model_id=0)\n",
    "    # Create symbolic vectors for y and x\n",
    "    string_as_symb_vec(\"phi\", size(v_boundary)) # Dimension is number of parameters\n",
    "    string_as_symb_vec(\"x\", data_dim) # Dimension of input data dimension (for voltage and [Ca2+] is 2)\n",
    "    \n",
    "    # Get the symbolic model\n",
    "    y_symb = model(phi, Ca=[x[1]], V=[x[2]], model_id=model_id) # Just do model(phi, x, model_id=model_id) in general\n",
    "    \n",
    "    # Given the normal at the boundary, substitute parameter combinations\n",
    "    [y_comb, phi_comb] = phi_combine(y_symb, v)\n",
    "    \n",
    "    # Take the limits of the combined model\n",
    "    y_lims = take_limits(y_comb, v)\n",
    "    \n",
    "    # Substitute back parameter combinations\n",
    "    [y_red, phi_red, phi_red_mapping] = phi_reduce(y_lims, phi_comb)\n",
    "    \n",
    "    # Turn the symbolic model into a callable function\n",
    "    model_red = create_reduced_model(y_red)\n",
    "    \n",
    "    # Compute the reduced parameter vector numerically\n",
    "    phi_red_numeric = numeric_reduction(phi_boundary, phi_red_mapping)\n",
    "    \n",
    "    return y_red, phi_red_numeric \n",
    "    \n",
    "end"
   ]
  },
  {
   "cell_type": "code",
   "execution_count": 23,
   "metadata": {
    "collapsed": false
   },
   "outputs": [
    {
     "ename": "LoadError",
     "evalue": "LoadError: UndefVarError: BK_simu not defined\nwhile loading In[23], in expression starting on line 4",
     "output_type": "error",
     "traceback": [
      "LoadError: UndefVarError: BK_simu not defined\nwhile loading In[23], in expression starting on line 4",
      ""
     ]
    }
   ],
   "source": [
    "using NBInclude\n",
    "nbinclude(\"BK_functions/BK_functions.ipynb\")\n",
    "\n"
   ]
  },
  {
   "cell_type": "code",
   "execution_count": 24,
   "metadata": {
    "collapsed": false
   },
   "outputs": [
    {
     "name": "stderr",
     "output_type": "stream",
     "text": [
      "WARNING: imported binding for ans overwritten in module Main\n"
     ]
    },
    {
     "data": {
      "text/plain": [
       "16-element Array{Symbol,1}:\n",
       " symbol(\"#125#wsession\")\n",
       " symbol(\"#135#wsession\")\n",
       " symbol(\"#53#wsession\") \n",
       " symbol(\"#59#wsession\") \n",
       " :A                     \n",
       " :D                     \n",
       " :V                     \n",
       " :ans                   \n",
       " :cost                  \n",
       " :v                     \n",
       " :x                     \n",
       " :x_0                   \n",
       " :x_red1                \n",
       " :x_red2                \n",
       " :x_red3                \n",
       " :y                     "
      ]
     },
     "execution_count": 24,
     "metadata": {},
     "output_type": "execute_result"
    }
   ],
   "source": [
    "using JLD\n",
    "@load \"BK_results/geodesic_iter_320160705T12120800.jld\"\n"
   ]
  },
  {
   "cell_type": "code",
   "execution_count": 34,
   "metadata": {
    "collapsed": false
   },
   "outputs": [
    {
     "data": {
      "text/plain": [
       "1x1 Array{Any,2}:\n",
       " (phi1*phi5*exp(38.1727608645031*phi2*x2) + phi1*phi4*phi5*phi6*x1*exp(38.1727608645031*phi2*x2)/phi3 + phi4*x1/phi3)^4/((phi1*exp(38.1727608645031*phi2*x2) + 1 + x1/phi3)^4 + (phi1*phi5*exp(38.1727608645031*phi2*x2) + phi1*phi4*phi5*phi6*x1*exp(38.1727608645031*phi2*x2)/phi3 + phi4*x1/phi3)^4)"
      ]
     },
     "execution_count": 34,
     "metadata": {},
     "output_type": "execute_result"
    }
   ],
   "source": [
    "y_orig = Reduce_model(BK_simulator, x, v, size([0,-0.1]), model_id=12)"
   ]
  },
  {
   "cell_type": "code",
   "execution_count": 35,
   "metadata": {
    "collapsed": false
   },
   "outputs": [
    {
     "data": {
      "text/latex": [
       "$$\\frac{\\left(\\phi_{1} \\phi_{5} e^{38.1727608645031 \\phi_{2} x_{2}} + \\frac{\\phi_{1} \\phi_{4}}{\\phi_{3}} \\phi_{5} \\phi_{6} x_{1} e^{38.1727608645031 \\phi_{2} x_{2}} + \\frac{\\phi_{4} x_{1}}{\\phi_{3}}\\right)^{4}}{\\left(\\phi_{1} e^{38.1727608645031 \\phi_{2} x_{2}} + 1 + \\frac{x_{1}}{\\phi_{3}}\\right)^{4} + \\left(\\phi_{1} \\phi_{5} e^{38.1727608645031 \\phi_{2} x_{2}} + \\frac{\\phi_{1} \\phi_{4}}{\\phi_{3}} \\phi_{5} \\phi_{6} x_{1} e^{38.1727608645031 \\phi_{2} x_{2}} + \\frac{\\phi_{4} x_{1}}{\\phi_{3}}\\right)^{4}}$$"
      ],
      "text/plain": [
       "                                                                              \n",
       "                       /                                                      \n",
       "                       |           38.1727608645031*phi2*x2   phi1*phi4*phi5*p\n",
       "                       |phi1*phi5*e                         + ----------------\n",
       "                       \\                                                      \n",
       "------------------------------------------------------------------------------\n",
       "                                                                              \n",
       "                                           4   /                              \n",
       "/      38.1727608645031*phi2*x2        x1 \\    |           38.1727608645031*ph\n",
       "|phi1*e                         + 1 + ----|  + |phi1*phi5*e                   \n",
       "\\                                     phi3/    \\                              \n",
       "\n",
       "                                           4                        \n",
       "        38.1727608645031*phi2*x2          \\                         \n",
       "hi6*x1*e                           phi4*x1|                         \n",
       "-------------------------------- + -------|                         \n",
       "      phi3                           phi3 /                         \n",
       "--------------------------------------------------------------------\n",
       "                                                                   4\n",
       "                                38.1727608645031*phi2*x2          \\ \n",
       "i2*x2   phi1*phi4*phi5*phi6*x1*e                           phi4*x1| \n",
       "      + ------------------------------------------------ + -------| \n",
       "                              phi3                           phi3 / "
      ]
     },
     "execution_count": 35,
     "metadata": {},
     "output_type": "execute_result"
    }
   ],
   "source": [
    "y_orig[1]"
   ]
  },
  {
   "cell_type": "code",
   "execution_count": null,
   "metadata": {
    "collapsed": true
   },
   "outputs": [],
   "source": []
  }
 ],
 "metadata": {
  "kernelspec": {
   "display_name": "Julia 0.4.5",
   "language": "julia",
   "name": "julia-0.4"
  },
  "language_info": {
   "file_extension": ".jl",
   "mimetype": "application/julia",
   "name": "julia",
   "version": "0.4.5"
  }
 },
 "nbformat": 4,
 "nbformat_minor": 0
}
