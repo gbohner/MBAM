{
 "cells": [
  {
   "cell_type": "code",
   "execution_count": 21,
   "metadata": {
    "collapsed": false
   },
   "outputs": [
    {
     "data": {
      "text/plain": [
       "reduce (generic function with 1 method)"
      ]
     },
     "execution_count": 21,
     "metadata": {},
     "output_type": "execute_result"
    }
   ],
   "source": [
    "# Implements the MINPACK-2 Thermistor problem for testing\n",
    "\n",
    "# Model\n",
    "function model(phi::AbstractArray, x::AbstractArray; model_id=0)\n",
    "    T = vcat(x[1,:]...)\n",
    "    \n",
    "    return  [phi[1]].*exp([phi[2]]./(T.+phi[3]))\n",
    "end\n",
    "\n",
    "# Cost\n",
    "function cost(theta; model_id=0)\n",
    "    data = [34780.0, 2.861e4, 2.365e4, 1.963e4, 1.637e4, 1.372e4, 1.154e4, 9.744e3, 8.261e3, 7.03e3, 6.005e3, 5.147e3, 4.427e3,3.82e3, 3.307e3, 2.872e3];\n",
    "    \n",
    "    return sum((model(theta)-data).^2)\n",
    "end\n",
    "\n",
    "function reduce(theta; model_id=0, in_log=1)\n",
    "    return theta\n",
    "end"
   ]
  },
  {
   "cell_type": "markdown",
   "metadata": {
    "collapsed": false
   },
   "source": [
    "temp = collect(50:5:125)\n",
    "data = [34780.0, 2.861e4, 2.365e4, 1.963e4, 1.637e4, 1.372e4, 1.154e4, 9.744e3, 8.261e3, 7.03e3, 6.005e3, 5.147e3, 4.427e3,3.82e3, 3.307e3, 2.872e3];\n",
    "    "
   ]
  },
  {
   "cell_type": "markdown",
   "metadata": {},
   "source": [
    "using Plots\n",
    "theta_0=[6180.0, 345.0];\n",
    "plot(temp,model(theta_0))"
   ]
  },
  {
   "cell_type": "code",
   "execution_count": null,
   "metadata": {
    "collapsed": true
   },
   "outputs": [],
   "source": []
  }
 ],
 "metadata": {
  "kernelspec": {
   "display_name": "Julia 0.4.5",
   "language": "julia",
   "name": "julia-0.4"
  },
  "language_info": {
   "file_extension": ".jl",
   "mimetype": "application/julia",
   "name": "julia",
   "version": "0.4.5"
  }
 },
 "nbformat": 4,
 "nbformat_minor": 0
}
