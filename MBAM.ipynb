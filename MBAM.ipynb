{
 "cells": [
  {
   "cell_type": "code",
   "execution_count": 1,
   "metadata": {
    "collapsed": false
   },
   "outputs": [],
   "source": [
    "using ODE\n",
    "using ForwardDiff # Mostly relies on package DualNumbers -> check in more detail later\n"
   ]
  },
  {
   "cell_type": "markdown",
   "metadata": {},
   "source": [
    "# Subfunctions used for MBAM"
   ]
  },
  {
   "cell_type": "code",
   "execution_count": null,
   "metadata": {
    "collapsed": true
   },
   "outputs": [],
   "source": [
    "# Return f(x) given log(x)\n",
    "function log_deriv_wrapper(f::Function, x::Vector; log_specific=ones(size(x)) )\n",
    "    y = copy(x)\n",
    "    # Assuming some of the input parameters (x) are in log space, passes the original (exponentiated) values on to the function f\n",
    "    if sum(log_specific==1)==prod(size(x)) # all the parameters are in log space\n",
    "        y = exp(y)\n",
    "    else\n",
    "        for i1 = 1:size(log_specific)[1]\n",
    "            if log_specific[i1]==1\n",
    "                y[i1]=exp(y[i1])\n",
    "            end\n",
    "        end\n",
    "    end\n",
    "    \n",
    "    return f(y)\n",
    "end"
   ]
  },
  {
   "cell_type": "code",
   "execution_count": null,
   "metadata": {
    "collapsed": true
   },
   "outputs": [],
   "source": [
    "# Convert a parameter vector (or specific parameters) to log values\n",
    "function to_log(x::Vector; log_specific=ones(size(x)))\n",
    "    y = copy(x) # To avoid passing by reference!!!\n",
    "    \n",
    "    if sum(log_specific==1)==prod(size(x)) # all the parameters are in log space\n",
    "        y = log(y)\n",
    "    else\n",
    "        for i1 = 1:size(log_specific)[1]\n",
    "            if log_specific[i1]==1\n",
    "                y[i1]=log(y[i1])\n",
    "            end\n",
    "        end\n",
    "    end\n",
    "    \n",
    "    return y\n",
    "end"
   ]
  },
  {
   "cell_type": "code",
   "execution_count": null,
   "metadata": {
    "collapsed": true
   },
   "outputs": [],
   "source": [
    "# Given parameters x, selected parameters d and a canvas c, draw a scatter point at x[d] on the d-dim canvas c\n",
    "function scatter_param(x::Vector, d, c)\n",
    "    Plots.plot(x[d])\n",
    "end\n",
    "\n",
    "rcond(A::StridedMatrix) = LAPACK.gecon!('1', lufact(A).factors, norm(A, 1))"
   ]
  },
  {
   "cell_type": "markdown",
   "metadata": {},
   "source": [
    "### Geodesic differential equation\n",
    "\n",
    "As in Transtrum 2015 Supplemental\n",
    "\n",
    "$$\n",
    "\\frac{d^2}{d\\tau^2} \\theta = [\\mathbf{J}^T \\mathbf{J}]^{-1} \\nabla f \\frac{v^T \\mathbf{H}_f v}{\\|v\\|^2} \\\\\n",
    "\\frac{d}{d\\tau} \\theta = v\n",
    "$$"
   ]
  },
  {
   "cell_type": "code",
   "execution_count": 42,
   "metadata": {
    "collapsed": false
   },
   "outputs": [
    {
     "data": {
      "text/plain": [
       "geodesic_ode (generic function with 1 method)"
      ]
     },
     "execution_count": 42,
     "metadata": {},
     "output_type": "execute_result"
    }
   ],
   "source": [
    "# Defines the geodesic differential equation with respect to a cost function f_cost and residual function f_res\n",
    "function geodesic_ode(t, y, f_cost::Function, f_res::Function)\n",
    "    sz2 = round(size(y)[1]/2);\n",
    "    theta = y[1:sz2]; # First half of vector is d-dim position\n",
    "    v = y[(sz2+1):end]; # Second half of y vector is d-dim velocity\n",
    "    \n",
    "    result = HessianResult(theta);\n",
    "    ForwardDiff.hessian!(result, f_cost, theta);\n",
    "    \n",
    "    grad = ForwardDiff.gradient(result); # Gradient in parameter space\n",
    "    hess = ForwardDiff.hessian(result); # Hessian in parameter space\n",
    "    \n",
    "    jac = ForwardDiff.jacobian(f_res, theta);\n",
    "    f_jac(theta,m) = ForwardDiff.jacobian(f_res, theta)[m,:]\n",
    "    hess_m = cell(size(jac)[1],1); # Stores the second derivative of the m-th residual \n",
    "    A = zeros(size(jac)[1],1)\n",
    "    for m1 = 1:(size(jac)[1])\n",
    "        f_jac_m(theta) = f_jac(theta,m1);\n",
    "        hess_m[m1] = ForwardDiff.jacobian(f_jac_m, theta)\n",
    "        A[m1] = (v'*hess_m[m1]*v)[1]/(norm(v)^2);\n",
    "    end\n",
    "    \n",
    "    print(size(A))\n",
    "    print(size(jac))\n",
    "    \n",
    "    (D,V) = eig(hess)\n",
    "    #print(rcond(hess))\n",
    "    \n",
    "    print(sort(D)[1])\n",
    "    print(\"\\n\\n\")\n",
    "    if rcond(hess) < 1e-18\n",
    "        dy = copy(y);\n",
    "        dy[1:end]=0\n",
    "    else   \n",
    "        dy = copy(y);\n",
    "        dy[1:(sz2)] = v # Change in theta is v\n",
    "        dy[(sz2+1):end] = (jac'*jac) \\ (jac' * A) # dy[2] is change in v (as y[2] is v), change in v is dy[1]: the second derivative\n",
    "        #print(grad)\n",
    "    end\n",
    "    \n",
    "    ## Matlab version (just take a step towards the smallest eigenvector)\n",
    "    #dy[1:(sz/2)] = V[:,sortperm(D)[1]]\n",
    "    #dy[(sz/2+1):end] = 0;\n",
    "    return dy\n",
    "end"
   ]
  },
  {
   "cell_type": "markdown",
   "metadata": {},
   "source": [
    "# MBAM main function"
   ]
  },
  {
   "cell_type": "code",
   "execution_count": 14,
   "metadata": {
    "collapsed": false
   },
   "outputs": [
    {
     "data": {
      "text/plain": [
       "MBAM (generic function with 1 method)"
      ]
     },
     "execution_count": 14,
     "metadata": {},
     "output_type": "execute_result"
    }
   ],
   "source": [
    "function MBAM(f_costs::Function, x0::Vector, f_reds::Function; model_iters=0, boundary_time=10, stepsize=0.1, log_specific=ones(size(x0)), verbose=0)\n",
    "    x_red = to_log(x0);\n",
    "    # Initialize variables we want to remember in the end (otherwise their scope is limited to within the for cycle)\n",
    "    x = x_red;\n",
    "    V = x_red;\n",
    "    D = x_red;\n",
    "    x0 = x_red\n",
    "    v0 = x_red;\n",
    "    v = x_red;\n",
    "    t_out = x_red;\n",
    "    y_out = x_red;\n",
    "    \n",
    "    for m1 = model_iters # Outer loop, reduces the number of parameters in the model each step\n",
    "        f_cost = x1 -> f_costs(x1, model_id=m1); # Current cost function\n",
    "        g_cost = x1 -> log_deriv_wrapper(f_cost, x1); # Define which parameters we're taking in log space ([default: all])\n",
    "        f_res = x1 -> f_costs(x1, model_id=m1, return_res=1)\n",
    "        g_res = x1 -> log_deriv_wrapper(f_res, x1);\n",
    "        \n",
    "        x = x_red; # Initial point in parameter space\n",
    "        H = ForwardDiff.hessian(g_cost,x)\n",
    "        (D,V) = eig(H)\n",
    "        v = V[:,sortperm(D)[1]]; # Initial velocity in parameter space\n",
    "        print(x)\n",
    "        print(v)\n",
    "        \n",
    "        (t_out, y_out) = ODE.ode23((t,y) -> geodesic_ode(t,y,g_cost,g_res), [x; v], [0,boundary_time])\n",
    "        \n",
    "        x = y_out[end][1:size(x)[1]] # Final point in parameter space (on the boundary)\n",
    "        v = y_out[end][(size(x)[1]+1):end] # Final velocity in parameter space (reduceable combination)\n",
    "        \n",
    "        print(x)\n",
    "        print(v)\n",
    "        x_red = f_reds(x, model_id=m1+1, in_log=1); # Transformed representation\n",
    "    end\n",
    "    \n",
    "    f_cost = x -> f_costs(x, model_id=model_iters[end]); # Current cost function\n",
    "    g_cost = x -> log_deriv_wrapper(f_cost, x); # Define which parameters we're taking in log space ([default: all])\n",
    "    #g_cost(x)\n",
    "    #print((x, V, x_red, g_cost(x)))\n",
    "    H = ForwardDiff.hessian(g_cost,x)\n",
    "    (D,V) = eig(H)\n",
    "    return x, g_cost(x), v, D, x_red, t_out, y_out\n",
    "end #line 35"
   ]
  },
  {
   "cell_type": "markdown",
   "metadata": {},
   "source": [
    "using Plotly\n",
    "using Plots\n",
    "\n",
    "\n",
    "#Plots.plot([1,2,3,4,5])\n",
    "scatter_param([1,2,3,4,5],[2,4],1)\n",
    "scatter_param([1,2,3,4,5],[1,5],1)"
   ]
  },
  {
   "cell_type": "code",
   "execution_count": 32,
   "metadata": {
    "collapsed": false
   },
   "outputs": [
    {
     "data": {
      "text/plain": [
       "2x2 Array{Int64,2}:\n",
       " 2  0\n",
       " 0  2"
      ]
     },
     "execution_count": 32,
     "metadata": {},
     "output_type": "execute_result"
    }
   ],
   "source": [
    "A = [2 0;\n",
    "0 2]"
   ]
  },
  {
   "cell_type": "code",
   "execution_count": 36,
   "metadata": {
    "collapsed": false
   },
   "outputs": [
    {
     "data": {
      "text/plain": [
       "2x2 Array{Float64,2}:\n",
       " 0.5  0.0\n",
       " 0.0  0.5"
      ]
     },
     "execution_count": 36,
     "metadata": {},
     "output_type": "execute_result"
    }
   ],
   "source": [
    "A \\ eye(2) # = A^-1 * I"
   ]
  },
  {
   "cell_type": "code",
   "execution_count": 37,
   "metadata": {
    "collapsed": false
   },
   "outputs": [
    {
     "data": {
      "text/plain": [
       "2.0"
      ]
     },
     "execution_count": 37,
     "metadata": {},
     "output_type": "execute_result"
    }
   ],
   "source": [
    "norm([2,0])"
   ]
  },
  {
   "cell_type": "code",
   "execution_count": 39,
   "metadata": {
    "collapsed": false
   },
   "outputs": [
    {
     "data": {
      "text/plain": [
       "4-element Array{Int64,1}:\n",
       " 3\n",
       " 6\n",
       " 2\n",
       " 4"
      ]
     },
     "execution_count": 39,
     "metadata": {},
     "output_type": "execute_result"
    }
   ],
   "source": [
    "y = [3,6,2,4]"
   ]
  },
  {
   "cell_type": "code",
   "execution_count": null,
   "metadata": {
    "collapsed": true
   },
   "outputs": [],
   "source": []
  }
 ],
 "metadata": {
  "kernelspec": {
   "display_name": "Julia 0.4.5",
   "language": "julia",
   "name": "julia-0.4"
  },
  "language_info": {
   "file_extension": ".jl",
   "mimetype": "application/julia",
   "name": "julia",
   "version": "0.4.5"
  }
 },
 "nbformat": 4,
 "nbformat_minor": 0
}
