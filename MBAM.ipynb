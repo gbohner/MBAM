{
 "cells": [
  {
   "cell_type": "code",
   "execution_count": 6,
   "metadata": {
    "collapsed": false
   },
   "outputs": [
    {
     "data": {
      "text/plain": [
       "BK_cost (generic function with 1 method)"
      ]
     },
     "execution_count": 6,
     "metadata": {},
     "output_type": "execute_result"
    }
   ],
   "source": [
    "using Optim\n",
    "using ForwardDiff # Mostly relies on package DualNumbers -> check in more detail later\n",
    "\n"
   ]
  },
  {
   "cell_type": "code",
   "execution_count": 7,
   "metadata": {
    "collapsed": false
   },
   "outputs": [
    {
     "data": {
      "text/plain": [
       "to_log (generic function with 1 method)"
      ]
     },
     "execution_count": 7,
     "metadata": {},
     "output_type": "execute_result"
    }
   ],
   "source": [
    "# Subfunctions used for MBAM\n",
    "function log_deriv_wrapper(f::Function, x::Vector; log_specific=ones(size(x)) )\n",
    "    y = copy(x)\n",
    "    # Assuming some of the input parameters (x) are in log space, passes the original (exponentiated) values on to the function f\n",
    "    if sum(log_specific==1)==prod(size(x)) # all the parameters are in log space\n",
    "        y = exp(y)\n",
    "    else\n",
    "        for i1 = 1:size(log_specific)[1]\n",
    "            if log_specific[i1]==1\n",
    "                y[i1]=exp(y[i1])\n",
    "            end\n",
    "        end\n",
    "    end\n",
    "    \n",
    "    return f(y)\n",
    "end\n",
    "\n",
    "function to_log(x::Vector; log_specific=ones(size(x)))\n",
    "    y = copy(x) # To avoid passing by reference!!!\n",
    "    \n",
    "    if sum(log_specific==1)==prod(size(x)) # all the parameters are in log space\n",
    "        y = log(y)\n",
    "    else\n",
    "        for i1 = 1:size(log_specific)[1]\n",
    "            if log_specific[i1]==1\n",
    "                y[i1]=log(y[i1])\n",
    "            end\n",
    "        end\n",
    "    end\n",
    "    \n",
    "    return y\n",
    "end"
   ]
  },
  {
   "cell_type": "code",
   "execution_count": 11,
   "metadata": {
    "collapsed": false
   },
   "outputs": [
    {
     "data": {
      "text/plain": [
       "MBAM (generic function with 1 method)"
      ]
     },
     "execution_count": 11,
     "metadata": {},
     "output_type": "execute_result"
    }
   ],
   "source": [
    "function MBAM(f_costs::Function, x0::Vector, f_reds::Function; model_iters=0, boundary_iters=1000, stepsize=0.1, log_specific=ones(size(x0)))\n",
    "    x_red = to_log(x0, log_specific=log_specific);\n",
    "    x = x_red;\n",
    "    V = x_red;\n",
    "    D = x_red;\n",
    "    \n",
    "    for m1 = model_iters # Outer loop, reduces the number of parameters in the model each step\n",
    "        f_cost = x1 -> f_costs(x1, model_id=m1); # Current cost function\n",
    "        g_cost = x1 -> log_deriv_wrapper(f_cost, x1); # Define which parameters we're taking in log space ([default: all])\n",
    "        \n",
    "        x = x_red;\n",
    "        for i1 = 1:boundary_iters # Inner loop, finding the boundary\n",
    "            #result = HessianResult(x)\n",
    "            #ForwardDiff.hessian(result, g_cost, x);\n",
    "            \n",
    "            H = ForwardDiff.hessian(g_cost, x)\n",
    "            (D, V) = eig(H)\n",
    "        \n",
    "            x = x - V[:,sortperm(D)[1]]*stepsize\n",
    "            #print(\"\\n\")\n",
    "            #print([m1, i1, sort(D)[1], g_cost(x)])\n",
    "        end\n",
    "        \n",
    "        x_red = f_reds(x, model_id=m1+1, in_log=1); # Transformed representation\n",
    "    end\n",
    "    \n",
    "    f_cost = x -> f_costs(x, model_id=model_iters[end]); # Current cost function\n",
    "    g_cost = x -> log_deriv_wrapper(f_cost, x, log_specific=log_specific); # Define which parameters we're taking in log space ([default: all])\n",
    "    #g_cost(x)\n",
    "    #print((x, V, x_red, g_cost(x)))\n",
    "    return x, g_cost(x), V, D, x_red\n",
    "end"
   ]
  }
 ],
 "metadata": {
  "kernelspec": {
   "display_name": "Julia 0.4.5",
   "language": "julia",
   "name": "julia-0.4"
  },
  "language_info": {
   "file_extension": ".jl",
   "mimetype": "application/julia",
   "name": "julia",
   "version": "0.4.5"
  }
 },
 "nbformat": 4,
 "nbformat_minor": 0
}
