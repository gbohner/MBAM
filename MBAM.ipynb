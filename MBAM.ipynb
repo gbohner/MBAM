{
 "cells": [
  {
   "cell_type": "markdown",
   "metadata": {},
   "source": [
    "# Manifold Boundary Approximation Method"
   ]
  },
  {
   "cell_type": "markdown",
   "metadata": {},
   "source": [
    "Below is a ```julia``` implementation of the MBAM method\n",
    "\n",
    "MBAM takes:\n",
    "\n",
    "1. a parametrized function (a \"model\") $ f(p, x) $ with $M$ parameters $p $ evaluated at points $x_1, x_2, \\dots, x_N$ \n",
    "\n",
    "2. Either a set of parameters $p_0 $ that are believed to represent a best fit to some data OR the data $\\mathbf{y} $ itself.\n",
    "\n",
    "MBAM attempts:\n",
    "\n",
    "1. to find a simplified parameterisation of the model: $ f'(p', x) $ where dim$(p')<M $\n",
    "2. such that the model output is changes minimally, meaning the error $||f'(p', \\mathbf{x}) - f(p_0, \\mathbf{x})||$ OR $||f'(p', \\mathbf{x}) - \\mathbf{y}||$ is small\n",
    "\n",
    "\n",
    "For the mathematical foundations see: \n",
    "\n",
    "* Transtrum & Qui; PhysRevLett 2014 - Model Reduction by Manifold Boundaries\n",
    "* Transtrum, Machta & Sethna; PhysRevE 2011 - Geometry of nonlinear least squares with applications to sloppy models and optimization\n",
    "\n"
   ]
  },
  {
   "cell_type": "markdown",
   "metadata": {},
   "source": [
    "# Includes\n",
    "\n",
    "Required ```julia``` packages"
   ]
  },
  {
   "cell_type": "code",
   "execution_count": 1,
   "metadata": {
    "collapsed": false
   },
   "outputs": [],
   "source": [
    "using ODE\n",
    "using ForwardDiff # Mostly relies on package DualNumbers -> check in more detail later\n",
    "using Formatting # For clear and concise printing output\n",
    "using JLD\n",
    "using NBInclude\n"
   ]
  },
  {
   "cell_type": "markdown",
   "metadata": {},
   "source": [
    "# Subfunctions used for MBAM"
   ]
  },
  {
   "cell_type": "code",
   "execution_count": 2,
   "metadata": {
    "collapsed": false
   },
   "outputs": [
    {
     "data": {
      "text/plain": [
       "log_deriv_wrapper (generic function with 1 method)"
      ]
     },
     "execution_count": 2,
     "metadata": {},
     "output_type": "execute_result"
    }
   ],
   "source": [
    "\" Return f(x) given log(x)\"\n",
    "function log_deriv_wrapper(f::Function, phi_in::AbstractArray; log_specific=ones(size(phi_in)) )\n",
    "    y = copy(phi_in)\n",
    "    # Assuming some of the input parameters (x) are in log space, passes the original (exponentiated) values on to the function f\n",
    "    if sum(log_specific==1)==prod(size(y)) # all the parameters are in log space\n",
    "        y = exp(y)\n",
    "    else\n",
    "        for i1 = 1:size(log_specific)[1]\n",
    "            if log_specific[i1]==1\n",
    "                y[i1]=exp(y[i1])\n",
    "            end\n",
    "        end\n",
    "    end\n",
    "    \n",
    "    return f(y)\n",
    "end"
   ]
  },
  {
   "cell_type": "code",
   "execution_count": 3,
   "metadata": {
    "collapsed": false
   },
   "outputs": [
    {
     "data": {
      "text/plain": [
       "to_log (generic function with 1 method)"
      ]
     },
     "execution_count": 3,
     "metadata": {},
     "output_type": "execute_result"
    }
   ],
   "source": [
    "\"Convert a parameter vector (or specific parameters) to log values\"\n",
    "function to_log(phi_in::AbstractArray; log_specific=ones(size(phi_in)))\n",
    "    y = copy(phi_in) # To avoid passing by reference!!!\n",
    "    \n",
    "    if sum(log_specific==1)==prod(size(y)) # all the parameters are in log space\n",
    "        y = log(y)\n",
    "    else\n",
    "        for i1 = 1:size(log_specific)[1]\n",
    "            if log_specific[i1]==1\n",
    "                y[i1]=log(y[i1])\n",
    "            end\n",
    "        end\n",
    "    end\n",
    "    \n",
    "    return y\n",
    "end"
   ]
  },
  {
   "cell_type": "code",
   "execution_count": 4,
   "metadata": {
    "collapsed": false
   },
   "outputs": [
    {
     "data": {
      "text/plain": [
       "print_arr (generic function with 1 method)"
      ]
     },
     "execution_count": 4,
     "metadata": {},
     "output_type": "execute_result"
    }
   ],
   "source": [
    "# Given parameters x, selected parameters d and a canvas c, draw a scatter point at x[d] on the d-dim canvas c\n",
    "#function scatter_param(x::Vector, d, c)\n",
    " #   Plots.plot(x[d])\n",
    "#end\n",
    "\n",
    "\"Matlab-like rcond for matrix inversion\"\n",
    "rcond(A::StridedMatrix) = LAPACK.gecon!('1', lufact(A).factors, norm(A, 1))\n",
    "\n",
    "\"Get a timestamp in useful format\"\n",
    "timestamp()=Dates.format(now(),\"_yyyymmddTHHMMSSss\")\n",
    "\n",
    "\"Return an array as a string in a given format s for each element\"\n",
    "function print_arr(s::AbstractString, x::AbstractArray)\n",
    "    out = \"[\";\n",
    "    for i1=1:length(x)\n",
    "        out = string(out, sprintf1(s, x[i1]));\n",
    "        if i1<length(x)\n",
    "            out = string(out, \", \");\n",
    "        end\n",
    "    end\n",
    "    out = string(out, \"]\");\n",
    "    return out\n",
    "end"
   ]
  },
  {
   "cell_type": "markdown",
   "metadata": {},
   "source": [
    "### Geodesic differential equation\n",
    "\n",
    "As in Transtrum 2011 PRE - notation changed to vectorised from (Maybe 2015 supplemental?)\n",
    "\n",
    "$$\n",
    "\\frac{d}{d\\tau} v = - [\\mathbf{J}^T \\mathbf{J}]^{-1} \\mathbf{J}^T \\mathbf{A} \\\\\n",
    "\\mathbf{A}_m = v^T \\mathbf{H_m} v \\\\\n",
    "\\frac{d}{d\\tau} \\phi_{cur} = v\n",
    "$$"
   ]
  },
  {
   "cell_type": "code",
   "execution_count": 9,
   "metadata": {
    "collapsed": false
   },
   "outputs": [
    {
     "data": {
      "text/plain": [
       "geodesic_ode (generic function with 1 method)"
      ]
     },
     "execution_count": 9,
     "metadata": {},
     "output_type": "execute_result"
    }
   ],
   "source": [
    "\"\"\"\n",
    "```geodesic_ode(t, y, f_cost::Function, f_res::Function; kwargs...)```\n",
    "\n",
    "Defines the geodesic differential equation in \n",
    "time ```t``` and variables ```y``` \n",
    "with respect to a cost function ```f_cost``` and residual function ```f_res```\n",
    "which jointly create a cost landscape that the geodesic needs to navigate\n",
    "\n",
    "Accepts keyword arguments: <br>\n",
    "```geodesic_ode(...; verbose=1, move_dir=1.0, maxEV=1e-8, maxVnorm=[5e-2, 1e-3])``` <br>\n",
    "For their description see ```?MBAM```\n",
    "\"\"\"\n",
    "function geodesic_ode(t, y, f_cost::Function, f_res::Function; verbose=1, move_dir=1.0, maxEV=1e-8, maxVnorm=[5e-2, 1e-3])\n",
    "    sz2 = div(size(y)[1], 2);\n",
    "    phi_cur = y[1:sz2]; # First half of vector is d-dim position\n",
    "    v = y[(sz2+1):end]; # Second half of y vector is d-dim velocity\n",
    "    \n",
    "    #result = HessianResult(phi_cur);\n",
    "    #ForwardDiff.hessian!(result, f_cost, phi_cur);\n",
    "    \n",
    "    #grad = ForwardDiff.gradient(result); # Gradient in parameter space\n",
    "    #hess = ForwardDiff.hessian(result); # Hessian in parameter space\n",
    "    jac = ForwardDiff.jacobian(f_res, phi_cur);\n",
    "    f_jac(phi_cur,m) = map(Real, ForwardDiff.jacobian(f_res, phi_cur)[m,:])\n",
    "    hess_m = cell(size(jac)[1],1); # Stores the second derivative of the m-th residual \n",
    "    A = zeros(size(jac)[1],1)\n",
    "    #Consider doing this parallelly on multiple workers, one per data point\n",
    "    for m1 = 1:(size(jac)[1])\n",
    "        f_jac_m(phi_cur) = f_jac(phi_cur,m1);\n",
    "        hess_m[m1] = ForwardDiff.jacobian(f_jac_m, phi_cur)\n",
    "        A[m1] = (v'*hess_m[m1]*v)[1];\n",
    "    end\n",
    "    \n",
    "    jac = map(Real, jac)\n",
    "    \n",
    "    (D,V) = eig(jac'*jac)\n",
    "    \n",
    "    # Printing intermediate steps\n",
    "    if verbose>=2\n",
    "        #@printf(\"size(A)=%s\\n\", size(A))\n",
    "        #@printf(\"size(J)=%s\\n\", size(jac))\n",
    "        @printf(\"smallest EV = %7.5e\\n\", sort(D)[1])\n",
    "        println(\"   cost = $(f_cost(phi_cur))\")\n",
    "        println(\"phi_cur = $(print_arr(\"%10.2f\", phi_cur))\")\n",
    "        println(\"      v = $(print_arr(\"%10.2e\", v/norm(v)))\")\n",
    "        println()\n",
    "        println()\n",
    "    end\n",
    "    \n",
    "    #Stopping condition (small EV and the normalized v has \"converged\" - norm dominated by a few dimensions)\n",
    "    vn = (v/norm(v));\n",
    "    converged = (sort(D)[1] < maxEV)*(norm(vn[abs(vn).<maxVnorm[1]])<maxVnorm[2])\n",
    "    if converged\n",
    "        dy = copy(y);\n",
    "        dy[1:end]=0\n",
    "    else   \n",
    "        dy = copy(y);\n",
    "        dy[1:(sz2)] = move_dir * v # Change in phi_cur is v (or -v, change move_dir)\n",
    "        dy[(sz2+1):end] = - move_dir * (jac'*jac) \\ (jac' * A) # dy[2] is change in v (as y[2] is v), change in v is dy[1]: the second derivative\n",
    "        #print(grad)\n",
    "    end\n",
    "    \n",
    "    ## Matlab version (just take a step towards the smallest eigenvector)\n",
    "    #dy[1:(sz/2)] = V[:,sortperm(D)[1]]\n",
    "    #dy[(sz/2+1):end] = 0;\n",
    "    return dy\n",
    "end"
   ]
  },
  {
   "cell_type": "markdown",
   "metadata": {},
   "source": [
    "# MBAM main function"
   ]
  },
  {
   "cell_type": "code",
   "execution_count": 10,
   "metadata": {
    "collapsed": false
   },
   "outputs": [
    {
     "data": {
      "text/plain": [
       "MBAM (generic function with 1 method)"
      ]
     },
     "execution_count": 10,
     "metadata": {},
     "output_type": "execute_result"
    }
   ],
   "source": [
    "\"\"\"\n",
    "## Function\n",
    "```MBAM(model::Function, phi0::AbstractArray, x_loc::AbstractArray; kwargs...)```\n",
    "\n",
    "Run MBAM model reduction.\n",
    "\n",
    "* ``` model ``` - A function that takes a parameter vector ```p```, an DxN location array ```x``` and an integer ```model_id``` as ```model(p,x,model_id)``` and returns an Nx1 array \n",
    "* ``` phi0 ``` - A Mx1 array of initial (best fit) parameters\n",
    "* ``` x_loc ``` - A DxN array of locations to evaluate the model at.\n",
    "\n",
    "## Keyword arguments\n",
    "```\n",
    "MBAM(... ; model_iters=0, boundary_time=10, log_specific=ones(size(phi0)), verbose=1, \n",
    "    move_dir=ones(size(model_iters)), maxEV=1e-8, maxVnorm=[5e-2, 1e-3], \n",
    "    reduce_func=[], prevRunResults=[], data_vec=[])\n",
    "```\n",
    "\n",
    "* ``` model_iters ``` - An Kx1 array of integers of the original model and subsequent reduced models.\n",
    "* ``` boundary_time ``` - An upper limit of time spent following the geodesic via the ODE solver\n",
    "* ``` log_specific ``` - Transform certain dimensions of parameter space logarithmically (default: all)\n",
    "* ``` verbose ``` - Controls the amount of text output (0 - none, 1 - summary, 2 - step-by-step)\n",
    "* ``` move_dir ``` - A Kx1 array of \\{+1, -1\\} to serve as a multiplier for the initial direction of geodesic integration\n",
    "* ``` maxEV ``` - Stops ODE solver if (smallest EV of J'J < maxEV) AND (maxVnorm condition true)\n",
    "* ``` maxVnorm ``` - stops ode solver if (norm(vn[abs(vn).<maxVnorm[1]])<maxVnorm[2]) AND (maxEV condition true)\n",
    "* ``` reduce_func ``` \n",
    "<br> If empty (default): Model reduction is carried out automatically by a symbolic reduction algorithm (beta version!)\n",
    "<br> OR: A function that takes a parameter vector ```p``` and an integer model_id ```id``` as reduce_func(p, model_id=id) and returns a reduced parameter vector\n",
    "* ``` prevRunResults ``` - An array that is the output of a previous MBAM run\n",
    "* ``` data_vec ``` <br> If empty (default) Simulate the data to fit given our model and \\\"true\\\" parameters ```phi0``` <br> else use this Nx1 array\n",
    "\n",
    "## Output\n",
    "\n",
    "Returns a single 7x1 array as follows: <br>\n",
    "```return phis, costs, Ds, Vs, t_out, y_out, model_reduced```\n",
    "\n",
    "* ```phis``` - A Kx2 Any array, where the <br>\n",
    "    (k,1) element is the parameter vector at the beginning of iteration k <br>\n",
    "    (k,2) element is the parameter vector at the end of iteration k <br>\n",
    "* ```costs``` - A Kx2 Any array, where the <br>\n",
    "    (k,1) element is the root mean squared error at the beginning of iteration k <br>\n",
    "    (k,2) element is the root mean squared error at the end of iteration k <br>\n",
    "* ```Ds``` - A Kx2 Any array, where the <br>\n",
    "    (k,1) element is the eigenvalue vector of J'J at the beginning of iteration k <br>\n",
    "    (k,2) element is the eigenvalue vector of J'J at the end of iteration k <br>\n",
    "* ```Vs``` - A Kx2 Any array, where the <br>\n",
    "    (k,1) element is the eigenvector matrix of J'J at the beginning of iteration k <br>\n",
    "    (k,2) element is the eigenvector matrix of J'J at the end of iteration k <br>\n",
    "* ```t_out``` - A Kx1 Any array, where the kth element is the evaluation times of the ODE during iteration k\n",
    "* ```y_out``` - A Kx1 Any array, where the kth element is the collection of parameter vectors of the ODE during iteration k\n",
    "* ```model_reduced``` - A Kx1 Any array, where the kth element is a function handle to the kth reduced model (or if a ```reduce_func``` is given, then empty)\n",
    "\n",
    "\"\"\"\n",
    "function MBAM(model::Function, phi0::AbstractArray, x_loc::AbstractArray; model_iters=0, boundary_time=10, log_specific=ones(size(phi0)), verbose=1, \n",
    "    move_dir=ones(size(model_iters)), maxEV=1e-8, maxVnorm=[5e-2, 1e-3], reduce_func=[], prevRunResults=[], data_vec=[])\n",
    "    #maxEV - stops ode solver if (smallest EV of J'J < maxEV) AND\n",
    "    #maxVnorm - stops ode solver if (norm(vn[abs(vn).<maxVnorm[1]])<maxVnorm[2])\n",
    "    \n",
    "    \n",
    "    phi_red = to_log(phi0, log_specific=log_specific);\n",
    "    x_loc = copy(x_loc)\n",
    "    x_loc = hcat(x_loc...)\n",
    "    #@show x_loc[1]\n",
    "    # Initialize variables we want to remember in the end (otherwise their scope is limited to within the for cycle)\n",
    "    phi_cur = phi_red;\n",
    "    V = phi_red;\n",
    "    D = phi_red;\n",
    "    v = phi_red;\n",
    "    \n",
    "    # Variables to keep\n",
    "    phis = Array(Any, (length(model_iters),2)) # Save param values before/after geodesic\n",
    "    Ds = Array(Any, (length(model_iters),2)) # Save eigendecomps before/after geodesic\n",
    "    Vs = Array(Any, (length(model_iters),2)) # Save eigendecomps before/after geodesic\n",
    "    costs = Array(Any, (length(model_iters),2)) # Save eigendecomps before/after geodesic\n",
    "    t_out = Array(Any, length(model_iters))\n",
    "    y_out = Array(Any, length(model_iters))\n",
    "    model_reduced = Array(Any, length(model_iters))\n",
    "    cur_time = timestamp();\n",
    "    \n",
    "    model_cur(phi::AbstractArray, x::AbstractArray) = model(phi, x, model_id=model_iters[1])\n",
    "    model_orig = copy(model_cur);\n",
    "    \n",
    "    if isempty(data_vec)\n",
    "        @time data_vec = model_orig(phi0, x_loc)[:]; # Compute the original data only once\n",
    "    end\n",
    "    \n",
    "    for n1 = 1:length(model_iters) # Outer loop, reduces the number of parameters in the model each step\n",
    "        m1 = model_iters[n1]\n",
    "        # Define current cost function and residual function\n",
    "        f_cost = phi1 -> sum((model_cur(phi1, x_loc)[:].-data_vec).^2); # Current cost function (quadratic)\n",
    "        g_cost = phi1 -> log_deriv_wrapper(f_cost, phi1, log_specific=log_specific); # Define which parameters we're taking in log space ([default: all])\n",
    "        f_res = phi1 -> (model_cur(phi1, x_loc)[:].-data_vec) # Return residuals\n",
    "        g_res = phi1 -> log_deriv_wrapper(f_res, phi1, log_specific=log_specific);\n",
    "        \n",
    "        phi_cur = phi_red; # Initial point in parameter space\n",
    "        \n",
    "        #@show size(model_cur(phi_cur, x_loc)[:])\n",
    "        #@show size(model_orig(phi0, x_loc)[:])\n",
    "        \n",
    "        #@show g_res(phi_cur)\n",
    "        println(\"Model iteration $(m1), Single g_cost call takes: \")\n",
    "        @time g_cost(phi_cur)\n",
    "        \n",
    "        jac = map(Real, ForwardDiff.jacobian(g_res, phi_cur));\n",
    "        #@show model_cur(phi_cur, x_loc)\n",
    "        \n",
    "        (D,V) = eig(jac'*jac)\n",
    "        \n",
    "        # Store for output (before geodesic)\n",
    "        phis[n1,1] = phi_cur;\n",
    "        costs[n1,1] = g_cost(phi_cur)\n",
    "        Ds[n1,1] = D;\n",
    "        Vs[n1,1] = V;\n",
    "        \n",
    "        \n",
    "        v = V[:,sortperm(D)[1]]; # Initial velocity in parameter space\n",
    "        \n",
    "        if verbose>=1\n",
    "            println(\"Model iteration $(m1), initial values:\")\n",
    "            println(\"      D = $(print_arr(\"%10.2e\", D))\")\n",
    "            println(\"   cost = $(g_cost(phi_cur))\")\n",
    "            println(\"phi_cur = $(print_arr(\"%10.2f\", phi_cur))\")\n",
    "            println(\"      v = $(print_arr(\"%10.2e\", v))\")\n",
    "            \n",
    "            println()\n",
    "            println()\n",
    "        end\n",
    "        \n",
    "    \n",
    "        if !isempty(prevRunResults) && (n1<=(size(prevRunResults[1])[1]))\n",
    "            # Grab the data from the results array of a previous run\n",
    "            phi_cur = prevRunResults[1][n1,2];\n",
    "            v = prevRunResults[4][n1][:,sortperm(prevRunResults[3][n1,2])[1]];\n",
    "            v = v/norm(v) * move_dir[n1];\n",
    "            t_out[n1] = prevRunResults[5][n1]\n",
    "            y_out[n1] = prevRunResults[6][n1]\n",
    "            \n",
    "            phis[n1,2] = phi_cur;\n",
    "            costs[n1,2] = g_cost(phi_cur)\n",
    "            Ds[n1,2] = prevRunResults[3][n1,2];\n",
    "            Vs[n1,2] = prevRunResults[4][n1,2];\n",
    "        else\n",
    "        \n",
    "            # Run the ODE solver\n",
    "            t_out[n1], y_out[n1] = ODE.ode23((t,y) -> geodesic_ode(t,y,g_cost,g_res,verbose=verbose, move_dir=move_dir[find(model_iters.==m1)[1]], maxEV=maxEV, maxVnorm=maxVnorm), [phi_cur; v], [0,boundary_time])\n",
    "\n",
    "            phi_cur = y_out[n1][end][1:size(phi_cur)[1]] # Final point in parameter space (on the boundary)\n",
    "            v = y_out[n1][end][(size(phi_cur)[1]+1):end] # Final velocity in parameter space (reduceable combination)\n",
    "            v = v*move_dir[n1]\n",
    "            v = v/norm(v)\n",
    "\n",
    "\n",
    "            jac = ForwardDiff.jacobian(g_res, phi_cur);\n",
    "            (D,V) = eig(jac'*jac)\n",
    "\n",
    "            # Store for output (after geodesic)\n",
    "            phis[n1,2] = phi_cur;\n",
    "            costs[n1,2] = g_cost(phi_cur)\n",
    "            Ds[n1,2] = D;\n",
    "            Vs[n1,2] = V;\n",
    "        end       \n",
    "        \n",
    "        if verbose>=1\n",
    "            println(\"Model iteration $(m1), final values:\")\n",
    "            println(\"      D = $(print_arr(\"%10.2e\", D))\")\n",
    "            println(\"   cost = $(g_cost(phi_cur))\")\n",
    "            println(\"phi_cur = $(print_arr(\"%10.2f\", phi_cur))\")\n",
    "            println(\"      v = $(print_arr(\"%10.2e\", v))\")\n",
    "            println()\n",
    "            println()\n",
    "        end\n",
    "    \n",
    "        #@show size(x_loc[1])\n",
    "        \n",
    "        \n",
    "        \n",
    "        if typeof(reduce_func)!=Function\n",
    "            # Do the model reduction symbolicly\n",
    "            if m1==model_iters[1]\n",
    "                @time model_reduced[n1] = Reduce_model(model, exp(phi_cur), v, (size(x_loc)[1],), model_id=m1)\n",
    "            else\n",
    "                @time model_reduced[n1] = Reduce_model(model_reduced[n1-1][2], exp(phi_cur), v, (size(x_loc)[1],))\n",
    "            end\n",
    "            \n",
    "            @show model_reduced[n1][2] # Show the reduced model (symbolic equation)\n",
    "            @show model_reduced[n1][3] # Show the reduction mapping\n",
    "\n",
    "            # Sort out the results\n",
    "            model_cur = model_reduced[n1][4]\n",
    "            log_specific = log_specific[1:length(model_reduced[n1][end])]\n",
    "            phi_red = to_log(model_reduced[n1][end], log_specific=log_specific)\n",
    "        else\n",
    "            \n",
    "            # Use the provided reduction function and model_id\n",
    "            \n",
    "            phi_red = reduce_func(phi_cur, model_id=model_iters[n1]);\n",
    "            if n1<length(model_iters)\n",
    "                model_cur(phi::AbstractArray, x::AbstractArray) = model(phi, x, model_id=model_iters[n1+1])\n",
    "                log_specific = log_specific[1:length(phi_red)]\n",
    "            end\n",
    "        end\n",
    "    end\n",
    "\n",
    "    \n",
    "    return phis, costs, Ds, Vs, t_out, y_out, model_reduced\n",
    "end #line 35"
   ]
  },
  {
   "cell_type": "markdown",
   "metadata": {},
   "source": [
    "# Documentation"
   ]
  },
  {
   "cell_type": "code",
   "execution_count": 11,
   "metadata": {
    "collapsed": false
   },
   "outputs": [
    {
     "name": "stdout",
     "output_type": "stream",
     "text": [
      "search: MBAM LambdaStaticData combinations mmap_bitarray\n",
      "\n"
     ]
    },
    {
     "data": {
      "text/markdown": [
       "## Function\n",
       "\n",
       "`MBAM(model::Function, phi0::AbstractArray, x_loc::AbstractArray; kwargs...)`\n",
       "\n",
       "Run MBAM model reduction.\n",
       "\n",
       "  * ``` model ``` - A function that takes a parameter vector `p`, an DxN location array `x` and an integer `model_id` as `model(p,x,model_id)` and returns an Nx1 array \n",
       "  * ``` phi0 ``` - A Mx1 array of initial (best fit) parameters\n",
       "  * ``` x_loc ``` - A DxN array of locations to evaluate the model at.\n",
       "\n",
       "## Keyword arguments\n",
       "\n",
       "```\n",
       "MBAM(... ; model_iters=0, boundary_time=10, log_specific=ones(size(phi0)), verbose=1, \n",
       "    move_dir=ones(size(model_iters)), maxEV=1e-8, maxVnorm=[5e-2, 1e-3], \n",
       "    reduce_func=[], prevRunResults=[], data_vec=[])\n",
       "```\n",
       "\n",
       "  * ``` model_iters ``` - An Kx1 array of integers of the original model and subsequent reduced models.\n",
       "  * ``` boundary_time ``` - An upper limit of time spent following the geodesic via the ODE solver\n",
       "  * ``` log_specific ``` - Transform certain dimensions of parameter space logarithmically (default: all)\n",
       "  * ``` verbose ``` - Controls the amount of text output (0 - none, 1 - summary, 2 - step-by-step)\n",
       "  * ``` move_dir ``` - A Kx1 array of {+1, -1} to serve as a multiplier for the initial direction of geodesic integration\n",
       "  * ``` maxEV ``` - Stops ODE solver if (smallest EV of J'J < maxEV) AND (maxVnorm condition true)\n",
       "  * ``` maxVnorm ``` - stops ode solver if (norm(vn[abs(vn).<maxVnorm[1]])<maxVnorm[2]) AND (maxEV condition true)\n",
       "  * ``` reduce_func ```  <br> If empty (default): Model reduction is carried out automatically by a symbolic reduction algorithm (beta version!) <br> OR: A function that takes a parameter vector `p` and an integer model_id `id` as reduce_func(p, model_id=id) and returns a reduced parameter vector\n",
       "  * ``` prevRunResults ``` - An array that is the output of a previous MBAM run\n",
       "  * ``` data_vec ``` <br> If empty (default) Simulate the data to fit given our model and \"true\" parameters `phi0` <br> else use this Nx1 array\n",
       "\n",
       "## Output\n",
       "\n",
       "Returns a single 7x1 array as follows: <br> `return phis, costs, Ds, Vs, t_out, y_out, model_reduced`\n",
       "\n",
       "  * `phis` - A Kx2 Any array, where the <br>     (k,1) element is the parameter vector at the beginning of iteration k <br>     (k,2) element is the parameter vector at the end of iteration k <br>\n",
       "  * `costs` - A Kx2 Any array, where the <br>     (k,1) element is the root mean squared error at the beginning of iteration k <br>     (k,2) element is the root mean squared error at the end of iteration k <br>\n",
       "  * `Ds` - A Kx2 Any array, where the <br>     (k,1) element is the eigenvalue vector of J'J at the beginning of iteration k <br>     (k,2) element is the eigenvalue vector of J'J at the end of iteration k <br>\n",
       "  * `Vs` - A Kx2 Any array, where the <br>     (k,1) element is the eigenvector matrix of J'J at the beginning of iteration k <br>     (k,2) element is the eigenvector matrix of J'J at the end of iteration k <br>\n",
       "  * `t_out` - A Kx1 Any array, where the kth element is the evaluation times of the ODE during iteration k\n",
       "  * `y_out` - A Kx1 Any array, where the kth element is the collection of parameter vectors of the ODE during iteration k\n",
       "  * `model_reduced` - A Kx1 Any array, where the kth element is a function handle to the kth reduced model (or if a `reduce_func` is given, then empty)\n"
      ],
      "text/plain": [
       "## Function\n",
       "\n",
       "`MBAM(model::Function, phi0::AbstractArray, x_loc::AbstractArray; kwargs...)`\n",
       "\n",
       "Run MBAM model reduction.\n",
       "\n",
       "  * ``` model ``` - A function that takes a parameter vector `p`, an DxN location array `x` and an integer `model_id` as `model(p,x,model_id)` and returns an Nx1 array \n",
       "  * ``` phi0 ``` - A Mx1 array of initial (best fit) parameters\n",
       "  * ``` x_loc ``` - A DxN array of locations to evaluate the model at.\n",
       "\n",
       "## Keyword arguments\n",
       "\n",
       "```\n",
       "MBAM(... ; model_iters=0, boundary_time=10, log_specific=ones(size(phi0)), verbose=1, \n",
       "    move_dir=ones(size(model_iters)), maxEV=1e-8, maxVnorm=[5e-2, 1e-3], \n",
       "    reduce_func=[], prevRunResults=[], data_vec=[])\n",
       "```\n",
       "\n",
       "  * ``` model_iters ``` - An Kx1 array of integers of the original model and subsequent reduced models.\n",
       "  * ``` boundary_time ``` - An upper limit of time spent following the geodesic via the ODE solver\n",
       "  * ``` log_specific ``` - Transform certain dimensions of parameter space logarithmically (default: all)\n",
       "  * ``` verbose ``` - Controls the amount of text output (0 - none, 1 - summary, 2 - step-by-step)\n",
       "  * ``` move_dir ``` - A Kx1 array of {+1, -1} to serve as a multiplier for the initial direction of geodesic integration\n",
       "  * ``` maxEV ``` - Stops ODE solver if (smallest EV of J'J < maxEV) AND (maxVnorm condition true)\n",
       "  * ``` maxVnorm ``` - stops ode solver if (norm(vn[abs(vn).<maxVnorm[1]])<maxVnorm[2]) AND (maxEV condition true)\n",
       "  * ``` reduce_func ```  <br> If empty (default): Model reduction is carried out automatically by a symbolic reduction algorithm (beta version!) <br> OR: A function that takes a parameter vector `p` and an integer model_id `id` as reduce_func(p, model_id=id) and returns a reduced parameter vector\n",
       "  * ``` prevRunResults ``` - An array that is the output of a previous MBAM run\n",
       "  * ``` data_vec ``` <br> If empty (default) Simulate the data to fit given our model and \"true\" parameters `phi0` <br> else use this Nx1 array\n",
       "\n",
       "## Output\n",
       "\n",
       "Returns a single 7x1 array as follows: <br> `return phis, costs, Ds, Vs, t_out, y_out, model_reduced`\n",
       "\n",
       "  * `phis` - A Kx2 Any array, where the <br>     (k,1) element is the parameter vector at the beginning of iteration k <br>     (k,2) element is the parameter vector at the end of iteration k <br>\n",
       "  * `costs` - A Kx2 Any array, where the <br>     (k,1) element is the root mean squared error at the beginning of iteration k <br>     (k,2) element is the root mean squared error at the end of iteration k <br>\n",
       "  * `Ds` - A Kx2 Any array, where the <br>     (k,1) element is the eigenvalue vector of J'J at the beginning of iteration k <br>     (k,2) element is the eigenvalue vector of J'J at the end of iteration k <br>\n",
       "  * `Vs` - A Kx2 Any array, where the <br>     (k,1) element is the eigenvector matrix of J'J at the beginning of iteration k <br>     (k,2) element is the eigenvector matrix of J'J at the end of iteration k <br>\n",
       "  * `t_out` - A Kx1 Any array, where the kth element is the evaluation times of the ODE during iteration k\n",
       "  * `y_out` - A Kx1 Any array, where the kth element is the collection of parameter vectors of the ODE during iteration k\n",
       "  * `model_reduced` - A Kx1 Any array, where the kth element is a function handle to the kth reduced model (or if a `reduce_func` is given, then empty)\n"
      ]
     },
     "execution_count": 11,
     "metadata": {},
     "output_type": "execute_result"
    }
   ],
   "source": [
    "?MBAM"
   ]
  },
  {
   "cell_type": "code",
   "execution_count": 12,
   "metadata": {
    "collapsed": false
   },
   "outputs": [
    {
     "name": "stdout",
     "output_type": "stream",
     "text": [
      "search: geodesic_ode\n",
      "\n"
     ]
    },
    {
     "data": {
      "text/markdown": [
       "`geodesic_ode(t, y, f_cost::Function, f_res::Function; kwargs...)`\n",
       "\n",
       "Defines the geodesic differential equation in  time `t` and variables `y`  with respect to a cost function `f_cost` and residual function `f_res` which jointly create a cost landscape that the geodesic needs to navigate\n",
       "\n",
       "Accepts keyword arguments: <br> `geodesic_ode(...; verbose=1, move_dir=1.0, maxEV=1e-8, maxVnorm=[5e-2, 1e-3])` <br> For their description see `?MBAM`\n"
      ],
      "text/plain": [
       "`geodesic_ode(t, y, f_cost::Function, f_res::Function; kwargs...)`\n",
       "\n",
       "Defines the geodesic differential equation in  time `t` and variables `y`  with respect to a cost function `f_cost` and residual function `f_res` which jointly create a cost landscape that the geodesic needs to navigate\n",
       "\n",
       "Accepts keyword arguments: <br> `geodesic_ode(...; verbose=1, move_dir=1.0, maxEV=1e-8, maxVnorm=[5e-2, 1e-3])` <br> For their description see `?MBAM`\n"
      ]
     },
     "execution_count": 12,
     "metadata": {},
     "output_type": "execute_result"
    }
   ],
   "source": [
    "?geodesic_ode"
   ]
  },
  {
   "cell_type": "code",
   "execution_count": null,
   "metadata": {
    "collapsed": true
   },
   "outputs": [],
   "source": []
  }
 ],
 "metadata": {
  "kernelspec": {
   "display_name": "Julia 0.4.5",
   "language": "julia",
   "name": "julia-0.4"
  },
  "language_info": {
   "file_extension": ".jl",
   "mimetype": "application/julia",
   "name": "julia",
   "version": "0.4.5"
  }
 },
 "nbformat": 4,
 "nbformat_minor": 0
}
