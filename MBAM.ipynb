{
 "cells": [
  {
   "cell_type": "code",
   "execution_count": 1,
   "metadata": {
    "collapsed": false
   },
   "outputs": [],
   "source": [
    "using ODE\n",
    "using ForwardDiff # Mostly relies on package DualNumbers -> check in more detail later\n",
    "using Formatting # For clear and concise printing output\n",
    "using JLD\n",
    "using NBInclude\n"
   ]
  },
  {
   "cell_type": "markdown",
   "metadata": {},
   "source": [
    "# Subfunctions used for MBAM"
   ]
  },
  {
   "cell_type": "code",
   "execution_count": 9,
   "metadata": {
    "collapsed": false
   },
   "outputs": [
    {
     "data": {
      "text/plain": [
       "log_deriv_wrapper (generic function with 1 method)"
      ]
     },
     "execution_count": 9,
     "metadata": {},
     "output_type": "execute_result"
    }
   ],
   "source": [
    "# Return f(x) given log(x)\n",
    "function log_deriv_wrapper(f::Function, phi_in::AbstractArray; log_specific=ones(size(phi_in)) )\n",
    "    y = copy(phi_in)\n",
    "    # Assuming some of the input parameters (x) are in log space, passes the original (exponentiated) values on to the function f\n",
    "    if sum(log_specific==1)==prod(size(y)) # all the parameters are in log space\n",
    "        y = exp(y)\n",
    "    else\n",
    "        for i1 = 1:size(log_specific)[1]\n",
    "            if log_specific[i1]==1\n",
    "                y[i1]=exp(y[i1])\n",
    "            end\n",
    "        end\n",
    "    end\n",
    "    \n",
    "    return f(y)\n",
    "end"
   ]
  },
  {
   "cell_type": "code",
   "execution_count": 10,
   "metadata": {
    "collapsed": false
   },
   "outputs": [
    {
     "data": {
      "text/plain": [
       "to_log (generic function with 1 method)"
      ]
     },
     "execution_count": 10,
     "metadata": {},
     "output_type": "execute_result"
    }
   ],
   "source": [
    "# Convert a parameter vector (or specific parameters) to log values\n",
    "function to_log(phi_in::AbstractArray; log_specific=ones(size(phi_in)))\n",
    "    y = copy(phi_in) # To avoid passing by reference!!!\n",
    "    \n",
    "    if sum(log_specific==1)==prod(size(y)) # all the parameters are in log space\n",
    "        y = log(y)\n",
    "    else\n",
    "        for i1 = 1:size(log_specific)[1]\n",
    "            if log_specific[i1]==1\n",
    "                y[i1]=log(y[i1])\n",
    "            end\n",
    "        end\n",
    "    end\n",
    "    \n",
    "    return y\n",
    "end"
   ]
  },
  {
   "cell_type": "code",
   "execution_count": 11,
   "metadata": {
    "collapsed": false
   },
   "outputs": [
    {
     "data": {
      "text/plain": [
       "print_arr (generic function with 1 method)"
      ]
     },
     "execution_count": 11,
     "metadata": {},
     "output_type": "execute_result"
    }
   ],
   "source": [
    "# Given parameters x, selected parameters d and a canvas c, draw a scatter point at x[d] on the d-dim canvas c\n",
    "#function scatter_param(x::Vector, d, c)\n",
    " #   Plots.plot(x[d])\n",
    "#end\n",
    "\n",
    "# Matlab-like rcond for matrix inversion\n",
    "rcond(A::StridedMatrix) = LAPACK.gecon!('1', lufact(A).factors, norm(A, 1))\n",
    "\n",
    "# Get a timestamp in useful format\n",
    "timestamp()=Dates.format(now(),\"_yyyymmddTHHMMSSss\")\n",
    "\n",
    "# Return an array as a string in a given format s for each element\n",
    "function print_arr(s::AbstractString, x::AbstractArray)\n",
    "    out = \"[\";\n",
    "    for i1=1:length(x)\n",
    "        out = string(out, sprintf1(s, x[i1]));\n",
    "        if i1<length(x)\n",
    "            out = string(out, \", \");\n",
    "        end\n",
    "    end\n",
    "    out = string(out, \"]\");\n",
    "    return out\n",
    "end"
   ]
  },
  {
   "cell_type": "markdown",
   "metadata": {},
   "source": [
    "### Geodesic differential equation\n",
    "\n",
    "As in Transtrum 2015 Supplemental\n",
    "\n",
    "$$\n",
    "\\frac{d}{d\\tau} v = - [\\mathbf{J}^T \\mathbf{J}]^{-1} \\mathbf{J}^T \\mathbf{A} \\\\\n",
    "\\mathbf{A}_m = v^T \\mathbf{H_m} v \\\\\n",
    "\\frac{d}{d\\tau} \\phi_{cur} = v\n",
    "$$"
   ]
  },
  {
   "cell_type": "code",
   "execution_count": 12,
   "metadata": {
    "collapsed": false
   },
   "outputs": [
    {
     "data": {
      "text/plain": [
       "geodesic_ode (generic function with 1 method)"
      ]
     },
     "execution_count": 12,
     "metadata": {},
     "output_type": "execute_result"
    }
   ],
   "source": [
    "# Defines the geodesic differential equation with respect to a cost function f_cost and residual function f_res\n",
    "function geodesic_ode(t, y, f_cost::Function, f_res::Function; verbose=1, move_dir=1.0, maxEV=1e-8, maxVnorm=[5e-2, 1e-3])\n",
    "    sz2 = div(size(y)[1], 2);\n",
    "    phi_cur = y[1:sz2]; # First half of vector is d-dim position\n",
    "    v = y[(sz2+1):end]; # Second half of y vector is d-dim velocity\n",
    "    \n",
    "    #result = HessianResult(phi_cur);\n",
    "    #ForwardDiff.hessian!(result, f_cost, phi_cur);\n",
    "    \n",
    "    #grad = ForwardDiff.gradient(result); # Gradient in parameter space\n",
    "    #hess = ForwardDiff.hessian(result); # Hessian in parameter space\n",
    "    jac = ForwardDiff.jacobian(f_res, phi_cur);\n",
    "    f_jac(phi_cur,m) = map(Real, ForwardDiff.jacobian(f_res, phi_cur)[m,:])\n",
    "    hess_m = cell(size(jac)[1],1); # Stores the second derivative of the m-th residual \n",
    "    A = zeros(size(jac)[1],1)\n",
    "    #Consider doing this parallelly on multiple workers, one per data point\n",
    "    for m1 = 1:(size(jac)[1])\n",
    "        f_jac_m(phi_cur) = f_jac(phi_cur,m1);\n",
    "        hess_m[m1] = ForwardDiff.jacobian(f_jac_m, phi_cur)\n",
    "        A[m1] = (v'*hess_m[m1]*v)[1];\n",
    "    end\n",
    "    \n",
    "    jac = map(Real, jac)\n",
    "    \n",
    "    (D,V) = eig(jac'*jac)\n",
    "    \n",
    "    # Printing intermediate steps\n",
    "    if verbose>=2\n",
    "        #@printf(\"size(A)=%s\\n\", size(A))\n",
    "        #@printf(\"size(J)=%s\\n\", size(jac))\n",
    "        @printf(\"smallest EV = %7.5e\\n\", sort(D)[1])\n",
    "        println(\"   cost = $(f_cost(phi_cur))\")\n",
    "        println(\"phi_cur = $(print_arr(\"%10.2f\", phi_cur))\")\n",
    "        println(\"      v = $(print_arr(\"%10.2e\", v/norm(v)))\")\n",
    "        println()\n",
    "        println()\n",
    "    end\n",
    "    \n",
    "    #Stopping condition (small EV and the normalized v has \"converged\" - norm dominated by a few dimensions)\n",
    "    vn = (v/norm(v));\n",
    "    converged = (sort(D)[1] < maxEV)*(norm(vn[abs(vn).<maxVnorm[1]])<maxVnorm[2])\n",
    "    if converged\n",
    "        dy = copy(y);\n",
    "        dy[1:end]=0\n",
    "    else   \n",
    "        dy = copy(y);\n",
    "        dy[1:(sz2)] = move_dir * v # Change in phi_cur is v (or -v, change move_dir)\n",
    "        dy[(sz2+1):end] = - move_dir * (jac'*jac) \\ (jac' * A) # dy[2] is change in v (as y[2] is v), change in v is dy[1]: the second derivative\n",
    "        #print(grad)\n",
    "    end\n",
    "    \n",
    "    ## Matlab version (just take a step towards the smallest eigenvector)\n",
    "    #dy[1:(sz/2)] = V[:,sortperm(D)[1]]\n",
    "    #dy[(sz/2+1):end] = 0;\n",
    "    return dy\n",
    "end"
   ]
  },
  {
   "cell_type": "markdown",
   "metadata": {},
   "source": [
    "# MBAM main function"
   ]
  },
  {
   "cell_type": "code",
   "execution_count": 1,
   "metadata": {
    "collapsed": false
   },
   "outputs": [
    {
     "ename": "LoadError",
     "evalue": "LoadError: UndefVarError: @save not defined\nwhile loading In[1], in expression starting on line 96",
     "output_type": "error",
     "traceback": [
      "LoadError: UndefVarError: @save not defined\nwhile loading In[1], in expression starting on line 96",
      ""
     ]
    }
   ],
   "source": [
    "# Runs automatic model reduction on a given model, starting at initial parameters phi0, evaluated at data point locations x_loc (Array of column vectors)\n",
    "function MBAM(model::Function, phi0::AbstractArray, x_loc::AbstractArray; model_iters=0, boundary_time=10, log_specific=ones(size(phi0)), verbose=1, \n",
    "    move_dir=ones(size(model_iters)), maxEV=1e-8, maxVnorm=[5e-2, 1e-3], reduce_func=[], prevRunResults=[], data_vec=[])\n",
    "    #maxEV - stops ode solver if smallest EV of J'J < maxEV AND\n",
    "    #maxVnorm - stops ode solver if norm(vn[abs(vn).<maxVnorm[1]])<maxVnorm[2]\n",
    "    \n",
    "    \n",
    "    phi_red = to_log(phi0, log_specific=log_specific);\n",
    "    x_loc = copy(x_loc)\n",
    "    x_loc = hcat(x_loc...)\n",
    "    #@show x_loc[1]\n",
    "    # Initialize variables we want to remember in the end (otherwise their scope is limited to within the for cycle)\n",
    "    phi_cur = phi_red;\n",
    "    V = phi_red;\n",
    "    D = phi_red;\n",
    "    v = phi_red;\n",
    "    \n",
    "    # Variables to keep\n",
    "    phis = Array(Any, (length(model_iters),2)) # Save param values before/after geodesic\n",
    "    Ds = Array(Any, (length(model_iters),2)) # Save eigendecomps before/after geodesic\n",
    "    Vs = Array(Any, (length(model_iters),2)) # Save eigendecomps before/after geodesic\n",
    "    costs = Array(Any, (length(model_iters),2)) # Save eigendecomps before/after geodesic\n",
    "    t_out = Array(Any, length(model_iters))\n",
    "    y_out = Array(Any, length(model_iters))\n",
    "    model_reduced = Array(Any, length(model_iters))\n",
    "    cur_time = timestamp();\n",
    "    \n",
    "    model_cur(phi::AbstractArray, x::AbstractArray) = model(phi, x, model_id=model_iters[1])\n",
    "    model_orig = copy(model_cur);\n",
    "    \n",
    "    if isempty(data_vec)\n",
    "        @time data_vec = model_orig(phi0, x_loc)[:]; # Compute the original data only once\n",
    "    end\n",
    "    \n",
    "    for n1 = 1:length(model_iters) # Outer loop, reduces the number of parameters in the model each step\n",
    "        m1 = model_iters[n1]\n",
    "        # Define current cost function and residual function\n",
    "        f_cost = phi1 -> sum((model_cur(phi1, x_loc)[:].-data_vec).^2); # Current cost function (quadratic)\n",
    "        g_cost = phi1 -> log_deriv_wrapper(f_cost, phi1, log_specific=log_specific); # Define which parameters we're taking in log space ([default: all])\n",
    "        f_res = phi1 -> (model_cur(phi1, x_loc)[:].-data_vec) # Return residuals\n",
    "        g_res = phi1 -> log_deriv_wrapper(f_res, phi1, log_specific=log_specific);\n",
    "        \n",
    "        phi_cur = phi_red; # Initial point in parameter space\n",
    "        \n",
    "        #@show size(model_cur(phi_cur, x_loc)[:])\n",
    "        #@show size(model_orig(phi0, x_loc)[:])\n",
    "        \n",
    "        #@show g_res(phi_cur)\n",
    "        println(\"Model iteration $(m1), Single g_cost call takes: \")\n",
    "        @time g_cost(phi_cur)\n",
    "        \n",
    "        jac = map(Real, ForwardDiff.jacobian(g_res, phi_cur));\n",
    "        #@show model_cur(phi_cur, x_loc)\n",
    "        \n",
    "        (D,V) = eig(jac'*jac)\n",
    "        \n",
    "        # Store for output (before geodesic)\n",
    "        phis[n1,1] = phi_cur;\n",
    "        costs[n1,1] = g_cost(phi_cur)\n",
    "        Ds[n1,1] = D;\n",
    "        Vs[n1,1] = V;\n",
    "        \n",
    "        \n",
    "        v = V[:,sortperm(D)[1]]; # Initial velocity in parameter space\n",
    "        \n",
    "        if verbose>=1\n",
    "            println(\"Model iteration $(m1), initial values:\")\n",
    "            println(\"      D = $(print_arr(\"%10.2e\", D))\")\n",
    "            println(\"   cost = $(g_cost(phi_cur))\")\n",
    "            println(\"phi_cur = $(print_arr(\"%10.2f\", phi_cur))\")\n",
    "            println(\"      v = $(print_arr(\"%10.2e\", v))\")\n",
    "            \n",
    "            println()\n",
    "            println()\n",
    "        end\n",
    "        \n",
    "    \n",
    "        if !isempty(prevRunResults) && (n1<=(size(prevRunResults[1])[1]))\n",
    "            # Grab the data from the results array of a previous run\n",
    "            phi_cur = prevRunResults[1][n1,2];\n",
    "            v = prevRunResults[4][n1][:,sortperm(prevRunResults[3][n1,2])[1]];\n",
    "            v = v/norm(v) * move_dir[n1];\n",
    "            t_out[n1] = prevRunResults[5][n1]\n",
    "            y_out[n1] = prevRunResults[6][n1]\n",
    "            \n",
    "            phis[n1,2] = phi_cur;\n",
    "            costs[n1,2] = g_cost(phi_cur)\n",
    "            Ds[n1,2] = prevRunResults[3][n1,2];\n",
    "            Vs[n1,2] = prevRunResults[4][n1,2];\n",
    "        else\n",
    "        \n",
    "            # Run the ODE solver\n",
    "            t_out[n1], y_out[n1] = ODE.ode23((t,y) -> geodesic_ode(t,y,g_cost,g_res,verbose=verbose, move_dir=move_dir[find(model_iters.==m1)[1]], maxEV=maxEV, maxVnorm=maxVnorm), [phi_cur; v], [0,boundary_time])\n",
    "\n",
    "            phi_cur = y_out[n1][end][1:size(phi_cur)[1]] # Final point in parameter space (on the boundary)\n",
    "            v = y_out[n1][end][(size(phi_cur)[1]+1):end] # Final velocity in parameter space (reduceable combination)\n",
    "            v = v*move_dir[n1]\n",
    "            v = v/norm(v)\n",
    "\n",
    "\n",
    "            jac = ForwardDiff.jacobian(g_res, phi_cur);\n",
    "            (D,V) = eig(jac'*jac)\n",
    "\n",
    "            # Store for output (after geodesic)\n",
    "            phis[n1,2] = phi_cur;\n",
    "            costs[n1,2] = g_cost(phi_cur)\n",
    "            Ds[n1,2] = D;\n",
    "            Vs[n1,2] = V;\n",
    "        end       \n",
    "        \n",
    "        if verbose>=1\n",
    "            println(\"Model iteration $(m1), final values:\")\n",
    "            println(\"      D = $(print_arr(\"%10.2e\", D))\")\n",
    "            println(\"   cost = $(g_cost(phi_cur))\")\n",
    "            println(\"phi_cur = $(print_arr(\"%10.2f\", phi_cur))\")\n",
    "            println(\"      v = $(print_arr(\"%10.2e\", v))\")\n",
    "            println()\n",
    "            println()\n",
    "        end\n",
    "    \n",
    "        #@show size(x_loc[1])\n",
    "        \n",
    "        \n",
    "        \n",
    "        if typeof(reduce_func)!=Function\n",
    "            # Do the model reduction symbolicly\n",
    "            if m1==model_iters[1]\n",
    "                @time model_reduced[n1] = Reduce_model(model, exp(phi_cur), v, (size(x_loc)[1],), model_id=m1)\n",
    "            else\n",
    "                @time model_reduced[n1] = Reduce_model(model_reduced[n1-1][2], exp(phi_cur), v, (size(x_loc)[1],))\n",
    "            end\n",
    "            \n",
    "            @show model_reduced[n1][2] # Show the reduced model (symbolic equation)\n",
    "            @show model_reduced[n1][3] # Show the reduction mapping\n",
    "\n",
    "            # Sort out the results\n",
    "            model_cur = model_reduced[n1][4]\n",
    "            log_specific = log_specific[1:length(model_reduced[n1][end])]\n",
    "            phi_red = to_log(model_reduced[n1][end], log_specific=log_specific)\n",
    "        else\n",
    "            \n",
    "            # Use the provided reduction function and model_id\n",
    "            \n",
    "            phi_red = reduce_func(phi_cur, model_id=model_iters[n1]);\n",
    "            if n1<length(model_iters)\n",
    "                model_cur(phi::AbstractArray, x::AbstractArray) = model(phi, x, model_id=model_iters[n1+1])\n",
    "                log_specific = log_specific[1:length(phi_red)]\n",
    "            end\n",
    "        end\n",
    "    end\n",
    "\n",
    "    \n",
    "    return phis, costs, Ds, Vs, t_out, y_out, model_reduced\n",
    "end #line 35"
   ]
  },
  {
   "cell_type": "code",
   "execution_count": null,
   "metadata": {
    "collapsed": true
   },
   "outputs": [],
   "source": []
  }
 ],
 "metadata": {
  "kernelspec": {
   "display_name": "Julia 0.4.5",
   "language": "julia",
   "name": "julia-0.4"
  },
  "language_info": {
   "file_extension": ".jl",
   "mimetype": "application/julia",
   "name": "julia",
   "version": "0.4.5"
  }
 },
 "nbformat": 4,
 "nbformat_minor": 0
}
