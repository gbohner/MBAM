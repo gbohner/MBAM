{
 "cells": [
  {
   "cell_type": "code",
   "execution_count": 32,
   "metadata": {
    "collapsed": false
   },
   "outputs": [
    {
     "data": {
      "text/plain": [
       "BK_simulator (generic function with 4 methods)"
      ]
     },
     "execution_count": 32,
     "metadata": {},
     "output_type": "execute_result"
    }
   ],
   "source": [
    "using Physical\n",
    "\n",
    "function ndgrid{T}(v1::AbstractVector{T}, v2::AbstractVector{T})\n",
    "    m, n = length(v1), length(v2)\n",
    "    v1 = reshape(v1, m, 1)\n",
    "    v2 = reshape(v2, 1, n)\n",
    "    (repmat(v1, 1, n), repmat(v2, m, 1))\n",
    "end\n",
    "\n",
    "function BK_simulator(phi::Vector; model_id=0, Ca=([0, 0.7, 4, 12, 22, 55, 70, 95]*1e-6), V=collect(-100:25:200)*1e-3)\n",
    "    # Simulates the MWC model (Aldrich 2002) open probabilities of BK given input parameters Phi over the given Ca-V grid points\n",
    "    # model_id=0 is the full model, further models are reduced representations by MBAM\n",
    "    Temp = 304 * Kelvin\n",
    "    elec_resp = (Volt*(-1)*e_electron/(k_boltzmann*304*Kelvin));\n",
    "    \n",
    "    tmp = ndgrid(Ca, V)\n",
    "    Ca = tmp[1]\n",
    "    V = tmp[2]\n",
    "    \n",
    "    if model_id==0\n",
    "        #phi = {L0, zL, J0, Kd, C, D, E}\n",
    "        L = phi[1]*exp(-phi[2]*V* elec_resp )\n",
    "        J = phi[3]*exp(-phi[2]*V* elec_resp )\n",
    "        K = Ca / (phi[4]);\n",
    "        C = phi[5]\n",
    "        D = phi[6]\n",
    "        E = phi[7]\n",
    "        Popen = ( L .* (1 + K.*C + J.*D + J.*K.*C.*D.*E).^4 ) ./ ( L .* (1+ K.*C + J.*D + J.*K.*C.*D.*E).^4 + (1 + J + K + J.*K.*E).^4);     \n",
    "    end\n",
    "    \n",
    "    if model_id==1\n",
    "        #phi = {zL, J0, zJ, Kd, L0^1/4 * C, L0^1/4 * D, E / L0^1/4}\n",
    "        elec_L = exp(-phi[1]*V* elec_resp );\n",
    "        J = phi[2]*exp(-phi[3]*V* elec_resp )\n",
    "        K = Ca / (phi[4]);\n",
    "        C = phi[5]\n",
    "        D = phi[6]\n",
    "        E = phi[7]\n",
    "        \n",
    "        Popen = ( elec_L .* (K.*C + J.*D + J.*K.*C.*D.*E).^4 ) ./ ( elec_L .* (K.*C + J.*D + J.*K.*C.*D.*E).^4 + (1 + J + K).^4);     \n",
    "    end\n",
    "    \n",
    "    if model_id==2\n",
    "        #zJ -> 0\n",
    "        #phi = {zL, J0, Kd, L0^1/4 * C, L0^1/4 * D, E / L0^1/4}\n",
    "        elec_L = exp(-phi[1]*V* elec_resp );\n",
    "        J = phi[2]*exp(0);\n",
    "        K = Ca / (phi[3]);\n",
    "        C = phi[4]\n",
    "        D = phi[5]\n",
    "        E = phi[6]\n",
    "        \n",
    "        Popen = ( elec_L .* (K.*C + J.*D + J.*K.*C.*D.*E).^4 ) ./ ( elec_L .* (K.*C + J.*D + J.*K.*C.*D.*E).^4 + (1 + J + K).^4);     \n",
    "    end\n",
    "    \n",
    "    if model_id==3\n",
    "        #zJ -> 0\n",
    "        #phi = {zL, J0, Kd, L0^1/4 * C, L0^1/4 * D, E / L0^1/4}\n",
    "        elec_L = exp(-phi[1]*V* elec_resp );\n",
    "        J = phi[2]*exp(0);\n",
    "        K = Ca / (phi[3]);\n",
    "        C = phi[4]\n",
    "        D = phi[5]\n",
    "        E = 0\n",
    "        \n",
    "        Popen = ( elec_L .* (K.*C + J.*D + J.*K.*C.*D.*E).^4 ) ./ ( elec_L .* (K.*C + J.*D + J.*K.*C.*D.*E).^4 + (1 + J + K).^4);     \n",
    "    end\n",
    "    \n",
    "    return Popen\n",
    "end\n",
    "\n",
    "    "
   ]
  },
  {
   "cell_type": "code",
   "execution_count": 33,
   "metadata": {
    "collapsed": false
   },
   "outputs": [
    {
     "data": {
      "text/plain": [
       "BK_reduce (generic function with 1 method)"
      ]
     },
     "execution_count": 33,
     "metadata": {},
     "output_type": "execute_result"
    }
   ],
   "source": [
    "\n",
    "function BK_reduce(phi::Vector; model_id=0, in_log=1)\n",
    "    if in_log==1\n",
    "        f_add = (a,x,b,y) -> a*x + b*y\n",
    "    else\n",
    "        f_add = (a,x,b,y) -> (x.^a)*(y.^b)\n",
    "    end\n",
    "\n",
    "    if model_id==0\n",
    "        phi_red = phi;\n",
    "        \n",
    "        \n",
    "    elseif model_id==1\n",
    "        #phi = {zL, J0, zJ, Kd, L0^1/4 * C, L0^1/4 * D, E / L0^1/4}\n",
    "        phi_red = zeros(size(phi)[1]-1)\n",
    "        phi_red[1] = phi[2]\n",
    "        phi_red[2] = phi[3]\n",
    "        phi_red[3] = phi[4]\n",
    "        phi_red[4] = f_add(1/4,phi[1], 1, phi[5])\n",
    "        phi_red[5] = f_add(1/4,phi[1], 1, phi[6])\n",
    "        phi_red[6] = f_add(1,phi[7], -1/4, phi[1])\n",
    "        \n",
    "        \n",
    "    elseif model_id==2 # Reduce from model 1 to model 2 \n",
    "        # zJ -> 0\n",
    "        #phi = {zL, J0, zJ, Kd, L0^1/4 * C, L0^1/4 * D, E / L0^1/4}\n",
    "        phi_red = zeros(size(phi)[1]-1)\n",
    "        phi_red[1] = phi[1]\n",
    "        phi_red[2] = phi[2]\n",
    "        phi_red[3] = phi[4]\n",
    "        phi_red[4] = phi[5]\n",
    "        phi_red[5] = phi[6]\n",
    "        phi_red[6] = phi[7]\n",
    "        \n",
    "     elseif model_id==3 # Reduce from model 2 to model 3 \n",
    "        # E -> 0\n",
    "        #phi = {zL, J0, zJ, Kd, L0^1/4 * C, L0^1/4 * D, E / L0^1/4}\n",
    "        phi_red = zeros(size(phi)[1]-1)\n",
    "        phi_red[1:5] = phi[1:5]\n",
    "        \n",
    "    else\n",
    "        \n",
    "        phi_red = phi;\n",
    "    end\n",
    "    \n",
    "    \n",
    "    \n",
    "    return phi_red;\n",
    "end"
   ]
  },
  {
   "cell_type": "code",
   "execution_count": 34,
   "metadata": {
    "collapsed": false
   },
   "outputs": [
    {
     "data": {
      "text/plain": [
       "BK_cost (generic function with 2 methods)"
      ]
     },
     "execution_count": 34,
     "metadata": {},
     "output_type": "execute_result"
    }
   ],
   "source": [
    "function BK_cost(phi; model_id=0, phi_0=[2.2e-6, 0.58, 0.1026, 39*1e-6, 6.16,30.4,2])  #as in Miranda 2010, Fig 4)\n",
    "    cost = sum((BK_simulator(phi, model_id=model_id) - BK_simulator(phi_0, model_id=0)).^2)\n",
    "    return cost\n",
    "end"
   ]
  }
 ],
 "metadata": {
  "kernelspec": {
   "display_name": "Julia 0.4.5",
   "language": "julia",
   "name": "julia-0.4"
  },
  "language_info": {
   "file_extension": ".jl",
   "mimetype": "application/julia",
   "name": "julia",
   "version": "0.4.5"
  }
 },
 "nbformat": 4,
 "nbformat_minor": 0
}
