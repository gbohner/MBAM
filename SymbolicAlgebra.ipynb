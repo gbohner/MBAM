{
 "cells": [
  {
   "cell_type": "code",
   "execution_count": 1,
   "metadata": {
    "collapsed": true
   },
   "outputs": [],
   "source": [
    "using SymPy"
   ]
  },
  {
   "cell_type": "code",
   "execution_count": 8,
   "metadata": {
    "collapsed": false
   },
   "outputs": [
    {
     "data": {
      "text/latex": [
       "$$\\phi_{4}$$"
      ],
      "text/plain": [
       "phi4"
      ]
     },
     "execution_count": 8,
     "metadata": {},
     "output_type": "execute_result"
    }
   ],
   "source": [
    "phi1 = Sym(\"phi1\")\n",
    "phi2 = Sym(\"phi2\")\n",
    "phi3 = Sym(\"phi3\")\n",
    "phi4 = Sym(\"phi4\")"
   ]
  },
  {
   "cell_type": "code",
   "execution_count": 9,
   "metadata": {
    "collapsed": false
   },
   "outputs": [
    {
     "data": {
      "text/latex": [
       "$$\\phi_{4}$$"
      ],
      "text/plain": [
       "phi4"
      ]
     },
     "execution_count": 9,
     "metadata": {},
     "output_type": "execute_result"
    }
   ],
   "source": [
    "JD = phi1*exp(-phi2*2 )\n",
    "K = 1 / (phi3);\n",
    "CE = phi4"
   ]
  },
  {
   "cell_type": "code",
   "execution_count": 10,
   "metadata": {
    "collapsed": false
   },
   "outputs": [],
   "source": [
    "Popen = ( (JD + JD.*K.*CE).^4 ) ./ ( (JD + JD.*K.*CE).^4 + (1 + K).^4);"
   ]
  },
  {
   "cell_type": "code",
   "execution_count": 19,
   "metadata": {
    "collapsed": false
   },
   "outputs": [
    {
     "data": {
      "text/latex": [
       "$$\\phi_{3}$$"
      ],
      "text/plain": [
       "phi3"
      ]
     },
     "execution_count": 19,
     "metadata": {},
     "output_type": "execute_result"
    }
   ],
   "source": [
    "phi3 = Sym(\"phi3\")"
   ]
  },
  {
   "cell_type": "code",
   "execution_count": 37,
   "metadata": {
    "collapsed": false
   },
   "outputs": [
    {
     "data": {
      "text/latex": [
       "$$\\frac{\\phi_{1}^{4} \\left(\\phi_{3} + \\phi_{4}\\right)^{4}}{\\phi_{1}^{4} \\left(\\phi_{3} + \\phi_{4}\\right)^{4} + \\left(\\phi_{3} + 1\\right)^{4} e^{8 \\phi_{2}}}$$"
      ],
      "text/plain": [
       "               4              4           \n",
       "           phi1 *(phi3 + phi4)            \n",
       "------------------------------------------\n",
       "    4              4             4  8*phi2\n",
       "phi1 *(phi3 + phi4)  + (phi3 + 1) *e      "
      ]
     },
     "execution_count": 37,
     "metadata": {},
     "output_type": "execute_result"
    }
   ],
   "source": [
    "x=Sym(\"x\")\n",
    "a = simplify(Popen)"
   ]
  },
  {
   "cell_type": "code",
   "execution_count": 61,
   "metadata": {
    "collapsed": false
   },
   "outputs": [
    {
     "data": {
      "text/latex": [
       "$$\\frac{\\phi_{1}^{4} \\left(\\phi_{4} + \\phi_{5} - 1\\right)^{4}}{\\phi_{1}^{4} \\left(\\phi_{4} + \\phi_{5} - 1\\right)^{4} + \\phi_{5}^{4} e^{8 \\phi_{2}}}$$"
      ],
      "text/plain": [
       "            4                  4        \n",
       "        phi1 *(phi4 + phi5 - 1)         \n",
       "----------------------------------------\n",
       "    4                  4       4  8*phi2\n",
       "phi1 *(phi4 + phi5 - 1)  + phi5 *e      "
      ]
     },
     "execution_count": 61,
     "metadata": {},
     "output_type": "execute_result"
    }
   ],
   "source": [
    "phi5 = Sym(\"phi5\")\n",
    "b = subs(a, phi3+1, phi5)"
   ]
  },
  {
   "cell_type": "code",
   "execution_count": 65,
   "metadata": {
    "collapsed": false
   },
   "outputs": [
    {
     "data": {
      "text/latex": [
       "$$\\frac{\\phi_{1}^{4}}{\\phi_{1}^{4} + e^{8 \\phi_{2}}}$$"
      ],
      "text/plain": [
       "         4     \n",
       "     phi1      \n",
       "---------------\n",
       "    4    8*phi2\n",
       "phi1  + e      "
      ]
     },
     "execution_count": 65,
     "metadata": {},
     "output_type": "execute_result"
    }
   ],
   "source": [
    "limit(b, phi5, oo)"
   ]
  },
  {
   "cell_type": "code",
   "execution_count": null,
   "metadata": {
    "collapsed": true
   },
   "outputs": [],
   "source": []
  }
 ],
 "metadata": {
  "kernelspec": {
   "display_name": "Julia 0.4.5",
   "language": "julia",
   "name": "julia-0.4"
  },
  "language_info": {
   "file_extension": ".jl",
   "mimetype": "application/julia",
   "name": "julia",
   "version": "0.4.5"
  }
 },
 "nbformat": 4,
 "nbformat_minor": 0
}
